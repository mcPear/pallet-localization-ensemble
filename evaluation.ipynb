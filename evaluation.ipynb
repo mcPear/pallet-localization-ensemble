{
 "cells": [
  {
   "cell_type": "code",
   "execution_count": 1,
   "metadata": {},
   "outputs": [],
   "source": [
    "from dataset_io import *\n",
    "from classifiers import *\n",
    "from algorithm import Algorithm, Predictions\n",
    "from tqdm import tqdm"
   ]
  },
  {
   "cell_type": "code",
   "execution_count": 2,
   "metadata": {},
   "outputs": [],
   "source": [
    "#np.save(\"cross_validated_scenes\",cross_validated_scenes())\n",
    "cross_validated_scenes = np.load(\"cross_validated_scenes.npy\", allow_pickle=True)"
   ]
  },
  {
   "cell_type": "markdown",
   "metadata": {},
   "source": [
    "### Classifiers evaluation"
   ]
  },
  {
   "cell_type": "code",
   "execution_count": 3,
   "metadata": {},
   "outputs": [],
   "source": [
    "def evaluate_classifiers():\n",
    "    grad_metrics=[]\n",
    "    color_metrics=[]\n",
    "\n",
    "    for fold in tqdm(cross_validated_scenes):\n",
    "        train_scenes, test_scenes, fold_name = fold\n",
    "        print(fold_name)\n",
    "        acc, prec, rec, f1, _ = classify_gradient(train_scenes, test_scenes, fold_name, True)\n",
    "        grad_metrics.append([acc, prec, rec, f1])\n",
    "        res = classify_colors(train_scenes, test_scenes, fold_name, True)\n",
    "        color_metrics.append(res)\n",
    "\n",
    "    np.save(\"color_metrics\", color_metrics)\n",
    "    np.save(\"grad_metrics\", grad_metrics)\n",
    "    \n",
    "#evaluate_classifiers()"
   ]
  },
  {
   "cell_type": "code",
   "execution_count": 4,
   "metadata": {
    "scrolled": true
   },
   "outputs": [
    {
     "name": "stdout",
     "output_type": "stream",
     "text": [
      "color_metrics_avg\n",
      "[[0.85106473 0.76691145 0.81843552 0.79046445]\n",
      " [0.89788648 0.83362693 0.8696812  0.85032493]\n",
      " [0.88802002 0.79463581 0.90192808 0.84422685]]\n",
      "grad_metrics_avg\n",
      "[0.98093372 0.9983972  0.92963724 0.95946163]\n"
     ]
    }
   ],
   "source": [
    "color_metrics = np.load(\"color_metrics.npy\")\n",
    "grad_metrics = np.load(\"grad_metrics.npy\")\n",
    "grad_metrics_avg = np.mean(grad_metrics, 0)\n",
    "color_metrics_avg = np.mean(color_metrics, 0)\n",
    "print(\"color_metrics_avg\")\n",
    "print(color_metrics_avg)\n",
    "print(\"grad_metrics_avg\")\n",
    "print(grad_metrics_avg)"
   ]
  },
  {
   "cell_type": "markdown",
   "metadata": {},
   "source": [
    "### Algorithms evaluation"
   ]
  },
  {
   "cell_type": "code",
   "execution_count": 5,
   "metadata": {},
   "outputs": [
    {
     "name": "stderr",
     "output_type": "stream",
     "text": [
      "\r",
      "  0%|          | 0/471 [00:00<?, ?it/s]"
     ]
    },
    {
     "name": "stdout",
     "output_type": "stream",
     "text": [
      "fold_0\n"
     ]
    },
    {
     "name": "stderr",
     "output_type": "stream",
     "text": [
      "100%|██████████| 471/471 [20:05<00:00,  2.56s/it]\n",
      "  0%|          | 2/471 [00:00<00:39, 11.90it/s]"
     ]
    },
    {
     "name": "stdout",
     "output_type": "stream",
     "text": [
      "0.454972486252307 0.04673774881042295 12325599 12325599 0.08981628797604502 0.10267146950033552\n",
      "draw_and_calc on  ['color', 'grad', 'max', 'min', 'sum']\n"
     ]
    },
    {
     "name": "stderr",
     "output_type": "stream",
     "text": [
      "100%|██████████| 471/471 [00:37<00:00, 12.45it/s]\n",
      "100%|██████████| 471/471 [00:37<00:00, 12.46it/s]\n",
      "100%|██████████| 471/471 [00:37<00:00, 12.42it/s]\n",
      "100%|██████████| 471/471 [00:38<00:00, 12.37it/s]\n",
      "100%|██████████| 471/471 [00:38<00:00, 12.25it/s]\n",
      "  0%|          | 0/577 [00:00<?, ?it/s]"
     ]
    },
    {
     "name": "stdout",
     "output_type": "stream",
     "text": [
      "agg_overlaps [0.6217184973685007, 0.7241095435426878, 0.7176607462540352, 0.8279801045273582, 0.8096763210133782]\n",
      "fold_1\n"
     ]
    },
    {
     "name": "stderr",
     "output_type": "stream",
     "text": [
      "100%|██████████| 577/577 [33:03<00:00,  3.44s/it]\n",
      "  2%|▏         | 13/577 [00:00<00:04, 124.00it/s]"
     ]
    },
    {
     "name": "stdout",
     "output_type": "stream",
     "text": [
      "0.4668496453354856 0.053456405468358295 18619464 18619464 0.08873977213305832 0.10233067168182765\n",
      "draw_and_calc on  ['color', 'grad', 'max', 'min', 'sum']\n"
     ]
    },
    {
     "name": "stderr",
     "output_type": "stream",
     "text": [
      "100%|██████████| 577/577 [00:16<00:00, 34.01it/s] \n",
      "100%|██████████| 577/577 [00:16<00:00, 34.08it/s] \n",
      "100%|██████████| 577/577 [00:16<00:00, 33.95it/s] \n",
      "100%|██████████| 577/577 [00:16<00:00, 34.01it/s] \n",
      "100%|██████████| 577/577 [00:16<00:00, 34.01it/s] \n",
      "  0%|          | 0/494 [00:00<?, ?it/s]"
     ]
    },
    {
     "name": "stdout",
     "output_type": "stream",
     "text": [
      "agg_overlaps [0.45087728330614013, 0.5549408761520362, 0.5519586488689309, 0.6521771575964302, 0.6600821279257425]\n",
      "fold_2\n"
     ]
    },
    {
     "name": "stderr",
     "output_type": "stream",
     "text": [
      " 23%|██▎       | 114/494 [05:48<11:50,  1.87s/it]"
     ]
    },
    {
     "name": "stdout",
     "output_type": "stream",
     "text": [
      "No more predictions with prob > 0.5\n",
      "No more predictions with prob > 0.5\n"
     ]
    },
    {
     "name": "stderr",
     "output_type": "stream",
     "text": [
      " 23%|██▎       | 116/494 [05:55<16:42,  2.65s/it]"
     ]
    },
    {
     "name": "stdout",
     "output_type": "stream",
     "text": [
      "No more predictions with prob > 0.5\n",
      "No more predictions with prob > 0.5\n"
     ]
    },
    {
     "name": "stderr",
     "output_type": "stream",
     "text": [
      " 24%|██▍       | 121/494 [06:11<20:09,  3.24s/it]"
     ]
    },
    {
     "name": "stdout",
     "output_type": "stream",
     "text": [
      "No more predictions with prob > 0.5\n"
     ]
    },
    {
     "name": "stderr",
     "output_type": "stream",
     "text": [
      " 25%|██▍       | 123/494 [06:18<20:16,  3.28s/it]"
     ]
    },
    {
     "name": "stdout",
     "output_type": "stream",
     "text": [
      "No more predictions with prob > 0.5\n"
     ]
    },
    {
     "name": "stderr",
     "output_type": "stream",
     "text": [
      "\r",
      " 25%|██▌       | 124/494 [06:21<20:16,  3.29s/it]"
     ]
    },
    {
     "name": "stdout",
     "output_type": "stream",
     "text": [
      "No more predictions with prob > 0.5\n"
     ]
    },
    {
     "name": "stderr",
     "output_type": "stream",
     "text": [
      "\r",
      " 25%|██▌       | 125/494 [06:25<20:13,  3.29s/it]"
     ]
    },
    {
     "name": "stdout",
     "output_type": "stream",
     "text": [
      "No more predictions with prob > 0.5\n"
     ]
    },
    {
     "name": "stderr",
     "output_type": "stream",
     "text": [
      " 27%|██▋       | 134/494 [06:54<19:25,  3.24s/it]"
     ]
    },
    {
     "name": "stdout",
     "output_type": "stream",
     "text": [
      "No more predictions with prob > 0.5\n",
      "No more predictions with prob > 0.5\n"
     ]
    },
    {
     "name": "stderr",
     "output_type": "stream",
     "text": [
      "\r",
      " 27%|██▋       | 135/494 [06:57<19:16,  3.22s/it]"
     ]
    },
    {
     "name": "stdout",
     "output_type": "stream",
     "text": [
      "No more predictions with prob > 0.5\n"
     ]
    },
    {
     "name": "stderr",
     "output_type": "stream",
     "text": [
      "\r",
      " 28%|██▊       | 136/494 [07:00<19:15,  3.23s/it]"
     ]
    },
    {
     "name": "stdout",
     "output_type": "stream",
     "text": [
      "No more predictions with prob > 0.5\n"
     ]
    },
    {
     "name": "stderr",
     "output_type": "stream",
     "text": [
      "\r",
      " 28%|██▊       | 137/494 [07:04<19:17,  3.24s/it]"
     ]
    },
    {
     "name": "stdout",
     "output_type": "stream",
     "text": [
      "No more predictions with prob > 0.5\n"
     ]
    },
    {
     "name": "stderr",
     "output_type": "stream",
     "text": [
      " 29%|██▉       | 145/494 [07:29<18:03,  3.11s/it]"
     ]
    },
    {
     "name": "stdout",
     "output_type": "stream",
     "text": [
      "No more predictions with prob > 0.5\n"
     ]
    },
    {
     "name": "stderr",
     "output_type": "stream",
     "text": [
      " 31%|███       | 152/494 [07:51<18:06,  3.18s/it]"
     ]
    },
    {
     "name": "stdout",
     "output_type": "stream",
     "text": [
      "No more predictions with prob > 0.5\n",
      "No more predictions with prob > 0.5\n"
     ]
    },
    {
     "name": "stderr",
     "output_type": "stream",
     "text": [
      "\r",
      " 31%|███       | 153/494 [07:54<18:05,  3.18s/it]"
     ]
    },
    {
     "name": "stdout",
     "output_type": "stream",
     "text": [
      "No more predictions with prob > 0.5\n"
     ]
    },
    {
     "name": "stderr",
     "output_type": "stream",
     "text": [
      "\r",
      " 31%|███       | 154/494 [07:57<18:02,  3.18s/it]"
     ]
    },
    {
     "name": "stdout",
     "output_type": "stream",
     "text": [
      "No more predictions with prob > 0.5\n"
     ]
    },
    {
     "name": "stderr",
     "output_type": "stream",
     "text": [
      " 32%|███▏      | 157/494 [08:07<17:52,  3.18s/it]"
     ]
    },
    {
     "name": "stdout",
     "output_type": "stream",
     "text": [
      "No more predictions with prob > 0.5\n"
     ]
    },
    {
     "name": "stderr",
     "output_type": "stream",
     "text": [
      "\r",
      " 32%|███▏      | 158/494 [08:10<17:49,  3.18s/it]"
     ]
    },
    {
     "name": "stdout",
     "output_type": "stream",
     "text": [
      "No more predictions with prob > 0.5\n"
     ]
    },
    {
     "name": "stderr",
     "output_type": "stream",
     "text": [
      " 32%|███▏      | 160/494 [08:16<17:34,  3.16s/it]"
     ]
    },
    {
     "name": "stdout",
     "output_type": "stream",
     "text": [
      "No more predictions with prob > 0.5\n"
     ]
    },
    {
     "name": "stderr",
     "output_type": "stream",
     "text": [
      "\r",
      " 33%|███▎      | 161/494 [08:19<17:32,  3.16s/it]"
     ]
    },
    {
     "name": "stdout",
     "output_type": "stream",
     "text": [
      "No more predictions with prob > 0.5\n"
     ]
    },
    {
     "name": "stderr",
     "output_type": "stream",
     "text": [
      " 33%|███▎      | 165/494 [08:31<16:59,  3.10s/it]"
     ]
    },
    {
     "name": "stdout",
     "output_type": "stream",
     "text": [
      "No more predictions with prob > 0.5\n"
     ]
    },
    {
     "name": "stderr",
     "output_type": "stream",
     "text": [
      "\r",
      " 34%|███▎      | 166/494 [08:35<16:53,  3.09s/it]"
     ]
    },
    {
     "name": "stdout",
     "output_type": "stream",
     "text": [
      "No more predictions with prob > 0.5\n"
     ]
    },
    {
     "name": "stderr",
     "output_type": "stream",
     "text": [
      "\r",
      " 34%|███▍      | 167/494 [08:38<16:48,  3.08s/it]"
     ]
    },
    {
     "name": "stdout",
     "output_type": "stream",
     "text": [
      "No more predictions with prob > 0.5\n"
     ]
    },
    {
     "name": "stderr",
     "output_type": "stream",
     "text": [
      "\r",
      " 34%|███▍      | 168/494 [08:41<16:44,  3.08s/it]"
     ]
    },
    {
     "name": "stdout",
     "output_type": "stream",
     "text": [
      "No more predictions with prob > 0.5\n"
     ]
    },
    {
     "name": "stderr",
     "output_type": "stream",
     "text": [
      " 37%|███▋      | 183/494 [09:27<15:42,  3.03s/it]"
     ]
    },
    {
     "name": "stdout",
     "output_type": "stream",
     "text": [
      "No more predictions with prob > 0.5\n"
     ]
    },
    {
     "name": "stderr",
     "output_type": "stream",
     "text": [
      "\r",
      " 37%|███▋      | 184/494 [09:30<15:32,  3.01s/it]"
     ]
    },
    {
     "name": "stdout",
     "output_type": "stream",
     "text": [
      "No more predictions with prob > 0.5\n",
      "No more predictions with prob > 0.5\n"
     ]
    },
    {
     "name": "stderr",
     "output_type": "stream",
     "text": [
      " 38%|███▊      | 187/494 [09:39<15:25,  3.01s/it]"
     ]
    },
    {
     "name": "stdout",
     "output_type": "stream",
     "text": [
      "No more predictions with prob > 0.5\n"
     ]
    },
    {
     "name": "stderr",
     "output_type": "stream",
     "text": [
      " 38%|███▊      | 189/494 [09:45<15:38,  3.08s/it]"
     ]
    },
    {
     "name": "stdout",
     "output_type": "stream",
     "text": [
      "No more predictions with prob > 0.5\n",
      "No more predictions with prob > 0.5\n"
     ]
    },
    {
     "name": "stderr",
     "output_type": "stream",
     "text": [
      " 39%|███▉      | 193/494 [09:57<15:29,  3.09s/it]"
     ]
    },
    {
     "name": "stdout",
     "output_type": "stream",
     "text": [
      "No more predictions with prob > 0.5\n"
     ]
    },
    {
     "name": "stderr",
     "output_type": "stream",
     "text": [
      " 40%|███▉      | 197/494 [10:09<14:58,  3.02s/it]"
     ]
    },
    {
     "name": "stdout",
     "output_type": "stream",
     "text": [
      "No more predictions with prob > 0.5\n"
     ]
    },
    {
     "name": "stderr",
     "output_type": "stream",
     "text": [
      " 40%|████      | 200/494 [10:18<14:43,  3.01s/it]"
     ]
    },
    {
     "name": "stdout",
     "output_type": "stream",
     "text": [
      "No more predictions with prob > 0.5\n",
      "No more predictions with prob > 0.5\n"
     ]
    },
    {
     "name": "stderr",
     "output_type": "stream",
     "text": [
      "\r",
      " 41%|████      | 201/494 [10:21<14:45,  3.02s/it]"
     ]
    },
    {
     "name": "stdout",
     "output_type": "stream",
     "text": [
      "No more predictions with prob > 0.5\n",
      "No more predictions with prob > 0.5\n"
     ]
    },
    {
     "name": "stderr",
     "output_type": "stream",
     "text": [
      "\r",
      " 41%|████      | 202/494 [10:24<14:41,  3.02s/it]"
     ]
    },
    {
     "name": "stdout",
     "output_type": "stream",
     "text": [
      "No more predictions with prob > 0.5\n",
      "No more predictions with prob > 0.5\n"
     ]
    },
    {
     "name": "stderr",
     "output_type": "stream",
     "text": [
      "\r",
      " 41%|████      | 203/494 [10:27<14:45,  3.04s/it]"
     ]
    },
    {
     "name": "stdout",
     "output_type": "stream",
     "text": [
      "No more predictions with prob > 0.5\n",
      "No more predictions with prob > 0.5\n"
     ]
    },
    {
     "name": "stderr",
     "output_type": "stream",
     "text": [
      "\r",
      " 41%|████▏     | 204/494 [10:30<14:34,  3.02s/it]"
     ]
    },
    {
     "name": "stdout",
     "output_type": "stream",
     "text": [
      "No more predictions with prob > 0.5\n"
     ]
    },
    {
     "name": "stderr",
     "output_type": "stream",
     "text": [
      " 42%|████▏     | 206/494 [10:37<14:36,  3.04s/it]"
     ]
    },
    {
     "name": "stdout",
     "output_type": "stream",
     "text": [
      "No more predictions with prob > 0.5\n"
     ]
    },
    {
     "name": "stderr",
     "output_type": "stream",
     "text": [
      "\r",
      " 42%|████▏     | 207/494 [10:40<14:36,  3.05s/it]"
     ]
    },
    {
     "name": "stdout",
     "output_type": "stream",
     "text": [
      "No more predictions with prob > 0.5\n"
     ]
    },
    {
     "name": "stderr",
     "output_type": "stream",
     "text": [
      "\r",
      " 42%|████▏     | 208/494 [10:43<14:40,  3.08s/it]"
     ]
    },
    {
     "name": "stdout",
     "output_type": "stream",
     "text": [
      "No more predictions with prob > 0.5\n"
     ]
    },
    {
     "name": "stderr",
     "output_type": "stream",
     "text": [
      "\r",
      " 42%|████▏     | 209/494 [10:46<14:42,  3.10s/it]"
     ]
    },
    {
     "name": "stdout",
     "output_type": "stream",
     "text": [
      "No more predictions with prob > 0.5\n",
      "No more predictions with prob > 0.5\n"
     ]
    },
    {
     "name": "stderr",
     "output_type": "stream",
     "text": [
      "\r",
      " 43%|████▎     | 210/494 [10:49<14:42,  3.11s/it]"
     ]
    },
    {
     "name": "stdout",
     "output_type": "stream",
     "text": [
      "No more predictions with prob > 0.5\n"
     ]
    },
    {
     "name": "stderr",
     "output_type": "stream",
     "text": [
      " 43%|████▎     | 213/494 [10:58<14:30,  3.10s/it]"
     ]
    },
    {
     "name": "stdout",
     "output_type": "stream",
     "text": [
      "No more predictions with prob > 0.5\n",
      "No more predictions with prob > 0.5\n"
     ]
    },
    {
     "name": "stderr",
     "output_type": "stream",
     "text": [
      " 44%|████▎     | 215/494 [11:04<14:19,  3.08s/it]"
     ]
    },
    {
     "name": "stdout",
     "output_type": "stream",
     "text": [
      "No more predictions with prob > 0.5\n"
     ]
    },
    {
     "name": "stderr",
     "output_type": "stream",
     "text": [
      "\r",
      " 44%|████▎     | 216/494 [11:08<14:17,  3.08s/it]"
     ]
    },
    {
     "name": "stdout",
     "output_type": "stream",
     "text": [
      "No more predictions with prob > 0.5\n"
     ]
    },
    {
     "name": "stderr",
     "output_type": "stream",
     "text": [
      "\r",
      " 44%|████▍     | 217/494 [11:11<14:11,  3.07s/it]"
     ]
    },
    {
     "name": "stdout",
     "output_type": "stream",
     "text": [
      "No more predictions with prob > 0.5\n"
     ]
    },
    {
     "name": "stderr",
     "output_type": "stream",
     "text": [
      " 45%|████▍     | 220/494 [11:20<13:44,  3.01s/it]"
     ]
    },
    {
     "name": "stdout",
     "output_type": "stream",
     "text": [
      "No more predictions with prob > 0.5\n"
     ]
    },
    {
     "name": "stderr",
     "output_type": "stream",
     "text": [
      " 45%|████▍     | 222/494 [11:25<13:21,  2.95s/it]"
     ]
    },
    {
     "name": "stdout",
     "output_type": "stream",
     "text": [
      "No more predictions with prob > 0.5\n"
     ]
    },
    {
     "name": "stderr",
     "output_type": "stream",
     "text": [
      " 45%|████▌     | 224/494 [11:31<13:00,  2.89s/it]"
     ]
    },
    {
     "name": "stdout",
     "output_type": "stream",
     "text": [
      "No more predictions with prob > 0.5\n"
     ]
    },
    {
     "name": "stderr",
     "output_type": "stream",
     "text": [
      "\r",
      " 46%|████▌     | 225/494 [11:34<13:06,  2.92s/it]"
     ]
    },
    {
     "name": "stdout",
     "output_type": "stream",
     "text": [
      "No more predictions with prob > 0.5\n"
     ]
    },
    {
     "name": "stderr",
     "output_type": "stream",
     "text": [
      "\r",
      " 46%|████▌     | 226/494 [11:37<13:10,  2.95s/it]"
     ]
    },
    {
     "name": "stdout",
     "output_type": "stream",
     "text": [
      "No more predictions with prob > 0.5\n"
     ]
    },
    {
     "name": "stderr",
     "output_type": "stream",
     "text": [
      " 46%|████▌     | 228/494 [11:43<13:23,  3.02s/it]"
     ]
    },
    {
     "name": "stdout",
     "output_type": "stream",
     "text": [
      "No more predictions with prob > 0.5\n"
     ]
    },
    {
     "name": "stderr",
     "output_type": "stream",
     "text": [
      "\r",
      " 46%|████▋     | 229/494 [11:46<13:29,  3.06s/it]"
     ]
    },
    {
     "name": "stdout",
     "output_type": "stream",
     "text": [
      "No more predictions with prob > 0.5\n",
      "No more predictions with prob > 0.5\n"
     ]
    },
    {
     "name": "stderr",
     "output_type": "stream",
     "text": [
      "\r",
      " 47%|████▋     | 230/494 [11:50<13:42,  3.11s/it]"
     ]
    },
    {
     "name": "stdout",
     "output_type": "stream",
     "text": [
      "No more predictions with prob > 0.5\n"
     ]
    },
    {
     "name": "stderr",
     "output_type": "stream",
     "text": [
      "\r",
      " 47%|████▋     | 231/494 [11:53<13:42,  3.13s/it]"
     ]
    },
    {
     "name": "stdout",
     "output_type": "stream",
     "text": [
      "No more predictions with prob > 0.5\n",
      "No more predictions with prob > 0.5\n"
     ]
    },
    {
     "name": "stderr",
     "output_type": "stream",
     "text": [
      " 47%|████▋     | 233/494 [11:59<13:47,  3.17s/it]"
     ]
    },
    {
     "name": "stdout",
     "output_type": "stream",
     "text": [
      "No more predictions with prob > 0.5\n"
     ]
    },
    {
     "name": "stderr",
     "output_type": "stream",
     "text": [
      " 48%|████▊     | 236/494 [12:08<13:13,  3.08s/it]"
     ]
    },
    {
     "name": "stdout",
     "output_type": "stream",
     "text": [
      "No more predictions with prob > 0.5\n"
     ]
    },
    {
     "name": "stderr",
     "output_type": "stream",
     "text": [
      " 48%|████▊     | 238/494 [12:14<12:56,  3.03s/it]"
     ]
    },
    {
     "name": "stdout",
     "output_type": "stream",
     "text": [
      "No more predictions with prob > 0.5\n"
     ]
    },
    {
     "name": "stderr",
     "output_type": "stream",
     "text": [
      " 49%|████▊     | 240/494 [12:20<12:48,  3.02s/it]"
     ]
    },
    {
     "name": "stdout",
     "output_type": "stream",
     "text": [
      "No more predictions with prob > 0.5\n",
      "No more predictions with prob > 0.5\n"
     ]
    },
    {
     "name": "stderr",
     "output_type": "stream",
     "text": [
      " 49%|████▉     | 242/494 [12:27<12:55,  3.08s/it]"
     ]
    },
    {
     "name": "stdout",
     "output_type": "stream",
     "text": [
      "No more predictions with prob > 0.5\n"
     ]
    },
    {
     "name": "stderr",
     "output_type": "stream",
     "text": [
      " 49%|████▉     | 244/494 [12:33<12:54,  3.10s/it]"
     ]
    },
    {
     "name": "stdout",
     "output_type": "stream",
     "text": [
      "No more predictions with prob > 0.5\n"
     ]
    },
    {
     "name": "stderr",
     "output_type": "stream",
     "text": [
      " 51%|█████     | 253/494 [13:00<12:15,  3.05s/it]"
     ]
    },
    {
     "name": "stdout",
     "output_type": "stream",
     "text": [
      "No more predictions with prob > 0.5\n"
     ]
    },
    {
     "name": "stderr",
     "output_type": "stream",
     "text": [
      " 81%|████████  | 398/494 [19:10<04:01,  2.51s/it]"
     ]
    },
    {
     "name": "stdout",
     "output_type": "stream",
     "text": [
      "No more predictions with prob > 0.5\n",
      "No more predictions with prob > 0.5\n"
     ]
    },
    {
     "name": "stderr",
     "output_type": "stream",
     "text": [
      "\r",
      " 81%|████████  | 399/494 [19:13<03:59,  2.52s/it]"
     ]
    },
    {
     "name": "stdout",
     "output_type": "stream",
     "text": [
      "No more predictions with prob > 0.5\n",
      "No more predictions with prob > 0.5\n"
     ]
    },
    {
     "name": "stderr",
     "output_type": "stream",
     "text": [
      "\r",
      " 81%|████████  | 400/494 [19:15<03:59,  2.55s/it]"
     ]
    },
    {
     "name": "stdout",
     "output_type": "stream",
     "text": [
      "No more predictions with prob > 0.5\n",
      "No more predictions with prob > 0.5\n"
     ]
    },
    {
     "name": "stderr",
     "output_type": "stream",
     "text": [
      " 83%|████████▎ | 410/494 [19:40<03:29,  2.49s/it]"
     ]
    },
    {
     "name": "stdout",
     "output_type": "stream",
     "text": [
      "No more predictions with prob > 0.5\n",
      "No more predictions with prob > 0.5\n"
     ]
    },
    {
     "name": "stderr",
     "output_type": "stream",
     "text": [
      "100%|█████████▉| 492/494 [23:36<00:05,  2.61s/it]"
     ]
    },
    {
     "name": "stdout",
     "output_type": "stream",
     "text": [
      "No more predictions with prob > 0.5\n",
      "No more predictions with prob > 0.5\n"
     ]
    },
    {
     "name": "stderr",
     "output_type": "stream",
     "text": [
      "100%|██████████| 494/494 [23:41<00:00,  2.88s/it]\n",
      "  2%|▏         | 9/494 [00:00<00:05, 89.03it/s]"
     ]
    },
    {
     "name": "stdout",
     "output_type": "stream",
     "text": [
      "0.4537218004038781 0.03733969858401964 13582674 13582674 0.08738752648854739 0.08538633446805602\n",
      "draw_and_calc on  ['color', 'grad', 'max', 'min', 'sum']\n"
     ]
    },
    {
     "name": "stderr",
     "output_type": "stream",
     "text": [
      "100%|██████████| 494/494 [00:15<00:00, 31.06it/s] \n",
      "100%|██████████| 494/494 [00:15<00:00, 31.14it/s] \n",
      "100%|██████████| 494/494 [00:15<00:00, 31.10it/s] \n",
      "100%|██████████| 494/494 [00:15<00:00, 31.07it/s] \n",
      "100%|██████████| 494/494 [00:15<00:00, 31.10it/s] \n",
      "  0%|          | 0/555 [00:00<?, ?it/s]"
     ]
    },
    {
     "name": "stdout",
     "output_type": "stream",
     "text": [
      "agg_overlaps [0.4900690450768869, 0.49786886697168437, 0.5254752176963099, 0.5740482484767051, 0.6038544999087883]\n",
      "fold_3\n"
     ]
    },
    {
     "name": "stderr",
     "output_type": "stream",
     "text": [
      " 39%|███▊      | 214/555 [11:07<27:13,  4.79s/it]"
     ]
    },
    {
     "name": "stdout",
     "output_type": "stream",
     "text": [
      "No more predictions with prob > 0.5\n"
     ]
    },
    {
     "name": "stderr",
     "output_type": "stream",
     "text": [
      " 42%|████▏     | 231/555 [12:26<24:45,  4.59s/it]"
     ]
    },
    {
     "name": "stdout",
     "output_type": "stream",
     "text": [
      "No more predictions with prob > 0.5\n",
      "No more predictions with prob > 0.5\n",
      "No more predictions with prob > 0.5\n"
     ]
    },
    {
     "name": "stderr",
     "output_type": "stream",
     "text": [
      "100%|██████████| 555/555 [27:37<00:00,  2.99s/it]\n",
      "  0%|          | 2/555 [00:00<00:46, 11.83it/s]"
     ]
    },
    {
     "name": "stdout",
     "output_type": "stream",
     "text": [
      "0.4621282024793426 0.04723494147321165 14093589 14093589 0.08829061476349989 0.09533258673115663\n",
      "draw_and_calc on  ['color', 'grad', 'max', 'min', 'sum']\n"
     ]
    },
    {
     "name": "stderr",
     "output_type": "stream",
     "text": [
      "100%|██████████| 555/555 [00:24<00:00, 22.26it/s]\n",
      "100%|██████████| 555/555 [00:24<00:00, 22.29it/s]\n",
      "100%|██████████| 555/555 [00:24<00:00, 22.34it/s]\n",
      "100%|██████████| 555/555 [00:24<00:00, 22.33it/s]\n",
      "100%|██████████| 555/555 [00:24<00:00, 22.35it/s]"
     ]
    },
    {
     "name": "stdout",
     "output_type": "stream",
     "text": [
      "agg_overlaps [0.40766292360508666, 0.617498441278431, 0.5940591234592666, 0.6662543464663513, 0.6726095616243941]\n"
     ]
    },
    {
     "name": "stderr",
     "output_type": "stream",
     "text": [
      "\n"
     ]
    }
   ],
   "source": [
    "def evaluate_algorithm():\n",
    "    overlaps=[]\n",
    "    color_means=[]\n",
    "    grad_means=[]\n",
    "    color_counts=[]\n",
    "    grad_counts=[]\n",
    "    color_stds=[]\n",
    "    grad_stds=[]\n",
    "\n",
    "    for fold in cross_validated_scenes:\n",
    "        train_scenes, test_scenes, fold_name = fold\n",
    "        print(fold_name)\n",
    "        alg = Algorithm(train_scenes, test_scenes, fold_name)\n",
    "        res_path = alg.run()\n",
    "        color_mean, grad_mean, color_count, grad_count, color_std, grad_std = alg.get_norm_coeffs()\n",
    "        color_means.append(color_mean)\n",
    "        grad_means.append(grad_mean)\n",
    "        color_counts.append(color_count)\n",
    "        grad_counts.append(grad_count)\n",
    "        color_stds.append(color_std)\n",
    "        grad_stds.append(grad_std)\n",
    "        \n",
    "        print(color_mean, grad_mean, color_count, grad_count, color_std, grad_std)\n",
    "        agg_overlaps = Predictions(res_path, test_scenes).draw_and_calc()\n",
    "        print(\"agg_overlaps\",agg_overlaps)\n",
    "        overlaps.append(agg_overlaps)\n",
    "\n",
    "    color_mean = np.average(color_means, weights=np.divide(color_counts,len(color_counts)))\n",
    "    grad_mean = np.average(grad_means, weights=np.divide(grad_counts,len(grad_counts)))\n",
    "    color_std = np.mean(color_stds)\n",
    "    grad_std = np.mean(grad_stds)\n",
    "    norm_coeffs = [color_mean, grad_mean, color_std, grad_std]\n",
    "    np.save(PROJECT_PATH+\"results/agg_overlaps_norm\", np.mean(overlaps, 0))\n",
    "    np.save(PROJECT_PATH+\"results/norm_coeffs_norm\", norm_coeffs)\n",
    "    \n",
    "evaluate_algorithm()"
   ]
  },
  {
   "cell_type": "code",
   "execution_count": 6,
   "metadata": {},
   "outputs": [
    {
     "data": {
      "text/plain": [
       "array([0.49258194, 0.59860443, 0.59728843, 0.68011496, 0.68655563])"
      ]
     },
     "execution_count": 6,
     "metadata": {},
     "output_type": "execute_result"
    }
   ],
   "source": [
    "np.load(PROJECT_PATH+\"results/agg_overlaps.npy\")"
   ]
  },
  {
   "cell_type": "code",
   "execution_count": 7,
   "metadata": {},
   "outputs": [
    {
     "data": {
      "text/plain": [
       "array([0.46017551, 0.04681373, 0.08855855, 0.09643027])"
      ]
     },
     "execution_count": 7,
     "metadata": {},
     "output_type": "execute_result"
    }
   ],
   "source": [
    "np.load(PROJECT_PATH+\"results/norm_coeffs.npy\")"
   ]
  },
  {
   "cell_type": "markdown",
   "metadata": {},
   "source": [
    "color, grad, max, min, sum\n",
    "\n",
    "0.49258194, 0.59860443, 0.59728843, 0.68011496, 0.68655563\n",
    "\n",
    "color_mean, grad_mean, color_std, grad_std\n",
    "\n",
    "0.46017551, 0.04681373, 0.08855855, 0.09643027\n",
    "\n",
    "TODO change prob thresh and run all"
   ]
  }
 ],
 "metadata": {
  "kernelspec": {
   "display_name": "Python 3",
   "language": "python",
   "name": "python3"
  },
  "language_info": {
   "codemirror_mode": {
    "name": "ipython",
    "version": 3
   },
   "file_extension": ".py",
   "mimetype": "text/x-python",
   "name": "python",
   "nbconvert_exporter": "python",
   "pygments_lexer": "ipython3",
   "version": "3.6.9"
  }
 },
 "nbformat": 4,
 "nbformat_minor": 2
}
