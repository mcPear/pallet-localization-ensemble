{
 "cells": [
  {
   "cell_type": "code",
   "execution_count": 1,
   "metadata": {},
   "outputs": [],
   "source": [
    "from dataset_io import *\n",
    "from classifiers import *\n",
    "from tqdm import tqdm"
   ]
  },
  {
   "cell_type": "code",
   "execution_count": 2,
   "metadata": {},
   "outputs": [],
   "source": [
    "#np.save(\"cross_validated_scenes\",cross_validated_scenes())\n",
    "cross_validated_scenes = np.load(\"cross_validated_scenes.npy\", allow_pickle=True)"
   ]
  },
  {
   "cell_type": "code",
   "execution_count": null,
   "metadata": {
    "scrolled": true
   },
   "outputs": [
    {
     "name": "stderr",
     "output_type": "stream",
     "text": [
      "\r",
      "  0%|          | 0/4 [00:00<?, ?it/s]"
     ]
    },
    {
     "name": "stdout",
     "output_type": "stream",
     "text": [
      "fold_0\n",
      "blue\n",
      "1\n",
      "2\n",
      "3\n",
      "31\n"
     ]
    }
   ],
   "source": [
    "grad_metrics=[]\n",
    "color_metrics=[]\n",
    "\n",
    "for fold in tqdm(cross_validated_scenes):\n",
    "    train_scenes, test_scenes, name = fold\n",
    "    print(name)\n",
    "    acc, prec, rec, f1, _ = classify_gradient(train_scenes, test_scenes, name, True)\n",
    "    grad_metrics.append([acc, prec, rec, f1])\n",
    "    res = classify_colors(train_scenes, test_scenes, name, True)\n",
    "    color_metrics.append(res)\n",
    "    \n",
    "np.save(\"color_metrics\", color_metrics)\n",
    "np.save(\"grad_metrics\", grad_metrics)"
   ]
  },
  {
   "cell_type": "code",
   "execution_count": null,
   "metadata": {},
   "outputs": [],
   "source": [
    "# color_metrics = np.mean(color_metrics)\n",
    "# grad_metrics = np.mean(grad_metrics)\n",
    "print(color_metrics)\n",
    "print(grad_metrics)"
   ]
  },
  {
   "cell_type": "code",
   "execution_count": null,
   "metadata": {},
   "outputs": [],
   "source": [
    "-1. 4 features per all scenes available\n",
    "-2. get folds\n",
    "3. for each fold set it as test and load features for others (concat)\n",
    "4. train models on loaded features\n",
    "5. pass models to algorithm\n",
    "6. run algorithm to predict single test fold\n",
    "7. save predictions in list\n",
    "8. mean of predctions"
   ]
  },
  {
   "cell_type": "code",
   "execution_count": null,
   "metadata": {},
   "outputs": [],
   "source": []
  }
 ],
 "metadata": {
  "kernelspec": {
   "display_name": "Python 3",
   "language": "python",
   "name": "python3"
  },
  "language_info": {
   "codemirror_mode": {
    "name": "ipython",
    "version": 3
   },
   "file_extension": ".py",
   "mimetype": "text/x-python",
   "name": "python",
   "nbconvert_exporter": "python",
   "pygments_lexer": "ipython3",
   "version": "3.6.9"
  }
 },
 "nbformat": 4,
 "nbformat_minor": 2
}
