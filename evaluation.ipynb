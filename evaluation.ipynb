{
 "cells": [
  {
   "cell_type": "code",
   "execution_count": 1,
   "metadata": {},
   "outputs": [],
   "source": [
    "from dataset_io import *\n",
    "from classifiers import *\n",
    "from tqdm import tqdm"
   ]
  },
  {
   "cell_type": "code",
   "execution_count": 2,
   "metadata": {},
   "outputs": [],
   "source": [
    "#np.save(\"cross_validated_scenes\",cross_validated_scenes())\n",
    "cross_validated_scenes = np.load(\"cross_validated_scenes.npy\", allow_pickle=True)"
   ]
  },
  {
   "cell_type": "code",
   "execution_count": 3,
   "metadata": {
    "scrolled": true
   },
   "outputs": [
    {
     "name": "stderr",
     "output_type": "stream",
     "text": [
      "\r",
      "  0%|          | 0/4 [00:00<?, ?it/s]"
     ]
    },
    {
     "name": "stdout",
     "output_type": "stream",
     "text": [
      "fold_0\n",
      "blue\n",
      "1\n",
      "2\n",
      "3\n",
      "31\n",
      "32\n",
      "4\n",
      "5\n",
      "6\n",
      "7\n",
      "8\n",
      "9\n",
      "10\n",
      "dark\n",
      "1\n",
      "2\n",
      "3\n",
      "31\n",
      "32\n",
      "4\n",
      "5\n",
      "6\n",
      "7\n",
      "8\n",
      "9\n",
      "10\n",
      "wooden\n",
      "1\n",
      "2\n",
      "3\n",
      "31\n",
      "32\n",
      "4\n",
      "5\n",
      "6\n",
      "7\n",
      "8\n"
     ]
    },
    {
     "name": "stderr",
     "output_type": "stream",
     "text": [
      "\r",
      " 25%|██▌       | 1/4 [03:54<11:42, 234.32s/it]"
     ]
    },
    {
     "name": "stdout",
     "output_type": "stream",
     "text": [
      "9\n",
      "10\n",
      "fold_1\n",
      "blue\n",
      "1\n",
      "2\n",
      "3\n",
      "31\n",
      "32\n",
      "4\n",
      "5\n",
      "6\n",
      "7\n",
      "8\n",
      "9\n",
      "10\n",
      "dark\n",
      "1\n",
      "2\n",
      "3\n",
      "31\n",
      "32\n",
      "4\n",
      "5\n",
      "6\n",
      "7\n",
      "8\n",
      "9\n",
      "10\n",
      "wooden\n",
      "1\n",
      "2\n",
      "3\n",
      "31\n",
      "32\n",
      "4\n",
      "5\n",
      "6\n",
      "7\n",
      "8\n"
     ]
    },
    {
     "name": "stderr",
     "output_type": "stream",
     "text": [
      "\r",
      " 50%|█████     | 2/4 [08:16<08:05, 242.80s/it]"
     ]
    },
    {
     "name": "stdout",
     "output_type": "stream",
     "text": [
      "9\n",
      "10\n",
      "fold_2\n",
      "blue\n",
      "1\n",
      "2\n",
      "3\n",
      "31\n",
      "32\n",
      "4\n",
      "5\n",
      "6\n",
      "7\n",
      "8\n",
      "9\n",
      "10\n",
      "dark\n",
      "1\n",
      "2\n",
      "3\n",
      "31\n",
      "32\n",
      "4\n",
      "5\n",
      "6\n",
      "7\n",
      "8\n",
      "9\n",
      "10\n",
      "wooden\n",
      "1\n",
      "2\n",
      "3\n",
      "31\n",
      "32\n",
      "4\n",
      "5\n",
      "6\n",
      "7\n",
      "8\n"
     ]
    },
    {
     "name": "stderr",
     "output_type": "stream",
     "text": [
      "\r",
      " 75%|███████▌  | 3/4 [12:14<04:01, 241.30s/it]"
     ]
    },
    {
     "name": "stdout",
     "output_type": "stream",
     "text": [
      "9\n",
      "10\n",
      "fold_3\n",
      "blue\n",
      "1\n",
      "2\n",
      "3\n",
      "31\n",
      "32\n",
      "4\n",
      "5\n",
      "6\n",
      "7\n",
      "8\n",
      "9\n",
      "10\n",
      "dark\n",
      "1\n",
      "2\n",
      "3\n",
      "31\n",
      "32\n",
      "4\n",
      "5\n",
      "6\n",
      "7\n",
      "8\n",
      "9\n",
      "10\n",
      "wooden\n",
      "1\n",
      "2\n",
      "3\n",
      "31\n",
      "32\n",
      "4\n",
      "5\n",
      "6\n",
      "7\n",
      "8\n"
     ]
    },
    {
     "name": "stderr",
     "output_type": "stream",
     "text": [
      "100%|██████████| 4/4 [16:22<00:00, 245.52s/it]"
     ]
    },
    {
     "name": "stdout",
     "output_type": "stream",
     "text": [
      "9\n",
      "10\n"
     ]
    },
    {
     "name": "stderr",
     "output_type": "stream",
     "text": [
      "\n"
     ]
    }
   ],
   "source": [
    "grad_metrics=[]\n",
    "color_metrics=[]\n",
    "\n",
    "for fold in tqdm(cross_validated_scenes):\n",
    "    train_scenes, test_scenes, name = fold\n",
    "    print(name)\n",
    "    acc, prec, rec, f1, _ = classify_gradient(train_scenes, test_scenes, name, True)\n",
    "    grad_metrics.append([acc, prec, rec, f1])\n",
    "    res = classify_colors(train_scenes, test_scenes, name, True)\n",
    "    color_metrics.append(res)\n",
    "    \n",
    "np.save(\"color_metrics\", color_metrics)\n",
    "np.save(\"grad_metrics\", grad_metrics)"
   ]
  },
  {
   "cell_type": "code",
   "execution_count": 11,
   "metadata": {},
   "outputs": [
    {
     "name": "stdout",
     "output_type": "stream",
     "text": [
      "[[0.9978768577494692, 0.9978632478632479, 0.9915074309978769, 0.9946751863684771], [0.9939437121482009, 1.0, 0.9795918367346939, 0.9896907216494846], [0.934250107434465, 0.9957081545064378, 0.7544715447154472, 0.8584643848288621], [0.9970426700464723, 1.0, 0.9896602658788775, 0.9948032665181886]] [0.98077834 0.99839285 0.92880777 0.95940839]\n"
     ]
    }
   ],
   "source": [
    "# color_metrics = np.mean(color_metrics)\n",
    "# grad_metrics = np.mean(grad_metrics)\n",
    "#print(color_metrics)\n",
    "print(grad_metrics, np.mean(grad_metrics, 0))"
   ]
  },
  {
   "cell_type": "code",
   "execution_count": 5,
   "metadata": {},
   "outputs": [
    {
     "ename": "SyntaxError",
     "evalue": "invalid syntax (<ipython-input-5-675d1e1eb316>, line 1)",
     "output_type": "error",
     "traceback": [
      "\u001b[0;36m  File \u001b[0;32m\"<ipython-input-5-675d1e1eb316>\"\u001b[0;36m, line \u001b[0;32m1\u001b[0m\n\u001b[0;31m    -1. 4 features per all scenes available\u001b[0m\n\u001b[0m        ^\u001b[0m\n\u001b[0;31mSyntaxError\u001b[0m\u001b[0;31m:\u001b[0m invalid syntax\n"
     ]
    }
   ],
   "source": [
    "-1. 4 features per all scenes available\n",
    "-2. get folds\n",
    "3. for each fold set it as test and load features for others (concat)\n",
    "4. train models on loaded features\n",
    "5. pass models to algorithm\n",
    "6. run algorithm to predict single test fold\n",
    "7. save predictions in list\n",
    "8. mean of predctions"
   ]
  },
  {
   "cell_type": "code",
   "execution_count": null,
   "metadata": {},
   "outputs": [],
   "source": []
  }
 ],
 "metadata": {
  "kernelspec": {
   "display_name": "Python 3",
   "language": "python",
   "name": "python3"
  },
  "language_info": {
   "codemirror_mode": {
    "name": "ipython",
    "version": 3
   },
   "file_extension": ".py",
   "mimetype": "text/x-python",
   "name": "python",
   "nbconvert_exporter": "python",
   "pygments_lexer": "ipython3",
   "version": "3.6.9"
  }
 },
 "nbformat": 4,
 "nbformat_minor": 2
}
