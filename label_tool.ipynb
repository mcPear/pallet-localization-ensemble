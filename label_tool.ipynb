{
 "cells": [
  {
   "cell_type": "code",
   "execution_count": 7,
   "metadata": {},
   "outputs": [],
   "source": [
    "import argparse\n",
    "import cv2\n",
    "import os\n",
    "import numpy as np\n",
    "from tqdm import tqdm\n",
    "import re\n",
    "import imutils\n",
    "from resolutions import resolution_label_map, read_info"
   ]
  },
  {
   "cell_type": "code",
   "execution_count": 8,
   "metadata": {},
   "outputs": [],
   "source": [
    "def write_next_img(filename, txtname):\n",
    "    f = open(txtname, \"a\")\n",
    "    f.write(\"\\n\"+filename+\" \")\n",
    "    f.close()\n",
    "    \n",
    "def write_rect(rect):\n",
    "    global TXT\n",
    "    f = open(TXT, \"a\")\n",
    "    f.write(np.array_str(rect)+\" \")\n",
    "    f.close()\n",
    "\n",
    "def click_and_crop(event, x, y, flags, param):\n",
    "    global rect, tip_x, tip_y, clone\n",
    "    h,w,_ = clone.shape\n",
    "    if event == cv2.EVENT_LBUTTONDOWN:\n",
    "        rect=np.concatenate((rect,[x,y]))\n",
    "        if len(rect)==4:\n",
    "            write_rect(rect)\n",
    "            rect=np.array([])\n",
    "    elif event == cv2.EVENT_MOUSEMOVE:\n",
    "        white=(255,255,255)\n",
    "        clone  = image.copy()\n",
    "        if len(rect)==2:\n",
    "            cv2.rectangle(clone, tuple(map(int,rect)), (x,y), (0,255,0))\n",
    "        cv2.line(clone, (0,y),(w,y),white)\n",
    "        cv2.line(clone, (x,0),(x,h),white)\n",
    "        cv2.imshow(\"image\", clone)"
   ]
  },
  {
   "cell_type": "markdown",
   "metadata": {},
   "source": [
    "# Set scene, paths and read resolution"
   ]
  },
  {
   "cell_type": "code",
   "execution_count": 9,
   "metadata": {},
   "outputs": [],
   "source": [
    "SCENE = \"dark_1\"\n",
    "\n",
    "DIR = \"/home/maciej/Desktop/pallet_dataset/scenes/\"+SCENE+\"/\"\n",
    "TXT = \"/home/maciej/Desktop/pallet_dataset/labels/\"+SCENE+\".txt\"\n",
    "\n",
    "_,_,_,RESOLUTION,LABEL_RESOLUTION=read_info(DIR)"
   ]
  },
  {
   "cell_type": "markdown",
   "metadata": {},
   "source": [
    "# Label"
   ]
  },
  {
   "cell_type": "code",
   "execution_count": 10,
   "metadata": {},
   "outputs": [
    {
     "name": "stderr",
     "output_type": "stream",
     "text": [
      "\r",
      "  0%|          | 0/5 [00:00<?, ?it/s]"
     ]
    },
    {
     "name": "stdout",
     "output_type": "stream",
     "text": [
      "IMG_20200228_103440.jpg\n"
     ]
    },
    {
     "name": "stderr",
     "output_type": "stream",
     "text": [
      "\r",
      " 20%|██        | 1/5 [00:01<00:05,  1.38s/it]"
     ]
    },
    {
     "name": "stdout",
     "output_type": "stream",
     "text": [
      "IMG_20200228_103442.jpg\n",
      "IMG_20200228_103443.jpg\n"
     ]
    },
    {
     "name": "stderr",
     "output_type": "stream",
     "text": [
      " 80%|████████  | 4/5 [00:01<00:00,  1.31it/s]"
     ]
    },
    {
     "name": "stdout",
     "output_type": "stream",
     "text": [
      "IMG_20200228_103445.jpg\n",
      "IMG_20200228_103446.jpg\n"
     ]
    },
    {
     "name": "stderr",
     "output_type": "stream",
     "text": [
      "100%|██████████| 5/5 [00:02<00:00,  2.40it/s]\n"
     ]
    }
   ],
   "source": [
    "filenames = sorted(os.listdir(DIR))\n",
    "filenames=[f for f in filenames if f != \"info.txt\"]\n",
    "#filenames=[\"r_2_99.jpg\"]\n",
    "cv2.namedWindow(\"image\")\n",
    "cv2.setMouseCallback(\"image\", click_and_crop)\n",
    "\n",
    "#variables\n",
    "rect = np.array([])\n",
    "tip_x, tip_y = (0,0)\n",
    "\n",
    "for i in tqdm(range(len(filenames))):\n",
    "    filename=filenames[i]\n",
    "    print(filename)\n",
    "    path=DIR+filename\n",
    "    image = cv2.imread(path)\n",
    "    #image = imutils.rotate(image, 1.5)\n",
    "    if RESOLUTION!=LABEL_RESOLUTION:\n",
    "        image = cv2.resize(image, LABEL_RESOLUTION)\n",
    "    clone = image.copy()\n",
    "    write_next_img(filename, TXT)\n",
    "    cv2.imshow(\"image\", clone)\n",
    "    cv2.waitKey(0)\n",
    "    rect = np.array([])\n",
    "cv2.destroyAllWindows()"
   ]
  },
  {
   "cell_type": "markdown",
   "metadata": {},
   "source": [
    "# Display labelled"
   ]
  },
  {
   "cell_type": "code",
   "execution_count": 11,
   "metadata": {},
   "outputs": [
    {
     "name": "stdout",
     "output_type": "stream",
     "text": [
      "[((220, 303), (783, 405))]\n",
      "[((239, 329), (798, 432))]\n",
      "[((237, 205), (807, 312))]\n",
      "[((239, 406), (801, 512))]\n",
      "[((241, 347), (804, 453))]\n"
     ]
    }
   ],
   "source": [
    "def parse_line(line):\n",
    "    filename,points=line.split(\" \", 1)\n",
    "    point_list=points.split(\"] [\")\n",
    "    point_list=[points.strip('][ ').replace('.','').split(' ') for points in point_list]\n",
    "    point_list=[[int(point) for point in points if point] for points in point_list]\n",
    "    point_list=[(tuple(points[:2]),tuple(points[2:4])) for points in point_list]\n",
    "    point_list=[((0,0),(0,0)) if not points[0] and not points[1] else points for points in point_list]\n",
    "    print(point_list)\n",
    "    return filename,point_list\n",
    "\n",
    "with open(TXT) as f:\n",
    "    lines = [line.rstrip('\\n') for line in f]\n",
    "lines = [parse_line(line) for line in lines]\n",
    "cv2.namedWindow(\"image\")\n",
    "for line in lines:\n",
    "    filename,point_list=line\n",
    "    path=DIR+filename\n",
    "    image = cv2.imread(path)\n",
    "    if RESOLUTION!=LABEL_RESOLUTION:\n",
    "        image = cv2.resize(image, LABEL_RESOLUTION) \n",
    "    for points in point_list:\n",
    "        p1,p2=points\n",
    "        cv2.rectangle(image, p1, p2, (0,255,0))\n",
    "    cv2.imshow(\"image\", image)\n",
    "    cv2.waitKey(0)\n",
    "cv2.destroyAllWindows()"
   ]
  },
  {
   "cell_type": "code",
   "execution_count": null,
   "metadata": {},
   "outputs": [],
   "source": []
  }
 ],
 "metadata": {
  "kernelspec": {
   "display_name": "Python 3",
   "language": "python",
   "name": "python3"
  },
  "language_info": {
   "codemirror_mode": {
    "name": "ipython",
    "version": 3
   },
   "file_extension": ".py",
   "mimetype": "text/x-python",
   "name": "python",
   "nbconvert_exporter": "python",
   "pygments_lexer": "ipython3",
   "version": "3.6.9"
  }
 },
 "nbformat": 4,
 "nbformat_minor": 2
}
