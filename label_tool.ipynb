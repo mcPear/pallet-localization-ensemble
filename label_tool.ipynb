{
 "cells": [
  {
   "cell_type": "code",
   "execution_count": 1,
   "metadata": {},
   "outputs": [],
   "source": [
    "import argparse\n",
    "import cv2\n",
    "import os\n",
    "import numpy as np\n",
    "from tqdm import tqdm\n",
    "import re\n",
    "import imutils"
   ]
  },
  {
   "cell_type": "code",
   "execution_count": 2,
   "metadata": {},
   "outputs": [],
   "source": [
    "def write_next_img(filename, txtname):\n",
    "    f = open(txtname, \"a\")\n",
    "    f.write(\"\\n\"+filename+\" \")\n",
    "    f.close()\n",
    "    \n",
    "def write_rect(rect):\n",
    "    global TXT\n",
    "    f = open(TXT, \"a\")\n",
    "    f.write(np.array_str(rect)+\" \")\n",
    "    f.close()\n",
    "\n",
    "def click_and_crop(event, x, y, flags, param):\n",
    "    global rect, tip_x, tip_y, clone\n",
    "    h,w,_ = clone.shape\n",
    "    if event == cv2.EVENT_LBUTTONDOWN:\n",
    "        rect=np.concatenate((rect,[x,y]))\n",
    "        if len(rect)==4:\n",
    "            write_rect(rect)\n",
    "            rect=np.array([])\n",
    "    elif event == cv2.EVENT_MOUSEMOVE:\n",
    "        white=(255,255,255)\n",
    "        clone  = image.copy()\n",
    "        if len(rect)==2:\n",
    "            cv2.rectangle(clone, tuple(map(int,rect)), (x,y), (0,255,0))\n",
    "        cv2.line(clone, (0,y),(w,y),white)\n",
    "        cv2.line(clone, (x,0),(x,h),white)\n",
    "        cv2.imshow(\"image\", clone)"
   ]
  },
  {
   "cell_type": "markdown",
   "metadata": {},
   "source": [
    "# Set paths and resolution"
   ]
  },
  {
   "cell_type": "code",
   "execution_count": 16,
   "metadata": {},
   "outputs": [],
   "source": [
    "SCENE = \"warehouse_3\"\n",
    "NEW_RESOLUTION=(1280, 960)#None#(1040,780) #VGA lavels need to be divided by 2\n",
    "\n",
    "DIR = \"/home/maciej/Desktop/pallet_dataset/\"+SCENE+\"/equalized/\"\n",
    "TXT = \"/home/maciej/Desktop/pallet_dataset/labels/\"+SCENE+\".txt\""
   ]
  },
  {
   "cell_type": "markdown",
   "metadata": {},
   "source": [
    "# Label"
   ]
  },
  {
   "cell_type": "code",
   "execution_count": 10,
   "metadata": {},
   "outputs": [
    {
     "name": "stderr",
     "output_type": "stream",
     "text": [
      "\r",
      "  0%|          | 0/329 [00:00<?, ?it/s]"
     ]
    },
    {
     "name": "stdout",
     "output_type": "stream",
     "text": [
      "r_3_0.jpg\n"
     ]
    },
    {
     "name": "stderr",
     "output_type": "stream",
     "text": [
      "  1%|          | 3/329 [00:03<12:29,  2.30s/it]"
     ]
    },
    {
     "name": "stdout",
     "output_type": "stream",
     "text": [
      "r_3_1.jpg\n",
      "r_3_10.jpg\n",
      "r_3_100.jpg\n",
      "r_3_101.jpg\n"
     ]
    },
    {
     "name": "stderr",
     "output_type": "stream",
     "text": [
      "  2%|▏         | 7/329 [00:03<06:14,  1.16s/it]"
     ]
    },
    {
     "name": "stdout",
     "output_type": "stream",
     "text": [
      "r_3_102.jpg\n",
      "r_3_103.jpg\n",
      "r_3_104.jpg\n"
     ]
    },
    {
     "name": "stderr",
     "output_type": "stream",
     "text": [
      "  3%|▎         | 11/329 [00:03<03:11,  1.66it/s]"
     ]
    },
    {
     "name": "stdout",
     "output_type": "stream",
     "text": [
      "r_3_105.jpg\n",
      "r_3_106.jpg\n",
      "r_3_107.jpg\n",
      "r_3_108.jpg\n"
     ]
    },
    {
     "name": "stderr",
     "output_type": "stream",
     "text": [
      "  5%|▍         | 15/329 [00:04<01:44,  3.01it/s]"
     ]
    },
    {
     "name": "stdout",
     "output_type": "stream",
     "text": [
      "r_3_109.jpg\n",
      "r_3_11.jpg\n",
      "r_3_110.jpg\n",
      "r_3_111.jpg\n"
     ]
    },
    {
     "name": "stderr",
     "output_type": "stream",
     "text": [
      "  6%|▌         | 19/329 [00:04<01:01,  5.00it/s]"
     ]
    },
    {
     "name": "stdout",
     "output_type": "stream",
     "text": [
      "r_3_112.jpg\n",
      "r_3_113.jpg\n",
      "r_3_114.jpg\n",
      "r_3_115.jpg\n"
     ]
    },
    {
     "name": "stderr",
     "output_type": "stream",
     "text": [
      "\r",
      "  6%|▋         | 21/329 [00:04<00:51,  6.01it/s]"
     ]
    },
    {
     "name": "stdout",
     "output_type": "stream",
     "text": [
      "r_3_116.jpg\n",
      "r_3_117.jpg\n",
      "r_3_118.jpg\n"
     ]
    },
    {
     "name": "stderr",
     "output_type": "stream",
     "text": [
      "  8%|▊         | 25/329 [00:04<00:36,  8.37it/s]"
     ]
    },
    {
     "name": "stdout",
     "output_type": "stream",
     "text": [
      "r_3_119.jpg\n",
      "r_3_12.jpg\n",
      "r_3_120.jpg\n",
      "r_3_121.jpg\n"
     ]
    },
    {
     "name": "stderr",
     "output_type": "stream",
     "text": [
      "  9%|▉         | 29/329 [00:05<00:27, 10.96it/s]"
     ]
    },
    {
     "name": "stdout",
     "output_type": "stream",
     "text": [
      "r_3_122.jpg\n",
      "r_3_123.jpg\n",
      "r_3_124.jpg\n"
     ]
    },
    {
     "name": "stderr",
     "output_type": "stream",
     "text": [
      " 10%|█         | 33/329 [00:05<00:23, 12.35it/s]"
     ]
    },
    {
     "name": "stdout",
     "output_type": "stream",
     "text": [
      "r_3_125.jpg\n",
      "r_3_126.jpg\n",
      "r_3_127.jpg\n",
      "r_3_128.jpg\n"
     ]
    },
    {
     "name": "stderr",
     "output_type": "stream",
     "text": [
      " 11%|█         | 37/329 [00:05<00:22, 12.83it/s]"
     ]
    },
    {
     "name": "stdout",
     "output_type": "stream",
     "text": [
      "r_3_129.jpg\n",
      "r_3_13.jpg\n",
      "r_3_130.jpg\n",
      "r_3_131.jpg\n"
     ]
    },
    {
     "name": "stderr",
     "output_type": "stream",
     "text": [
      "\r",
      " 12%|█▏        | 39/329 [00:05<00:23, 12.52it/s]"
     ]
    },
    {
     "name": "stdout",
     "output_type": "stream",
     "text": [
      "r_3_132.jpg\n",
      "r_3_133.jpg\n",
      "r_3_134.jpg\n"
     ]
    },
    {
     "name": "stderr",
     "output_type": "stream",
     "text": [
      " 13%|█▎        | 43/329 [00:06<00:23, 12.20it/s]"
     ]
    },
    {
     "name": "stdout",
     "output_type": "stream",
     "text": [
      "r_3_135.jpg\n",
      "r_3_136.jpg\n",
      "r_3_137.jpg\n",
      "r_3_138.jpg\n"
     ]
    },
    {
     "name": "stderr",
     "output_type": "stream",
     "text": [
      " 14%|█▍        | 47/329 [00:06<00:21, 13.30it/s]"
     ]
    },
    {
     "name": "stdout",
     "output_type": "stream",
     "text": [
      "r_3_139.jpg\n",
      "r_3_14.jpg\n",
      "r_3_140.jpg\n",
      "r_3_141.jpg\n"
     ]
    },
    {
     "name": "stderr",
     "output_type": "stream",
     "text": [
      " 16%|█▌        | 51/329 [00:06<00:20, 13.75it/s]"
     ]
    },
    {
     "name": "stdout",
     "output_type": "stream",
     "text": [
      "r_3_142.jpg\n",
      "r_3_143.jpg\n",
      "r_3_144.jpg\n"
     ]
    },
    {
     "name": "stderr",
     "output_type": "stream",
     "text": [
      "\r",
      " 16%|█▌        | 53/329 [00:07<00:19, 13.80it/s]"
     ]
    },
    {
     "name": "stdout",
     "output_type": "stream",
     "text": [
      "r_3_145.jpg\n",
      "r_3_146.jpg\n",
      "r_3_147.jpg\n"
     ]
    },
    {
     "name": "stderr",
     "output_type": "stream",
     "text": [
      " 17%|█▋        | 57/329 [00:07<00:19, 13.84it/s]"
     ]
    },
    {
     "name": "stdout",
     "output_type": "stream",
     "text": [
      "r_3_148.jpg\n",
      "r_3_149.jpg\n",
      "r_3_15.jpg\n"
     ]
    },
    {
     "name": "stderr",
     "output_type": "stream",
     "text": [
      " 19%|█▊        | 61/329 [00:07<00:20, 13.19it/s]"
     ]
    },
    {
     "name": "stdout",
     "output_type": "stream",
     "text": [
      "r_3_150.jpg\n",
      "r_3_151.jpg\n",
      "r_3_152.jpg\n"
     ]
    },
    {
     "name": "stderr",
     "output_type": "stream",
     "text": [
      "\r",
      " 19%|█▉        | 63/329 [00:07<00:20, 12.78it/s]"
     ]
    },
    {
     "name": "stdout",
     "output_type": "stream",
     "text": [
      "r_3_153.jpg\n",
      "r_3_154.jpg\n",
      "r_3_155.jpg\n",
      "r_3_156.jpg\n"
     ]
    },
    {
     "name": "stderr",
     "output_type": "stream",
     "text": [
      " 20%|██        | 67/329 [00:08<00:21, 12.01it/s]"
     ]
    },
    {
     "name": "stdout",
     "output_type": "stream",
     "text": [
      "r_3_157.jpg\n",
      "r_3_158.jpg\n",
      "r_3_159.jpg\n",
      "r_3_16.jpg\n"
     ]
    },
    {
     "name": "stderr",
     "output_type": "stream",
     "text": [
      " 22%|██▏       | 71/329 [00:08<00:19, 13.17it/s]"
     ]
    },
    {
     "name": "stdout",
     "output_type": "stream",
     "text": [
      "r_3_160.jpg\n",
      "r_3_161.jpg\n",
      "r_3_162.jpg\n",
      "r_3_163.jpg\n"
     ]
    },
    {
     "name": "stderr",
     "output_type": "stream",
     "text": [
      " 23%|██▎       | 75/329 [00:08<00:17, 14.15it/s]"
     ]
    },
    {
     "name": "stdout",
     "output_type": "stream",
     "text": [
      "r_3_164.jpg\n",
      "r_3_165.jpg\n",
      "r_3_166.jpg\n"
     ]
    },
    {
     "name": "stderr",
     "output_type": "stream",
     "text": [
      " 24%|██▍       | 79/329 [00:09<00:19, 13.01it/s]"
     ]
    },
    {
     "name": "stdout",
     "output_type": "stream",
     "text": [
      "r_3_167.jpg\n",
      "r_3_168.jpg\n",
      "r_3_169.jpg\n"
     ]
    },
    {
     "name": "stderr",
     "output_type": "stream",
     "text": [
      "\r",
      " 25%|██▍       | 81/329 [00:09<00:19, 12.65it/s]"
     ]
    },
    {
     "name": "stdout",
     "output_type": "stream",
     "text": [
      "r_3_17.jpg\n",
      "r_3_170.jpg\n",
      "r_3_171.jpg\n"
     ]
    },
    {
     "name": "stderr",
     "output_type": "stream",
     "text": [
      "\r",
      " 25%|██▌       | 83/329 [00:09<00:19, 12.42it/s]"
     ]
    },
    {
     "name": "stdout",
     "output_type": "stream",
     "text": [
      "r_3_172.jpg\n",
      "r_3_173.jpg\n",
      "r_3_174.jpg\n"
     ]
    },
    {
     "name": "stderr",
     "output_type": "stream",
     "text": [
      " 26%|██▋       | 87/329 [00:09<00:18, 12.84it/s]"
     ]
    },
    {
     "name": "stdout",
     "output_type": "stream",
     "text": [
      "r_3_175.jpg\n",
      "r_3_176.jpg\n",
      "r_3_177.jpg\n",
      "r_3_178.jpg\n"
     ]
    },
    {
     "name": "stderr",
     "output_type": "stream",
     "text": [
      " 28%|██▊       | 91/329 [00:09<00:18, 13.08it/s]"
     ]
    },
    {
     "name": "stdout",
     "output_type": "stream",
     "text": [
      "r_3_179.jpg\n",
      "r_3_18.jpg\n",
      "r_3_180.jpg\n"
     ]
    },
    {
     "name": "stderr",
     "output_type": "stream",
     "text": [
      "\r",
      " 28%|██▊       | 93/329 [00:10<00:17, 13.55it/s]"
     ]
    },
    {
     "name": "stdout",
     "output_type": "stream",
     "text": [
      "r_3_181.jpg\n",
      "r_3_182.jpg\n",
      "r_3_183.jpg\n"
     ]
    },
    {
     "name": "stderr",
     "output_type": "stream",
     "text": [
      " 29%|██▉       | 97/329 [00:10<00:16, 13.68it/s]"
     ]
    },
    {
     "name": "stdout",
     "output_type": "stream",
     "text": [
      "r_3_184.jpg\n",
      "r_3_185.jpg\n",
      "r_3_186.jpg\n"
     ]
    },
    {
     "name": "stderr",
     "output_type": "stream",
     "text": [
      "\r",
      " 30%|███       | 99/329 [00:10<00:17, 13.41it/s]"
     ]
    },
    {
     "name": "stdout",
     "output_type": "stream",
     "text": [
      "r_3_187.jpg\n",
      "r_3_188.jpg\n",
      "r_3_189.jpg\n"
     ]
    },
    {
     "name": "stderr",
     "output_type": "stream",
     "text": [
      " 31%|███▏      | 103/329 [00:10<00:18, 11.92it/s]"
     ]
    },
    {
     "name": "stdout",
     "output_type": "stream",
     "text": [
      "r_3_19.jpg\n",
      "r_3_190.jpg\n",
      "r_3_191.jpg\n"
     ]
    },
    {
     "name": "stderr",
     "output_type": "stream",
     "text": [
      "\r",
      " 32%|███▏      | 105/329 [00:11<00:19, 11.75it/s]"
     ]
    },
    {
     "name": "stdout",
     "output_type": "stream",
     "text": [
      "r_3_192.jpg\n",
      "r_3_193.jpg\n",
      "r_3_194.jpg\n"
     ]
    },
    {
     "name": "stderr",
     "output_type": "stream",
     "text": [
      " 33%|███▎      | 109/329 [00:11<00:17, 12.75it/s]"
     ]
    },
    {
     "name": "stdout",
     "output_type": "stream",
     "text": [
      "r_3_195.jpg\n",
      "r_3_196.jpg\n",
      "r_3_197.jpg\n"
     ]
    },
    {
     "name": "stderr",
     "output_type": "stream",
     "text": [
      "\r",
      " 34%|███▎      | 111/329 [00:11<00:16, 13.28it/s]"
     ]
    },
    {
     "name": "stdout",
     "output_type": "stream",
     "text": [
      "r_3_198.jpg\n",
      "r_3_199.jpg\n",
      "r_3_2.jpg\n"
     ]
    },
    {
     "name": "stderr",
     "output_type": "stream",
     "text": [
      " 35%|███▍      | 115/329 [00:11<00:16, 13.16it/s]"
     ]
    },
    {
     "name": "stdout",
     "output_type": "stream",
     "text": [
      "r_3_20.jpg\n",
      "r_3_200.jpg\n",
      "r_3_201.jpg\n"
     ]
    },
    {
     "name": "stderr",
     "output_type": "stream",
     "text": [
      " 36%|███▌      | 119/329 [00:12<00:16, 12.57it/s]"
     ]
    },
    {
     "name": "stdout",
     "output_type": "stream",
     "text": [
      "r_3_202.jpg\n",
      "r_3_203.jpg\n",
      "r_3_204.jpg\n",
      "r_3_205.jpg\n"
     ]
    },
    {
     "name": "stderr",
     "output_type": "stream",
     "text": [
      "\r",
      " 37%|███▋      | 121/329 [00:12<00:17, 12.17it/s]"
     ]
    },
    {
     "name": "stdout",
     "output_type": "stream",
     "text": [
      "r_3_206.jpg\n",
      "r_3_207.jpg\n",
      "r_3_208.jpg\n"
     ]
    },
    {
     "name": "stderr",
     "output_type": "stream",
     "text": [
      " 38%|███▊      | 125/329 [00:12<00:17, 11.53it/s]"
     ]
    },
    {
     "name": "stdout",
     "output_type": "stream",
     "text": [
      "r_3_209.jpg\n",
      "r_3_21.jpg\n",
      "r_3_210.jpg\n",
      "r_3_211.jpg\n"
     ]
    },
    {
     "name": "stderr",
     "output_type": "stream",
     "text": [
      " 39%|███▉      | 129/329 [00:12<00:15, 12.62it/s]"
     ]
    },
    {
     "name": "stdout",
     "output_type": "stream",
     "text": [
      "r_3_212.jpg\n",
      "r_3_213.jpg\n",
      "r_3_214.jpg\n"
     ]
    },
    {
     "name": "stderr",
     "output_type": "stream",
     "text": [
      " 40%|████      | 133/329 [00:13<00:14, 13.59it/s]"
     ]
    },
    {
     "name": "stdout",
     "output_type": "stream",
     "text": [
      "r_3_215.jpg\n",
      "r_3_216.jpg\n",
      "r_3_217.jpg\n",
      "r_3_218.jpg\n"
     ]
    },
    {
     "name": "stderr",
     "output_type": "stream",
     "text": [
      " 42%|████▏     | 137/329 [00:13<00:15, 12.48it/s]"
     ]
    },
    {
     "name": "stdout",
     "output_type": "stream",
     "text": [
      "r_3_219.jpg\n",
      "r_3_22.jpg\n",
      "r_3_220.jpg\n",
      "r_3_221.jpg\n"
     ]
    },
    {
     "name": "stderr",
     "output_type": "stream",
     "text": [
      "\r",
      " 42%|████▏     | 139/329 [00:13<00:15, 11.95it/s]"
     ]
    },
    {
     "name": "stdout",
     "output_type": "stream",
     "text": [
      "r_3_222.jpg\n",
      "r_3_223.jpg\n",
      "r_3_224.jpg\n"
     ]
    },
    {
     "name": "stderr",
     "output_type": "stream",
     "text": [
      " 43%|████▎     | 143/329 [00:14<00:15, 12.21it/s]"
     ]
    },
    {
     "name": "stdout",
     "output_type": "stream",
     "text": [
      "r_3_225.jpg\n",
      "r_3_226.jpg\n",
      "r_3_227.jpg\n",
      "r_3_228.jpg\n"
     ]
    },
    {
     "name": "stderr",
     "output_type": "stream",
     "text": [
      " 45%|████▍     | 147/329 [00:14<00:14, 12.82it/s]"
     ]
    },
    {
     "name": "stdout",
     "output_type": "stream",
     "text": [
      "r_3_229.jpg\n",
      "r_3_23.jpg\n",
      "r_3_230.jpg\n"
     ]
    },
    {
     "name": "stderr",
     "output_type": "stream",
     "text": [
      " 46%|████▌     | 151/329 [00:14<00:13, 12.76it/s]"
     ]
    },
    {
     "name": "stdout",
     "output_type": "stream",
     "text": [
      "r_3_231.jpg\n",
      "r_3_232.jpg\n",
      "r_3_233.jpg\n",
      "r_3_234.jpg\n"
     ]
    },
    {
     "name": "stderr",
     "output_type": "stream",
     "text": [
      "\r",
      " 47%|████▋     | 153/329 [00:14<00:14, 12.25it/s]"
     ]
    },
    {
     "name": "stdout",
     "output_type": "stream",
     "text": [
      "r_3_235.jpg\n",
      "r_3_236.jpg\n",
      "r_3_237.jpg\n"
     ]
    },
    {
     "name": "stderr",
     "output_type": "stream",
     "text": [
      " 48%|████▊     | 157/329 [00:15<00:14, 11.53it/s]"
     ]
    },
    {
     "name": "stdout",
     "output_type": "stream",
     "text": [
      "r_3_238.jpg\n",
      "r_3_239.jpg\n",
      "r_3_24.jpg\n",
      "r_3_240.jpg\n"
     ]
    },
    {
     "name": "stderr",
     "output_type": "stream",
     "text": [
      "\r",
      " 48%|████▊     | 159/329 [00:15<00:14, 11.48it/s]"
     ]
    },
    {
     "name": "stdout",
     "output_type": "stream",
     "text": [
      "r_3_241.jpg\n",
      "r_3_242.jpg\n"
     ]
    },
    {
     "name": "stderr",
     "output_type": "stream",
     "text": [
      " 50%|████▉     | 163/329 [00:15<00:14, 11.19it/s]"
     ]
    },
    {
     "name": "stdout",
     "output_type": "stream",
     "text": [
      "r_3_243.jpg\n",
      "r_3_244.jpg\n",
      "r_3_245.jpg\n",
      "r_3_246.jpg\n"
     ]
    },
    {
     "name": "stderr",
     "output_type": "stream",
     "text": [
      "\r",
      " 50%|█████     | 165/329 [00:16<00:15, 10.53it/s]"
     ]
    },
    {
     "name": "stdout",
     "output_type": "stream",
     "text": [
      "r_3_247.jpg\n",
      "r_3_248.jpg\n"
     ]
    },
    {
     "name": "stderr",
     "output_type": "stream",
     "text": [
      " 51%|█████▏    | 169/329 [00:16<00:14, 11.01it/s]"
     ]
    },
    {
     "name": "stdout",
     "output_type": "stream",
     "text": [
      "r_3_249.jpg\n",
      "r_3_25.jpg\n",
      "r_3_250.jpg\n",
      "r_3_251.jpg\n"
     ]
    },
    {
     "name": "stderr",
     "output_type": "stream",
     "text": [
      " 53%|█████▎    | 173/329 [00:16<00:14, 10.97it/s]"
     ]
    },
    {
     "name": "stdout",
     "output_type": "stream",
     "text": [
      "r_3_252.jpg\n",
      "r_3_253.jpg\n",
      "r_3_254.jpg\n",
      "r_3_255.jpg\n"
     ]
    },
    {
     "name": "stderr",
     "output_type": "stream",
     "text": [
      " 54%|█████▍    | 177/329 [00:17<00:14, 10.54it/s]"
     ]
    },
    {
     "name": "stdout",
     "output_type": "stream",
     "text": [
      "r_3_256.jpg\n",
      "r_3_257.jpg\n",
      "r_3_258.jpg\n"
     ]
    },
    {
     "name": "stderr",
     "output_type": "stream",
     "text": [
      "\r",
      " 54%|█████▍    | 179/329 [00:17<00:14, 10.37it/s]"
     ]
    },
    {
     "name": "stdout",
     "output_type": "stream",
     "text": [
      "r_3_259.jpg\n",
      "r_3_26.jpg\n"
     ]
    },
    {
     "name": "stderr",
     "output_type": "stream",
     "text": [
      "\r",
      " 55%|█████▌    | 181/329 [00:17<00:13, 10.65it/s]"
     ]
    },
    {
     "name": "stdout",
     "output_type": "stream",
     "text": [
      "r_3_260.jpg\n",
      "r_3_261.jpg\n",
      "r_3_262.jpg\n"
     ]
    },
    {
     "name": "stderr",
     "output_type": "stream",
     "text": [
      " 56%|█████▌    | 185/329 [00:17<00:13, 10.92it/s]"
     ]
    },
    {
     "name": "stdout",
     "output_type": "stream",
     "text": [
      "r_3_263.jpg\n",
      "r_3_264.jpg\n",
      "r_3_265.jpg\n"
     ]
    },
    {
     "name": "stderr",
     "output_type": "stream",
     "text": [
      "\r",
      " 57%|█████▋    | 187/329 [00:18<00:12, 11.04it/s]"
     ]
    },
    {
     "name": "stdout",
     "output_type": "stream",
     "text": [
      "r_3_266.jpg\n",
      "r_3_267.jpg\n",
      "r_3_268.jpg\n"
     ]
    },
    {
     "name": "stderr",
     "output_type": "stream",
     "text": [
      " 58%|█████▊    | 191/329 [00:18<00:12, 10.67it/s]"
     ]
    },
    {
     "name": "stdout",
     "output_type": "stream",
     "text": [
      "r_3_269.jpg\n",
      "r_3_27.jpg\n",
      "r_3_270.jpg\n"
     ]
    },
    {
     "name": "stderr",
     "output_type": "stream",
     "text": [
      "\r",
      " 59%|█████▊    | 193/329 [00:18<00:12, 10.46it/s]"
     ]
    },
    {
     "name": "stdout",
     "output_type": "stream",
     "text": [
      "r_3_271.jpg\n",
      "r_3_272.jpg\n"
     ]
    },
    {
     "name": "stderr",
     "output_type": "stream",
     "text": [
      "\r",
      " 59%|█████▉    | 195/329 [00:18<00:12, 10.72it/s]"
     ]
    },
    {
     "name": "stdout",
     "output_type": "stream",
     "text": [
      "r_3_273.jpg\n",
      "r_3_274.jpg\n",
      "r_3_275.jpg\n"
     ]
    },
    {
     "name": "stderr",
     "output_type": "stream",
     "text": [
      " 60%|██████    | 199/329 [00:19<00:11, 11.04it/s]"
     ]
    },
    {
     "name": "stdout",
     "output_type": "stream",
     "text": [
      "r_3_276.jpg\n",
      "r_3_277.jpg\n",
      "r_3_278.jpg\n"
     ]
    },
    {
     "name": "stderr",
     "output_type": "stream",
     "text": [
      "\r",
      " 61%|██████    | 201/329 [00:19<00:11, 10.85it/s]"
     ]
    },
    {
     "name": "stdout",
     "output_type": "stream",
     "text": [
      "r_3_279.jpg\n",
      "r_3_28.jpg\n"
     ]
    },
    {
     "name": "stderr",
     "output_type": "stream",
     "text": [
      "\r",
      " 62%|██████▏   | 203/329 [00:19<00:11, 10.72it/s]"
     ]
    },
    {
     "name": "stdout",
     "output_type": "stream",
     "text": [
      "r_3_280.jpg\n",
      "r_3_281.jpg\n"
     ]
    },
    {
     "name": "stderr",
     "output_type": "stream",
     "text": [
      "\r",
      " 62%|██████▏   | 205/329 [00:19<00:11, 10.44it/s]"
     ]
    },
    {
     "name": "stdout",
     "output_type": "stream",
     "text": [
      "r_3_282.jpg\n",
      "r_3_283.jpg\n",
      "r_3_284.jpg\n"
     ]
    },
    {
     "name": "stderr",
     "output_type": "stream",
     "text": [
      " 63%|██████▎   | 208/329 [00:20<00:13,  9.26it/s]"
     ]
    },
    {
     "name": "stdout",
     "output_type": "stream",
     "text": [
      "r_3_285.jpg\n",
      "r_3_286.jpg\n",
      "r_3_287.jpg\n"
     ]
    },
    {
     "name": "stderr",
     "output_type": "stream",
     "text": [
      "\r",
      " 64%|██████▍   | 210/329 [00:20<00:12,  9.37it/s]"
     ]
    },
    {
     "name": "stdout",
     "output_type": "stream",
     "text": [
      "r_3_288.jpg\n",
      "r_3_289.jpg\n"
     ]
    },
    {
     "name": "stderr",
     "output_type": "stream",
     "text": [
      " 65%|██████▌   | 214/329 [00:20<00:12,  9.52it/s]"
     ]
    },
    {
     "name": "stdout",
     "output_type": "stream",
     "text": [
      "r_3_29.jpg\n",
      "r_3_290.jpg\n",
      "r_3_291.jpg\n"
     ]
    },
    {
     "name": "stderr",
     "output_type": "stream",
     "text": [
      "\r",
      " 66%|██████▌   | 216/329 [00:20<00:11,  9.89it/s]"
     ]
    },
    {
     "name": "stdout",
     "output_type": "stream",
     "text": [
      "r_3_292.jpg\n",
      "r_3_293.jpg\n",
      "r_3_294.jpg\n"
     ]
    },
    {
     "name": "stderr",
     "output_type": "stream",
     "text": [
      " 67%|██████▋   | 219/329 [00:21<00:11,  9.31it/s]"
     ]
    },
    {
     "name": "stdout",
     "output_type": "stream",
     "text": [
      "r_3_295.jpg\n",
      "r_3_296.jpg\n",
      "r_3_297.jpg\n"
     ]
    },
    {
     "name": "stderr",
     "output_type": "stream",
     "text": [
      "\r",
      " 67%|██████▋   | 221/329 [00:21<00:11,  9.40it/s]"
     ]
    },
    {
     "name": "stdout",
     "output_type": "stream",
     "text": [
      "r_3_298.jpg\n",
      "r_3_299.jpg\n"
     ]
    },
    {
     "name": "stderr",
     "output_type": "stream",
     "text": [
      " 68%|██████▊   | 225/329 [00:21<00:10,  9.88it/s]"
     ]
    },
    {
     "name": "stdout",
     "output_type": "stream",
     "text": [
      "r_3_3.jpg\n",
      "r_3_30.jpg\n",
      "r_3_300.jpg\n",
      "r_3_301.jpg\n"
     ]
    },
    {
     "name": "stderr",
     "output_type": "stream",
     "text": [
      " 69%|██████▉   | 228/329 [00:23<00:21,  4.64it/s]"
     ]
    },
    {
     "name": "stdout",
     "output_type": "stream",
     "text": [
      "r_3_302.jpg\n",
      "r_3_303.jpg\n"
     ]
    },
    {
     "name": "stderr",
     "output_type": "stream",
     "text": [
      "\r",
      " 70%|██████▉   | 230/329 [00:23<00:18,  5.45it/s]"
     ]
    },
    {
     "name": "stdout",
     "output_type": "stream",
     "text": [
      "r_3_304.jpg\n",
      "r_3_305.jpg\n",
      "r_3_306.jpg\n"
     ]
    },
    {
     "name": "stderr",
     "output_type": "stream",
     "text": [
      " 71%|███████   | 234/329 [00:23<00:12,  7.31it/s]"
     ]
    },
    {
     "name": "stdout",
     "output_type": "stream",
     "text": [
      "r_3_307.jpg\n",
      "r_3_308.jpg\n",
      "r_3_309.jpg\n"
     ]
    },
    {
     "name": "stderr",
     "output_type": "stream",
     "text": [
      "\r",
      " 72%|███████▏  | 236/329 [00:23<00:11,  8.19it/s]"
     ]
    },
    {
     "name": "stdout",
     "output_type": "stream",
     "text": [
      "r_3_31.jpg\n",
      "r_3_310.jpg\n",
      "r_3_311.jpg\n"
     ]
    },
    {
     "name": "stderr",
     "output_type": "stream",
     "text": [
      " 73%|███████▎  | 240/329 [00:24<00:09,  9.59it/s]"
     ]
    },
    {
     "name": "stdout",
     "output_type": "stream",
     "text": [
      "r_3_312.jpg\n",
      "r_3_313.jpg\n",
      "r_3_314.jpg\n"
     ]
    },
    {
     "name": "stderr",
     "output_type": "stream",
     "text": [
      "\r",
      " 74%|███████▎  | 242/329 [00:24<00:08,  9.83it/s]"
     ]
    },
    {
     "name": "stdout",
     "output_type": "stream",
     "text": [
      "r_3_315.jpg\n",
      "r_3_316.jpg\n"
     ]
    },
    {
     "name": "stderr",
     "output_type": "stream",
     "text": [
      "\r",
      " 74%|███████▍  | 244/329 [00:24<00:08, 10.00it/s]"
     ]
    },
    {
     "name": "stdout",
     "output_type": "stream",
     "text": [
      "r_3_317.jpg\n",
      "r_3_318.jpg\n"
     ]
    },
    {
     "name": "stderr",
     "output_type": "stream",
     "text": [
      "\r",
      " 75%|███████▍  | 246/329 [00:24<00:08, 10.12it/s]"
     ]
    },
    {
     "name": "stdout",
     "output_type": "stream",
     "text": [
      "r_3_319.jpg\n",
      "r_3_32.jpg\n"
     ]
    },
    {
     "name": "stderr",
     "output_type": "stream",
     "text": [
      "\r",
      " 75%|███████▌  | 248/329 [00:25<00:07, 10.41it/s]"
     ]
    },
    {
     "name": "stdout",
     "output_type": "stream",
     "text": [
      "r_3_320.jpg\n",
      "r_3_321.jpg\n",
      "r_3_322.jpg\n"
     ]
    },
    {
     "name": "stderr",
     "output_type": "stream",
     "text": [
      " 77%|███████▋  | 252/329 [00:25<00:07, 10.48it/s]"
     ]
    },
    {
     "name": "stdout",
     "output_type": "stream",
     "text": [
      "r_3_323.jpg\n",
      "r_3_324.jpg\n",
      "r_3_325.jpg\n"
     ]
    },
    {
     "name": "stderr",
     "output_type": "stream",
     "text": [
      "\r",
      " 77%|███████▋  | 254/329 [00:25<00:07, 10.59it/s]"
     ]
    },
    {
     "name": "stdout",
     "output_type": "stream",
     "text": [
      "r_3_326.jpg\n",
      "r_3_327.jpg\n",
      "r_3_328.jpg\n"
     ]
    },
    {
     "name": "stderr",
     "output_type": "stream",
     "text": [
      "\r",
      " 78%|███████▊  | 256/329 [00:25<00:06, 10.50it/s]"
     ]
    },
    {
     "name": "stdout",
     "output_type": "stream",
     "text": [
      "r_3_33.jpg\n",
      "r_3_34.jpg\n"
     ]
    },
    {
     "name": "stderr",
     "output_type": "stream",
     "text": [
      "\r",
      " 78%|███████▊  | 258/329 [00:26<00:07, 10.09it/s]"
     ]
    },
    {
     "name": "stdout",
     "output_type": "stream",
     "text": [
      "r_3_35.jpg\n",
      "r_3_36.jpg\n"
     ]
    },
    {
     "name": "stderr",
     "output_type": "stream",
     "text": [
      " 80%|███████▉  | 262/329 [00:26<00:06, 10.08it/s]"
     ]
    },
    {
     "name": "stdout",
     "output_type": "stream",
     "text": [
      "r_3_37.jpg\n",
      "r_3_38.jpg\n",
      "r_3_39.jpg\n"
     ]
    },
    {
     "name": "stderr",
     "output_type": "stream",
     "text": [
      "\r",
      " 80%|████████  | 264/329 [00:26<00:06, 10.31it/s]"
     ]
    },
    {
     "name": "stdout",
     "output_type": "stream",
     "text": [
      "r_3_4.jpg\n",
      "r_3_40.jpg\n",
      "r_3_41.jpg\n"
     ]
    },
    {
     "name": "stderr",
     "output_type": "stream",
     "text": [
      "\r",
      " 81%|████████  | 266/329 [00:26<00:06, 10.34it/s]"
     ]
    },
    {
     "name": "stdout",
     "output_type": "stream",
     "text": [
      "r_3_42.jpg\n",
      "r_3_43.jpg\n"
     ]
    },
    {
     "name": "stderr",
     "output_type": "stream",
     "text": [
      " 82%|████████▏ | 270/329 [00:27<00:05,  9.91it/s]"
     ]
    },
    {
     "name": "stdout",
     "output_type": "stream",
     "text": [
      "r_3_44.jpg\n",
      "r_3_45.jpg\n",
      "r_3_46.jpg\n"
     ]
    },
    {
     "name": "stderr",
     "output_type": "stream",
     "text": [
      "\r",
      " 83%|████████▎ | 272/329 [00:27<00:05, 10.05it/s]"
     ]
    },
    {
     "name": "stdout",
     "output_type": "stream",
     "text": [
      "r_3_47.jpg\n",
      "r_3_48.jpg\n"
     ]
    },
    {
     "name": "stderr",
     "output_type": "stream",
     "text": [
      "\r",
      " 83%|████████▎ | 274/329 [00:27<00:05, 10.04it/s]"
     ]
    },
    {
     "name": "stdout",
     "output_type": "stream",
     "text": [
      "r_3_49.jpg\n",
      "r_3_5.jpg\n",
      "r_3_50.jpg\n"
     ]
    },
    {
     "name": "stderr",
     "output_type": "stream",
     "text": [
      " 84%|████████▍ | 278/329 [00:28<00:05, 10.10it/s]"
     ]
    },
    {
     "name": "stdout",
     "output_type": "stream",
     "text": [
      "r_3_51.jpg\n",
      "r_3_52.jpg\n",
      "r_3_53.jpg\n"
     ]
    },
    {
     "name": "stderr",
     "output_type": "stream",
     "text": [
      "\r",
      " 85%|████████▌ | 280/329 [00:28<00:04, 10.32it/s]"
     ]
    },
    {
     "name": "stdout",
     "output_type": "stream",
     "text": [
      "r_3_54.jpg\n",
      "r_3_55.jpg\n",
      "r_3_56.jpg\n"
     ]
    },
    {
     "name": "stderr",
     "output_type": "stream",
     "text": [
      " 86%|████████▋ | 284/329 [00:28<00:04, 10.64it/s]"
     ]
    },
    {
     "name": "stdout",
     "output_type": "stream",
     "text": [
      "r_3_57.jpg\n",
      "r_3_58.jpg\n",
      "r_3_59.jpg\n",
      "r_3_6.jpg\n"
     ]
    },
    {
     "name": "stderr",
     "output_type": "stream",
     "text": [
      " 88%|████████▊ | 288/329 [00:28<00:03, 10.80it/s]"
     ]
    },
    {
     "name": "stdout",
     "output_type": "stream",
     "text": [
      "r_3_60.jpg\n",
      "r_3_61.jpg\n",
      "r_3_62.jpg\n"
     ]
    },
    {
     "name": "stderr",
     "output_type": "stream",
     "text": [
      "\r",
      " 88%|████████▊ | 290/329 [00:29<00:03, 10.54it/s]"
     ]
    },
    {
     "name": "stdout",
     "output_type": "stream",
     "text": [
      "r_3_63.jpg\n",
      "r_3_64.jpg\n",
      "r_3_65.jpg\n"
     ]
    },
    {
     "name": "stderr",
     "output_type": "stream",
     "text": [
      " 89%|████████▉ | 294/329 [00:29<00:03, 10.51it/s]"
     ]
    },
    {
     "name": "stdout",
     "output_type": "stream",
     "text": [
      "r_3_66.jpg\n",
      "r_3_67.jpg\n",
      "r_3_68.jpg\n"
     ]
    },
    {
     "name": "stderr",
     "output_type": "stream",
     "text": [
      "\r",
      " 90%|████████▉ | 296/329 [00:29<00:03, 10.36it/s]"
     ]
    },
    {
     "name": "stdout",
     "output_type": "stream",
     "text": [
      "r_3_69.jpg\n",
      "r_3_7.jpg\n",
      "r_3_70.jpg\n"
     ]
    },
    {
     "name": "stderr",
     "output_type": "stream",
     "text": [
      " 91%|█████████ | 300/329 [00:30<00:02, 10.39it/s]"
     ]
    },
    {
     "name": "stdout",
     "output_type": "stream",
     "text": [
      "r_3_71.jpg\n",
      "r_3_72.jpg\n",
      "r_3_73.jpg\n"
     ]
    },
    {
     "name": "stderr",
     "output_type": "stream",
     "text": [
      "\r",
      " 92%|█████████▏| 302/329 [00:30<00:02, 10.80it/s]"
     ]
    },
    {
     "name": "stdout",
     "output_type": "stream",
     "text": [
      "r_3_74.jpg\n",
      "r_3_75.jpg\n",
      "r_3_76.jpg\n"
     ]
    },
    {
     "name": "stderr",
     "output_type": "stream",
     "text": [
      " 93%|█████████▎| 306/329 [00:30<00:02, 10.55it/s]"
     ]
    },
    {
     "name": "stdout",
     "output_type": "stream",
     "text": [
      "r_3_77.jpg\n",
      "r_3_78.jpg\n",
      "r_3_79.jpg\n"
     ]
    },
    {
     "name": "stderr",
     "output_type": "stream",
     "text": [
      "\r",
      " 94%|█████████▎| 308/329 [00:30<00:01, 10.78it/s]"
     ]
    },
    {
     "name": "stdout",
     "output_type": "stream",
     "text": [
      "r_3_8.jpg\n",
      "r_3_80.jpg\n",
      "r_3_81.jpg\n"
     ]
    },
    {
     "name": "stderr",
     "output_type": "stream",
     "text": [
      " 95%|█████████▍| 312/329 [00:31<00:01, 10.64it/s]"
     ]
    },
    {
     "name": "stdout",
     "output_type": "stream",
     "text": [
      "r_3_82.jpg\n",
      "r_3_83.jpg\n",
      "r_3_84.jpg\n"
     ]
    },
    {
     "name": "stderr",
     "output_type": "stream",
     "text": [
      "\r",
      " 95%|█████████▌| 314/329 [00:31<00:01,  8.43it/s]"
     ]
    },
    {
     "name": "stdout",
     "output_type": "stream",
     "text": [
      "r_3_85.jpg\n",
      "r_3_86.jpg\n"
     ]
    },
    {
     "name": "stderr",
     "output_type": "stream",
     "text": [
      "\r",
      " 96%|█████████▌| 315/329 [00:31<00:02,  5.82it/s]"
     ]
    },
    {
     "name": "stdout",
     "output_type": "stream",
     "text": [
      "r_3_87.jpg\n"
     ]
    },
    {
     "name": "stderr",
     "output_type": "stream",
     "text": [
      "\r",
      " 96%|█████████▌| 316/329 [00:32<00:02,  5.34it/s]"
     ]
    },
    {
     "name": "stdout",
     "output_type": "stream",
     "text": [
      "r_3_88.jpg\n"
     ]
    },
    {
     "name": "stderr",
     "output_type": "stream",
     "text": [
      "\r",
      " 96%|█████████▋| 317/329 [00:32<00:02,  5.04it/s]"
     ]
    },
    {
     "name": "stdout",
     "output_type": "stream",
     "text": [
      "r_3_89.jpg\n"
     ]
    },
    {
     "name": "stderr",
     "output_type": "stream",
     "text": [
      "\r",
      " 97%|█████████▋| 318/329 [00:32<00:02,  3.97it/s]"
     ]
    },
    {
     "name": "stdout",
     "output_type": "stream",
     "text": [
      "r_3_9.jpg\n"
     ]
    },
    {
     "name": "stderr",
     "output_type": "stream",
     "text": [
      "\r",
      " 97%|█████████▋| 319/329 [00:34<00:05,  1.72it/s]"
     ]
    },
    {
     "name": "stdout",
     "output_type": "stream",
     "text": [
      "r_3_90.jpg\n"
     ]
    },
    {
     "name": "stderr",
     "output_type": "stream",
     "text": [
      " 98%|█████████▊| 321/329 [00:40<00:13,  1.69s/it]"
     ]
    },
    {
     "name": "stdout",
     "output_type": "stream",
     "text": [
      "r_3_91.jpg\n",
      "r_3_92.jpg\n"
     ]
    },
    {
     "name": "stderr",
     "output_type": "stream",
     "text": [
      "\r",
      " 98%|█████████▊| 322/329 [00:40<00:08,  1.23s/it]"
     ]
    },
    {
     "name": "stdout",
     "output_type": "stream",
     "text": [
      "r_3_93.jpg\n"
     ]
    },
    {
     "name": "stderr",
     "output_type": "stream",
     "text": [
      "\r",
      " 98%|█████████▊| 323/329 [00:44<00:12,  2.09s/it]"
     ]
    },
    {
     "name": "stdout",
     "output_type": "stream",
     "text": [
      "r_3_94.jpg\n"
     ]
    },
    {
     "name": "stderr",
     "output_type": "stream",
     "text": [
      "\r",
      " 98%|█████████▊| 324/329 [00:55<00:22,  4.56s/it]"
     ]
    },
    {
     "name": "stdout",
     "output_type": "stream",
     "text": [
      "r_3_95.jpg\n"
     ]
    },
    {
     "name": "stderr",
     "output_type": "stream",
     "text": [
      "\r",
      " 99%|█████████▉| 325/329 [01:03<00:23,  5.77s/it]"
     ]
    },
    {
     "name": "stdout",
     "output_type": "stream",
     "text": [
      "r_3_96.jpg\n"
     ]
    },
    {
     "name": "stderr",
     "output_type": "stream",
     "text": [
      " 99%|█████████▉| 327/329 [01:07<00:07,  3.60s/it]"
     ]
    },
    {
     "name": "stdout",
     "output_type": "stream",
     "text": [
      "r_3_97.jpg\n",
      "r_3_98.jpg\n"
     ]
    },
    {
     "name": "stderr",
     "output_type": "stream",
     "text": [
      "100%|██████████| 329/329 [01:07<00:00,  4.86it/s]"
     ]
    },
    {
     "name": "stdout",
     "output_type": "stream",
     "text": [
      "r_3_99.jpg\n"
     ]
    },
    {
     "name": "stderr",
     "output_type": "stream",
     "text": [
      "\n"
     ]
    }
   ],
   "source": [
    "filenames = sorted(os.listdir(DIR))\n",
    "#filenames=[\"r_2_99.jpg\"]\n",
    "cv2.namedWindow(\"image\")\n",
    "cv2.setMouseCallback(\"image\", click_and_crop)\n",
    "\n",
    "#variables\n",
    "rect = np.array([])\n",
    "tip_x, tip_y = (0,0)\n",
    "\n",
    "for i in tqdm(range(len(filenames))):\n",
    "    filename=filenames[i]\n",
    "    print(filename)\n",
    "    path=DIR+filename\n",
    "    image = cv2.imread(path)\n",
    "    #image = imutils.rotate(image, 1.5)\n",
    "    if NEW_RESOLUTION:\n",
    "        image = cv2.resize(image, NEW_RESOLUTION)\n",
    "    clone = image.copy()\n",
    "    write_next_img(filename, TXT)\n",
    "    cv2.imshow(\"image\", clone)\n",
    "    cv2.waitKey(0)\n",
    "    rect = np.array([])\n",
    "cv2.destroyAllWindows()"
   ]
  },
  {
   "cell_type": "markdown",
   "metadata": {},
   "source": [
    "# Display labelled"
   ]
  },
  {
   "cell_type": "code",
   "execution_count": 17,
   "metadata": {},
   "outputs": [
    {
     "name": "stdout",
     "output_type": "stream",
     "text": [
      "[((558, 562), (808, 605)), ((804, 510), (1104, 554)), ((808, 557), (1113, 603))]\n",
      "[((559, 562), (811, 609)), ((806, 510), (1106, 553)), ((804, 560), (1109, 603))]\n",
      "[((783, 558), (1061, 613))]\n",
      "[((186, 367), (1276, 538)), ((200, 572), (1276, 752))]\n",
      "[((226, 377), (1275, 548)), ((233, 571), (1278, 739))]\n",
      "[((244, 373), (1279, 537)), ((253, 563), (1276, 748))]\n",
      "[((0, 0), (0, 0))]\n",
      "[((0, 0), (0, 0))]\n",
      "[((0, 0), (0, 0))]\n",
      "[((0, 0), (0, 0))]\n",
      "[((0, 578), (589, 695))]\n",
      "[((24, 578), (588, 682))]\n",
      "[((35, 577), (566, 664)), ((558, 449), (1213, 544)), ((563, 553), (1219, 670))]\n",
      "[((763, 560), (1037, 607))]\n",
      "[((7, 569), (516, 659)), ((516, 455), (1088, 541)), ((516, 556), (1094, 651))]\n",
      "[((4, 575), (474, 653)), ((468, 467), (992, 544)), ((475, 555), (1000, 640))]\n",
      "[((417, 476), (892, 547)), ((421, 559), (905, 636))]\n",
      "[((351, 481), (801, 552)), ((364, 561), (812, 634))]\n",
      "[((292, 487), (721, 557)), ((288, 569), (728, 635)), ((797, 544), (1229, 621))]\n",
      "[((166, 494), (606, 563)), ((175, 576), (607, 644)), ((664, 553), (1052, 626))]\n",
      "[((66, 496), (510, 566)), ((71, 582), (516, 646)), ((576, 557), (943, 628))]\n",
      "[((459, 558), (814, 624))]\n",
      "[((436, 557), (797, 621))]\n",
      "[((441, 556), (802, 624))]\n",
      "[((766, 556), (1036, 609))]\n",
      "[((439, 561), (802, 621))]\n",
      "[((409, 565), (782, 631))]\n",
      "[((365, 572), (742, 635))]\n",
      "[((295, 566), (695, 638))]\n",
      "[((208, 572), (653, 643))]\n",
      "[((146, 578), (628, 656))]\n",
      "[((86, 567), (605, 653))]\n",
      "[((76, 577), (641, 660))]\n",
      "[((88, 573), (692, 664))]\n",
      "[((104, 572), (757, 676))]\n",
      "[((769, 557), (1036, 609))]\n",
      "[((81, 575), (798, 683))]\n",
      "[((46, 579), (849, 700))]\n",
      "[((39, 580), (933, 723))]\n",
      "[((42, 575), (1010, 730))]\n",
      "[((28, 567), (1056, 730))]\n",
      "[((31, 565), (1074, 734))]\n",
      "[((27, 563), (1067, 739))]\n",
      "[((33, 560), (1071, 737))]\n",
      "[((29, 565), (1061, 731))]\n",
      "[((29, 568), (1046, 738))]\n",
      "[((798, 554), (1082, 606))]\n",
      "[((52, 582), (1001, 720))]\n",
      "[((106, 572), (984, 712))]\n",
      "[((154, 563), (959, 694))]\n",
      "[((141, 567), (926, 691))]\n",
      "[((132, 565), (890, 684))]\n",
      "[((178, 565), (892, 682))]\n",
      "[((257, 561), (893, 660))]\n",
      "[((321, 554), (893, 658))]\n",
      "[((390, 557), (906, 649))]\n",
      "[((445, 547), (923, 637))]\n",
      "[((827, 555), (1109, 608))]\n",
      "[((477, 543), (937, 634))]\n",
      "[((542, 548), (961, 625))]\n",
      "[((603, 544), (1008, 619))]\n",
      "[((643, 545), (1030, 616)), ((183, 489), (581, 555)), ((190, 563), (583, 633))]\n",
      "[((683, 541), (1044, 607)), ((254, 498), (628, 555)), ((254, 566), (635, 629))]\n",
      "[((710, 545), (1062, 605)), ((303, 502), (653, 553)), ((311, 558), (661, 621))]\n",
      "[((87, 565), (406, 626)), ((403, 508), (716, 558)), ((400, 571), (726, 618)), ((771, 546), (1104, 602))]\n",
      "[((800, 548), (1122, 607)), ((452, 519), (744, 561)), ((449, 564), (756, 618)), ((147, 574), (448, 623))]\n",
      "[((196, 569), (483, 617)), ((481, 514), (777, 558)), ((482, 561), (774, 611)), ((823, 545), (1137, 598))]\n",
      "[((841, 542), (1163, 598)), ((520, 514), (800, 553)), ((516, 560), (807, 608)), ((214, 569), (523, 612))]\n",
      "[((856, 560), (1139, 608))]\n",
      "[((270, 561), (549, 615)), ((545, 512), (828, 558)), ((543, 557), (829, 607)), ((862, 544), (1189, 600))]\n",
      "[((311, 564), (573, 609)), ((572, 515), (846, 558)), ((574, 560), (853, 605)), ((892, 546), (1205, 597))]\n",
      "[((337, 564), (595, 612)), ((598, 517), (863, 557)), ((594, 559), (875, 607)), ((914, 542), (1231, 597))]\n",
      "[((339, 564), (595, 609)), ((594, 510), (864, 557)), ((589, 556), (866, 605)), ((912, 540), (1219, 599))]\n",
      "[((326, 562), (592, 612)), ((596, 514), (866, 556)), ((588, 559), (868, 611)), ((906, 542), (1212, 599))]\n",
      "[((332, 563), (591, 613)), ((593, 511), (862, 557)), ((593, 560), (869, 605)), ((912, 544), (1226, 595))]\n",
      "[((334, 564), (592, 613)), ((597, 515), (864, 556)), ((594, 559), (872, 609)), ((918, 545), (1216, 595))]\n",
      "[((336, 565), (592, 613)), ((595, 515), (867, 561)), ((593, 561), (879, 608)), ((920, 538), (1229, 603))]\n",
      "[((300, 572), (574, 623)), ((573, 519), (854, 569)), ((575, 568), (856, 614)), ((903, 550), (1228, 610))]\n",
      "[((315, 573), (594, 626)), ((591, 520), (883, 565)), ((590, 573), (892, 621)), ((941, 553), (1277, 610))]\n",
      "[((874, 557), (1181, 609))]\n",
      "[((305, 578), (585, 627)), ((585, 517), (886, 565)), ((587, 569), (895, 624)), ((943, 553), (1279, 612))]\n",
      "[((268, 575), (556, 630)), ((560, 519), (872, 574)), ((557, 571), (879, 627)), ((923, 554), (1277, 614))]\n",
      "[((220, 580), (534, 634)), ((531, 522), (858, 573)), ((533, 575), (863, 627)), ((920, 551), (1279, 620))]\n",
      "[((187, 575), (517, 637)), ((515, 514), (852, 570)), ((513, 573), (859, 629)), ((920, 552), (1277, 618))]\n",
      "[((155, 581), (495, 640)), ((499, 511), (850, 566)), ((502, 576), (858, 638))]\n",
      "[((118, 582), (485, 641)), ((489, 503), (852, 569)), ((482, 568), (855, 636))]\n",
      "[((96, 586), (473, 646)), ((474, 504), (854, 566)), ((471, 567), (866, 634))]\n",
      "[((58, 583), (458, 649)), ((461, 496), (868, 565)), ((458, 574), (877, 642))]\n",
      "[((9, 583), (440, 660)), ((438, 492), (873, 562)), ((441, 568), (884, 648))]\n",
      "[((415, 482), (886, 560)), ((420, 566), (898, 644))]\n",
      "[((882, 554), (1202, 610))]\n",
      "[((392, 476), (902, 557)), ((397, 568), (911, 654))]\n",
      "[((382, 476), (910, 564)), ((386, 564), (924, 665))]\n",
      "[((351, 467), (936, 558)), ((360, 571), (947, 673))]\n",
      "[((333, 463), (951, 559)), ((342, 572), (967, 689))]\n",
      "[((315, 456), (976, 568)), ((315, 573), (981, 695))]\n",
      "[((277, 446), (991, 565)), ((280, 576), (1004, 713))]\n",
      "[((253, 438), (1015, 562)), ((259, 580), (1035, 712))]\n",
      "[((240, 436), (1019, 563)), ((251, 572), (1032, 717))]\n",
      "[((246, 435), (1011, 562)), ((250, 576), (1024, 718))]\n",
      "[((244, 438), (1013, 561)), ((255, 576), (1028, 712))]\n",
      "[((894, 552), (1213, 607))]\n",
      "[((247, 441), (1011, 558)), ((254, 577), (1022, 718))]\n",
      "[((253, 437), (1016, 555)), ((258, 579), (1027, 715))]\n",
      "[((248, 437), (1016, 559)), ((260, 575), (1037, 716))]\n",
      "[((252, 439), (1016, 555)), ((258, 575), (1027, 712))]\n",
      "[((267, 447), (1013, 564)), ((271, 582), (1027, 721))]\n",
      "[((278, 447), (999, 553)), ((285, 572), (1020, 702))]\n",
      "[((295, 446), (988, 561)), ((308, 576), (1002, 703))]\n",
      "[((337, 454), (981, 559)), ((346, 575), (993, 679))]\n",
      "[((370, 465), (976, 562)), ((378, 576), (986, 685))]\n",
      "[((405, 466), (975, 559)), ((410, 566), (985, 667))]\n",
      "[((560, 562), (811, 609)), ((810, 512), (1104, 556)), ((809, 561), (1109, 605))]\n",
      "[((899, 550), (1231, 607))]\n",
      "[((388, 462), (938, 560)), ((393, 568), (943, 665))]\n",
      "[((392, 470), (912, 557)), ((395, 565), (921, 658))]\n",
      "[((386, 472), (901, 554)), ((393, 566), (908, 654))]\n",
      "[((390, 471), (887, 545)), ((397, 557), (901, 646))]\n",
      "[((396, 470), (884, 547)), ((409, 555), (889, 635))]\n",
      "[((446, 478), (901, 550)), ((445, 550), (902, 636)), ((9, 570), (446, 649))]\n",
      "[((125, 571), (529, 647)), ((519, 486), (959, 557)), ((525, 558), (964, 639))]\n",
      "[((224, 563), (598, 633)), ((602, 475), (1028, 548))]\n",
      "[((310, 561), (669, 627)), ((667, 488), (1097, 548)), ((669, 557), (1098, 628))]\n",
      "[((419, 561), (760, 627)), ((756, 483), (1187, 545)), ((752, 551), (1195, 622))]\n",
      "[((897, 554), (1235, 614))]\n",
      "[((510, 564), (847, 627)), ((843, 485), (1278, 549)), ((844, 556), (1277, 619))]\n",
      "[((519, 559), (852, 623)), ((856, 482), (1279, 543)), ((857, 548), (1278, 615))]\n",
      "[((517, 556), (856, 625)), ((852, 483), (1279, 544)), ((858, 545), (1277, 617))]\n",
      "[((521, 565), (862, 627))]\n",
      "[((574, 563), (919, 628))]\n",
      "[((684, 561), (1060, 632))]\n",
      "[((736, 563), (1154, 633))]\n",
      "[((792, 558), (1220, 636))]\n",
      "[((0, 0), (0, 0))]\n",
      "[((0, 0), (0, 0))]\n",
      "[((0, 0), (0, 0))]\n",
      "[((0, 0), (0, 0))]\n",
      "[((0, 0), (0, 0))]\n",
      "[((0, 0), (0, 0))]\n",
      "[((0, 0), (0, 0))]\n",
      "[((0, 0), (0, 0))]\n",
      "[((0, 0), (0, 0))]\n",
      "[((0, 0), (0, 0))]\n",
      "[((0, 0), (0, 0))]\n",
      "[((0, 0), (0, 0))]\n",
      "[((0, 0), (0, 0))]\n",
      "[((881, 551), (1242, 617))]\n",
      "[((0, 0), (0, 0))]\n",
      "[((0, 0), (0, 0))]\n",
      "[((0, 0), (0, 0))]\n",
      "[((0, 0), (0, 0))]\n",
      "[((0, 0), (0, 0))]\n",
      "[((0, 0), (0, 0))]\n",
      "[((0, 0), (0, 0))]\n",
      "[((0, 0), (0, 0))]\n",
      "[((0, 0), (0, 0))]\n",
      "[((0, 0), (0, 0))]\n",
      "[((856, 553), (1230, 619))]\n",
      "[((0, 0), (0, 0))]\n",
      "[((0, 0), (0, 0))]\n",
      "[((0, 0), (0, 0))]\n",
      "[((0, 0), (0, 0))]\n",
      "[((0, 0), (0, 0))]\n",
      "[((0, 0), (0, 0))]\n",
      "[((0, 0), (0, 0))]\n",
      "[((0, 0), (0, 0))]\n",
      "[((0, 0), (0, 0))]\n",
      "[((0, 0), (0, 0))]\n",
      "[((849, 555), (1221, 622))]\n",
      "[((0, 0), (0, 0))]\n",
      "[((0, 0), (0, 0))]\n",
      "[((0, 0), (0, 0))]\n",
      "[((0, 0), (0, 0))]\n",
      "[((0, 0), (0, 0))]\n",
      "[((0, 0), (0, 0))]\n",
      "[((0, 0), (0, 0))]\n",
      "[((0, 0), (0, 0))]\n",
      "[((0, 0), (0, 0))]\n",
      "[((0, 0), (0, 0))]\n",
      "[((829, 556), (1213, 626))]\n",
      "[((0, 0), (0, 0))]\n",
      "[((729, 552), (1279, 654))]\n",
      "[((655, 555), (1155, 643))]\n",
      "[((600, 553), (1056, 637))]\n",
      "[((543, 551), (962, 632))]\n",
      "[((486, 557), (880, 631))]\n",
      "[((427, 558), (802, 629)), ((797, 477), (1252, 546)), ((797, 545), (1259, 621))]\n",
      "[((371, 567), (726, 630)), ((724, 486), (1139, 554)), ((727, 552), (1145, 620))]\n",
      "[((333, 563), (675, 624)), ((674, 490), (1058, 553)), ((677, 555), (1062, 616))]\n",
      "[((290, 580), (633, 640)), ((626, 509), (996, 565)), ((635, 571), (994, 633))]\n",
      "[((800, 556), (1196, 624))]\n",
      "[((259, 568), (588, 624)), ((582, 495), (917, 554)), ((585, 560), (915, 613))]\n",
      "[((260, 572), (570, 624)), ((576, 507), (887, 559)), ((574, 565), (890, 615)), ((941, 546), (1277, 603))]\n",
      "[((271, 566), (562, 618)), ((563, 507), (857, 557)), ((565, 560), (869, 608)), ((913, 539), (1236, 598))]\n",
      "[((277, 568), (563, 622)), ((558, 514), (852, 565)), ((561, 566), (856, 617)), ((898, 548), (1215, 603))]\n",
      "[((287, 566), (562, 622)), ((563, 509), (848, 564)), ((564, 564), (854, 612)), ((893, 545), (1196, 599))]\n",
      "[((279, 567), (564, 611)), ((563, 514), (844, 557)), ((568, 559), (853, 604)), ((893, 547), (1189, 596))]\n",
      "[((284, 569), (568, 614)), ((564, 513), (849, 557)), ((567, 562), (851, 606)), ((896, 545), (1195, 591))]\n",
      "[((285, 567), (569, 615)), ((563, 511), (852, 558)), ((567, 563), (854, 605)), ((898, 543), (1198, 593))]\n",
      "[((286, 572), (570, 620)), ((568, 517), (851, 559)), ((570, 565), (853, 609)), ((903, 544), (1198, 599))]\n",
      "[((287, 566), (569, 615)), ((568, 510), (847, 561)), ((570, 564), (859, 611)), ((904, 543), (1194, 597))]\n",
      "[((781, 554), (1181, 626))]\n",
      "[((285, 563), (571, 615)), ((569, 511), (852, 558)), ((569, 560), (853, 610)), ((899, 541), (1208, 599))]\n",
      "[((288, 570), (568, 617)), ((566, 513), (853, 563)), ((570, 562), (861, 607)), ((896, 545), (1203, 594))]\n",
      "[((284, 570), (565, 619)), ((565, 513), (851, 559)), ((571, 563), (863, 606)), ((900, 544), (1209, 599))]\n",
      "[((284, 568), (568, 620)), ((565, 507), (858, 555)), ((568, 563), (856, 611)), ((903, 545), (1213, 601))]\n",
      "[((270, 570), (569, 624)), ((564, 511), (860, 557)), ((565, 562), (867, 613)), ((911, 547), (1218, 607))]\n",
      "[((263, 574), (555, 625)), ((552, 508), (860, 558)), ((559, 563), (864, 609)), ((908, 537), (1221, 592))]\n",
      "[((229, 577), (540, 629)), ((533, 518), (841, 565)), ((538, 574), (848, 618)), ((894, 551), (1222, 604))]\n",
      "[((195, 582), (516, 636)), ((516, 523), (829, 570)), ((512, 573), (829, 626)), ((879, 554), (1209, 617))]\n",
      "[((178, 591), (503, 641)), ((499, 515), (813, 562)), ((502, 572), (827, 622)), ((871, 546), (1199, 602))]\n",
      "[((173, 590), (500, 648)), ((497, 520), (814, 574)), ((502, 580), (820, 627)), ((873, 559), (1196, 613))]\n",
      "[((762, 552), (1172, 630))]\n",
      "[((178, 589), (506, 643)), ((498, 523), (814, 572)), ((507, 575), (817, 631)), ((875, 554), (1200, 614))]\n",
      "[((175, 586), (504, 645)), ((502, 526), (815, 573)), ((505, 578), (824, 629)), ((875, 557), (1209, 616))]\n",
      "[((157, 588), (493, 643)), ((494, 526), (811, 578)), ((492, 583), (823, 630)), ((862, 560), (1201, 621))]\n",
      "[((119, 591), (477, 647)), ((475, 515), (806, 565)), ((473, 570), (815, 631)), ((865, 544), (1211, 609))]\n",
      "[((81, 582), (451, 650)), ((450, 513), (803, 570)), ((449, 571), (805, 635)), ((859, 552), (1225, 621))]\n",
      "[((61, 583), (445, 652)), ((439, 504), (809, 568)), ((444, 568), (818, 637)), ((870, 548), (1250, 621))]\n",
      "[((48, 587), (445, 658)), ((444, 507), (820, 561)), ((449, 577), (830, 638)), ((891, 546), (1275, 613))]\n",
      "[((27, 585), (448, 659)), ((448, 496), (847, 569)), ((450, 574), (851, 637))]\n",
      "[((4, 581), (447, 659)), ((436, 497), (857, 566)), ((439, 574), (863, 644))]\n",
      "[((2, 582), (435, 654)), ((432, 494), (868, 562)), ((436, 572), (875, 645))]\n",
      "[((556, 561), (807, 613)), ((808, 510), (1106, 556)), ((810, 559), (1113, 603))]\n",
      "[((721, 563), (1160, 638))]\n",
      "[((422, 492), (874, 563)), ((423, 577), (885, 649))]\n",
      "[((417, 489), (878, 561)), ((418, 570), (885, 655))]\n",
      "[((416, 494), (882, 570)), ((424, 574), (887, 660))]\n",
      "[((416, 493), (878, 561)), ((421, 573), (889, 652))]\n",
      "[((419, 492), (879, 564)), ((419, 578), (884, 656))]\n",
      "[((412, 492), (877, 566)), ((419, 575), (880, 658))]\n",
      "[((418, 491), (880, 565)), ((419, 583), (888, 662))]\n",
      "[((415, 496), (881, 569)), ((422, 576), (887, 655))]\n",
      "[((413, 496), (871, 571)), ((411, 577), (877, 651))]\n",
      "[((404, 498), (868, 570)), ((411, 588), (874, 661))]\n",
      "[((695, 563), (1158, 643))]\n",
      "[((377, 500), (835, 570)), ((381, 584), (846, 653))]\n",
      "[((377, 507), (839, 568)), ((379, 583), (854, 656))]\n",
      "[((373, 501), (834, 571)), ((382, 581), (846, 659))]\n",
      "[((376, 504), (835, 575)), ((376, 590), (850, 660))]\n",
      "[((383, 505), (838, 572)), ((384, 585), (843, 660))]\n",
      "[((366, 501), (821, 571)), ((370, 590), (832, 666))]\n",
      "[((267, 504), (733, 575)), ((268, 591), (737, 668))]\n",
      "[((303, 501), (768, 576)), ((305, 590), (774, 666))]\n",
      "[((339, 528), (802, 596)), ((342, 616), (805, 685))]\n",
      "[((336, 502), (790, 570)), ((342, 593), (801, 658))]\n",
      "[((699, 562), (1202, 658))]\n",
      "[((335, 504), (797, 573)), ((338, 590), (807, 657))]\n",
      "[((336, 504), (796, 576)), ((338, 588), (802, 665))]\n",
      "[((335, 504), (796, 577)), ((340, 593), (805, 663))]\n",
      "[((335, 506), (794, 574)), ((339, 588), (804, 661))]\n",
      "[((336, 507), (793, 576)), ((343, 590), (809, 662))]\n",
      "[((334, 505), (799, 574)), ((339, 588), (805, 658))]\n",
      "[((336, 503), (795, 576)), ((338, 595), (805, 662))]\n",
      "[((338, 508), (799, 572)), ((340, 589), (806, 656))]\n",
      "[((341, 509), (797, 572)), ((340, 591), (804, 660))]\n",
      "[((677, 565), (1234, 660))]\n",
      "[((636, 564), (1234, 673))]\n",
      "[((569, 566), (1212, 683))]\n",
      "[((483, 567), (1183, 696))]\n",
      "[((402, 567), (1187, 713))]\n",
      "[((290, 577), (1192, 738))]\n",
      "[((176, 578), (1216, 772))]\n",
      "[((556, 563), (807, 609)), ((804, 515), (1104, 557)), ((802, 559), (1110, 608))]\n",
      "[((58, 583), (1274, 795))]\n",
      "[((0, 0), (0, 0))]\n",
      "[((0, 0), (0, 0))]\n",
      "[((0, 0), (0, 0))]\n",
      "[((0, 0), (0, 0))]\n",
      "[((0, 0), (0, 0))]\n",
      "[((0, 0), (0, 0))]\n",
      "[((0, 0), (0, 0))]\n",
      "[((0, 0), (0, 0))]\n",
      "[((2, 586), (1276, 813))]\n",
      "[((559, 567), (810, 610)), ((815, 514), (1113, 556)), ((813, 563), (1113, 607))]\n",
      "[((0, 0), (0, 0))]\n",
      "[((0, 0), (0, 0))]\n",
      "[((0, 0), (0, 0))]\n",
      "[((0, 0), (0, 0))]\n",
      "[((0, 0), (0, 0))]\n",
      "[((0, 0), (0, 0))]\n",
      "[((0, 0), (0, 0))]\n",
      "[((0, 0), (0, 0))]\n",
      "[((553, 554), (1254, 676))]\n",
      "[((576, 556), (1214, 672))]\n",
      "[((608, 565), (851, 612)), ((855, 514), (1162, 556)), ((853, 561), (1166, 605))]\n",
      "[((593, 559), (1186, 661))]\n",
      "[((598, 553), (1142, 646))]\n",
      "[((592, 557), (1101, 648))]\n",
      "[((545, 558), (1005, 645))]\n",
      "[((476, 561), (901, 636))]\n",
      "[((365, 568), (775, 640)), ((774, 471), (1248, 548)), ((779, 558), (1256, 632))]\n",
      "[((233, 571), (644, 642)), ((645, 488), (1072, 554)), ((649, 559), (1076, 630))]\n",
      "[((80, 581), (516, 645)), ((514, 492), (919, 558)), ((514, 568), (925, 633))]\n",
      "[((1, 581), (432, 653)), ((429, 495), (834, 563)), ((431, 566), (838, 638)), ((894, 541), (1277, 619))]\n",
      "[((375, 493), (778, 564)), ((378, 571), (785, 636)), ((847, 549), (1217, 622))]\n",
      "[((625, 567), (874, 612)), ((874, 515), (1188, 559)), ((878, 563), (1189, 609))]\n",
      "[((306, 495), (718, 564)), ((310, 577), (724, 637)), ((778, 557), (1141, 622))]\n",
      "[((241, 493), (667, 563)), ((249, 574), (667, 637)), ((728, 552), (1077, 618))]\n",
      "[((241, 496), (662, 568)), ((244, 577), (665, 637)), ((726, 554), (1072, 620))]\n",
      "[((251, 499), (672, 566)), ((251, 573), (674, 644)), ((736, 555), (1094, 623))]\n",
      "[((253, 498), (674, 567)), ((258, 573), (681, 644)), ((740, 556), (1091, 629))]\n",
      "[((290, 495), (712, 569)), ((302, 580), (716, 645)), ((780, 564), (1148, 633))]\n",
      "[((276, 511), (705, 588)), ((291, 591), (712, 654)), ((766, 567), (1140, 636))]\n",
      "[((265, 500), (696, 572)), ((275, 581), (697, 652)), ((764, 559), (1136, 628))]\n",
      "[((242, 501), (690, 569)), ((248, 584), (693, 650)), ((758, 559), (1125, 625))]\n",
      "[((210, 493), (673, 571)), ((225, 581), (681, 656)), ((744, 559), (1126, 627))]\n",
      "[((796, 530), (1057, 567))]\n",
      "[((178, 494), (664, 573)), ((183, 584), (676, 657)), ((740, 560), (1126, 628))]\n",
      "[((185, 484), (684, 570)), ((195, 576), (696, 663)), ((766, 553), (1179, 625))]\n",
      "[((198, 484), (735, 569)), ((209, 584), (741, 665)), ((822, 555), (1271, 633))]\n",
      "[((218, 477), (777, 565)), ((221, 580), (785, 668))]\n",
      "[((246, 465), (833, 563)), ((246, 576), (850, 672))]\n",
      "[((244, 459), (884, 560)), ((249, 576), (891, 676))]\n",
      "[((258, 451), (929, 559)), ((261, 573), (942, 688))]\n",
      "[((262, 439), (996, 563)), ((267, 580), (1007, 704))]\n",
      "[((250, 428), (1053, 561)), ((255, 583), (1064, 724))]\n",
      "[((243, 420), (1103, 556)), ((254, 584), (1116, 721))]\n",
      "[((802, 545), (1075, 591))]\n",
      "[((211, 410), (1146, 553)), ((219, 578), (1160, 748))]\n",
      "[((195, 399), (1204, 550)), ((202, 583), (1225, 769))]\n",
      "[((162, 371), (1269, 547)), ((176, 567), (1278, 759))]\n",
      "[((142, 362), (1278, 542)), ((156, 575), (1278, 781))]\n",
      "[((139, 363), (1277, 552)), ((153, 576), (1276, 738))]\n",
      "[((135, 366), (1277, 564)), ((145, 576), (1278, 765))]\n",
      "[((135, 363), (1278, 549)), ((153, 579), (1276, 752))]\n",
      "[((139, 368), (1275, 545)), ((157, 583), (1278, 764))]\n",
      "[((141, 364), (1279, 544)), ((154, 585), (1279, 755))]\n",
      "[((153, 373), (1274, 542)), ((161, 578), (1277, 759))]\n"
     ]
    }
   ],
   "source": [
    "def parse_line(line):\n",
    "    filename,points=line.split(\" \", 1)\n",
    "    point_list=points.split(\"] [\")\n",
    "    point_list=[points.strip('][ ').replace('.','').split(' ') for points in point_list]\n",
    "    point_list=[[int(point) for point in points if point] for points in point_list]\n",
    "    point_list=[(tuple(points[:2]),tuple(points[2:4])) for points in point_list]\n",
    "    point_list=[((0,0),(0,0)) if not points[0] and not points[1] else points for points in point_list]\n",
    "    print(point_list)\n",
    "    return filename,point_list\n",
    "\n",
    "with open(TXT) as f:\n",
    "    lines = [line.rstrip('\\n') for line in f]\n",
    "lines = [parse_line(line) for line in lines]\n",
    "cv2.namedWindow(\"image\")\n",
    "for line in lines:\n",
    "    filename,point_list=line\n",
    "    path=DIR+filename\n",
    "    image = cv2.imread(path)\n",
    "    if NEW_RESOLUTION:\n",
    "        image = cv2.resize(image, NEW_RESOLUTION) \n",
    "    for points in point_list:\n",
    "        p1,p2=points\n",
    "        cv2.rectangle(image, p1, p2, (0,255,0))\n",
    "    cv2.imshow(\"image\", image)\n",
    "    cv2.waitKey(0)\n",
    "cv2.destroyAllWindows()"
   ]
  },
  {
   "cell_type": "code",
   "execution_count": null,
   "metadata": {},
   "outputs": [],
   "source": []
  }
 ],
 "metadata": {
  "kernelspec": {
   "display_name": "Python 3",
   "language": "python",
   "name": "python3"
  },
  "language_info": {
   "codemirror_mode": {
    "name": "ipython",
    "version": 3
   },
   "file_extension": ".py",
   "mimetype": "text/x-python",
   "name": "python",
   "nbconvert_exporter": "python",
   "pygments_lexer": "ipython3",
   "version": "3.6.9"
  }
 },
 "nbformat": 4,
 "nbformat_minor": 2
}
