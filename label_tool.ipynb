{
 "cells": [
  {
   "cell_type": "code",
   "execution_count": 1,
   "metadata": {},
   "outputs": [],
   "source": [
    "import argparse\n",
    "import cv2\n",
    "import os\n",
    "import numpy as np\n",
    "from tqdm import tqdm\n",
    "import re\n",
    "import imutils"
   ]
  },
  {
   "cell_type": "code",
   "execution_count": 2,
   "metadata": {},
   "outputs": [],
   "source": [
    "def write_next_img(filename, txtname):\n",
    "    f = open(txtname, \"a\")\n",
    "    f.write(\"\\n\"+filename+\" \")\n",
    "    f.close()\n",
    "    \n",
    "def write_rect(rect):\n",
    "    global TXT\n",
    "    f = open(TXT, \"a\")\n",
    "    f.write(np.array_str(rect)+\" \")\n",
    "    f.close()\n",
    "\n",
    "def click_and_crop(event, x, y, flags, param):\n",
    "    global rect, tip_x, tip_y, clone\n",
    "    h,w,_ = clone.shape\n",
    "    if event == cv2.EVENT_LBUTTONDOWN:\n",
    "        rect=np.concatenate((rect,[x,y]))\n",
    "        if len(rect)==4:\n",
    "            write_rect(rect)\n",
    "            rect=np.array([])\n",
    "    elif event == cv2.EVENT_MOUSEMOVE:\n",
    "        white=(255,255,255)\n",
    "        clone  = image.copy()\n",
    "        if len(rect)==2:\n",
    "            cv2.rectangle(clone, tuple(map(int,rect)), (x,y), (0,255,0))\n",
    "        cv2.line(clone, (0,y),(w,y),white)\n",
    "        cv2.line(clone, (x,0),(x,h),white)\n",
    "        cv2.imshow(\"image\", clone)"
   ]
  },
  {
   "cell_type": "markdown",
   "metadata": {},
   "source": [
    "# Set paths"
   ]
  },
  {
   "cell_type": "code",
   "execution_count": 3,
   "metadata": {},
   "outputs": [],
   "source": [
    "SCENE = \"stack_1\"\n",
    "NEW_RESOLUTION=None#(1040,780)\n",
    "\n",
    "DIR = \"/home/maciej/Desktop/pallet_dataset/\"+SCENE+\"/\"\n",
    "TXT = \"/home/maciej/Desktop/pallet_dataset/labels/\"+SCENE+\".txt\""
   ]
  },
  {
   "cell_type": "markdown",
   "metadata": {},
   "source": [
    "# Label"
   ]
  },
  {
   "cell_type": "code",
   "execution_count": null,
   "metadata": {},
   "outputs": [
    {
     "name": "stderr",
     "output_type": "stream",
     "text": [
      " 11%|█         | 5/46 [02:30<21:13, 31.06s/it]"
     ]
    }
   ],
   "source": [
    "filenames = sorted(os.listdir(DIR))\n",
    "#filenames=[\"0140.jpg\"]\n",
    "cv2.namedWindow(\"image\")\n",
    "cv2.setMouseCallback(\"image\", click_and_crop)\n",
    "\n",
    "#variables\n",
    "rect = np.array([])\n",
    "tip_x, tip_y = (0,0)\n",
    "\n",
    "for i in tqdm(range(len(filenames))):\n",
    "    filename=filenames[i]\n",
    "    path=DIR+filename\n",
    "    image = cv2.imread(path)\n",
    "    image = imutils.rotate(image, 1.5)\n",
    "    if NEW_RESOLUTION:\n",
    "        image = cv2.resize(image, NEW_RESOLUTION)\n",
    "    clone = image.copy()\n",
    "    write_next_img(filename, TXT)\n",
    "    cv2.imshow(\"image\", clone)\n",
    "    cv2.waitKey(0)\n",
    "    rect = np.array([])\n",
    "cv2.destroyAllWindows()"
   ]
  },
  {
   "cell_type": "markdown",
   "metadata": {},
   "source": [
    "# Display labelled"
   ]
  },
  {
   "cell_type": "code",
   "execution_count": null,
   "metadata": {},
   "outputs": [],
   "source": [
    "def parse_line(line):\n",
    "    filename,points=line.split(\" \", 1)\n",
    "    point_list=points.split(\"] [\")\n",
    "    point_list=[points.strip('][ ').replace('.','').split(' ') for points in point_list]\n",
    "    point_list=[[int(point) for point in points if point] for points in point_list]\n",
    "    point_list=[(tuple(points[:2]),tuple(points[2:4])) for points in point_list]\n",
    "    point_list=[((0,0),(0,0)) if not points[0] and not points[1] else points for points in point_list]\n",
    "    print(point_list)\n",
    "    return filename,point_list\n",
    "\n",
    "with open(TXT) as f:\n",
    "    lines = [line.rstrip('\\n') for line in f]\n",
    "lines = [parse_line(line) for line in lines]\n",
    "cv2.namedWindow(\"image\")\n",
    "for line in lines:\n",
    "    filename,point_list=line\n",
    "    path=DIR+filename\n",
    "    image = cv2.imread(path)\n",
    "    if NEW_RESOLUTION:\n",
    "        image = cv2.resize(image, NEW_RESOLUTION) \n",
    "    for points in point_list:\n",
    "        p1,p2=points\n",
    "        cv2.rectangle(image, p1, p2, (0,255,0))\n",
    "    cv2.imshow(\"image\", image)\n",
    "    cv2.waitKey(0)\n",
    "cv2.destroyAllWindows()"
   ]
  },
  {
   "cell_type": "code",
   "execution_count": null,
   "metadata": {},
   "outputs": [],
   "source": []
  }
 ],
 "metadata": {
  "kernelspec": {
   "display_name": "Python 3",
   "language": "python",
   "name": "python3"
  },
  "language_info": {
   "codemirror_mode": {
    "name": "ipython",
    "version": 3
   },
   "file_extension": ".py",
   "mimetype": "text/x-python",
   "name": "python",
   "nbconvert_exporter": "python",
   "pygments_lexer": "ipython3",
   "version": "3.6.9"
  }
 },
 "nbformat": 4,
 "nbformat_minor": 2
}
