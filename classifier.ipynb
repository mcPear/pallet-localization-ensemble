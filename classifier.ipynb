{
 "cells": [
  {
   "cell_type": "code",
   "execution_count": 1,
   "metadata": {},
   "outputs": [],
   "source": [
    "import cv2\n",
    "from sklearn.metrics import confusion_matrix\n",
    "from sklearn.ensemble import RandomForestClassifier\n",
    "from sklearn.datasets import make_classification\n",
    "from sklearn.tree import DecisionTreeClassifier\n",
    "from sklearn.model_selection import StratifiedShuffleSplit\n",
    "from sklearn.naive_bayes import GaussianNB\n",
    "from dataset_io import *\n",
    "import numpy as np\n",
    "from joblib import dump, load\n",
    "import timeit\n",
    "import random\n",
    "\n",
    "from sklearn.metrics import accuracy_score, f1_score"
   ]
  },
  {
   "cell_type": "markdown",
   "metadata": {},
   "source": [
    "# Gradient features - RandomForest"
   ]
  },
  {
   "cell_type": "code",
   "execution_count": 2,
   "metadata": {},
   "outputs": [],
   "source": [
    "# pallet_X=np.load(PROJECT_PATH+\"pallet_rectangles_gradient.npy\")\n",
    "# background_X=np.load(PROJECT_PATH+\"background_rectangles_gradient.npy\")\n",
    "\n",
    "# pallet_X=[np.dstack(x) for x in pallet_X]\n",
    "# background_X=[np.dstack(x) for x in background_X]\n",
    "\n",
    "# print(np.array(pallet_X).shape)\n",
    "# print(np.array(background_X).shape)\n",
    "\n",
    "# pallet_X=[x.flatten() for x in pallet_X]\n",
    "# background_X=[x.flatten() for x in background_X]\n",
    "\n",
    "# pallet_y=np.ones(len(pallet_X))\n",
    "# background_y=np.zeros(len(background_X))\n",
    "\n",
    "# X=np.vstack((pallet_X,background_X))\n",
    "# y=np.hstack((pallet_y,background_y))\n",
    "\n",
    "# sss = StratifiedShuffleSplit(n_splits=1, test_size=0.3, random_state=0)\n",
    "# sss.get_n_splits(X, y)\n",
    "# train_index, test_index = list(sss.split(X, y))[0]\n",
    "# X_train, X_test = X[train_index], X[test_index]\n",
    "# y_train, y_test = y[train_index], y[test_index]"
   ]
  },
  {
   "cell_type": "code",
   "execution_count": 3,
   "metadata": {},
   "outputs": [],
   "source": [
    "# clf = RandomForestClassifier(128, n_jobs=-1) #128 is as fast as lower sizes and as accurate as greater sizes\n",
    "# clf.fit(X_train, y_train)\n",
    "# y_pred=clf.predict(X_test)\n",
    "\n",
    "# acc=accuracy_score(y_test, y_pred)\n",
    "# f1=f1_score(y_test, y_pred)\n",
    "\n",
    "# print(\"acc: \",acc,\" f1: \",f1)"
   ]
  },
  {
   "cell_type": "code",
   "execution_count": 4,
   "metadata": {},
   "outputs": [],
   "source": [
    "# dump(clf, 'rand_forest_clf.joblib') "
   ]
  },
  {
   "cell_type": "markdown",
   "metadata": {},
   "source": [
    "# Color features - NaiveBayes"
   ]
  },
  {
   "cell_type": "code",
   "execution_count": 5,
   "metadata": {},
   "outputs": [],
   "source": [
    "pallet_pix_counts=[41_068_649, 2_327_191, 22_571_243]\n",
    "pallet_pix_count_map=dict(zip(COLORS, pallet_pix_counts))"
   ]
  },
  {
   "cell_type": "code",
   "execution_count": 6,
   "metadata": {},
   "outputs": [],
   "source": [
    "def readnsplit(color):\n",
    "    #-------------y-------------------------\n",
    "    pallet_pix_count=pallet_pix_count_map[color]\n",
    "    background_pix_count=pallet_pix_count*2\n",
    "    \n",
    "    pallet_y=np.ones(pallet_pix_count, dtype=bool)\n",
    "    background_y=np.zeros(background_pix_count, dtype=bool)\n",
    "\n",
    "    y=np.hstack((pallet_y,background_y))\n",
    "\n",
    "    pallet_y=None\n",
    "    background_y=None\n",
    "\n",
    "    sss = StratifiedShuffleSplit(n_splits=1, test_size=0.3, random_state=0)\n",
    "    sss.get_n_splits(y, y)\n",
    "    train_index, test_index = list(sss.split(y, y))[0]\n",
    "    sss=None\n",
    "\n",
    "    y_train, y_test = y[train_index], y[test_index]\n",
    "    y=None\n",
    "\n",
    "    #-------------X-------------------------\n",
    "    background_X=np.load(PROJECT_PATH+\"backgrounds_color.npy\", allow_pickle=True)\n",
    "    background_X=np.array([np.hstack(x) for x in background_X])\n",
    "    background_X=np.concatenate(background_X, 0)\n",
    "    indices=range(len(background_X))\n",
    "    indices=random.sample(indices, background_pix_count)\n",
    "    background_X=background_X[indices]\n",
    "    \n",
    "    pallet_X=np.load(PROJECT_PATH+\"pallets_color_{}.npy\".format(color), allow_pickle=True)\n",
    "    pallet_X=np.array([np.hstack(x) for x in pallet_X])\n",
    "    pallet_X=np.concatenate(pallet_X, 0)\n",
    "\n",
    "    X=np.vstack((pallet_X,background_X))\n",
    "\n",
    "    pallet_X=None\n",
    "    background_X=None\n",
    "\n",
    "    X_train, X_test = X[train_index], X[test_index]\n",
    "    X=None\n",
    "    return X_train, X_test, y_train, y_test"
   ]
  },
  {
   "cell_type": "code",
   "execution_count": 7,
   "metadata": {},
   "outputs": [],
   "source": [
    "def classify(X_train, X_test, y_train, y_test):  \n",
    "    clf = GaussianNB()\n",
    "    clf.fit(X_train, y_train)\n",
    "    X_train=None\n",
    "    y_train=None\n",
    "    y_pred=clf.predict(X_test)\n",
    "    X_test=None\n",
    "\n",
    "    acc=accuracy_score(y_test, y_pred)\n",
    "    f1=f1_score(y_test, y_pred)\n",
    "    cm=confusion_matrix(y_test, y_pred, labels=[True, False])\n",
    "\n",
    "    print(\"acc: \",acc,\" f1: \",f1)\n",
    "    print(cm)\n",
    "    return clf"
   ]
  },
  {
   "cell_type": "code",
   "execution_count": 8,
   "metadata": {},
   "outputs": [
    {
     "name": "stdout",
     "output_type": "stream",
     "text": [
      "blue\n",
      "64604593\n"
     ]
    },
    {
     "ename": "ValueError",
     "evalue": "Sample larger than population or is negative",
     "output_type": "error",
     "traceback": [
      "\u001b[0;31m---------------------------------------------------------------------------\u001b[0m",
      "\u001b[0;31mValueError\u001b[0m                                Traceback (most recent call last)",
      "\u001b[0;32m<ipython-input-8-ace0da800107>\u001b[0m in \u001b[0;36m<module>\u001b[0;34m\u001b[0m\n\u001b[1;32m      1\u001b[0m \u001b[0;32mfor\u001b[0m \u001b[0mcolor\u001b[0m \u001b[0;32min\u001b[0m \u001b[0mCOLORS\u001b[0m\u001b[0;34m:\u001b[0m\u001b[0;34m\u001b[0m\u001b[0;34m\u001b[0m\u001b[0m\n\u001b[1;32m      2\u001b[0m     \u001b[0mprint\u001b[0m\u001b[0;34m(\u001b[0m\u001b[0mcolor\u001b[0m\u001b[0;34m)\u001b[0m\u001b[0;34m\u001b[0m\u001b[0;34m\u001b[0m\u001b[0m\n\u001b[0;32m----> 3\u001b[0;31m     \u001b[0mX_train\u001b[0m\u001b[0;34m,\u001b[0m \u001b[0mX_test\u001b[0m\u001b[0;34m,\u001b[0m \u001b[0my_train\u001b[0m\u001b[0;34m,\u001b[0m \u001b[0my_test\u001b[0m\u001b[0;34m=\u001b[0m\u001b[0mreadnsplit\u001b[0m\u001b[0;34m(\u001b[0m\u001b[0mcolor\u001b[0m\u001b[0;34m)\u001b[0m\u001b[0;34m\u001b[0m\u001b[0;34m\u001b[0m\u001b[0m\n\u001b[0m\u001b[1;32m      4\u001b[0m     \u001b[0mclf\u001b[0m\u001b[0;34m=\u001b[0m\u001b[0mclassify\u001b[0m\u001b[0;34m(\u001b[0m\u001b[0mX_train\u001b[0m\u001b[0;34m,\u001b[0m \u001b[0mX_test\u001b[0m\u001b[0;34m,\u001b[0m \u001b[0my_train\u001b[0m\u001b[0;34m,\u001b[0m \u001b[0my_test\u001b[0m\u001b[0;34m)\u001b[0m\u001b[0;34m\u001b[0m\u001b[0;34m\u001b[0m\u001b[0m\n\u001b[1;32m      5\u001b[0m     \u001b[0mdump\u001b[0m\u001b[0;34m(\u001b[0m\u001b[0mclf\u001b[0m\u001b[0;34m,\u001b[0m \u001b[0;34m'naive_bayes_clf_{}.joblib'\u001b[0m\u001b[0;34m.\u001b[0m\u001b[0mformat\u001b[0m\u001b[0;34m(\u001b[0m\u001b[0mcolor\u001b[0m\u001b[0;34m)\u001b[0m\u001b[0;34m)\u001b[0m\u001b[0;34m\u001b[0m\u001b[0;34m\u001b[0m\u001b[0m\n",
      "\u001b[0;32m<ipython-input-6-7c25c07153b5>\u001b[0m in \u001b[0;36mreadnsplit\u001b[0;34m(color)\u001b[0m\n\u001b[1;32m     26\u001b[0m     \u001b[0mprint\u001b[0m\u001b[0;34m(\u001b[0m\u001b[0mlen\u001b[0m\u001b[0;34m(\u001b[0m\u001b[0mbackground_X\u001b[0m\u001b[0;34m)\u001b[0m\u001b[0;34m)\u001b[0m\u001b[0;34m\u001b[0m\u001b[0;34m\u001b[0m\u001b[0m\n\u001b[1;32m     27\u001b[0m     \u001b[0mindices\u001b[0m\u001b[0;34m=\u001b[0m\u001b[0mrange\u001b[0m\u001b[0;34m(\u001b[0m\u001b[0mlen\u001b[0m\u001b[0;34m(\u001b[0m\u001b[0mbackground_X\u001b[0m\u001b[0;34m)\u001b[0m\u001b[0;34m)\u001b[0m\u001b[0;34m\u001b[0m\u001b[0;34m\u001b[0m\u001b[0m\n\u001b[0;32m---> 28\u001b[0;31m     \u001b[0mindices\u001b[0m\u001b[0;34m=\u001b[0m\u001b[0mrandom\u001b[0m\u001b[0;34m.\u001b[0m\u001b[0msample\u001b[0m\u001b[0;34m(\u001b[0m\u001b[0mindices\u001b[0m\u001b[0;34m,\u001b[0m \u001b[0mbackground_pix_count\u001b[0m\u001b[0;34m)\u001b[0m\u001b[0;34m\u001b[0m\u001b[0;34m\u001b[0m\u001b[0m\n\u001b[0m\u001b[1;32m     29\u001b[0m     \u001b[0mbackground_X\u001b[0m\u001b[0;34m=\u001b[0m\u001b[0mbackground_X\u001b[0m\u001b[0;34m[\u001b[0m\u001b[0mindices\u001b[0m\u001b[0;34m]\u001b[0m\u001b[0;34m\u001b[0m\u001b[0;34m\u001b[0m\u001b[0m\n\u001b[1;32m     30\u001b[0m \u001b[0;34m\u001b[0m\u001b[0m\n",
      "\u001b[0;32m/usr/lib/python3.6/random.py\u001b[0m in \u001b[0;36msample\u001b[0;34m(self, population, k)\u001b[0m\n\u001b[1;32m    318\u001b[0m         \u001b[0mn\u001b[0m \u001b[0;34m=\u001b[0m \u001b[0mlen\u001b[0m\u001b[0;34m(\u001b[0m\u001b[0mpopulation\u001b[0m\u001b[0;34m)\u001b[0m\u001b[0;34m\u001b[0m\u001b[0;34m\u001b[0m\u001b[0m\n\u001b[1;32m    319\u001b[0m         \u001b[0;32mif\u001b[0m \u001b[0;32mnot\u001b[0m \u001b[0;36m0\u001b[0m \u001b[0;34m<=\u001b[0m \u001b[0mk\u001b[0m \u001b[0;34m<=\u001b[0m \u001b[0mn\u001b[0m\u001b[0;34m:\u001b[0m\u001b[0;34m\u001b[0m\u001b[0;34m\u001b[0m\u001b[0m\n\u001b[0;32m--> 320\u001b[0;31m             \u001b[0;32mraise\u001b[0m \u001b[0mValueError\u001b[0m\u001b[0;34m(\u001b[0m\u001b[0;34m\"Sample larger than population or is negative\"\u001b[0m\u001b[0;34m)\u001b[0m\u001b[0;34m\u001b[0m\u001b[0;34m\u001b[0m\u001b[0m\n\u001b[0m\u001b[1;32m    321\u001b[0m         \u001b[0mresult\u001b[0m \u001b[0;34m=\u001b[0m \u001b[0;34m[\u001b[0m\u001b[0;32mNone\u001b[0m\u001b[0;34m]\u001b[0m \u001b[0;34m*\u001b[0m \u001b[0mk\u001b[0m\u001b[0;34m\u001b[0m\u001b[0;34m\u001b[0m\u001b[0m\n\u001b[1;32m    322\u001b[0m         \u001b[0msetsize\u001b[0m \u001b[0;34m=\u001b[0m \u001b[0;36m21\u001b[0m        \u001b[0;31m# size of a small set minus size of an empty list\u001b[0m\u001b[0;34m\u001b[0m\u001b[0;34m\u001b[0m\u001b[0m\n",
      "\u001b[0;31mValueError\u001b[0m: Sample larger than population or is negative"
     ]
    }
   ],
   "source": [
    "for color in COLORS:\n",
    "    print(color)\n",
    "    X_train, X_test, y_train, y_test=readnsplit(color)\n",
    "    clf=classify(X_train, X_test, y_train, y_test)\n",
    "    dump(clf, 'naive_bayes_clf_{}.joblib'.format(color)) "
   ]
  },
  {
   "cell_type": "markdown",
   "metadata": {},
   "source": [
    "## Check pallet pixels count per color"
   ]
  },
  {
   "cell_type": "code",
   "execution_count": null,
   "metadata": {},
   "outputs": [],
   "source": [
    "for color in COLORS:\n",
    "    pallet_X=np.load(PROJECT_PATH+\"pallets_color_{}.npy\".format(color), allow_pickle=True)\n",
    "    pallet_X=np.array([np.hstack(x) for x in pallet_X])\n",
    "    pallet_X=np.concatenate(pallet_X, 0)\n",
    "    print(pallet_X.shape)"
   ]
  }
 ],
 "metadata": {
  "kernelspec": {
   "display_name": "Python 3",
   "language": "python",
   "name": "python3"
  },
  "language_info": {
   "codemirror_mode": {
    "name": "ipython",
    "version": 3
   },
   "file_extension": ".py",
   "mimetype": "text/x-python",
   "name": "python",
   "nbconvert_exporter": "python",
   "pygments_lexer": "ipython3",
   "version": "3.6.9"
  }
 },
 "nbformat": 4,
 "nbformat_minor": 2
}
