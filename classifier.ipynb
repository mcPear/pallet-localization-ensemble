{
 "cells": [
  {
   "cell_type": "code",
   "execution_count": 1,
   "metadata": {},
   "outputs": [],
   "source": [
    "import cv2\n",
    "from sklearn.ensemble import RandomForestClassifier\n",
    "from sklearn.datasets import make_classification\n",
    "from sklearn.tree import DecisionTreeClassifier\n",
    "from sklearn.model_selection import StratifiedShuffleSplit\n",
    "from utils import *\n",
    "import numpy as np\n",
    "\n",
    "from sklearn.metrics import accuracy_score, f1_score"
   ]
  },
  {
   "cell_type": "code",
   "execution_count": 6,
   "metadata": {},
   "outputs": [
    {
     "name": "stdout",
     "output_type": "stream",
     "text": [
      "(2591, 24, 120, 8)\n",
      "(7170, 24, 120, 8)\n"
     ]
    }
   ],
   "source": [
    "pallet_X=np.load(PROJECT_PATH+\"pallet_rectangles.npy\")\n",
    "background_X=np.load(PROJECT_PATH+\"background_rectangles.npy\")\n",
    "\n",
    "pallet_X=[np.dstack(x) for x in pallet_X]\n",
    "background_X=[np.dstack(x) for x in background_X]\n",
    "\n",
    "print(np.array(pallet_X).shape)\n",
    "print(np.array(background_X).shape)\n",
    "\n",
    "pallet_X=[x.flatten() for x in pallet_X]\n",
    "background_X=[x.flatten() for x in background_X]\n",
    "\n",
    "pallet_y=np.ones(len(pallet_X))\n",
    "background_y=np.zeros(len(background_X))\n",
    "\n",
    "X=np.vstack((pallet_X,background_X))\n",
    "y=np.hstack((pallet_y,background_y))\n",
    "\n",
    "sss = StratifiedShuffleSplit(n_splits=1, test_size=0.3, random_state=0)\n",
    "sss.get_n_splits(X, y)\n",
    "train_index, test_index = list(sss.split(X, y))[0]\n",
    "X_train, X_test = X[train_index], X[test_index]\n",
    "y_train, y_test = y[train_index], y[test_index]"
   ]
  },
  {
   "cell_type": "code",
   "execution_count": 7,
   "metadata": {},
   "outputs": [
    {
     "name": "stdout",
     "output_type": "stream",
     "text": [
      "acc:  0.9982929327415501  f1:  0.9967845659163987\n"
     ]
    }
   ],
   "source": [
    "base_classifier=DecisionTreeClassifier(max_depth=2)\n",
    "clf = RandomForestClassifier(2048, n_jobs=-1)\n",
    "clf.fit(X_train, y_train)\n",
    "y_pred=clf.predict(X_test)\n",
    "\n",
    "acc=accuracy_score(y_test, y_pred)\n",
    "f1=f1_score(y_test, y_pred)\n",
    "\n",
    "print(\"acc: \",acc,\" f1: \",f1)"
   ]
  },
  {
   "cell_type": "code",
   "execution_count": null,
   "metadata": {},
   "outputs": [],
   "source": []
  }
 ],
 "metadata": {
  "kernelspec": {
   "display_name": "Python 3",
   "language": "python",
   "name": "python3"
  },
  "language_info": {
   "codemirror_mode": {
    "name": "ipython",
    "version": 3
   },
   "file_extension": ".py",
   "mimetype": "text/x-python",
   "name": "python",
   "nbconvert_exporter": "python",
   "pygments_lexer": "ipython3",
   "version": "3.6.9"
  }
 },
 "nbformat": 4,
 "nbformat_minor": 2
}
