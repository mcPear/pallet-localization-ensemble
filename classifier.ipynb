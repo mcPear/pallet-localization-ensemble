{
 "cells": [
  {
   "cell_type": "code",
   "execution_count": 1,
   "metadata": {},
   "outputs": [],
   "source": [
    "import cv2\n",
    "from sklearn.ensemble import RandomForestClassifier\n",
    "from sklearn.datasets import make_classification\n",
    "from sklearn.tree import DecisionTreeClassifier\n",
    "from sklearn.model_selection import StratifiedShuffleSplit\n",
    "from sklearn.naive_bayes import GaussianNB\n",
    "from dataset_io import *\n",
    "import numpy as np\n",
    "from joblib import dump, load\n",
    "import timeit\n",
    "\n",
    "from sklearn.metrics import accuracy_score, f1_score"
   ]
  },
  {
   "cell_type": "markdown",
   "metadata": {},
   "source": [
    "# Gradient features - RandomForest"
   ]
  },
  {
   "cell_type": "code",
   "execution_count": 2,
   "metadata": {},
   "outputs": [],
   "source": [
    "# pallet_X=np.load(PROJECT_PATH+\"pallet_rectangles_gradient.npy\")\n",
    "# background_X=np.load(PROJECT_PATH+\"background_rectangles_gradient.npy\")\n",
    "\n",
    "# pallet_X=[np.dstack(x) for x in pallet_X]\n",
    "# background_X=[np.dstack(x) for x in background_X]\n",
    "\n",
    "# print(np.array(pallet_X).shape)\n",
    "# print(np.array(background_X).shape)\n",
    "\n",
    "# pallet_X=[x.flatten() for x in pallet_X]\n",
    "# background_X=[x.flatten() for x in background_X]\n",
    "\n",
    "# pallet_y=np.ones(len(pallet_X))\n",
    "# background_y=np.zeros(len(background_X))\n",
    "\n",
    "# X=np.vstack((pallet_X,background_X))\n",
    "# y=np.hstack((pallet_y,background_y))\n",
    "\n",
    "# sss = StratifiedShuffleSplit(n_splits=1, test_size=0.3, random_state=0)\n",
    "# sss.get_n_splits(X, y)\n",
    "# train_index, test_index = list(sss.split(X, y))[0]\n",
    "# X_train, X_test = X[train_index], X[test_index]\n",
    "# y_train, y_test = y[train_index], y[test_index]"
   ]
  },
  {
   "cell_type": "code",
   "execution_count": 3,
   "metadata": {},
   "outputs": [],
   "source": [
    "# clf = RandomForestClassifier(128, n_jobs=-1) #128 is as fast as lower sizes and as accurate as greater sizes\n",
    "# clf.fit(X_train, y_train)\n",
    "# y_pred=clf.predict(X_test)\n",
    "\n",
    "# acc=accuracy_score(y_test, y_pred)\n",
    "# f1=f1_score(y_test, y_pred)\n",
    "\n",
    "# print(\"acc: \",acc,\" f1: \",f1)"
   ]
  },
  {
   "cell_type": "code",
   "execution_count": 4,
   "metadata": {},
   "outputs": [],
   "source": [
    "# dump(clf, 'rand_forest_clf.joblib') "
   ]
  },
  {
   "cell_type": "markdown",
   "metadata": {},
   "source": [
    "# Color features - NaiveBayes"
   ]
  },
  {
   "cell_type": "code",
   "execution_count": 5,
   "metadata": {},
   "outputs": [],
   "source": [
    "N=200_000_000\n",
    "\n",
    "#-------------y-------------------------\n",
    "pallet_y=np.ones(65967083, dtype=bool)\n",
    "background_y=np.zeros(129210747, dtype=bool)\n",
    "\n",
    "y=np.hstack((pallet_y,background_y))[:N]\n",
    "\n",
    "pallet_y=None\n",
    "background_y=None\n",
    "\n",
    "sss = StratifiedShuffleSplit(n_splits=1, test_size=0.3, random_state=0)\n",
    "sss.get_n_splits(y, y)\n",
    "train_index, test_index = list(sss.split(y, y))[0]\n",
    "sss=None\n",
    "\n",
    "y_train, y_test = y[train_index], y[test_index]\n",
    "y=None\n",
    "\n",
    "#-------------X-------------------------\n",
    "pallet_X=np.load(PROJECT_PATH+\"pallets_color.npy\", allow_pickle=True)\n",
    "background_X=np.load(PROJECT_PATH+\"backgrounds_color.npy\", allow_pickle=True)\n",
    "\n",
    "pallet_X=np.array([np.hstack(x) for x in pallet_X])\n",
    "background_X=np.array([np.hstack(x) for x in background_X])\n",
    "\n",
    "pallet_X=np.concatenate(pallet_X, 0)\n",
    "background_X=np.concatenate(background_X, 0)\n",
    "\n",
    "X=np.vstack((pallet_X,background_X))[:N]\n",
    "\n",
    "pallet_X=None\n",
    "background_X=None\n",
    "\n",
    "X_train, X_test = X[train_index], X[test_index]\n",
    "X=None"
   ]
  },
  {
   "cell_type": "code",
   "execution_count": 6,
   "metadata": {},
   "outputs": [
    {
     "name": "stdout",
     "output_type": "stream",
     "text": [
      "acc:  0.6899260706676231  f1:  0.5906388779166206\n"
     ]
    }
   ],
   "source": [
    "clf = GaussianNB()\n",
    "clf.fit(X_train, y_train)\n",
    "X_train=None\n",
    "y_train=None\n",
    "y_pred=clf.predict(X_test)\n",
    "X_test=None\n",
    "clf=None\n",
    "\n",
    "acc=accuracy_score(y_test, y_pred)\n",
    "f1=f1_score(y_test, y_pred)\n",
    "\n",
    "print(\"acc: \",acc,\" f1: \",f1)"
   ]
  },
  {
   "cell_type": "code",
   "execution_count": 7,
   "metadata": {},
   "outputs": [
    {
     "data": {
      "text/plain": [
       "['naive_bayes_clf.joblib']"
      ]
     },
     "execution_count": 7,
     "metadata": {},
     "output_type": "execute_result"
    }
   ],
   "source": [
    "dump(clf, 'naive_bayes_clf.joblib') "
   ]
  }
 ],
 "metadata": {
  "kernelspec": {
   "display_name": "Python 3",
   "language": "python",
   "name": "python3"
  },
  "language_info": {
   "codemirror_mode": {
    "name": "ipython",
    "version": 3
   },
   "file_extension": ".py",
   "mimetype": "text/x-python",
   "name": "python",
   "nbconvert_exporter": "python",
   "pygments_lexer": "ipython3",
   "version": "3.6.9"
  }
 },
 "nbformat": 4,
 "nbformat_minor": 2
}
