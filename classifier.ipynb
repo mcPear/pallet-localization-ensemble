{
 "cells": [
  {
   "cell_type": "code",
   "execution_count": 1,
   "metadata": {},
   "outputs": [],
   "source": [
    "import sys\n",
    "sys.path.append(\"/home/maciej/repos/scikit-learn\")\n",
    "\n",
    "import cv2\n",
    "from sklearn.metrics import confusion_matrix\n",
    "from sklearn.ensemble import RandomForestClassifier\n",
    "from sklearn.datasets import make_classification\n",
    "from sklearn.tree import DecisionTreeClassifier\n",
    "from sklearn.model_selection import StratifiedShuffleSplit\n",
    "from sklearn.naive_bayes import GaussianNB\n",
    "from dataset_io import *\n",
    "import numpy as np\n",
    "from joblib import dump, load\n",
    "import timeit\n",
    "import random\n",
    "from sklearn.metrics import accuracy_score, f1_score, precision_score, recall_score\n",
    "import seaborn as sns\n",
    "import matplotlib.pyplot as plt"
   ]
  },
  {
   "cell_type": "markdown",
   "metadata": {},
   "source": [
    "# Gradient features - RandomForest"
   ]
  },
  {
   "cell_type": "code",
   "execution_count": 8,
   "metadata": {},
   "outputs": [],
   "source": [
    "# pallet_X=np.load(PROJECT_PATH+\"pallet_rectangles_gradient.npy\")\n",
    "# background_X=np.load(PROJECT_PATH+\"background_rectangles_gradient.npy\")\n",
    "\n",
    "# pallet_X=[np.dstack(x) for x in pallet_X]\n",
    "# background_X=[np.dstack(x) for x in background_X]\n",
    "\n",
    "# print(np.array(pallet_X).shape)\n",
    "# print(np.array(background_X).shape)\n",
    "\n",
    "# pallet_X=[x.flatten() for x in pallet_X]\n",
    "# background_X=[x.flatten() for x in background_X]\n",
    "\n",
    "# pallet_y=np.ones(len(pallet_X))\n",
    "# background_y=np.zeros(len(background_X))\n",
    "\n",
    "# X=np.vstack((pallet_X,background_X))\n",
    "# y=np.hstack((pallet_y,background_y))\n",
    "\n",
    "# sss = StratifiedShuffleSplit(n_splits=1, test_size=0.3, random_state=0)\n",
    "# sss.get_n_splits(X, y)\n",
    "# train_index, test_index = list(sss.split(X, y))[0]\n",
    "# X_train, X_test = X[train_index], X[test_index]\n",
    "# y_train, y_test = y[train_index], y[test_index]"
   ]
  },
  {
   "cell_type": "code",
   "execution_count": 6,
   "metadata": {},
   "outputs": [],
   "source": [
    "def get_gradient_data(train_scenes, test_scenes):\n",
    "    def get_samples(feature, scenes, y_val):\n",
    "        X = [np.load(get_existing_clf_ds_filepath(feature, s)) for s in scenes]\n",
    "        X = np.concatenate(X)\n",
    "        X=[np.dstack(x) for x in X]\n",
    "        X=[x.flatten() for x in X]\n",
    "        y=np.full(len(X), y_val)\n",
    "        return X,y\n",
    "\n",
    "    train_pallet_X, train_pallet_y=get_samples(\"pallet_rectangles_gradient\", train_scenes, 1)\n",
    "    train_background_X, train_background_y=get_samples(\"background_rectangles_gradient\", train_scenes, 0)\n",
    "\n",
    "    test_pallet_X, test_pallet_y=get_samples(\"pallet_rectangles_gradient\", test_scenes, 1)\n",
    "    test_background_X, test_background_y=get_samples(\"background_rectangles_gradient\", test_scenes, 0)\n",
    "\n",
    "    X_train = np.vstack((train_pallet_X,train_background_X))\n",
    "    X_test = np.vstack((test_pallet_X,test_background_X))\n",
    "    y_train = np.hstack((train_pallet_y,train_background_y))\n",
    "    y_test = np.hstack((test_pallet_y,test_background_y))\n",
    "    \n",
    "    return X_train, X_test, y_train, y_test"
   ]
  },
  {
   "cell_type": "code",
   "execution_count": 7,
   "metadata": {},
   "outputs": [
    {
     "name": "stdout",
     "output_type": "stream",
     "text": [
      "acc:  0.945985401459854  f1:  0.8438818565400844  prec:  1.0  rec:  0.7299270072992701\n"
     ]
    }
   ],
   "source": [
    "def classify_gradient(train_scenes, test_scenes, fold_name, persist=False)\n",
    "    X_train, X_test, y_train, y_test = get_gradient_data(train_scenes, test_scenes)\n",
    "    clf = RandomForestClassifier(128, n_jobs=-1) #128 is as fast as lower sizes and as accurate as greater sizes\n",
    "    clf.fit(X_train, y_train)\n",
    "    y_pred=clf.predict(X_test)\n",
    "\n",
    "    acc=accuracy_score(y_test, y_pred)\n",
    "    prec=precision_score(y_test, y_pred)\n",
    "    rec=recall_score(y_test, y_pred)\n",
    "    f1=f1_score(y_test, y_pred)\n",
    "    \n",
    "    if persist:\n",
    "        dump(clf, \"rand_forest_clf_{}.joblib\".format(fold_name)) \n",
    "    #print(\"acc: \",acc,\" f1: \",f1,\" prec: \",prec,\" rec: \",rec)\n",
    "    return acc, prec, rec, f1, clf"
   ]
  },
  {
   "cell_type": "code",
   "execution_count": 9,
   "metadata": {},
   "outputs": [
    {
     "name": "stdout",
     "output_type": "stream",
     "text": [
      "[[548   0]\n",
      " [ 37 100]]\n"
     ]
    },
    {
     "data": {
      "text/plain": [
       "<matplotlib.axes._subplots.AxesSubplot at 0x7fbc3855d240>"
      ]
     },
     "execution_count": 9,
     "metadata": {},
     "output_type": "execute_result"
    },
    {
     "data": {
      "image/png": "[encoded data removed]",
      "text/plain": [
       "<Figure size 288x288 with 2 Axes>"
      ]
     },
     "metadata": {},
     "output_type": "display_data"
    }
   ],
   "source": [
    "def visualize_confusion_matrix(y_true, y_pred, classes,\n",
    "                          title=None):\n",
    "\n",
    "    sns.set_style(\"whitegrid\", {'axes.grid' : False})\n",
    "    cm = confusion_matrix(y_true, y_pred)\n",
    "    print(cm)\n",
    "\n",
    "    fig, ax = plt.subplots(figsize=(4,4))\n",
    "    im = ax.imshow(cm, interpolation='nearest', cmap=plt.cm.Blues)\n",
    "    ax.figure.colorbar(im, ax=ax)\n",
    "    \n",
    "    #setting labels\n",
    "    ax.set(xticks=np.arange(cm.shape[1]),\n",
    "           yticks=np.arange(cm.shape[0]),\n",
    "\n",
    "           xticklabels=classes, yticklabels=classes,\n",
    "           title=title,\n",
    "           ylabel='Etykieta',\n",
    "           xlabel='Predykcja')\n",
    "\n",
    "    # label rotation\n",
    "    plt.setp(ax.get_xticklabels(), rotation=45, ha=\"right\",\n",
    "             rotation_mode=\"anchor\")\n",
    "\n",
    "    # text annotations\n",
    "    fmt = 'd'\n",
    "    thresh = cm.max() / 2.\n",
    "    for i in range(cm.shape[0]):\n",
    "        for j in range(cm.shape[1]):\n",
    "            ax.text(j, i, format(cm[i, j], fmt),\n",
    "                    ha=\"center\", va=\"center\",\n",
    "                    color=\"white\" if cm[i, j] > thresh else \"black\")\n",
    "    #bug workarond\n",
    "    ax.set_ylim(len(classes)-0.5, -0.5)\n",
    "    return ax\n",
    "\n",
    "#visualize_confusion_matrix(y_test, y_pred, [\"paleta\", \"tło\"], title=None)"
   ]
  },
  {
   "cell_type": "markdown",
   "metadata": {},
   "source": [
    "# Color features - NaiveBayes"
   ]
  },
  {
   "cell_type": "code",
   "execution_count": 12,
   "metadata": {},
   "outputs": [],
   "source": [
    "# pallet_pix_counts=[41068636, 2327190, 22568602]\n",
    "# pallet_pix_count_map=dict(zip(COLORS, pallet_pix_counts))"
   ]
  },
  {
   "cell_type": "code",
   "execution_count": 13,
   "metadata": {},
   "outputs": [],
   "source": [
    "# def readnsplit(color):\n",
    "#     #-------------y-------------------------\n",
    "#     pallet_pix_count=pallet_pix_count_map[color]\n",
    "#     background_pix_count=pallet_pix_count*2\n",
    "    \n",
    "#     pallet_y=np.ones(pallet_pix_count, dtype=bool)\n",
    "#     background_y=np.zeros(background_pix_count, dtype=bool)\n",
    "\n",
    "#     y=np.hstack((pallet_y,background_y))\n",
    "\n",
    "#     pallet_y=None\n",
    "#     background_y=None\n",
    "\n",
    "#     sss = StratifiedShuffleSplit(n_splits=1, test_size=0.3, random_state=0)\n",
    "#     sss.get_n_splits(y, y)\n",
    "#     train_index, test_index = list(sss.split(y, y))[0]\n",
    "#     sss=None\n",
    "\n",
    "#     y_train, y_test = y[train_index], y[test_index]\n",
    "#     y=None\n",
    "\n",
    "#     #-------------X-------------------------\n",
    "#     background_X=np.load(PROJECT_PATH+\"backgrounds_color.npy\", allow_pickle=True)\n",
    "#     background_X=np.array([np.hstack(x) for x in background_X])\n",
    "#     background_X=np.concatenate(background_X, 0)\n",
    "#     indices=range(len(background_X))\n",
    "#     indices=random.sample(indices, background_pix_count)\n",
    "#     background_X=background_X[indices]\n",
    "    \n",
    "#     pallet_X=np.load(PROJECT_PATH+\"pallets_color_{}.npy\".format(color), allow_pickle=True)\n",
    "#     pallet_X=np.array([np.hstack(x) for x in pallet_X])\n",
    "#     pallet_X=np.concatenate(pallet_X, 0)\n",
    "\n",
    "#     X=np.vstack((pallet_X,background_X))\n",
    "\n",
    "#     pallet_X=None\n",
    "#     background_X=None\n",
    "\n",
    "#     X_train, X_test = X[train_index], X[test_index]\n",
    "#     X=None\n",
    "#     return X_train, X_test, y_train, y_test"
   ]
  },
  {
   "cell_type": "code",
   "execution_count": 34,
   "metadata": {},
   "outputs": [],
   "source": [
    "def get_color_data(train_scenes, test_scenes, color):\n",
    "    def get_samples(feature, scenes, y_val, color=None):\n",
    "        X = [np.load(get_existing_clf_ds_filepath(feature, s, color), allow_pickle=True) for s in scenes]\n",
    "        X = [x for x in X if len(x) > 0]\n",
    "        X = np.concatenate(X)\n",
    "        X = np.array([np.hstack(x) for x in X])\n",
    "        X= np.concatenate(X, 0)\n",
    "        y=np.full(len(X), y_val)\n",
    "        return X,y\n",
    "\n",
    "    train_pallet_X, train_pallet_y=get_samples(\"pallets_color\", train_scenes, 1, color)\n",
    "    train_background_X, train_background_y=get_samples(\"backgrounds_color\", train_scenes, 0)\n",
    "\n",
    "    test_pallet_X, test_pallet_y=get_samples(\"pallets_color\", test_scenes, 1, color)\n",
    "    test_background_X, test_background_y=get_samples(\"backgrounds_color\", test_scenes, 0)\n",
    "\n",
    "    X_train = np.vstack((train_pallet_X,train_background_X))\n",
    "    X_test = np.vstack((test_pallet_X,test_background_X))\n",
    "    y_train = np.hstack((train_pallet_y,train_background_y))\n",
    "    y_test = np.hstack((test_pallet_y,test_background_y))\n",
    "    \n",
    "    return X_train, X_test, y_train, y_test"
   ]
  },
  {
   "cell_type": "code",
   "execution_count": 35,
   "metadata": {},
   "outputs": [],
   "source": [
    "def classify_color(color, train_scenes, test_scenes, fold_name, persist):  \n",
    "    X_train, X_test, y_train, y_test=get_color_data(train_scenes, test_scenes, color)\n",
    "    clf = GaussianNB()\n",
    "    clf.fit(X_train, y_train)\n",
    "    X_train=None\n",
    "    y_train=None\n",
    "    y_pred=clf.predict(X_test)\n",
    "    X_test=None\n",
    "\n",
    "    acc=accuracy_score(y_test, y_pred)\n",
    "    f1=f1_score(y_test, y_pred)\n",
    "    prec=precision_score(y_test, y_pred)\n",
    "    rec=recall_score(y_test, y_pred)\n",
    "    cm=confusion_matrix(y_test, y_pred, labels=[True, False])\n",
    "\n",
    "    if persist:\n",
    "        dump(clf, 'naive_bayes_clf_{}_{}.joblib'.format(color, fold_name))\n",
    "    #     print(\"acc: \",acc,\" f1: \",f1,\" prec: \",prec,\" rec: \",rec)\n",
    "    #     print(cm)\n",
    "    return acc, prec, rec, f1, clf\n"
   ]
  },
  {
   "cell_type": "code",
   "execution_count": 36,
   "metadata": {},
   "outputs": [
    {
     "name": "stdout",
     "output_type": "stream",
     "text": [
      "blue\n",
      "acc:  0.9162741484906277  f1:  0.8451655212794522  prec:  0.7801153604387941  rec:  0.9220510320372187\n",
      "[[2212798  187067]\n",
      " [ 623703 6660060]]\n",
      "dark\n",
      "acc:  0.9203908959244943  f1:  0.6519227719029129  prec:  0.558045092505196  rec:  0.783773899846273\n",
      "[[ 600091  165552]\n",
      " [ 475254 6808509]]\n",
      "wooden\n",
      "acc:  0.9503026851177495  f1:  0.7017684616163444  prec:  0.5988835548201028  rec:  0.8473361623623071\n",
      "[[ 457459   82420]\n",
      " [ 306394 6977369]]\n"
     ]
    }
   ],
   "source": [
    "def classify_colors(train_scenes, test_scenes, fold_name, persist=False):\n",
    "    for color in COLORS:\n",
    "        classify_color(color, train_scenes, test_scenes, fold_name, persist)"
   ]
  }
 ],
 "metadata": {
  "kernelspec": {
   "display_name": "Python 3",
   "language": "python",
   "name": "python3"
  },
  "language_info": {
   "codemirror_mode": {
    "name": "ipython",
    "version": 3
   },
   "file_extension": ".py",
   "mimetype": "text/x-python",
   "name": "python",
   "nbconvert_exporter": "python",
   "pygments_lexer": "ipython3",
   "version": "3.6.9"
  }
 },
 "nbformat": 4,
 "nbformat_minor": 2
}
