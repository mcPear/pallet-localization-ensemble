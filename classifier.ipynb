{
 "cells": [
  {
   "cell_type": "code",
   "execution_count": 8,
   "metadata": {},
   "outputs": [],
   "source": [
    "import cv2\n",
    "from sklearn.ensemble import AdaBoostClassifier\n",
    "from sklearn.datasets import make_classification\n",
    "from sklearn.tree import DecisionTreeClassifier"
   ]
  },
  {
   "cell_type": "code",
   "execution_count": 14,
   "metadata": {},
   "outputs": [
    {
     "name": "stdout",
     "output_type": "stream",
     "text": [
      "X (1000,)\n"
     ]
    },
    {
     "data": {
      "text/plain": [
       "1"
      ]
     },
     "execution_count": 14,
     "metadata": {},
     "output_type": "execute_result"
    }
   ],
   "source": [
    "X, y = make_classification(n_samples=1000, n_features=4,\n",
    "                            n_informative=2, n_redundant=0,\n",
    "                            random_state=0, shuffle=False)\n",
    "base_classifier=DecisionTreeClassifier(max_depth=2)\n",
    "clf = AdaBoostClassifier(base_classifier, 2048, random_state=0)\n",
    "print('X',y.shape)\n",
    "clf.fit(X, y)\n",
    "clf.predict([[0, 0, 0, 0]])\n",
    "#clf.score(X, y)"
   ]
  },
  {
   "cell_type": "code",
   "execution_count": 15,
   "metadata": {},
   "outputs": [],
   "source": [
    "#ACF:\n",
    "#1237 osób\n",
    "#4280 tła - zupełnie bez palety\n",
    "\n",
    "Viano\n",
    "7124/6700 zdjęć\n",
    "9047 palet\n",
    "37 scen\n",
    "181 obrazów per scena\n",
    "\n",
    "Można wziąć 20 procent zróżnicowanych scen, czyli kilka i na nich nauczyć. \n",
    "Negatywnych wziąć losowo 2x więcej niż pozytywnych.\n",
    "\n",
    "Można też zrobić rozkład wysokości punktów i obciąć od góry i dołu zdjęcia tak, \n",
    "żeby wiekszość się mieściła.\n",
    "\n",
    "Kolory można zaznaczyć tak, że z zaznaczonej ramki wyciąć ształt palety i już. A tło wyciąć z tła.\n",
    "\n",
    "stack_1 i stack_2 odrzucam, bo za dużo zaznaczania, za bardzo krzywe i trudniej będzię oznaczyć kolor"
   ]
  }
 ],
 "metadata": {
  "kernelspec": {
   "display_name": "Python 3",
   "language": "python",
   "name": "python3"
  },
  "language_info": {
   "codemirror_mode": {
    "name": "ipython",
    "version": 3
   },
   "file_extension": ".py",
   "mimetype": "text/x-python",
   "name": "python",
   "nbconvert_exporter": "python",
   "pygments_lexer": "ipython3",
   "version": "3.6.9"
  }
 },
 "nbformat": 4,
 "nbformat_minor": 2
}
