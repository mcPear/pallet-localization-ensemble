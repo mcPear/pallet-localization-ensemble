{
 "cells": [
  {
   "cell_type": "code",
   "execution_count": 99,
   "metadata": {},
   "outputs": [],
   "source": [
    "import cv2\n",
    "from sklearn.ensemble import RandomForestClassifier\n",
    "from sklearn.datasets import make_classification\n",
    "from sklearn.tree import DecisionTreeClassifier\n",
    "from sklearn.model_selection import StratifiedShuffleSplit\n",
    "from dataset_io import *\n",
    "import numpy as np\n",
    "from joblib import dump, load\n",
    "import timeit\n",
    "\n",
    "from sklearn.metrics import accuracy_score, f1_score"
   ]
  },
  {
   "cell_type": "code",
   "execution_count": 100,
   "metadata": {},
   "outputs": [
    {
     "name": "stdout",
     "output_type": "stream",
     "text": [
      "(2591, 24, 120, 8)\n",
      "(7170, 24, 120, 8)\n"
     ]
    }
   ],
   "source": [
    "pallet_X=np.load(PROJECT_PATH+\"pallet_rectangles_channels.npy\")\n",
    "background_X=np.load(PROJECT_PATH+\"background_rectangles_channels.npy\")\n",
    "\n",
    "pallet_X=[np.dstack(x) for x in pallet_X]\n",
    "background_X=[np.dstack(x) for x in background_X]\n",
    "\n",
    "print(np.array(pallet_X).shape)\n",
    "print(np.array(background_X).shape)\n",
    "\n",
    "pallet_X=[x.flatten() for x in pallet_X]\n",
    "background_X=[x.flatten() for x in background_X]\n",
    "\n",
    "pallet_y=np.ones(len(pallet_X))\n",
    "background_y=np.zeros(len(background_X))\n",
    "\n",
    "X=np.vstack((pallet_X,background_X))\n",
    "y=np.hstack((pallet_y,background_y))\n",
    "\n",
    "sss = StratifiedShuffleSplit(n_splits=1, test_size=0.3, random_state=0)\n",
    "sss.get_n_splits(X, y)\n",
    "train_index, test_index = list(sss.split(X, y))[0]\n",
    "X_train, X_test = X[train_index], X[test_index]\n",
    "y_train, y_test = y[train_index], y[test_index]"
   ]
  },
  {
   "cell_type": "code",
   "execution_count": 101,
   "metadata": {},
   "outputs": [
    {
     "name": "stdout",
     "output_type": "stream",
     "text": [
      "acc:  0.99795151928986  f1:  0.9961489088575095\n"
     ]
    }
   ],
   "source": [
    "clf = RandomForestClassifier(128, n_jobs=-1) #128 is as fast as lower sizes and as accurate as greater sizes\n",
    "clf.fit(X_train, y_train)\n",
    "y_pred=clf.predict(X_test)\n",
    "\n",
    "acc=accuracy_score(y_test, y_pred)\n",
    "f1=f1_score(y_test, y_pred)\n",
    "\n",
    "print(\"acc: \",acc,\" f1: \",f1)"
   ]
  },
  {
   "cell_type": "code",
   "execution_count": 102,
   "metadata": {},
   "outputs": [
    {
     "data": {
      "text/plain": [
       "['rand_forest_clf.joblib']"
      ]
     },
     "execution_count": 102,
     "metadata": {},
     "output_type": "execute_result"
    }
   ],
   "source": [
    "dump(clf, 'rand_forest_clf.joblib') "
   ]
  },
  {
   "cell_type": "markdown",
   "metadata": {},
   "source": [
    "### Compare original and dumped classifier speed"
   ]
  },
  {
   "cell_type": "code",
   "execution_count": 103,
   "metadata": {},
   "outputs": [
    {
     "data": {
      "text/plain": [
       "5.3880882159992325"
      ]
     },
     "execution_count": 103,
     "metadata": {},
     "output_type": "execute_result"
    }
   ],
   "source": [
    "def predict_test():\n",
    "    y_pred=clf.predict(X_test[:1])\n",
    "\n",
    "timeit.timeit(predict_test, number=50)"
   ]
  },
  {
   "cell_type": "code",
   "execution_count": 104,
   "metadata": {},
   "outputs": [
    {
     "data": {
      "text/plain": [
       "5.390514238000833"
      ]
     },
     "execution_count": 104,
     "metadata": {},
     "output_type": "execute_result"
    }
   ],
   "source": [
    "clf_load = load('rand_forest_clf.joblib') \n",
    "\n",
    "def predict_test_load():\n",
    "    y_pred=clf_load.predict(X_test[:1])\n",
    "\n",
    "timeit.timeit(predict_test_load, number=50)"
   ]
  }
 ],
 "metadata": {
  "kernelspec": {
   "display_name": "Python 3",
   "language": "python",
   "name": "python3"
  },
  "language_info": {
   "codemirror_mode": {
    "name": "ipython",
    "version": 3
   },
   "file_extension": ".py",
   "mimetype": "text/x-python",
   "name": "python",
   "nbconvert_exporter": "python",
   "pygments_lexer": "ipython3",
   "version": "3.6.9"
  }
 },
 "nbformat": 4,
 "nbformat_minor": 2
}
