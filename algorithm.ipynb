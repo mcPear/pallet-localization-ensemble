{
 "cells": [
  {
   "cell_type": "code",
   "execution_count": 1,
   "metadata": {},
   "outputs": [],
   "source": [
    "import cv2\n",
    "import numpy as np\n",
    "import cupy as cp\n",
    "import time\n",
    "import imutils\n",
    "from joblib import load\n",
    "from dataset_io import *\n",
    "import timeit\n",
    "from tqdm import tqdm\n",
    "import psutil\n",
    "from datetime import datetime\n",
    "import cProfile"
   ]
  },
  {
   "cell_type": "code",
   "execution_count": 2,
   "metadata": {},
   "outputs": [],
   "source": [
    "def pyramid(image, split_channels, initial_scale, final_scale, scale):\n",
    "    original_w=image.shape[1]\n",
    "    curr_scale=initial_scale\n",
    "    while curr_scale>final_scale/scale:\n",
    "        w = int(original_w * curr_scale)\n",
    "        yield imutils.resize(image, width=w), [imutils.resize(ch, width=w) for ch in split_channels],curr_scale\n",
    "        curr_scale/=scale\n",
    "        \n",
    "def sliding_window(image, stepSize, windowSize):\n",
    "    for y in range(0, image.shape[0], stepSize):\n",
    "        for x in range(0, image.shape[1], stepSize):\n",
    "            yield (x, y, image[y:y + windowSize[1], x:x + windowSize[0]])"
   ]
  },
  {
   "cell_type": "code",
   "execution_count": 3,
   "metadata": {},
   "outputs": [],
   "source": [
    "def area(rect):\n",
    "    ((x,y),(x2,y2))=rect\n",
    "    return (x2-x)*(y2-y)\n",
    "\n",
    "def calc_overlapping(a,b,method):\n",
    "    dx = min(a[1][0], b[1][0]) - max(a[0][0], b[0][0])\n",
    "    dy = min(a[1][1], b[1][1]) - max(a[0][1], b[0][1])\n",
    "    basic_area=method([area(a), area(b)])\n",
    "    overlap_area=dx*dy\n",
    "    is_overlapping=((dx>=0) and (dy>=0))\n",
    "    overlapping_ratio=overlap_area/basic_area\n",
    "    \n",
    "    return overlapping_ratio if is_overlapping else 0\n",
    "\n",
    "def scale_many(vals, scale):\n",
    "    return [int(val/scale) for val in vals]"
   ]
  },
  {
   "cell_type": "markdown",
   "metadata": {},
   "source": [
    "## Load classifier"
   ]
  },
  {
   "cell_type": "code",
   "execution_count": null,
   "metadata": {},
   "outputs": [],
   "source": [
    "os.chdir(PROJECT_PATH)\n",
    "clf = load('rand_forest_clf.joblib') \n",
    "clf.set_params(n_jobs=-1)"
   ]
  },
  {
   "cell_type": "markdown",
   "metadata": {},
   "source": [
    "## Set params"
   ]
  },
  {
   "cell_type": "code",
   "execution_count": null,
   "metadata": {},
   "outputs": [],
   "source": [
    "(winW, winH) = (120,24)\n",
    "channels_no=8\n",
    "DS_min_winH_m=41\n",
    "DS_max_winH_m=287\n",
    "initial_scale=winH/DS_min_winH_m\n",
    "final_scale=winH/DS_max_winH_m\n",
    "RESIZING_SCALE=1.15\n",
    "MAX_PRED_OVERLAPPING=0.5\n",
    "MIN_PRED=0.8\n",
    "WHITE=(255, 255, 255)\n",
    "DRAW_BORDER=2"
   ]
  },
  {
   "cell_type": "code",
   "execution_count": 4,
   "metadata": {},
   "outputs": [],
   "source": [
    "def show(img, x, y, winW, winH, positives=[]):\n",
    "    clone = img.copy()\n",
    "    cv2.rectangle(clone, (x, y), (x + winW, y + winH), WHITE, DRAW_BORDER)\n",
    "    for p in positives:\n",
    "        x,y=p\n",
    "        cv2.rectangle(clone, (x, y), (x + winW, y + winH), WHITE, DRAW_BORDER)\n",
    "    cv2.imshow(\"Window\", clone)\n",
    "    cv2.waitKey(1)\n",
    "\n",
    "def pred_overlapping(row, scaled_rect):\n",
    "    x,y,h,w = scaled_rect\n",
    "    a = ((x,y),(x+w,y+h))\n",
    "    [scene_name, filename, scale, (rx,ry)] = row\n",
    "    [rx,ry,rw,rh] = scale_many([rx,ry,winW,winH], scale)\n",
    "    b = ((rx,ry),(rx+rw,ry+rh))\n",
    "\n",
    "    return calc_overlapping(a,b,np.min)\n",
    "    \n",
    "def image_predict(X,IDX,rects_count):\n",
    "    global glob_RES\n",
    "    if len(X)!=0 and rects_count>0:\n",
    "        pred=np.array([p[1] for p in clf.predict_proba(X)])\n",
    "        greater_than_09=pred > MIN_PRED\n",
    "        pred=pred[greater_than_09]\n",
    "        IDX=IDX[greater_than_09]\n",
    "        max_pred_ids=[]\n",
    "        max_preds=[]\n",
    "        max_pred_IDXs=[]\n",
    "        for i in range(rects_count):\n",
    "            if len(pred) >0:\n",
    "                max_pred_id=np.argmax(pred)\n",
    "                max_pred=pred[max_pred_id]\n",
    "                max_preds.append(max_pred)\n",
    "                max_pred_IDX=IDX[max_pred_id]\n",
    "                max_pred_IDXs.append(max_pred_IDX)\n",
    "\n",
    "                [scene_name, filename, scale, (x,y)]=max_pred_IDX\n",
    "                scaled_rect=scale_many([x,y,winW,winH], scale)\n",
    "\n",
    "                not_within_bools = np.array([pred_overlapping(row, scaled_rect) < MAX_PRED_OVERLAPPING for row in IDX])\n",
    "                pred=pred[not_within_bools]\n",
    "                IDX=IDX[not_within_bools]\n",
    "            else:\n",
    "                print(\"No more predictions with prob > 0.8\")\n",
    "        if len(max_preds)>0:\n",
    "            max_preds=np.array([[e] for e in max_preds])\n",
    "            res=np.append(max_pred_IDXs, max_preds, 1)\n",
    "            glob_RES=np.vstack([glob_RES,res])\n",
    "    \n",
    "def predict(filename, scene_name, label_resolution, rects):\n",
    "    X=[]\n",
    "    IDX=[]\n",
    "    \n",
    "    image=imread_resized(scene_name, filename, label_resolution)\n",
    "    split_channels=read_split_channels(scene_name, filename)\n",
    "    for resized_img, resized_split_ch, scale in pyramid(image, split_channels, initial_scale, final_scale, scale=RESIZING_SCALE):\n",
    "        resized_ch=np.dstack(resized_split_ch)\n",
    "        for (x, y, window) in sliding_window(resized_img, stepSize=4, windowSize=(winW, winH)):\n",
    "            # if the window does not meet our desired window size, ignore it\n",
    "            if window.shape[0] != winH or window.shape[1] != winW:\n",
    "                continue\n",
    "            channels_window=resized_ch[y:y + winH, x:x + winW]\n",
    "            X.append(channels_window)\n",
    "            row=[scene_name, filename, scale, (x,y)]\n",
    "            IDX.append(row)\n",
    "    X=np.reshape(X,(len(X),winW*winH*channels_no)) #cupy does not help\n",
    "    image_predict(X,np.array(IDX), len(rects))"
   ]
  },
  {
   "cell_type": "code",
   "execution_count": 5,
   "metadata": {
    "scrolled": true
   },
   "outputs": [],
   "source": [
    "glob_RES=np.empty((0,5), object)\n",
    "\n",
    "glob_DATETIME = datetime.now().strftime(\"%d-%m-%Y_%H:%M:%S\")\n",
    "\n",
    "def predict_all():\n",
    "    [predict(*row) for row in tqdm([row for row in walk_dataset()])]# if row[1]==\"warehouse_1\"])]# and row[0]==\"r_1_0.jpg\"])]"
   ]
  },
  {
   "cell_type": "code",
   "execution_count": 6,
   "metadata": {
    "scrolled": true
   },
   "outputs": [
    {
     "name": "stderr",
     "output_type": "stream",
     "text": [
      " 11%|█         | 225/2092 [06:25<59:43,  1.92s/it]  "
     ]
    },
    {
     "name": "stdout",
     "output_type": "stream",
     "text": [
      "No more predictions with prob > 0.8\n"
     ]
    },
    {
     "name": "stderr",
     "output_type": "stream",
     "text": [
      " 11%|█         | 235/2092 [06:44<58:12,  1.88s/it]"
     ]
    },
    {
     "name": "stdout",
     "output_type": "stream",
     "text": [
      "No more predictions with prob > 0.8\n"
     ]
    },
    {
     "name": "stderr",
     "output_type": "stream",
     "text": [
      " 12%|█▏        | 243/2092 [06:59<59:36,  1.93s/it]  "
     ]
    },
    {
     "name": "stdout",
     "output_type": "stream",
     "text": [
      "No more predictions with prob > 0.8\n"
     ]
    },
    {
     "name": "stderr",
     "output_type": "stream",
     "text": [
      " 12%|█▏        | 253/2092 [07:18<58:01,  1.89s/it]  "
     ]
    },
    {
     "name": "stdout",
     "output_type": "stream",
     "text": [
      "No more predictions with prob > 0.8\n"
     ]
    },
    {
     "name": "stderr",
     "output_type": "stream",
     "text": [
      " 12%|█▏        | 255/2092 [07:22<58:46,  1.92s/it]"
     ]
    },
    {
     "name": "stdout",
     "output_type": "stream",
     "text": [
      "No more predictions with prob > 0.8\n"
     ]
    },
    {
     "name": "stderr",
     "output_type": "stream",
     "text": [
      "\r",
      " 12%|█▏        | 256/2092 [07:24<58:45,  1.92s/it]"
     ]
    },
    {
     "name": "stdout",
     "output_type": "stream",
     "text": [
      "No more predictions with prob > 0.8\n"
     ]
    },
    {
     "name": "stderr",
     "output_type": "stream",
     "text": [
      "\r",
      " 12%|█▏        | 257/2092 [07:26<58:15,  1.91s/it]"
     ]
    },
    {
     "name": "stdout",
     "output_type": "stream",
     "text": [
      "No more predictions with prob > 0.8\n"
     ]
    },
    {
     "name": "stderr",
     "output_type": "stream",
     "text": [
      " 12%|█▏        | 260/2092 [07:31<57:16,  1.88s/it]"
     ]
    },
    {
     "name": "stdout",
     "output_type": "stream",
     "text": [
      "No more predictions with prob > 0.8\n"
     ]
    },
    {
     "name": "stderr",
     "output_type": "stream",
     "text": [
      "\r",
      " 12%|█▏        | 261/2092 [07:33<58:33,  1.92s/it]"
     ]
    },
    {
     "name": "stdout",
     "output_type": "stream",
     "text": [
      "No more predictions with prob > 0.8\n"
     ]
    },
    {
     "name": "stderr",
     "output_type": "stream",
     "text": [
      "\r",
      " 13%|█▎        | 262/2092 [07:35<58:26,  1.92s/it]"
     ]
    },
    {
     "name": "stdout",
     "output_type": "stream",
     "text": [
      "No more predictions with prob > 0.8\n"
     ]
    },
    {
     "name": "stderr",
     "output_type": "stream",
     "text": [
      "\r",
      " 13%|█▎        | 263/2092 [07:37<58:47,  1.93s/it]"
     ]
    },
    {
     "name": "stdout",
     "output_type": "stream",
     "text": [
      "No more predictions with prob > 0.8\n"
     ]
    },
    {
     "name": "stderr",
     "output_type": "stream",
     "text": [
      " 14%|█▍        | 298/2092 [08:34<49:07,  1.64s/it]"
     ]
    },
    {
     "name": "stdout",
     "output_type": "stream",
     "text": [
      "No more predictions with prob > 0.8\n"
     ]
    },
    {
     "name": "stderr",
     "output_type": "stream",
     "text": [
      " 15%|█▍        | 304/2092 [08:44<48:45,  1.64s/it]"
     ]
    },
    {
     "name": "stdout",
     "output_type": "stream",
     "text": [
      "No more predictions with prob > 0.8\n"
     ]
    },
    {
     "name": "stderr",
     "output_type": "stream",
     "text": [
      " 15%|█▍        | 308/2092 [08:50<48:18,  1.62s/it]"
     ]
    },
    {
     "name": "stdout",
     "output_type": "stream",
     "text": [
      "No more predictions with prob > 0.8\n"
     ]
    },
    {
     "name": "stderr",
     "output_type": "stream",
     "text": [
      " 15%|█▌        | 314/2092 [09:00<47:31,  1.60s/it]"
     ]
    },
    {
     "name": "stdout",
     "output_type": "stream",
     "text": [
      "No more predictions with prob > 0.8\n"
     ]
    },
    {
     "name": "stderr",
     "output_type": "stream",
     "text": [
      " 15%|█▌        | 316/2092 [09:03<48:53,  1.65s/it]"
     ]
    },
    {
     "name": "stdout",
     "output_type": "stream",
     "text": [
      "No more predictions with prob > 0.8\n"
     ]
    },
    {
     "name": "stderr",
     "output_type": "stream",
     "text": [
      " 18%|█▊        | 384/2092 [10:55<47:18,  1.66s/it]"
     ]
    },
    {
     "name": "stdout",
     "output_type": "stream",
     "text": [
      "No more predictions with prob > 0.8\n"
     ]
    },
    {
     "name": "stderr",
     "output_type": "stream",
     "text": [
      " 19%|█▊        | 388/2092 [11:03<53:37,  1.89s/it]"
     ]
    },
    {
     "name": "stdout",
     "output_type": "stream",
     "text": [
      "No more predictions with prob > 0.8\n"
     ]
    },
    {
     "name": "stderr",
     "output_type": "stream",
     "text": [
      " 19%|█▊        | 390/2092 [11:07<55:04,  1.94s/it]"
     ]
    },
    {
     "name": "stdout",
     "output_type": "stream",
     "text": [
      "No more predictions with prob > 0.8\n"
     ]
    },
    {
     "name": "stderr",
     "output_type": "stream",
     "text": [
      "\r",
      " 19%|█▊        | 391/2092 [11:09<54:50,  1.93s/it]"
     ]
    },
    {
     "name": "stdout",
     "output_type": "stream",
     "text": [
      "No more predictions with prob > 0.8\n"
     ]
    },
    {
     "name": "stderr",
     "output_type": "stream",
     "text": [
      " 19%|█▉        | 393/2092 [11:13<55:05,  1.95s/it]"
     ]
    },
    {
     "name": "stdout",
     "output_type": "stream",
     "text": [
      "No more predictions with prob > 0.8\n"
     ]
    },
    {
     "name": "stderr",
     "output_type": "stream",
     "text": [
      "\r",
      " 19%|█▉        | 394/2092 [11:15<54:49,  1.94s/it]"
     ]
    },
    {
     "name": "stdout",
     "output_type": "stream",
     "text": [
      "No more predictions with prob > 0.8\n"
     ]
    },
    {
     "name": "stderr",
     "output_type": "stream",
     "text": [
      "\r",
      " 19%|█▉        | 395/2092 [11:17<56:23,  1.99s/it]"
     ]
    },
    {
     "name": "stdout",
     "output_type": "stream",
     "text": [
      "No more predictions with prob > 0.8\n"
     ]
    },
    {
     "name": "stderr",
     "output_type": "stream",
     "text": [
      " 19%|█▉        | 399/2092 [11:25<56:38,  2.01s/it]"
     ]
    },
    {
     "name": "stdout",
     "output_type": "stream",
     "text": [
      "No more predictions with prob > 0.8\n"
     ]
    },
    {
     "name": "stderr",
     "output_type": "stream",
     "text": [
      "\r",
      " 19%|█▉        | 400/2092 [11:27<57:43,  2.05s/it]"
     ]
    },
    {
     "name": "stdout",
     "output_type": "stream",
     "text": [
      "No more predictions with prob > 0.8\n"
     ]
    },
    {
     "name": "stderr",
     "output_type": "stream",
     "text": [
      " 19%|█▉        | 404/2092 [11:35<57:36,  2.05s/it]"
     ]
    },
    {
     "name": "stdout",
     "output_type": "stream",
     "text": [
      "No more predictions with prob > 0.8\n"
     ]
    },
    {
     "name": "stderr",
     "output_type": "stream",
     "text": [
      "\r",
      " 19%|█▉        | 405/2092 [11:37<58:04,  2.07s/it]"
     ]
    },
    {
     "name": "stdout",
     "output_type": "stream",
     "text": [
      "No more predictions with prob > 0.8\n"
     ]
    },
    {
     "name": "stderr",
     "output_type": "stream",
     "text": [
      "\r",
      " 19%|█▉        | 406/2092 [11:39<57:45,  2.06s/it]"
     ]
    },
    {
     "name": "stdout",
     "output_type": "stream",
     "text": [
      "No more predictions with prob > 0.8\n"
     ]
    },
    {
     "name": "stderr",
     "output_type": "stream",
     "text": [
      "\r",
      " 19%|█▉        | 407/2092 [11:41<56:47,  2.02s/it]"
     ]
    },
    {
     "name": "stdout",
     "output_type": "stream",
     "text": [
      "No more predictions with prob > 0.8\n"
     ]
    },
    {
     "name": "stderr",
     "output_type": "stream",
     "text": [
      " 20%|█▉        | 411/2092 [11:49<55:30,  1.98s/it]"
     ]
    },
    {
     "name": "stdout",
     "output_type": "stream",
     "text": [
      "No more predictions with prob > 0.8\n"
     ]
    },
    {
     "name": "stderr",
     "output_type": "stream",
     "text": [
      "\r",
      " 20%|█▉        | 412/2092 [11:51<55:05,  1.97s/it]"
     ]
    },
    {
     "name": "stdout",
     "output_type": "stream",
     "text": [
      "No more predictions with prob > 0.8\n"
     ]
    },
    {
     "name": "stderr",
     "output_type": "stream",
     "text": [
      "\r",
      " 20%|█▉        | 413/2092 [11:53<53:52,  1.93s/it]"
     ]
    },
    {
     "name": "stdout",
     "output_type": "stream",
     "text": [
      "No more predictions with prob > 0.8\n"
     ]
    },
    {
     "name": "stderr",
     "output_type": "stream",
     "text": [
      "\r",
      " 20%|█▉        | 414/2092 [11:55<53:16,  1.90s/it]"
     ]
    },
    {
     "name": "stdout",
     "output_type": "stream",
     "text": [
      "No more predictions with prob > 0.8\n"
     ]
    },
    {
     "name": "stderr",
     "output_type": "stream",
     "text": [
      "\r",
      " 20%|█▉        | 415/2092 [11:57<53:26,  1.91s/it]"
     ]
    },
    {
     "name": "stdout",
     "output_type": "stream",
     "text": [
      "No more predictions with prob > 0.8\n"
     ]
    },
    {
     "name": "stderr",
     "output_type": "stream",
     "text": [
      "\r",
      " 20%|█▉        | 416/2092 [11:59<52:36,  1.88s/it]"
     ]
    },
    {
     "name": "stdout",
     "output_type": "stream",
     "text": [
      "No more predictions with prob > 0.8\n"
     ]
    },
    {
     "name": "stderr",
     "output_type": "stream",
     "text": [
      " 20%|█▉        | 418/2092 [12:02<51:51,  1.86s/it]"
     ]
    },
    {
     "name": "stdout",
     "output_type": "stream",
     "text": [
      "No more predictions with prob > 0.8\n"
     ]
    },
    {
     "name": "stderr",
     "output_type": "stream",
     "text": [
      "\r",
      " 20%|██        | 419/2092 [12:04<51:30,  1.85s/it]"
     ]
    },
    {
     "name": "stdout",
     "output_type": "stream",
     "text": [
      "No more predictions with prob > 0.8\n"
     ]
    },
    {
     "name": "stderr",
     "output_type": "stream",
     "text": [
      " 20%|██        | 421/2092 [12:08<51:38,  1.85s/it]"
     ]
    },
    {
     "name": "stdout",
     "output_type": "stream",
     "text": [
      "No more predictions with prob > 0.8\n"
     ]
    },
    {
     "name": "stderr",
     "output_type": "stream",
     "text": [
      "\r",
      " 20%|██        | 422/2092 [12:10<51:19,  1.84s/it]"
     ]
    },
    {
     "name": "stdout",
     "output_type": "stream",
     "text": [
      "No more predictions with prob > 0.8\n"
     ]
    },
    {
     "name": "stderr",
     "output_type": "stream",
     "text": [
      "\r",
      " 20%|██        | 423/2092 [12:11<51:07,  1.84s/it]"
     ]
    },
    {
     "name": "stdout",
     "output_type": "stream",
     "text": [
      "No more predictions with prob > 0.8\n"
     ]
    },
    {
     "name": "stderr",
     "output_type": "stream",
     "text": [
      "\r",
      " 20%|██        | 424/2092 [12:13<51:42,  1.86s/it]"
     ]
    },
    {
     "name": "stdout",
     "output_type": "stream",
     "text": [
      "No more predictions with prob > 0.8\n"
     ]
    },
    {
     "name": "stderr",
     "output_type": "stream",
     "text": [
      "\r",
      " 20%|██        | 425/2092 [12:15<51:48,  1.86s/it]"
     ]
    },
    {
     "name": "stdout",
     "output_type": "stream",
     "text": [
      "No more predictions with prob > 0.8\n"
     ]
    },
    {
     "name": "stderr",
     "output_type": "stream",
     "text": [
      "\r",
      " 20%|██        | 426/2092 [12:17<51:53,  1.87s/it]"
     ]
    },
    {
     "name": "stdout",
     "output_type": "stream",
     "text": [
      "No more predictions with prob > 0.8\n"
     ]
    },
    {
     "name": "stderr",
     "output_type": "stream",
     "text": [
      "\r",
      " 20%|██        | 427/2092 [12:19<51:26,  1.85s/it]"
     ]
    },
    {
     "name": "stdout",
     "output_type": "stream",
     "text": [
      "No more predictions with prob > 0.8\n"
     ]
    },
    {
     "name": "stderr",
     "output_type": "stream",
     "text": [
      "\r",
      " 20%|██        | 428/2092 [12:21<51:45,  1.87s/it]"
     ]
    },
    {
     "name": "stdout",
     "output_type": "stream",
     "text": [
      "No more predictions with prob > 0.8\n"
     ]
    },
    {
     "name": "stderr",
     "output_type": "stream",
     "text": [
      "\r",
      " 21%|██        | 429/2092 [12:23<51:11,  1.85s/it]"
     ]
    },
    {
     "name": "stdout",
     "output_type": "stream",
     "text": [
      "No more predictions with prob > 0.8\n"
     ]
    },
    {
     "name": "stderr",
     "output_type": "stream",
     "text": [
      "\r",
      " 21%|██        | 430/2092 [12:24<51:14,  1.85s/it]"
     ]
    },
    {
     "name": "stdout",
     "output_type": "stream",
     "text": [
      "No more predictions with prob > 0.8\n"
     ]
    },
    {
     "name": "stderr",
     "output_type": "stream",
     "text": [
      "\r",
      " 21%|██        | 431/2092 [12:27<53:23,  1.93s/it]"
     ]
    },
    {
     "name": "stdout",
     "output_type": "stream",
     "text": [
      "No more predictions with prob > 0.8\n"
     ]
    },
    {
     "name": "stderr",
     "output_type": "stream",
     "text": [
      "\r",
      " 21%|██        | 432/2092 [12:28<52:54,  1.91s/it]"
     ]
    },
    {
     "name": "stdout",
     "output_type": "stream",
     "text": [
      "No more predictions with prob > 0.8\n"
     ]
    },
    {
     "name": "stderr",
     "output_type": "stream",
     "text": [
      "\r",
      " 21%|██        | 433/2092 [12:30<52:06,  1.88s/it]"
     ]
    },
    {
     "name": "stdout",
     "output_type": "stream",
     "text": [
      "No more predictions with prob > 0.8\n"
     ]
    },
    {
     "name": "stderr",
     "output_type": "stream",
     "text": [
      " 21%|██        | 435/2092 [12:34<52:00,  1.88s/it]"
     ]
    },
    {
     "name": "stdout",
     "output_type": "stream",
     "text": [
      "No more predictions with prob > 0.8\n"
     ]
    },
    {
     "name": "stderr",
     "output_type": "stream",
     "text": [
      "\r",
      " 21%|██        | 436/2092 [12:36<51:42,  1.87s/it]"
     ]
    },
    {
     "name": "stdout",
     "output_type": "stream",
     "text": [
      "No more predictions with prob > 0.8\n"
     ]
    },
    {
     "name": "stderr",
     "output_type": "stream",
     "text": [
      " 21%|██        | 439/2092 [12:42<52:14,  1.90s/it]"
     ]
    },
    {
     "name": "stdout",
     "output_type": "stream",
     "text": [
      "No more predictions with prob > 0.8\n"
     ]
    },
    {
     "name": "stderr",
     "output_type": "stream",
     "text": [
      "\r",
      " 21%|██        | 440/2092 [12:44<51:32,  1.87s/it]"
     ]
    },
    {
     "name": "stdout",
     "output_type": "stream",
     "text": [
      "No more predictions with prob > 0.8\n"
     ]
    },
    {
     "name": "stderr",
     "output_type": "stream",
     "text": [
      "\r",
      " 21%|██        | 441/2092 [12:45<52:01,  1.89s/it]"
     ]
    },
    {
     "name": "stdout",
     "output_type": "stream",
     "text": [
      "No more predictions with prob > 0.8\n"
     ]
    },
    {
     "name": "stderr",
     "output_type": "stream",
     "text": [
      "\r",
      " 21%|██        | 442/2092 [12:47<52:17,  1.90s/it]"
     ]
    },
    {
     "name": "stdout",
     "output_type": "stream",
     "text": [
      "No more predictions with prob > 0.8\n"
     ]
    },
    {
     "name": "stderr",
     "output_type": "stream",
     "text": [
      "\r",
      " 21%|██        | 443/2092 [12:49<52:15,  1.90s/it]"
     ]
    },
    {
     "name": "stdout",
     "output_type": "stream",
     "text": [
      "No more predictions with prob > 0.8\n"
     ]
    },
    {
     "name": "stderr",
     "output_type": "stream",
     "text": [
      "\r",
      " 21%|██        | 444/2092 [12:51<51:42,  1.88s/it]"
     ]
    },
    {
     "name": "stdout",
     "output_type": "stream",
     "text": [
      "No more predictions with prob > 0.8\n"
     ]
    },
    {
     "name": "stderr",
     "output_type": "stream",
     "text": [
      "\r",
      " 21%|██▏       | 445/2092 [12:53<51:57,  1.89s/it]"
     ]
    },
    {
     "name": "stdout",
     "output_type": "stream",
     "text": [
      "No more predictions with prob > 0.8\n"
     ]
    },
    {
     "name": "stderr",
     "output_type": "stream",
     "text": [
      "\r",
      " 21%|██▏       | 446/2092 [12:55<52:20,  1.91s/it]"
     ]
    },
    {
     "name": "stdout",
     "output_type": "stream",
     "text": [
      "No more predictions with prob > 0.8\n"
     ]
    },
    {
     "name": "stderr",
     "output_type": "stream",
     "text": [
      " 21%|██▏       | 449/2092 [13:01<53:02,  1.94s/it]"
     ]
    },
    {
     "name": "stdout",
     "output_type": "stream",
     "text": [
      "No more predictions with prob > 0.8\n",
      "No more predictions with prob > 0.8\n"
     ]
    },
    {
     "name": "stderr",
     "output_type": "stream",
     "text": [
      "\r",
      " 22%|██▏       | 450/2092 [13:03<52:00,  1.90s/it]"
     ]
    },
    {
     "name": "stdout",
     "output_type": "stream",
     "text": [
      "No more predictions with prob > 0.8\n"
     ]
    },
    {
     "name": "stderr",
     "output_type": "stream",
     "text": [
      "\r",
      " 22%|██▏       | 451/2092 [13:05<55:36,  2.03s/it]"
     ]
    },
    {
     "name": "stdout",
     "output_type": "stream",
     "text": [
      "No more predictions with prob > 0.8\n"
     ]
    },
    {
     "name": "stderr",
     "output_type": "stream",
     "text": [
      "\r",
      " 22%|██▏       | 452/2092 [13:07<56:12,  2.06s/it]"
     ]
    },
    {
     "name": "stdout",
     "output_type": "stream",
     "text": [
      "No more predictions with prob > 0.8\n",
      "No more predictions with prob > 0.8\n"
     ]
    },
    {
     "name": "stderr",
     "output_type": "stream",
     "text": [
      " 22%|██▏       | 454/2092 [13:11<55:31,  2.03s/it]"
     ]
    },
    {
     "name": "stdout",
     "output_type": "stream",
     "text": [
      "No more predictions with prob > 0.8\n"
     ]
    },
    {
     "name": "stderr",
     "output_type": "stream",
     "text": [
      "\r",
      " 22%|██▏       | 455/2092 [13:13<55:02,  2.02s/it]"
     ]
    },
    {
     "name": "stdout",
     "output_type": "stream",
     "text": [
      "No more predictions with prob > 0.8\n"
     ]
    },
    {
     "name": "stderr",
     "output_type": "stream",
     "text": [
      "\r",
      " 22%|██▏       | 456/2092 [13:15<53:34,  1.96s/it]"
     ]
    },
    {
     "name": "stdout",
     "output_type": "stream",
     "text": [
      "No more predictions with prob > 0.8\n"
     ]
    },
    {
     "name": "stderr",
     "output_type": "stream",
     "text": [
      "\r",
      " 22%|██▏       | 457/2092 [13:17<52:45,  1.94s/it]"
     ]
    },
    {
     "name": "stdout",
     "output_type": "stream",
     "text": [
      "No more predictions with prob > 0.8\n"
     ]
    },
    {
     "name": "stderr",
     "output_type": "stream",
     "text": [
      " 22%|██▏       | 459/2092 [13:21<52:50,  1.94s/it]"
     ]
    },
    {
     "name": "stdout",
     "output_type": "stream",
     "text": [
      "No more predictions with prob > 0.8\n"
     ]
    },
    {
     "name": "stderr",
     "output_type": "stream",
     "text": [
      " 22%|██▏       | 461/2092 [13:25<54:01,  1.99s/it]"
     ]
    },
    {
     "name": "stdout",
     "output_type": "stream",
     "text": [
      "No more predictions with prob > 0.8\n"
     ]
    },
    {
     "name": "stderr",
     "output_type": "stream",
     "text": [
      "\r",
      " 22%|██▏       | 462/2092 [13:27<52:52,  1.95s/it]"
     ]
    },
    {
     "name": "stdout",
     "output_type": "stream",
     "text": [
      "No more predictions with prob > 0.8\n"
     ]
    },
    {
     "name": "stderr",
     "output_type": "stream",
     "text": [
      " 22%|██▏       | 464/2092 [13:31<51:56,  1.91s/it]"
     ]
    },
    {
     "name": "stdout",
     "output_type": "stream",
     "text": [
      "No more predictions with prob > 0.8\n"
     ]
    },
    {
     "name": "stderr",
     "output_type": "stream",
     "text": [
      "\r",
      " 22%|██▏       | 465/2092 [13:33<52:10,  1.92s/it]"
     ]
    },
    {
     "name": "stdout",
     "output_type": "stream",
     "text": [
      "No more predictions with prob > 0.8\n"
     ]
    },
    {
     "name": "stderr",
     "output_type": "stream",
     "text": [
      "\r",
      " 22%|██▏       | 466/2092 [13:34<52:06,  1.92s/it]"
     ]
    },
    {
     "name": "stdout",
     "output_type": "stream",
     "text": [
      "No more predictions with prob > 0.8\n"
     ]
    },
    {
     "name": "stderr",
     "output_type": "stream",
     "text": [
      "\r",
      " 22%|██▏       | 467/2092 [13:36<51:21,  1.90s/it]"
     ]
    },
    {
     "name": "stdout",
     "output_type": "stream",
     "text": [
      "No more predictions with prob > 0.8\n"
     ]
    },
    {
     "name": "stderr",
     "output_type": "stream",
     "text": [
      "\r",
      " 22%|██▏       | 468/2092 [13:38<53:59,  1.99s/it]"
     ]
    },
    {
     "name": "stdout",
     "output_type": "stream",
     "text": [
      "No more predictions with prob > 0.8\n"
     ]
    },
    {
     "name": "stderr",
     "output_type": "stream",
     "text": [
      "\r",
      " 22%|██▏       | 469/2092 [13:41<57:26,  2.12s/it]"
     ]
    },
    {
     "name": "stdout",
     "output_type": "stream",
     "text": [
      "No more predictions with prob > 0.8\n"
     ]
    },
    {
     "name": "stderr",
     "output_type": "stream",
     "text": [
      "\r",
      " 22%|██▏       | 470/2092 [13:43<57:40,  2.13s/it]"
     ]
    },
    {
     "name": "stdout",
     "output_type": "stream",
     "text": [
      "No more predictions with prob > 0.8\n"
     ]
    },
    {
     "name": "stderr",
     "output_type": "stream",
     "text": [
      " 23%|██▎       | 473/2092 [13:50<58:42,  2.18s/it]"
     ]
    },
    {
     "name": "stdout",
     "output_type": "stream",
     "text": [
      "No more predictions with prob > 0.8\n"
     ]
    },
    {
     "name": "stderr",
     "output_type": "stream",
     "text": [
      "\r",
      " 23%|██▎       | 474/2092 [13:52<56:54,  2.11s/it]"
     ]
    },
    {
     "name": "stdout",
     "output_type": "stream",
     "text": [
      "No more predictions with prob > 0.8\n"
     ]
    },
    {
     "name": "stderr",
     "output_type": "stream",
     "text": [
      " 23%|██▎       | 476/2092 [13:55<53:20,  1.98s/it]"
     ]
    },
    {
     "name": "stdout",
     "output_type": "stream",
     "text": [
      "No more predictions with prob > 0.8\n"
     ]
    },
    {
     "name": "stderr",
     "output_type": "stream",
     "text": [
      "\r",
      " 23%|██▎       | 477/2092 [13:57<52:30,  1.95s/it]"
     ]
    },
    {
     "name": "stdout",
     "output_type": "stream",
     "text": [
      "No more predictions with prob > 0.8\n"
     ]
    },
    {
     "name": "stderr",
     "output_type": "stream",
     "text": [
      " 23%|██▎       | 479/2092 [14:01<53:06,  1.98s/it]"
     ]
    },
    {
     "name": "stdout",
     "output_type": "stream",
     "text": [
      "No more predictions with prob > 0.8\n"
     ]
    },
    {
     "name": "stderr",
     "output_type": "stream",
     "text": [
      " 23%|██▎       | 483/2092 [14:09<53:56,  2.01s/it]"
     ]
    },
    {
     "name": "stdout",
     "output_type": "stream",
     "text": [
      "No more predictions with prob > 0.8\n"
     ]
    },
    {
     "name": "stderr",
     "output_type": "stream",
     "text": [
      " 23%|██▎       | 486/2092 [14:16<55:52,  2.09s/it]"
     ]
    },
    {
     "name": "stdout",
     "output_type": "stream",
     "text": [
      "No more predictions with prob > 0.8\n"
     ]
    },
    {
     "name": "stderr",
     "output_type": "stream",
     "text": [
      "\r",
      " 23%|██▎       | 487/2092 [14:18<55:01,  2.06s/it]"
     ]
    },
    {
     "name": "stdout",
     "output_type": "stream",
     "text": [
      "No more predictions with prob > 0.8\n"
     ]
    },
    {
     "name": "stderr",
     "output_type": "stream",
     "text": [
      "\r",
      " 23%|██▎       | 488/2092 [14:20<55:37,  2.08s/it]"
     ]
    },
    {
     "name": "stdout",
     "output_type": "stream",
     "text": [
      "No more predictions with prob > 0.8\n"
     ]
    },
    {
     "name": "stderr",
     "output_type": "stream",
     "text": [
      " 23%|██▎       | 490/2092 [14:24<55:17,  2.07s/it]"
     ]
    },
    {
     "name": "stdout",
     "output_type": "stream",
     "text": [
      "No more predictions with prob > 0.8\n"
     ]
    },
    {
     "name": "stderr",
     "output_type": "stream",
     "text": [
      " 24%|██▎       | 493/2092 [14:29<51:53,  1.95s/it]"
     ]
    },
    {
     "name": "stdout",
     "output_type": "stream",
     "text": [
      "No more predictions with prob > 0.8\n"
     ]
    },
    {
     "name": "stderr",
     "output_type": "stream",
     "text": [
      "\r",
      " 24%|██▎       | 494/2092 [14:31<51:24,  1.93s/it]"
     ]
    },
    {
     "name": "stdout",
     "output_type": "stream",
     "text": [
      "No more predictions with prob > 0.8\n"
     ]
    },
    {
     "name": "stderr",
     "output_type": "stream",
     "text": [
      " 24%|██▎       | 496/2092 [14:35<50:30,  1.90s/it]"
     ]
    },
    {
     "name": "stdout",
     "output_type": "stream",
     "text": [
      "No more predictions with prob > 0.8\n"
     ]
    },
    {
     "name": "stderr",
     "output_type": "stream",
     "text": [
      "\r",
      " 24%|██▍       | 497/2092 [14:37<49:47,  1.87s/it]"
     ]
    },
    {
     "name": "stdout",
     "output_type": "stream",
     "text": [
      "No more predictions with prob > 0.8\n",
      "No more predictions with prob > 0.8\n"
     ]
    },
    {
     "name": "stderr",
     "output_type": "stream",
     "text": [
      "\r",
      " 24%|██▍       | 498/2092 [14:39<49:52,  1.88s/it]"
     ]
    },
    {
     "name": "stdout",
     "output_type": "stream",
     "text": [
      "No more predictions with prob > 0.8\n"
     ]
    },
    {
     "name": "stderr",
     "output_type": "stream",
     "text": [
      "\r",
      " 24%|██▍       | 499/2092 [14:41<49:15,  1.86s/it]"
     ]
    },
    {
     "name": "stdout",
     "output_type": "stream",
     "text": [
      "No more predictions with prob > 0.8\n"
     ]
    },
    {
     "name": "stderr",
     "output_type": "stream",
     "text": [
      "\r",
      " 24%|██▍       | 500/2092 [14:42<48:50,  1.84s/it]"
     ]
    },
    {
     "name": "stdout",
     "output_type": "stream",
     "text": [
      "No more predictions with prob > 0.8\n"
     ]
    },
    {
     "name": "stderr",
     "output_type": "stream",
     "text": [
      "\r",
      " 24%|██▍       | 501/2092 [14:44<48:35,  1.83s/it]"
     ]
    },
    {
     "name": "stdout",
     "output_type": "stream",
     "text": [
      "No more predictions with prob > 0.8\n"
     ]
    },
    {
     "name": "stderr",
     "output_type": "stream",
     "text": [
      " 24%|██▍       | 503/2092 [14:48<48:21,  1.83s/it]"
     ]
    },
    {
     "name": "stdout",
     "output_type": "stream",
     "text": [
      "No more predictions with prob > 0.8\n"
     ]
    },
    {
     "name": "stderr",
     "output_type": "stream",
     "text": [
      "\r",
      " 24%|██▍       | 504/2092 [14:50<48:27,  1.83s/it]"
     ]
    },
    {
     "name": "stdout",
     "output_type": "stream",
     "text": [
      "No more predictions with prob > 0.8\n"
     ]
    },
    {
     "name": "stderr",
     "output_type": "stream",
     "text": [
      " 24%|██▍       | 506/2092 [14:53<49:04,  1.86s/it]"
     ]
    },
    {
     "name": "stdout",
     "output_type": "stream",
     "text": [
      "No more predictions with prob > 0.8\n"
     ]
    },
    {
     "name": "stderr",
     "output_type": "stream",
     "text": [
      " 24%|██▍       | 510/2092 [15:01<48:24,  1.84s/it]"
     ]
    },
    {
     "name": "stdout",
     "output_type": "stream",
     "text": [
      "No more predictions with prob > 0.8\n"
     ]
    },
    {
     "name": "stderr",
     "output_type": "stream",
     "text": [
      " 25%|██▍       | 513/2092 [15:06<47:52,  1.82s/it]"
     ]
    },
    {
     "name": "stdout",
     "output_type": "stream",
     "text": [
      "No more predictions with prob > 0.8\n"
     ]
    },
    {
     "name": "stderr",
     "output_type": "stream",
     "text": [
      " 25%|██▍       | 516/2092 [15:12<48:03,  1.83s/it]"
     ]
    },
    {
     "name": "stdout",
     "output_type": "stream",
     "text": [
      "No more predictions with prob > 0.8\n"
     ]
    },
    {
     "name": "stderr",
     "output_type": "stream",
     "text": [
      " 25%|██▍       | 519/2092 [15:17<47:39,  1.82s/it]"
     ]
    },
    {
     "name": "stdout",
     "output_type": "stream",
     "text": [
      "No more predictions with prob > 0.8\n"
     ]
    },
    {
     "name": "stderr",
     "output_type": "stream",
     "text": [
      "\r",
      " 25%|██▍       | 520/2092 [15:19<48:03,  1.83s/it]"
     ]
    },
    {
     "name": "stdout",
     "output_type": "stream",
     "text": [
      "No more predictions with prob > 0.8\n"
     ]
    },
    {
     "name": "stderr",
     "output_type": "stream",
     "text": [
      " 38%|███▊      | 798/2092 [22:44<48:19,  2.24s/it]  "
     ]
    },
    {
     "name": "stdout",
     "output_type": "stream",
     "text": [
      "No more predictions with prob > 0.8\n",
      "No more predictions with prob > 0.8\n"
     ]
    },
    {
     "name": "stderr",
     "output_type": "stream",
     "text": [
      " 38%|███▊      | 804/2092 [22:59<51:50,  2.41s/it]"
     ]
    },
    {
     "name": "stdout",
     "output_type": "stream",
     "text": [
      "No more predictions with prob > 0.8\n",
      "No more predictions with prob > 0.8\n",
      "No more predictions with prob > 0.8\n"
     ]
    },
    {
     "name": "stderr",
     "output_type": "stream",
     "text": [
      " 39%|███▉      | 821/2092 [23:37<49:08,  2.32s/it]"
     ]
    },
    {
     "name": "stdout",
     "output_type": "stream",
     "text": [
      "No more predictions with prob > 0.8\n"
     ]
    },
    {
     "name": "stderr",
     "output_type": "stream",
     "text": [
      " 39%|███▉      | 823/2092 [23:42<50:41,  2.40s/it]"
     ]
    },
    {
     "name": "stdout",
     "output_type": "stream",
     "text": [
      "No more predictions with prob > 0.8\n",
      "No more predictions with prob > 0.8\n",
      "No more predictions with prob > 0.8\n"
     ]
    },
    {
     "name": "stderr",
     "output_type": "stream",
     "text": [
      " 40%|████      | 837/2092 [24:15<51:18,  2.45s/it]"
     ]
    },
    {
     "name": "stdout",
     "output_type": "stream",
     "text": [
      "No more predictions with prob > 0.8\n",
      "No more predictions with prob > 0.8\n",
      "No more predictions with prob > 0.8\n"
     ]
    },
    {
     "name": "stderr",
     "output_type": "stream",
     "text": [
      " 69%|██████▉   | 1448/2092 [43:18<16:43,  1.56s/it]"
     ]
    },
    {
     "name": "stdout",
     "output_type": "stream",
     "text": [
      "No more predictions with prob > 0.8\n"
     ]
    },
    {
     "name": "stderr",
     "output_type": "stream",
     "text": [
      " 72%|███████▏  | 1515/2092 [44:59<14:41,  1.53s/it]"
     ]
    },
    {
     "name": "stdout",
     "output_type": "stream",
     "text": [
      "No more predictions with prob > 0.8\n"
     ]
    },
    {
     "name": "stderr",
     "output_type": "stream",
     "text": [
      " 78%|███████▊  | 1639/2092 [48:07<09:44,  1.29s/it]"
     ]
    },
    {
     "name": "stdout",
     "output_type": "stream",
     "text": [
      "No more predictions with prob > 0.8\n"
     ]
    },
    {
     "name": "stderr",
     "output_type": "stream",
     "text": [
      "\r",
      " 78%|███████▊  | 1640/2092 [48:09<10:19,  1.37s/it]"
     ]
    },
    {
     "name": "stdout",
     "output_type": "stream",
     "text": [
      "No more predictions with prob > 0.8\n"
     ]
    },
    {
     "name": "stderr",
     "output_type": "stream",
     "text": [
      " 78%|███████▊  | 1642/2092 [48:12<10:50,  1.44s/it]"
     ]
    },
    {
     "name": "stdout",
     "output_type": "stream",
     "text": [
      "No more predictions with prob > 0.8\n"
     ]
    },
    {
     "name": "stderr",
     "output_type": "stream",
     "text": [
      " 79%|███████▊  | 1646/2092 [48:18<11:12,  1.51s/it]"
     ]
    },
    {
     "name": "stdout",
     "output_type": "stream",
     "text": [
      "No more predictions with prob > 0.8\n"
     ]
    },
    {
     "name": "stderr",
     "output_type": "stream",
     "text": [
      " 79%|███████▉  | 1649/2092 [48:22<11:13,  1.52s/it]"
     ]
    },
    {
     "name": "stdout",
     "output_type": "stream",
     "text": [
      "No more predictions with prob > 0.8\n"
     ]
    },
    {
     "name": "stderr",
     "output_type": "stream",
     "text": [
      " 79%|███████▉  | 1652/2092 [48:27<11:06,  1.51s/it]"
     ]
    },
    {
     "name": "stdout",
     "output_type": "stream",
     "text": [
      "No more predictions with prob > 0.8\n"
     ]
    },
    {
     "name": "stderr",
     "output_type": "stream",
     "text": [
      " 79%|███████▉  | 1657/2092 [48:35<10:59,  1.52s/it]"
     ]
    },
    {
     "name": "stdout",
     "output_type": "stream",
     "text": [
      "No more predictions with prob > 0.8\n"
     ]
    },
    {
     "name": "stderr",
     "output_type": "stream",
     "text": [
      "\r",
      " 79%|███████▉  | 1658/2092 [48:36<11:01,  1.52s/it]"
     ]
    },
    {
     "name": "stdout",
     "output_type": "stream",
     "text": [
      "No more predictions with prob > 0.8\n"
     ]
    },
    {
     "name": "stderr",
     "output_type": "stream",
     "text": [
      "\r",
      " 79%|███████▉  | 1659/2092 [48:38<11:00,  1.53s/it]"
     ]
    },
    {
     "name": "stdout",
     "output_type": "stream",
     "text": [
      "No more predictions with prob > 0.8\n"
     ]
    },
    {
     "name": "stderr",
     "output_type": "stream",
     "text": [
      " 80%|███████▉  | 1664/2092 [48:45<10:52,  1.52s/it]"
     ]
    },
    {
     "name": "stdout",
     "output_type": "stream",
     "text": [
      "No more predictions with prob > 0.8\n"
     ]
    },
    {
     "name": "stderr",
     "output_type": "stream",
     "text": [
      " 80%|███████▉  | 1666/2092 [48:48<10:47,  1.52s/it]"
     ]
    },
    {
     "name": "stdout",
     "output_type": "stream",
     "text": [
      "No more predictions with prob > 0.8\n"
     ]
    },
    {
     "name": "stderr",
     "output_type": "stream",
     "text": [
      " 80%|███████▉  | 1669/2092 [48:53<10:44,  1.52s/it]"
     ]
    },
    {
     "name": "stdout",
     "output_type": "stream",
     "text": [
      "No more predictions with prob > 0.8\n"
     ]
    },
    {
     "name": "stderr",
     "output_type": "stream",
     "text": [
      " 80%|███████▉  | 1671/2092 [48:56<10:41,  1.52s/it]"
     ]
    },
    {
     "name": "stdout",
     "output_type": "stream",
     "text": [
      "No more predictions with prob > 0.8\n"
     ]
    },
    {
     "name": "stderr",
     "output_type": "stream",
     "text": [
      " 80%|████████  | 1679/2092 [49:08<10:30,  1.53s/it]"
     ]
    },
    {
     "name": "stdout",
     "output_type": "stream",
     "text": [
      "No more predictions with prob > 0.8\n"
     ]
    },
    {
     "name": "stderr",
     "output_type": "stream",
     "text": [
      " 81%|████████  | 1689/2092 [49:23<10:12,  1.52s/it]"
     ]
    },
    {
     "name": "stdout",
     "output_type": "stream",
     "text": [
      "No more predictions with prob > 0.8\n"
     ]
    },
    {
     "name": "stderr",
     "output_type": "stream",
     "text": [
      " 81%|████████  | 1692/2092 [49:28<10:09,  1.52s/it]"
     ]
    },
    {
     "name": "stdout",
     "output_type": "stream",
     "text": [
      "No more predictions with prob > 0.8\n"
     ]
    },
    {
     "name": "stderr",
     "output_type": "stream",
     "text": [
      " 82%|████████▏ | 1707/2092 [49:51<09:44,  1.52s/it]"
     ]
    },
    {
     "name": "stdout",
     "output_type": "stream",
     "text": [
      "No more predictions with prob > 0.8\n"
     ]
    },
    {
     "name": "stderr",
     "output_type": "stream",
     "text": [
      " 82%|████████▏ | 1714/2092 [50:03<10:10,  1.62s/it]"
     ]
    },
    {
     "name": "stdout",
     "output_type": "stream",
     "text": [
      "No more predictions with prob > 0.8\n"
     ]
    },
    {
     "name": "stderr",
     "output_type": "stream",
     "text": [
      " 82%|████████▏ | 1716/2092 [50:06<09:51,  1.57s/it]"
     ]
    },
    {
     "name": "stdout",
     "output_type": "stream",
     "text": [
      "No more predictions with prob > 0.8\n"
     ]
    },
    {
     "name": "stderr",
     "output_type": "stream",
     "text": [
      "\r",
      " 82%|████████▏ | 1717/2092 [50:07<09:44,  1.56s/it]"
     ]
    },
    {
     "name": "stdout",
     "output_type": "stream",
     "text": [
      "No more predictions with prob > 0.8\n"
     ]
    },
    {
     "name": "stderr",
     "output_type": "stream",
     "text": [
      " 82%|████████▏ | 1724/2092 [50:18<09:20,  1.52s/it]"
     ]
    },
    {
     "name": "stdout",
     "output_type": "stream",
     "text": [
      "No more predictions with prob > 0.8\n"
     ]
    },
    {
     "name": "stderr",
     "output_type": "stream",
     "text": [
      " 83%|████████▎ | 1730/2092 [50:27<09:13,  1.53s/it]"
     ]
    },
    {
     "name": "stdout",
     "output_type": "stream",
     "text": [
      "No more predictions with prob > 0.8\n"
     ]
    },
    {
     "name": "stderr",
     "output_type": "stream",
     "text": [
      " 83%|████████▎ | 1732/2092 [50:30<09:10,  1.53s/it]"
     ]
    },
    {
     "name": "stdout",
     "output_type": "stream",
     "text": [
      "No more predictions with prob > 0.8\n"
     ]
    },
    {
     "name": "stderr",
     "output_type": "stream",
     "text": [
      " 84%|████████▎ | 1749/2092 [50:56<08:43,  1.53s/it]"
     ]
    },
    {
     "name": "stdout",
     "output_type": "stream",
     "text": [
      "No more predictions with prob > 0.8\n"
     ]
    },
    {
     "name": "stderr",
     "output_type": "stream",
     "text": [
      " 84%|████████▍ | 1756/2092 [51:07<08:29,  1.52s/it]"
     ]
    },
    {
     "name": "stdout",
     "output_type": "stream",
     "text": [
      "No more predictions with prob > 0.8\n"
     ]
    },
    {
     "name": "stderr",
     "output_type": "stream",
     "text": [
      " 84%|████████▍ | 1766/2092 [51:22<08:17,  1.52s/it]"
     ]
    },
    {
     "name": "stdout",
     "output_type": "stream",
     "text": [
      "No more predictions with prob > 0.8\n"
     ]
    },
    {
     "name": "stderr",
     "output_type": "stream",
     "text": [
      " 85%|████████▍ | 1777/2092 [51:39<08:05,  1.54s/it]"
     ]
    },
    {
     "name": "stdout",
     "output_type": "stream",
     "text": [
      "No more predictions with prob > 0.8\n"
     ]
    },
    {
     "name": "stderr",
     "output_type": "stream",
     "text": [
      " 86%|████████▌ | 1795/2092 [52:06<07:34,  1.53s/it]"
     ]
    },
    {
     "name": "stdout",
     "output_type": "stream",
     "text": [
      "No more predictions with prob > 0.8\n"
     ]
    },
    {
     "name": "stderr",
     "output_type": "stream",
     "text": [
      " 90%|█████████ | 1884/2092 [54:22<05:16,  1.52s/it]"
     ]
    },
    {
     "name": "stdout",
     "output_type": "stream",
     "text": [
      "No more predictions with prob > 0.8\n"
     ]
    },
    {
     "name": "stderr",
     "output_type": "stream",
     "text": [
      "\r",
      " 90%|█████████ | 1885/2092 [54:24<05:15,  1.52s/it]"
     ]
    },
    {
     "name": "stdout",
     "output_type": "stream",
     "text": [
      "No more predictions with prob > 0.8\n"
     ]
    },
    {
     "name": "stderr",
     "output_type": "stream",
     "text": [
      " 91%|█████████ | 1903/2092 [54:51<04:47,  1.52s/it]"
     ]
    },
    {
     "name": "stdout",
     "output_type": "stream",
     "text": [
      "No more predictions with prob > 0.8\n"
     ]
    },
    {
     "name": "stderr",
     "output_type": "stream",
     "text": [
      " 91%|█████████ | 1907/2092 [54:58<04:44,  1.54s/it]"
     ]
    },
    {
     "name": "stdout",
     "output_type": "stream",
     "text": [
      "No more predictions with prob > 0.8\n"
     ]
    },
    {
     "name": "stderr",
     "output_type": "stream",
     "text": [
      " 91%|█████████▏| 1909/2092 [55:01<04:42,  1.54s/it]"
     ]
    },
    {
     "name": "stdout",
     "output_type": "stream",
     "text": [
      "No more predictions with prob > 0.8\n"
     ]
    },
    {
     "name": "stderr",
     "output_type": "stream",
     "text": [
      " 91%|█████████▏| 1911/2092 [55:04<04:39,  1.54s/it]"
     ]
    },
    {
     "name": "stdout",
     "output_type": "stream",
     "text": [
      "No more predictions with prob > 0.8\n"
     ]
    },
    {
     "name": "stderr",
     "output_type": "stream",
     "text": [
      " 92%|█████████▏| 1919/2092 [55:16<04:23,  1.52s/it]"
     ]
    },
    {
     "name": "stdout",
     "output_type": "stream",
     "text": [
      "No more predictions with prob > 0.8\n"
     ]
    },
    {
     "name": "stderr",
     "output_type": "stream",
     "text": [
      " 92%|█████████▏| 1921/2092 [55:19<04:19,  1.52s/it]"
     ]
    },
    {
     "name": "stdout",
     "output_type": "stream",
     "text": [
      "No more predictions with prob > 0.8\n"
     ]
    },
    {
     "name": "stderr",
     "output_type": "stream",
     "text": [
      "\r",
      " 92%|█████████▏| 1922/2092 [55:20<04:18,  1.52s/it]"
     ]
    },
    {
     "name": "stdout",
     "output_type": "stream",
     "text": [
      "No more predictions with prob > 0.8\n"
     ]
    },
    {
     "name": "stderr",
     "output_type": "stream",
     "text": [
      "\r",
      " 92%|█████████▏| 1923/2092 [55:22<04:16,  1.52s/it]"
     ]
    },
    {
     "name": "stdout",
     "output_type": "stream",
     "text": [
      "No more predictions with prob > 0.8\n"
     ]
    },
    {
     "name": "stderr",
     "output_type": "stream",
     "text": [
      " 92%|█████████▏| 1926/2092 [55:26<04:12,  1.52s/it]"
     ]
    },
    {
     "name": "stdout",
     "output_type": "stream",
     "text": [
      "No more predictions with prob > 0.8\n"
     ]
    },
    {
     "name": "stderr",
     "output_type": "stream",
     "text": [
      " 92%|█████████▏| 1930/2092 [55:33<04:06,  1.52s/it]"
     ]
    },
    {
     "name": "stdout",
     "output_type": "stream",
     "text": [
      "No more predictions with prob > 0.8\n"
     ]
    },
    {
     "name": "stderr",
     "output_type": "stream",
     "text": [
      "\r",
      " 92%|█████████▏| 1931/2092 [55:34<04:05,  1.52s/it]"
     ]
    },
    {
     "name": "stdout",
     "output_type": "stream",
     "text": [
      "No more predictions with prob > 0.8\n"
     ]
    },
    {
     "name": "stderr",
     "output_type": "stream",
     "text": [
      " 93%|█████████▎| 1938/2092 [55:45<03:58,  1.55s/it]"
     ]
    },
    {
     "name": "stdout",
     "output_type": "stream",
     "text": [
      "No more predictions with prob > 0.8\n"
     ]
    },
    {
     "name": "stderr",
     "output_type": "stream",
     "text": [
      " 93%|█████████▎| 1940/2092 [55:48<03:54,  1.54s/it]"
     ]
    },
    {
     "name": "stdout",
     "output_type": "stream",
     "text": [
      "No more predictions with prob > 0.8\n"
     ]
    },
    {
     "name": "stderr",
     "output_type": "stream",
     "text": [
      " 93%|█████████▎| 1950/2092 [56:03<03:34,  1.51s/it]"
     ]
    },
    {
     "name": "stdout",
     "output_type": "stream",
     "text": [
      "No more predictions with prob > 0.8\n"
     ]
    },
    {
     "name": "stderr",
     "output_type": "stream",
     "text": [
      " 93%|█████████▎| 1956/2092 [56:12<03:26,  1.52s/it]"
     ]
    },
    {
     "name": "stdout",
     "output_type": "stream",
     "text": [
      "No more predictions with prob > 0.8\n"
     ]
    },
    {
     "name": "stderr",
     "output_type": "stream",
     "text": [
      " 94%|█████████▎| 1958/2092 [56:15<03:23,  1.52s/it]"
     ]
    },
    {
     "name": "stdout",
     "output_type": "stream",
     "text": [
      "No more predictions with prob > 0.8\n"
     ]
    },
    {
     "name": "stderr",
     "output_type": "stream",
     "text": [
      " 94%|█████████▎| 1960/2092 [56:18<03:19,  1.51s/it]"
     ]
    },
    {
     "name": "stdout",
     "output_type": "stream",
     "text": [
      "No more predictions with prob > 0.8\n"
     ]
    },
    {
     "name": "stderr",
     "output_type": "stream",
     "text": [
      "\r",
      " 94%|█████████▎| 1961/2092 [56:20<03:17,  1.51s/it]"
     ]
    },
    {
     "name": "stdout",
     "output_type": "stream",
     "text": [
      "No more predictions with prob > 0.8\n"
     ]
    },
    {
     "name": "stderr",
     "output_type": "stream",
     "text": [
      " 95%|█████████▍| 1984/2092 [56:55<02:46,  1.54s/it]"
     ]
    },
    {
     "name": "stdout",
     "output_type": "stream",
     "text": [
      "No more predictions with prob > 0.8\n"
     ]
    },
    {
     "name": "stderr",
     "output_type": "stream",
     "text": [
      "\r",
      " 95%|█████████▍| 1985/2092 [56:56<02:46,  1.55s/it]"
     ]
    },
    {
     "name": "stdout",
     "output_type": "stream",
     "text": [
      "No more predictions with prob > 0.8\n"
     ]
    },
    {
     "name": "stderr",
     "output_type": "stream",
     "text": [
      " 95%|█████████▌| 1994/2092 [57:10<02:29,  1.52s/it]"
     ]
    },
    {
     "name": "stdout",
     "output_type": "stream",
     "text": [
      "No more predictions with prob > 0.8\n"
     ]
    },
    {
     "name": "stderr",
     "output_type": "stream",
     "text": [
      " 96%|█████████▌| 2006/2092 [57:28<02:10,  1.51s/it]"
     ]
    },
    {
     "name": "stdout",
     "output_type": "stream",
     "text": [
      "No more predictions with prob > 0.8\n"
     ]
    },
    {
     "name": "stderr",
     "output_type": "stream",
     "text": [
      "\r",
      " 96%|█████████▌| 2007/2092 [57:30<02:09,  1.52s/it]"
     ]
    },
    {
     "name": "stdout",
     "output_type": "stream",
     "text": [
      "No more predictions with prob > 0.8\n"
     ]
    },
    {
     "name": "stderr",
     "output_type": "stream",
     "text": [
      "\r",
      " 96%|█████████▌| 2008/2092 [57:31<02:08,  1.53s/it]"
     ]
    },
    {
     "name": "stdout",
     "output_type": "stream",
     "text": [
      "No more predictions with prob > 0.8\n"
     ]
    },
    {
     "name": "stderr",
     "output_type": "stream",
     "text": [
      "\r",
      " 96%|█████████▌| 2009/2092 [57:33<02:06,  1.53s/it]"
     ]
    },
    {
     "name": "stdout",
     "output_type": "stream",
     "text": [
      "No more predictions with prob > 0.8\n"
     ]
    },
    {
     "name": "stderr",
     "output_type": "stream",
     "text": [
      " 96%|█████████▌| 2012/2092 [57:38<02:00,  1.51s/it]"
     ]
    },
    {
     "name": "stdout",
     "output_type": "stream",
     "text": [
      "No more predictions with prob > 0.8\n"
     ]
    },
    {
     "name": "stderr",
     "output_type": "stream",
     "text": [
      " 96%|█████████▋| 2014/2092 [57:41<01:57,  1.51s/it]"
     ]
    },
    {
     "name": "stdout",
     "output_type": "stream",
     "text": [
      "No more predictions with prob > 0.8\n"
     ]
    },
    {
     "name": "stderr",
     "output_type": "stream",
     "text": [
      " 96%|█████████▋| 2016/2092 [57:44<01:54,  1.51s/it]"
     ]
    },
    {
     "name": "stdout",
     "output_type": "stream",
     "text": [
      "No more predictions with prob > 0.8\n"
     ]
    },
    {
     "name": "stderr",
     "output_type": "stream",
     "text": [
      "100%|██████████| 2092/2092 [1:00:03<00:00,  1.72s/it]\n"
     ]
    }
   ],
   "source": [
    "cProfile.runctx(\n",
    "            'predict_all()',\n",
    "            globals(),\n",
    "            locals(),\n",
    "            'myProfilingFile.pstats'\n",
    "        )\n",
    "os.chdir(PROJECT_PATH)\n",
    "!python3 /usr/local/lib/python3.6/dist-packages/gprof2dot.py -f pstats myProfilingFile.pstats | dot -Tpng -o image_output.png"
   ]
  },
  {
   "cell_type": "code",
   "execution_count": 11,
   "metadata": {
    "scrolled": true
   },
   "outputs": [
    {
     "name": "stderr",
     "output_type": "stream",
     "text": [
      "\n",
      "  0%|          | 0/2092 [00:00<?, ?it/s]\u001b[A\n",
      "  0%|          | 2/2092 [00:00<03:00, 11.58it/s]\u001b[A\n",
      "  0%|          | 4/2092 [00:00<03:01, 11.48it/s]\u001b[A\n",
      "  0%|          | 6/2092 [00:00<03:03, 11.37it/s]\u001b[A\n",
      "  0%|          | 8/2092 [00:00<03:03, 11.35it/s]\u001b[A\n",
      "  0%|          | 10/2092 [00:00<03:03, 11.35it/s]\u001b[A\n",
      "  1%|          | 12/2092 [00:01<03:01, 11.45it/s]\u001b[A\n",
      "  1%|          | 14/2092 [00:01<03:01, 11.44it/s]\u001b[A\n",
      "  1%|          | 16/2092 [00:01<03:00, 11.49it/s]\u001b[A\n",
      "  1%|          | 18/2092 [00:01<03:00, 11.51it/s]\u001b[A\n",
      "  1%|          | 20/2092 [00:01<03:03, 11.32it/s]\u001b[A\n",
      "  1%|          | 22/2092 [00:01<03:05, 11.18it/s]\u001b[A\n",
      "  1%|          | 24/2092 [00:02<03:01, 11.39it/s]\u001b[A\n",
      "  1%|          | 26/2092 [00:02<02:59, 11.51it/s]\u001b[A\n",
      "  1%|▏         | 28/2092 [00:02<02:58, 11.56it/s]\u001b[A\n",
      "  1%|▏         | 30/2092 [00:02<03:03, 11.21it/s]\u001b[A\n",
      "  2%|▏         | 32/2092 [00:02<03:04, 11.14it/s]\u001b[A\n",
      "  2%|▏         | 34/2092 [00:02<03:02, 11.26it/s]\u001b[A\n",
      "  2%|▏         | 36/2092 [00:03<03:01, 11.32it/s]\u001b[A\n",
      "  2%|▏         | 38/2092 [00:03<03:02, 11.27it/s]\u001b[A\n",
      "  2%|▏         | 40/2092 [00:03<02:59, 11.44it/s]\u001b[A\n",
      "  2%|▏         | 42/2092 [00:03<03:01, 11.31it/s]\u001b[A\n",
      "  2%|▏         | 44/2092 [00:03<02:59, 11.38it/s]\u001b[A\n",
      "  2%|▏         | 46/2092 [00:04<02:57, 11.50it/s]\u001b[A\n",
      "  2%|▏         | 48/2092 [00:04<02:57, 11.51it/s]\u001b[A\n",
      "  2%|▏         | 50/2092 [00:04<02:57, 11.51it/s]\u001b[A\n",
      "  2%|▏         | 52/2092 [00:04<02:58, 11.45it/s]\u001b[A\n",
      "  3%|▎         | 54/2092 [00:04<02:58, 11.45it/s]\u001b[A\n",
      "  3%|▎         | 56/2092 [00:04<02:57, 11.47it/s]\u001b[A\n",
      "  3%|▎         | 58/2092 [00:05<02:57, 11.48it/s]\u001b[A\n",
      "  3%|▎         | 60/2092 [00:05<02:55, 11.60it/s]\u001b[A\n",
      "  3%|▎         | 62/2092 [00:05<02:54, 11.61it/s]\u001b[A\n",
      "  3%|▎         | 64/2092 [00:05<02:55, 11.53it/s]\u001b[A\n",
      "  3%|▎         | 66/2092 [00:05<02:54, 11.59it/s]\u001b[A\n",
      "  3%|▎         | 68/2092 [00:05<02:54, 11.61it/s]\u001b[A\n",
      "  3%|▎         | 70/2092 [00:06<02:53, 11.66it/s]\u001b[A\n",
      "  3%|▎         | 72/2092 [00:06<02:51, 11.80it/s]\u001b[A\n",
      "  4%|▎         | 74/2092 [00:06<02:51, 11.80it/s]\u001b[A\n",
      "  4%|▎         | 76/2092 [00:06<02:52, 11.69it/s]\u001b[A\n",
      "  4%|▎         | 78/2092 [00:06<02:55, 11.51it/s]\u001b[A\n",
      "  4%|▍         | 80/2092 [00:06<02:57, 11.34it/s]\u001b[A\n",
      "  4%|▍         | 82/2092 [00:07<02:57, 11.31it/s]\u001b[A\n",
      "  4%|▍         | 84/2092 [00:07<02:58, 11.24it/s]\u001b[A\n",
      "  4%|▍         | 86/2092 [00:07<02:57, 11.31it/s]\u001b[A\n",
      "  4%|▍         | 88/2092 [00:07<03:00, 11.11it/s]\u001b[A\n",
      "  4%|▍         | 90/2092 [00:07<03:02, 10.94it/s]\u001b[A\n",
      "  4%|▍         | 92/2092 [00:08<02:59, 11.16it/s]\u001b[A\n",
      "  4%|▍         | 94/2092 [00:08<02:56, 11.32it/s]\u001b[A\n",
      "  5%|▍         | 96/2092 [00:08<02:55, 11.39it/s]\u001b[A\n",
      "  5%|▍         | 98/2092 [00:08<02:53, 11.48it/s]\u001b[A\n",
      "  5%|▍         | 100/2092 [00:08<02:54, 11.40it/s]\u001b[A\n",
      "  5%|▍         | 102/2092 [00:08<02:50, 11.67it/s]\u001b[A\n",
      "  5%|▍         | 104/2092 [00:09<02:53, 11.47it/s]\u001b[A\n",
      "  5%|▌         | 106/2092 [00:09<02:53, 11.46it/s]\u001b[A\n",
      "  5%|▌         | 108/2092 [00:09<02:53, 11.45it/s]\u001b[A\n",
      "  5%|▌         | 110/2092 [00:09<02:54, 11.36it/s]\u001b[A\n",
      "  5%|▌         | 112/2092 [00:09<02:53, 11.40it/s]\u001b[A\n",
      "  5%|▌         | 114/2092 [00:09<02:54, 11.34it/s]\u001b[A\n",
      "  6%|▌         | 116/2092 [00:10<02:54, 11.35it/s]\u001b[A\n",
      "  6%|▌         | 118/2092 [00:10<02:52, 11.43it/s]\u001b[A\n",
      "  6%|▌         | 120/2092 [00:10<02:53, 11.37it/s]\u001b[A\n",
      "  6%|▌         | 122/2092 [00:10<02:53, 11.38it/s]\u001b[A\n",
      "  6%|▌         | 124/2092 [00:10<02:53, 11.32it/s]\u001b[A\n",
      "  6%|▌         | 126/2092 [00:11<02:57, 11.06it/s]\u001b[A\n",
      "  6%|▌         | 128/2092 [00:11<02:55, 11.17it/s]\u001b[A\n",
      "  6%|▌         | 130/2092 [00:11<02:59, 10.94it/s]\u001b[A\n",
      "  6%|▋         | 132/2092 [00:11<02:57, 11.03it/s]\u001b[A\n",
      "  6%|▋         | 134/2092 [00:11<03:03, 10.64it/s]\u001b[A\n",
      "  7%|▋         | 136/2092 [00:11<03:01, 10.77it/s]\u001b[A\n",
      "  7%|▋         | 138/2092 [00:12<02:53, 11.24it/s]\u001b[A\n",
      "  7%|▋         | 140/2092 [00:12<02:47, 11.63it/s]\u001b[A\n",
      "  7%|▋         | 142/2092 [00:12<02:43, 11.90it/s]\u001b[A\n",
      "  7%|▋         | 144/2092 [00:12<02:41, 12.05it/s]\u001b[A\n",
      "  7%|▋         | 146/2092 [00:12<02:39, 12.17it/s]\u001b[A\n",
      "  7%|▋         | 148/2092 [00:12<02:37, 12.32it/s]\u001b[A\n",
      "  7%|▋         | 150/2092 [00:13<02:37, 12.37it/s]\u001b[A\n",
      "  7%|▋         | 152/2092 [00:13<02:36, 12.37it/s]\u001b[A\n",
      "  7%|▋         | 154/2092 [00:13<02:35, 12.50it/s]\u001b[A\n",
      "  7%|▋         | 156/2092 [00:13<02:37, 12.32it/s]\u001b[A\n",
      "  8%|▊         | 158/2092 [00:13<02:44, 11.78it/s]\u001b[A\n",
      "  8%|▊         | 160/2092 [00:13<02:44, 11.75it/s]\u001b[A\n",
      "  8%|▊         | 162/2092 [00:14<02:51, 11.26it/s]\u001b[A\n",
      "  8%|▊         | 164/2092 [00:14<02:47, 11.53it/s]\u001b[A\n",
      "  8%|▊         | 166/2092 [00:14<02:43, 11.81it/s]\u001b[A\n",
      "  8%|▊         | 168/2092 [00:14<02:39, 12.05it/s]\u001b[A\n",
      "  8%|▊         | 170/2092 [00:14<02:39, 12.08it/s]\u001b[A\n",
      "  8%|▊         | 172/2092 [00:14<02:38, 12.08it/s]\u001b[A\n",
      "  8%|▊         | 174/2092 [00:15<02:37, 12.15it/s]\u001b[A\n",
      "  8%|▊         | 176/2092 [00:15<02:38, 12.09it/s]\u001b[A\n",
      "  9%|▉         | 188/2092 [00:15<01:55, 16.54it/s]\u001b[A\n",
      " 10%|▉         | 200/2092 [00:15<01:25, 22.23it/s]\u001b[A\n",
      " 10%|█         | 213/2092 [00:15<01:03, 29.50it/s]\u001b[A\n",
      " 11%|█         | 227/2092 [00:15<00:48, 38.52it/s]\u001b[A\n",
      " 12%|█▏        | 241/2092 [00:15<00:37, 49.05it/s]\u001b[A\n",
      " 12%|█▏        | 255/2092 [00:15<00:30, 60.68it/s]\u001b[A\n",
      " 13%|█▎        | 267/2092 [00:16<00:34, 53.48it/s]\u001b[A\n",
      " 13%|█▎        | 277/2092 [00:16<01:07, 26.92it/s]\u001b[A\n",
      " 14%|█▎        | 284/2092 [00:17<01:36, 18.79it/s]\u001b[A\n",
      " 14%|█▍        | 290/2092 [00:18<01:57, 15.35it/s]\u001b[A\n",
      " 14%|█▍        | 294/2092 [00:18<02:13, 13.48it/s]\u001b[A\n",
      " 14%|█▍        | 298/2092 [00:18<02:24, 12.44it/s]\u001b[A\n",
      " 14%|█▍        | 301/2092 [00:19<02:26, 12.24it/s]\u001b[A\n",
      " 15%|█▍        | 304/2092 [00:19<02:48, 10.63it/s]\u001b[A\n",
      " 15%|█▍        | 306/2092 [00:19<02:44, 10.86it/s]\u001b[A\n",
      " 15%|█▍        | 308/2092 [00:19<02:40, 11.10it/s]\u001b[A\n",
      " 15%|█▍        | 310/2092 [00:20<02:39, 11.21it/s]\u001b[A\n",
      " 15%|█▍        | 312/2092 [00:20<02:38, 11.25it/s]\u001b[A\n",
      " 15%|█▌        | 314/2092 [00:20<02:35, 11.42it/s]\u001b[A\n",
      " 15%|█▌        | 316/2092 [00:20<02:35, 11.44it/s]\u001b[A\n",
      " 15%|█▌        | 318/2092 [00:20<02:33, 11.53it/s]\u001b[A\n",
      " 15%|█▌        | 320/2092 [00:20<02:30, 11.75it/s]\u001b[A\n",
      " 15%|█▌        | 322/2092 [00:21<02:33, 11.57it/s]\u001b[A\n",
      " 15%|█▌        | 324/2092 [00:21<02:32, 11.56it/s]\u001b[A\n",
      " 16%|█▌        | 326/2092 [00:21<02:32, 11.61it/s]\u001b[A\n",
      " 16%|█▌        | 328/2092 [00:21<02:30, 11.73it/s]\u001b[A\n",
      " 16%|█▌        | 330/2092 [00:21<02:30, 11.72it/s]\u001b[A\n",
      " 16%|█▌        | 332/2092 [00:21<02:28, 11.84it/s]\u001b[A\n",
      " 16%|█▌        | 334/2092 [00:22<02:27, 11.88it/s]\u001b[A\n",
      " 16%|█▌        | 336/2092 [00:22<02:26, 11.99it/s]\u001b[A\n",
      " 16%|█▌        | 338/2092 [00:22<02:26, 11.95it/s]\u001b[A\n",
      " 16%|█▋        | 340/2092 [00:22<02:24, 12.10it/s]\u001b[A\n",
      " 16%|█▋        | 342/2092 [00:22<02:24, 12.11it/s]\u001b[A\n",
      " 16%|█▋        | 344/2092 [00:22<02:24, 12.08it/s]\u001b[A\n",
      " 17%|█▋        | 346/2092 [00:23<02:23, 12.15it/s]\u001b[A\n",
      " 17%|█▋        | 348/2092 [00:23<02:23, 12.17it/s]\u001b[A\n",
      " 17%|█▋        | 350/2092 [00:23<02:22, 12.19it/s]\u001b[A\n",
      " 17%|█▋        | 352/2092 [00:23<02:23, 12.11it/s]\u001b[A\n",
      " 17%|█▋        | 354/2092 [00:23<02:23, 12.09it/s]\u001b[A\n",
      " 17%|█▋        | 356/2092 [00:23<02:21, 12.25it/s]\u001b[A\n",
      " 17%|█▋        | 358/2092 [00:24<02:21, 12.22it/s]\u001b[A\n",
      " 17%|█▋        | 360/2092 [00:24<02:44, 10.54it/s]\u001b[A\n",
      " 17%|█▋        | 362/2092 [00:24<02:37, 10.99it/s]\u001b[A\n",
      " 17%|█▋        | 364/2092 [00:24<02:32, 11.31it/s]\u001b[A\n",
      " 17%|█▋        | 366/2092 [00:24<02:29, 11.55it/s]\u001b[A\n",
      " 18%|█▊        | 368/2092 [00:25<02:25, 11.82it/s]\u001b[A\n",
      " 18%|█▊        | 370/2092 [00:25<02:23, 12.03it/s]\u001b[A\n",
      " 18%|█▊        | 372/2092 [00:25<02:20, 12.22it/s]\u001b[A\n",
      " 18%|█▊        | 374/2092 [00:25<02:21, 12.18it/s]\u001b[A\n",
      " 18%|█▊        | 376/2092 [00:25<02:39, 10.73it/s]\u001b[A\n",
      " 18%|█▊        | 378/2092 [00:25<02:33, 11.14it/s]\u001b[A\n",
      " 18%|█▊        | 380/2092 [00:26<02:30, 11.35it/s]\u001b[A\n",
      " 18%|█▊        | 382/2092 [00:26<02:29, 11.41it/s]\u001b[A\n",
      " 18%|█▊        | 385/2092 [00:26<02:02, 13.97it/s]\u001b[A\n",
      " 19%|█▉        | 397/2092 [00:26<01:29, 18.93it/s]\u001b[A\n",
      " 20%|█▉        | 408/2092 [00:26<01:06, 25.14it/s]\u001b[A\n",
      " 20%|██        | 420/2092 [00:26<00:50, 32.88it/s]\u001b[A\n",
      " 21%|██        | 433/2092 [00:26<00:39, 42.12it/s]\u001b[A\n",
      " 21%|██▏       | 446/2092 [00:26<00:31, 52.63it/s]\u001b[A\n",
      " 22%|██▏       | 459/2092 [00:26<00:25, 63.94it/s]\u001b[A\n",
      " 23%|██▎       | 472/2092 [00:27<00:21, 75.26it/s]\u001b[A\n",
      " 23%|██▎       | 485/2092 [00:27<00:18, 85.87it/s]\u001b[A\n",
      " 24%|██▍       | 498/2092 [00:27<00:16, 95.39it/s]\u001b[A\n"
     ]
    },
    {
     "name": "stderr",
     "output_type": "stream",
     "text": [
      " 24%|██▍       | 511/2092 [00:27<00:15, 103.12it/s]\u001b[A\n",
      " 25%|██▌       | 524/2092 [00:27<00:14, 108.03it/s]\u001b[A\n",
      " 26%|██▌       | 537/2092 [00:27<00:15, 100.78it/s]\u001b[A\n",
      " 26%|██▌       | 549/2092 [00:27<00:16, 94.80it/s] \u001b[A\n",
      " 27%|██▋       | 560/2092 [00:27<00:16, 91.51it/s]\u001b[A\n",
      " 27%|██▋       | 570/2092 [00:28<00:17, 88.94it/s]\u001b[A\n",
      " 28%|██▊       | 580/2092 [00:28<00:17, 87.84it/s]\u001b[A\n",
      " 28%|██▊       | 590/2092 [00:28<00:17, 87.50it/s]\u001b[A\n",
      " 29%|██▊       | 599/2092 [00:28<00:17, 84.90it/s]\u001b[A\n",
      " 29%|██▉       | 608/2092 [00:28<00:17, 85.02it/s]\u001b[A\n",
      " 29%|██▉       | 617/2092 [00:28<00:17, 85.89it/s]\u001b[A\n",
      " 30%|██▉       | 626/2092 [00:28<00:17, 86.17it/s]\u001b[A\n",
      " 30%|███       | 635/2092 [00:28<00:16, 86.04it/s]\u001b[A\n",
      " 31%|███       | 644/2092 [00:28<00:16, 85.80it/s]\u001b[A\n",
      " 31%|███       | 653/2092 [00:28<00:16, 85.54it/s]\u001b[A\n",
      " 32%|███▏      | 662/2092 [00:29<00:16, 84.58it/s]\u001b[A\n",
      " 32%|███▏      | 671/2092 [00:29<00:17, 80.20it/s]\u001b[A\n",
      " 33%|███▎      | 680/2092 [00:29<00:19, 73.30it/s]\u001b[A\n",
      " 33%|███▎      | 688/2092 [00:29<00:19, 73.19it/s]\u001b[A\n",
      " 33%|███▎      | 697/2092 [00:29<00:18, 76.40it/s]\u001b[A\n",
      " 34%|███▎      | 705/2092 [00:29<00:18, 73.50it/s]\u001b[A\n",
      " 34%|███▍      | 714/2092 [00:29<00:18, 76.14it/s]\u001b[A\n",
      " 35%|███▍      | 723/2092 [00:29<00:17, 77.63it/s]\u001b[A\n",
      " 35%|███▍      | 732/2092 [00:30<00:17, 78.77it/s]\u001b[A\n",
      " 35%|███▌      | 741/2092 [00:30<00:16, 81.27it/s]\u001b[A\n",
      " 36%|███▌      | 750/2092 [00:30<00:17, 77.51it/s]\u001b[A\n",
      " 36%|███▋      | 759/2092 [00:30<00:16, 79.58it/s]\u001b[A\n",
      " 37%|███▋      | 768/2092 [00:30<00:16, 78.82it/s]\u001b[A\n",
      " 37%|███▋      | 777/2092 [00:30<00:16, 79.37it/s]\u001b[A\n",
      " 38%|███▊      | 785/2092 [00:30<00:17, 74.73it/s]\u001b[A\n",
      " 38%|███▊      | 793/2092 [00:30<00:17, 72.90it/s]\u001b[A\n",
      " 38%|███▊      | 802/2092 [00:30<00:17, 75.20it/s]\u001b[A\n",
      " 39%|███▊      | 810/2092 [00:31<00:16, 76.29it/s]\u001b[A\n",
      " 39%|███▉      | 818/2092 [00:31<00:16, 75.29it/s]\u001b[A\n",
      " 39%|███▉      | 826/2092 [00:31<00:18, 69.11it/s]\u001b[A\n",
      " 40%|███▉      | 834/2092 [00:31<00:19, 65.38it/s]\u001b[A\n",
      " 40%|████      | 843/2092 [00:31<00:17, 69.65it/s]\u001b[A\n",
      " 41%|████      | 851/2092 [00:31<00:19, 62.96it/s]\u001b[A\n",
      " 41%|████      | 860/2092 [00:31<00:18, 67.68it/s]\u001b[A\n",
      " 41%|████▏     | 868/2092 [00:31<00:17, 69.79it/s]\u001b[A\n",
      " 42%|████▏     | 877/2092 [00:32<00:16, 72.67it/s]\u001b[A\n",
      " 42%|████▏     | 885/2092 [00:32<00:16, 72.94it/s]\u001b[A\n",
      " 43%|████▎     | 893/2092 [00:32<00:16, 70.69it/s]\u001b[A\n",
      " 43%|████▎     | 902/2092 [00:32<00:15, 74.63it/s]\u001b[A\n",
      " 44%|████▎     | 911/2092 [00:32<00:15, 77.56it/s]\u001b[A\n",
      " 44%|████▍     | 920/2092 [00:32<00:14, 79.52it/s]\u001b[A\n",
      " 44%|████▍     | 929/2092 [00:32<00:14, 80.26it/s]\u001b[A\n",
      " 45%|████▍     | 938/2092 [00:32<00:14, 79.94it/s]\u001b[A\n",
      " 45%|████▌     | 947/2092 [00:32<00:14, 79.25it/s]\u001b[A\n",
      " 46%|████▌     | 955/2092 [00:33<00:14, 78.69it/s]\u001b[A\n",
      " 46%|████▌     | 964/2092 [00:33<00:14, 79.96it/s]\u001b[A\n",
      " 47%|████▋     | 973/2092 [00:33<00:14, 79.32it/s]\u001b[A\n",
      " 47%|████▋     | 981/2092 [00:33<00:14, 75.43it/s]\u001b[A\n",
      " 47%|████▋     | 989/2092 [00:33<00:15, 71.53it/s]\u001b[A\n",
      " 48%|████▊     | 998/2092 [00:33<00:14, 74.73it/s]\u001b[A\n",
      " 48%|████▊     | 1007/2092 [00:33<00:14, 76.58it/s]\u001b[A\n",
      " 49%|████▊     | 1015/2092 [00:33<00:14, 76.64it/s]\u001b[A\n",
      " 49%|████▉     | 1023/2092 [00:33<00:15, 70.32it/s]\u001b[A\n",
      " 49%|████▉     | 1031/2092 [00:34<00:16, 66.03it/s]\u001b[A\n",
      " 50%|████▉     | 1038/2092 [00:34<00:16, 63.69it/s]\u001b[A\n",
      " 50%|████▉     | 1045/2092 [00:34<00:16, 65.31it/s]\u001b[A\n",
      " 50%|█████     | 1054/2092 [00:34<00:14, 69.82it/s]\u001b[A\n",
      " 51%|█████     | 1063/2092 [00:34<00:13, 74.06it/s]\u001b[A\n",
      " 51%|█████     | 1072/2092 [00:34<00:13, 77.23it/s]\u001b[A\n",
      " 52%|█████▏    | 1081/2092 [00:34<00:12, 79.36it/s]\u001b[A\n",
      " 52%|█████▏    | 1090/2092 [00:34<00:12, 80.75it/s]\u001b[A\n",
      " 53%|█████▎    | 1099/2092 [00:34<00:12, 81.64it/s]\u001b[A\n",
      " 53%|█████▎    | 1108/2092 [00:35<00:11, 82.73it/s]\u001b[A\n",
      " 53%|█████▎    | 1117/2092 [00:35<00:11, 83.56it/s]\u001b[A\n",
      " 54%|█████▍    | 1126/2092 [00:35<00:11, 84.44it/s]\u001b[A\n",
      " 54%|█████▍    | 1135/2092 [00:35<00:11, 83.60it/s]\u001b[A\n",
      " 55%|█████▍    | 1144/2092 [00:35<00:11, 83.05it/s]\u001b[A\n",
      " 55%|█████▌    | 1153/2092 [00:35<00:12, 73.67it/s]\u001b[A\n",
      " 55%|█████▌    | 1161/2092 [00:35<00:13, 69.22it/s]\u001b[A\n",
      " 56%|█████▌    | 1169/2092 [00:35<00:12, 71.15it/s]\u001b[A\n",
      " 56%|█████▋    | 1178/2092 [00:35<00:12, 74.32it/s]\u001b[A\n",
      " 57%|█████▋    | 1187/2092 [00:36<00:11, 75.77it/s]\u001b[A\n",
      " 57%|█████▋    | 1196/2092 [00:36<00:11, 76.79it/s]\u001b[A\n",
      " 58%|█████▊    | 1205/2092 [00:36<00:11, 78.60it/s]\u001b[A\n",
      " 58%|█████▊    | 1214/2092 [00:36<00:10, 79.92it/s]\u001b[A\n",
      " 58%|█████▊    | 1223/2092 [00:36<00:10, 80.99it/s]\u001b[A\n",
      " 59%|█████▉    | 1232/2092 [00:36<00:10, 79.09it/s]\u001b[A\n",
      " 59%|█████▉    | 1241/2092 [00:36<00:10, 80.13it/s]\u001b[A\n",
      " 60%|█████▉    | 1250/2092 [00:36<00:10, 81.17it/s]\u001b[A\n",
      " 60%|██████    | 1259/2092 [00:37<00:22, 37.42it/s]\u001b[A\n",
      " 61%|██████    | 1266/2092 [00:37<00:36, 22.92it/s]\u001b[A\n",
      " 61%|██████    | 1271/2092 [00:38<00:45, 17.90it/s]\u001b[A\n",
      " 61%|██████    | 1275/2092 [00:38<00:52, 15.54it/s]\u001b[A\n",
      " 61%|██████    | 1278/2092 [00:39<00:57, 14.08it/s]\u001b[A\n",
      " 61%|██████    | 1281/2092 [00:39<01:00, 13.37it/s]\u001b[A\n",
      " 61%|██████▏   | 1284/2092 [00:39<01:02, 13.02it/s]\u001b[A\n",
      " 61%|██████▏   | 1286/2092 [00:39<01:03, 12.68it/s]\u001b[A\n",
      " 62%|██████▏   | 1288/2092 [00:39<01:04, 12.38it/s]\u001b[A\n",
      " 62%|██████▏   | 1290/2092 [00:40<01:05, 12.18it/s]\u001b[A\n",
      " 62%|██████▏   | 1292/2092 [00:40<01:06, 11.95it/s]\u001b[A\n",
      " 62%|██████▏   | 1294/2092 [00:40<01:07, 11.91it/s]\u001b[A\n",
      " 62%|██████▏   | 1296/2092 [00:40<01:07, 11.84it/s]\u001b[A\n",
      " 62%|██████▏   | 1298/2092 [00:40<01:09, 11.49it/s]\u001b[A\n",
      " 62%|██████▏   | 1300/2092 [00:41<01:23,  9.54it/s]\u001b[A\n",
      " 62%|██████▏   | 1302/2092 [00:41<01:19,  9.96it/s]\u001b[A\n",
      " 62%|██████▏   | 1304/2092 [00:41<01:15, 10.46it/s]\u001b[A\n",
      " 62%|██████▏   | 1306/2092 [00:41<01:14, 10.58it/s]\u001b[A\n",
      " 63%|██████▎   | 1308/2092 [00:41<01:12, 10.74it/s]\u001b[A\n",
      " 63%|██████▎   | 1310/2092 [00:41<01:13, 10.68it/s]\u001b[A\n",
      " 63%|██████▎   | 1312/2092 [00:42<01:13, 10.63it/s]\u001b[A\n",
      " 63%|██████▎   | 1314/2092 [00:42<01:13, 10.62it/s]\u001b[A\n",
      " 63%|██████▎   | 1316/2092 [00:42<01:12, 10.63it/s]\u001b[A\n",
      " 63%|██████▎   | 1318/2092 [00:42<01:12, 10.71it/s]\u001b[A\n",
      " 63%|██████▎   | 1320/2092 [00:42<01:10, 10.93it/s]\u001b[A\n",
      " 63%|██████▎   | 1322/2092 [00:43<01:09, 11.01it/s]\u001b[A\n",
      " 63%|██████▎   | 1324/2092 [00:43<01:09, 11.05it/s]\u001b[A\n",
      " 63%|██████▎   | 1326/2092 [00:43<01:08, 11.17it/s]\u001b[A\n",
      " 63%|██████▎   | 1328/2092 [00:43<01:07, 11.32it/s]\u001b[A\n",
      " 64%|██████▎   | 1330/2092 [00:43<01:06, 11.44it/s]\u001b[A\n",
      " 64%|██████▎   | 1332/2092 [00:43<01:05, 11.57it/s]\u001b[A\n",
      " 64%|██████▍   | 1334/2092 [00:44<01:05, 11.51it/s]\u001b[A\n",
      " 64%|██████▍   | 1336/2092 [00:44<01:06, 11.39it/s]\u001b[A\n",
      " 64%|██████▍   | 1338/2092 [00:44<01:07, 11.23it/s]\u001b[A\n",
      " 64%|██████▍   | 1340/2092 [00:44<01:06, 11.28it/s]\u001b[A\n",
      " 64%|██████▍   | 1342/2092 [00:44<01:06, 11.34it/s]\u001b[A\n",
      " 64%|██████▍   | 1344/2092 [00:44<01:05, 11.34it/s]\u001b[A\n",
      " 64%|██████▍   | 1346/2092 [00:45<01:05, 11.34it/s]\u001b[A\n",
      " 64%|██████▍   | 1348/2092 [00:45<01:06, 11.20it/s]\u001b[A\n",
      " 65%|██████▍   | 1350/2092 [00:45<01:05, 11.31it/s]\u001b[A\n",
      " 65%|██████▍   | 1352/2092 [00:45<01:05, 11.35it/s]\u001b[A\n",
      " 65%|██████▍   | 1354/2092 [00:45<01:05, 11.34it/s]\u001b[A\n",
      " 65%|██████▍   | 1356/2092 [00:46<01:05, 11.32it/s]\u001b[A\n",
      " 65%|██████▍   | 1358/2092 [00:46<01:05, 11.28it/s]\u001b[A\n",
      " 65%|██████▌   | 1360/2092 [00:46<01:04, 11.31it/s]\u001b[A\n",
      " 65%|██████▌   | 1362/2092 [00:46<01:04, 11.35it/s]\u001b[A\n",
      " 65%|██████▌   | 1364/2092 [00:46<01:08, 10.61it/s]\u001b[A\n",
      " 65%|██████▌   | 1366/2092 [00:46<01:07, 10.80it/s]\u001b[A\n",
      " 65%|██████▌   | 1368/2092 [00:47<01:06, 10.90it/s]\u001b[A\n",
      " 65%|██████▌   | 1370/2092 [00:47<01:04, 11.15it/s]\u001b[A\n",
      " 66%|██████▌   | 1372/2092 [00:47<01:04, 11.24it/s]\u001b[A\n",
      " 66%|██████▌   | 1374/2092 [00:47<01:03, 11.32it/s]\u001b[A\n",
      " 66%|██████▌   | 1376/2092 [00:47<01:02, 11.38it/s]\u001b[A\n",
      " 66%|██████▌   | 1378/2092 [00:47<01:02, 11.34it/s]\u001b[A\n",
      " 66%|██████▌   | 1380/2092 [00:48<01:02, 11.31it/s]\u001b[A\n",
      " 66%|██████▌   | 1382/2092 [00:48<01:03, 11.24it/s]\u001b[A\n",
      " 66%|██████▌   | 1384/2092 [00:48<01:02, 11.41it/s]\u001b[A\n",
      " 66%|██████▋   | 1386/2092 [00:48<01:01, 11.52it/s]\u001b[A\n",
      " 66%|██████▋   | 1388/2092 [00:48<01:00, 11.54it/s]\u001b[A\n",
      " 66%|██████▋   | 1390/2092 [00:49<01:00, 11.52it/s]\u001b[A\n",
      " 67%|██████▋   | 1392/2092 [00:49<01:01, 11.38it/s]\u001b[A\n",
      " 67%|██████▋   | 1394/2092 [00:49<01:02, 11.22it/s]\u001b[A\n",
      " 67%|██████▋   | 1396/2092 [00:49<01:01, 11.28it/s]\u001b[A\n",
      " 67%|██████▋   | 1398/2092 [00:49<01:00, 11.41it/s]\u001b[A\n",
      " 67%|██████▋   | 1400/2092 [00:49<01:00, 11.39it/s]\u001b[A\n"
     ]
    },
    {
     "name": "stderr",
     "output_type": "stream",
     "text": [
      " 67%|██████▋   | 1402/2092 [00:50<01:00, 11.44it/s]\u001b[A\n",
      " 67%|██████▋   | 1404/2092 [00:50<00:59, 11.63it/s]\u001b[A\n",
      " 67%|██████▋   | 1406/2092 [00:50<00:59, 11.61it/s]\u001b[A\n",
      " 67%|██████▋   | 1408/2092 [00:50<00:58, 11.61it/s]\u001b[A\n",
      " 67%|██████▋   | 1410/2092 [00:50<00:58, 11.70it/s]\u001b[A\n",
      " 67%|██████▋   | 1412/2092 [00:50<00:58, 11.64it/s]\u001b[A\n",
      " 68%|██████▊   | 1414/2092 [00:51<00:58, 11.65it/s]\u001b[A\n",
      " 68%|██████▊   | 1416/2092 [00:51<00:57, 11.73it/s]\u001b[A\n",
      " 68%|██████▊   | 1418/2092 [00:51<00:57, 11.80it/s]\u001b[A\n",
      " 68%|██████▊   | 1420/2092 [00:51<01:03, 10.52it/s]\u001b[A\n",
      " 68%|██████▊   | 1422/2092 [00:51<01:03, 10.55it/s]\u001b[A\n",
      " 68%|██████▊   | 1424/2092 [00:52<01:01, 10.83it/s]\u001b[A\n",
      " 68%|██████▊   | 1426/2092 [00:52<01:01, 10.84it/s]\u001b[A\n",
      " 68%|██████▊   | 1428/2092 [00:52<01:00, 10.95it/s]\u001b[A\n",
      " 68%|██████▊   | 1430/2092 [00:52<01:00, 10.98it/s]\u001b[A\n",
      " 68%|██████▊   | 1432/2092 [00:52<01:00, 10.89it/s]\u001b[A\n",
      " 69%|██████▊   | 1434/2092 [00:52<01:00, 10.92it/s]\u001b[A\n",
      " 69%|██████▊   | 1436/2092 [00:53<01:00, 10.84it/s]\u001b[A\n",
      " 69%|██████▊   | 1438/2092 [00:53<01:01, 10.68it/s]\u001b[A\n",
      " 69%|██████▉   | 1440/2092 [00:53<01:01, 10.62it/s]\u001b[A\n",
      " 69%|██████▉   | 1442/2092 [00:53<01:00, 10.80it/s]\u001b[A\n",
      " 69%|██████▉   | 1444/2092 [00:53<01:00, 10.76it/s]\u001b[A\n",
      " 69%|██████▉   | 1446/2092 [00:54<01:00, 10.67it/s]\u001b[A\n",
      " 69%|██████▉   | 1448/2092 [00:54<01:01, 10.49it/s]\u001b[A\n",
      " 69%|██████▉   | 1450/2092 [00:54<01:01, 10.38it/s]\u001b[A\n",
      " 69%|██████▉   | 1452/2092 [00:54<01:01, 10.46it/s]\u001b[A\n",
      " 70%|██████▉   | 1454/2092 [00:54<01:02, 10.19it/s]\u001b[A\n",
      " 70%|██████▉   | 1456/2092 [00:55<01:01, 10.28it/s]\u001b[A\n",
      " 70%|██████▉   | 1458/2092 [00:55<01:00, 10.55it/s]\u001b[A\n",
      " 70%|██████▉   | 1460/2092 [00:55<00:59, 10.70it/s]\u001b[A\n",
      " 70%|██████▉   | 1462/2092 [00:55<00:58, 10.76it/s]\u001b[A\n",
      " 70%|██████▉   | 1464/2092 [00:55<00:58, 10.72it/s]\u001b[A\n",
      " 70%|███████   | 1466/2092 [00:55<00:57, 10.82it/s]\u001b[A\n",
      " 70%|███████   | 1468/2092 [00:56<00:56, 11.04it/s]\u001b[A\n",
      " 70%|███████   | 1470/2092 [00:56<00:55, 11.16it/s]\u001b[A\n",
      " 70%|███████   | 1472/2092 [00:56<00:55, 11.27it/s]\u001b[A\n",
      " 70%|███████   | 1474/2092 [00:56<00:54, 11.28it/s]\u001b[A\n",
      " 71%|███████   | 1476/2092 [00:56<00:54, 11.25it/s]\u001b[A\n",
      " 71%|███████   | 1478/2092 [00:57<00:54, 11.19it/s]\u001b[A\n",
      " 71%|███████   | 1480/2092 [00:57<00:54, 11.25it/s]\u001b[A\n",
      " 71%|███████   | 1482/2092 [00:57<00:54, 11.19it/s]\u001b[A\n",
      " 71%|███████   | 1484/2092 [00:57<00:53, 11.33it/s]\u001b[A\n",
      " 71%|███████   | 1486/2092 [00:57<00:54, 11.10it/s]\u001b[A\n",
      " 71%|███████   | 1488/2092 [00:57<00:54, 11.14it/s]\u001b[A\n",
      " 71%|███████   | 1490/2092 [00:58<01:00, 10.02it/s]\u001b[A\n",
      " 71%|███████▏  | 1492/2092 [00:58<00:57, 10.41it/s]\u001b[A\n",
      " 71%|███████▏  | 1494/2092 [00:58<00:55, 10.71it/s]\u001b[A\n",
      " 72%|███████▏  | 1496/2092 [00:58<00:54, 10.87it/s]\u001b[A\n",
      " 72%|███████▏  | 1498/2092 [00:58<00:54, 10.93it/s]\u001b[A\n",
      " 72%|███████▏  | 1500/2092 [00:59<00:54, 10.94it/s]\u001b[A\n",
      " 72%|███████▏  | 1502/2092 [00:59<00:53, 10.96it/s]\u001b[A\n",
      " 72%|███████▏  | 1504/2092 [00:59<00:52, 11.12it/s]\u001b[A\n",
      " 72%|███████▏  | 1506/2092 [00:59<00:52, 11.20it/s]\u001b[A\n",
      " 72%|███████▏  | 1508/2092 [00:59<00:51, 11.37it/s]\u001b[A\n",
      " 72%|███████▏  | 1510/2092 [00:59<00:51, 11.40it/s]\u001b[A\n",
      " 72%|███████▏  | 1512/2092 [01:00<00:51, 11.36it/s]\u001b[A\n",
      " 72%|███████▏  | 1514/2092 [01:00<00:50, 11.38it/s]\u001b[A\n",
      " 72%|███████▏  | 1516/2092 [01:00<00:50, 11.34it/s]\u001b[A\n",
      " 73%|███████▎  | 1518/2092 [01:00<00:50, 11.46it/s]\u001b[A\n",
      " 73%|███████▎  | 1520/2092 [01:00<00:49, 11.53it/s]\u001b[A\n",
      " 73%|███████▎  | 1522/2092 [01:00<00:49, 11.49it/s]\u001b[A\n",
      " 73%|███████▎  | 1524/2092 [01:01<00:50, 11.31it/s]\u001b[A\n",
      " 73%|███████▎  | 1526/2092 [01:01<00:49, 11.44it/s]\u001b[A\n",
      " 73%|███████▎  | 1528/2092 [01:01<00:48, 11.57it/s]\u001b[A\n",
      " 73%|███████▎  | 1530/2092 [01:01<00:48, 11.67it/s]\u001b[A\n",
      " 73%|███████▎  | 1532/2092 [01:01<00:47, 11.70it/s]\u001b[A\n",
      " 73%|███████▎  | 1534/2092 [01:02<00:47, 11.82it/s]\u001b[A\n",
      " 73%|███████▎  | 1536/2092 [01:02<00:46, 11.84it/s]\u001b[A\n",
      " 74%|███████▎  | 1538/2092 [01:02<00:47, 11.68it/s]\u001b[A\n",
      " 74%|███████▎  | 1540/2092 [01:02<00:47, 11.56it/s]\u001b[A\n",
      " 74%|███████▎  | 1542/2092 [01:02<00:47, 11.54it/s]\u001b[A\n",
      " 74%|███████▍  | 1544/2092 [01:02<00:47, 11.52it/s]\u001b[A\n",
      " 74%|███████▍  | 1546/2092 [01:03<00:47, 11.50it/s]\u001b[A\n",
      " 74%|███████▍  | 1548/2092 [01:03<00:47, 11.45it/s]\u001b[A\n",
      " 74%|███████▍  | 1550/2092 [01:03<00:47, 11.45it/s]\u001b[A\n",
      " 74%|███████▍  | 1552/2092 [01:03<00:46, 11.60it/s]\u001b[A\n",
      " 74%|███████▍  | 1554/2092 [01:03<00:46, 11.68it/s]\u001b[A\n",
      " 74%|███████▍  | 1556/2092 [01:03<00:45, 11.74it/s]\u001b[A\n",
      " 74%|███████▍  | 1558/2092 [01:04<00:46, 11.60it/s]\u001b[A\n",
      " 75%|███████▍  | 1560/2092 [01:04<00:45, 11.59it/s]\u001b[A\n",
      " 75%|███████▍  | 1562/2092 [01:04<00:45, 11.72it/s]\u001b[A\n",
      " 75%|███████▍  | 1564/2092 [01:04<00:45, 11.71it/s]\u001b[A\n",
      " 75%|███████▍  | 1566/2092 [01:04<00:44, 11.82it/s]\u001b[A\n",
      " 75%|███████▍  | 1568/2092 [01:04<00:44, 11.81it/s]\u001b[A\n",
      " 75%|███████▌  | 1570/2092 [01:05<00:44, 11.68it/s]\u001b[A\n",
      " 75%|███████▌  | 1572/2092 [01:05<00:45, 11.40it/s]\u001b[A\n",
      " 75%|███████▌  | 1574/2092 [01:05<00:45, 11.31it/s]\u001b[A\n",
      " 75%|███████▌  | 1576/2092 [01:05<00:45, 11.39it/s]\u001b[A\n",
      " 75%|███████▌  | 1578/2092 [01:05<00:45, 11.39it/s]\u001b[A\n",
      " 76%|███████▌  | 1580/2092 [01:05<00:45, 11.37it/s]\u001b[A\n",
      " 76%|███████▌  | 1582/2092 [01:06<00:46, 11.08it/s]\u001b[A\n",
      " 76%|███████▌  | 1584/2092 [01:06<00:46, 10.94it/s]\u001b[A\n",
      " 76%|███████▌  | 1586/2092 [01:06<00:46, 11.00it/s]\u001b[A\n",
      " 76%|███████▌  | 1588/2092 [01:06<00:45, 11.01it/s]\u001b[A\n",
      " 76%|███████▌  | 1590/2092 [01:06<00:45, 10.96it/s]\u001b[A\n",
      " 76%|███████▌  | 1592/2092 [01:07<00:46, 10.79it/s]\u001b[A\n",
      " 76%|███████▌  | 1594/2092 [01:07<00:46, 10.82it/s]\u001b[A\n",
      " 76%|███████▋  | 1596/2092 [01:07<00:45, 10.91it/s]\u001b[A\n",
      " 76%|███████▋  | 1598/2092 [01:07<00:45, 10.85it/s]\u001b[A\n",
      " 76%|███████▋  | 1600/2092 [01:07<00:45, 10.93it/s]\u001b[A\n",
      " 77%|███████▋  | 1602/2092 [01:08<00:44, 10.99it/s]\u001b[A\n",
      " 77%|███████▋  | 1604/2092 [01:08<00:44, 10.93it/s]\u001b[A\n",
      " 77%|███████▋  | 1606/2092 [01:08<00:44, 10.93it/s]\u001b[A\n",
      " 77%|███████▋  | 1608/2092 [01:08<00:44, 10.79it/s]\u001b[A\n",
      " 77%|███████▋  | 1610/2092 [01:08<00:44, 10.90it/s]\u001b[A\n",
      " 77%|███████▋  | 1612/2092 [01:08<00:44, 10.82it/s]\u001b[A\n",
      " 77%|███████▋  | 1614/2092 [01:09<00:44, 10.82it/s]\u001b[A\n",
      " 77%|███████▋  | 1616/2092 [01:09<00:43, 10.99it/s]\u001b[A\n",
      " 77%|███████▋  | 1618/2092 [01:09<00:42, 11.03it/s]\u001b[A\n",
      " 77%|███████▋  | 1620/2092 [01:09<00:42, 11.18it/s]\u001b[A\n",
      " 78%|███████▊  | 1622/2092 [01:09<00:41, 11.23it/s]\u001b[A\n",
      " 78%|███████▊  | 1624/2092 [01:10<00:42, 11.09it/s]\u001b[A\n",
      " 78%|███████▊  | 1626/2092 [01:10<00:42, 11.01it/s]\u001b[A\n",
      " 78%|███████▊  | 1628/2092 [01:10<00:42, 10.90it/s]\u001b[A\n",
      " 78%|███████▊  | 1630/2092 [01:10<00:42, 10.77it/s]\u001b[A\n",
      " 78%|███████▊  | 1632/2092 [01:10<00:42, 10.81it/s]\u001b[A\n",
      " 78%|███████▊  | 1634/2092 [01:10<00:42, 10.82it/s]\u001b[A\n",
      " 78%|███████▊  | 1636/2092 [01:11<00:46,  9.87it/s]\u001b[A\n",
      " 78%|███████▊  | 1638/2092 [01:11<00:44, 10.24it/s]\u001b[A\n",
      " 78%|███████▊  | 1640/2092 [01:11<00:43, 10.33it/s]\u001b[A\n",
      " 78%|███████▊  | 1642/2092 [01:11<00:42, 10.64it/s]\u001b[A\n",
      " 79%|███████▊  | 1644/2092 [01:11<00:41, 10.78it/s]\u001b[A\n",
      " 79%|███████▊  | 1646/2092 [01:12<00:40, 10.99it/s]\u001b[A\n",
      " 79%|███████▉  | 1648/2092 [01:12<00:39, 11.11it/s]\u001b[A\n",
      " 79%|███████▉  | 1650/2092 [01:12<00:40, 10.89it/s]\u001b[A\n",
      " 79%|███████▉  | 1652/2092 [01:12<00:39, 11.00it/s]\u001b[A\n",
      " 79%|███████▉  | 1654/2092 [01:12<00:39, 11.06it/s]\u001b[A\n",
      " 79%|███████▉  | 1656/2092 [01:12<00:39, 11.12it/s]\u001b[A\n",
      " 79%|███████▉  | 1658/2092 [01:13<00:38, 11.28it/s]\u001b[A\n",
      " 79%|███████▉  | 1660/2092 [01:13<00:37, 11.39it/s]\u001b[A\n",
      " 79%|███████▉  | 1662/2092 [01:13<00:37, 11.35it/s]\u001b[A\n",
      " 80%|███████▉  | 1664/2092 [01:13<00:37, 11.34it/s]\u001b[A\n",
      " 80%|███████▉  | 1666/2092 [01:13<00:37, 11.34it/s]\u001b[A\n",
      " 80%|███████▉  | 1668/2092 [01:14<00:37, 11.35it/s]\u001b[A\n",
      " 80%|███████▉  | 1670/2092 [01:14<00:37, 11.40it/s]\u001b[A\n",
      " 80%|███████▉  | 1672/2092 [01:14<00:37, 11.33it/s]\u001b[A\n",
      " 80%|████████  | 1674/2092 [01:14<00:37, 11.08it/s]\u001b[A\n",
      " 80%|████████  | 1676/2092 [01:14<00:38, 10.77it/s]\u001b[A\n",
      " 80%|████████  | 1678/2092 [01:14<00:38, 10.84it/s]\u001b[A\n",
      " 80%|████████  | 1680/2092 [01:15<00:37, 10.91it/s]\u001b[A\n",
      " 80%|████████  | 1682/2092 [01:15<00:38, 10.56it/s]\u001b[A\n",
      " 80%|████████  | 1684/2092 [01:15<00:39, 10.31it/s]\u001b[A\n",
      " 81%|████████  | 1686/2092 [01:15<00:39, 10.38it/s]\u001b[A\n",
      " 81%|████████  | 1688/2092 [01:15<00:38, 10.40it/s]\u001b[A\n",
      " 81%|████████  | 1690/2092 [01:16<00:38, 10.37it/s]\u001b[A\n",
      " 81%|████████  | 1692/2092 [01:16<00:37, 10.63it/s]\u001b[A\n",
      " 81%|████████  | 1694/2092 [01:16<00:37, 10.56it/s]\u001b[A\n",
      " 81%|████████  | 1696/2092 [01:16<00:38, 10.40it/s]\u001b[A\n"
     ]
    },
    {
     "name": "stderr",
     "output_type": "stream",
     "text": [
      " 81%|████████  | 1698/2092 [01:16<00:37, 10.37it/s]\u001b[A\n",
      " 81%|████████▏ | 1700/2092 [01:17<00:37, 10.55it/s]\u001b[A\n",
      " 81%|████████▏ | 1702/2092 [01:17<00:37, 10.48it/s]\u001b[A\n",
      " 81%|████████▏ | 1704/2092 [01:17<00:37, 10.47it/s]\u001b[A\n",
      " 82%|████████▏ | 1706/2092 [01:17<00:36, 10.51it/s]\u001b[A\n",
      " 82%|████████▏ | 1708/2092 [01:17<00:37, 10.32it/s]\u001b[A\n",
      " 82%|████████▏ | 1710/2092 [01:18<00:36, 10.51it/s]\u001b[A\n",
      " 82%|████████▏ | 1712/2092 [01:18<00:35, 10.63it/s]\u001b[A\n",
      " 82%|████████▏ | 1714/2092 [01:18<00:34, 10.86it/s]\u001b[A\n",
      " 82%|████████▏ | 1716/2092 [01:18<00:34, 10.97it/s]\u001b[A\n",
      " 82%|████████▏ | 1718/2092 [01:18<00:34, 10.94it/s]\u001b[A\n",
      " 82%|████████▏ | 1720/2092 [01:18<00:33, 11.02it/s]\u001b[A\n",
      " 82%|████████▏ | 1722/2092 [01:19<00:33, 11.01it/s]\u001b[A\n",
      " 82%|████████▏ | 1724/2092 [01:19<00:33, 10.95it/s]\u001b[A\n",
      " 83%|████████▎ | 1726/2092 [01:19<00:33, 11.07it/s]\u001b[A\n",
      " 83%|████████▎ | 1728/2092 [01:19<00:32, 11.04it/s]\u001b[A\n",
      " 83%|████████▎ | 1730/2092 [01:19<00:32, 11.05it/s]\u001b[A\n",
      " 83%|████████▎ | 1732/2092 [01:20<00:32, 10.99it/s]\u001b[A\n",
      " 83%|████████▎ | 1734/2092 [01:20<00:32, 11.05it/s]\u001b[A\n",
      " 83%|████████▎ | 1736/2092 [01:20<00:31, 11.18it/s]\u001b[A\n",
      " 83%|████████▎ | 1738/2092 [01:20<00:31, 11.23it/s]\u001b[A\n",
      " 83%|████████▎ | 1740/2092 [01:20<00:31, 11.13it/s]\u001b[A\n",
      " 83%|████████▎ | 1742/2092 [01:20<00:31, 11.20it/s]\u001b[A\n",
      " 83%|████████▎ | 1744/2092 [01:21<00:31, 11.19it/s]\u001b[A\n",
      " 83%|████████▎ | 1746/2092 [01:21<00:30, 11.36it/s]\u001b[A\n",
      " 84%|████████▎ | 1748/2092 [01:21<00:30, 11.44it/s]\u001b[A\n",
      " 84%|████████▎ | 1750/2092 [01:21<00:30, 11.36it/s]\u001b[A\n",
      " 84%|████████▎ | 1752/2092 [01:21<00:29, 11.34it/s]\u001b[A\n",
      " 84%|████████▍ | 1754/2092 [01:21<00:30, 11.25it/s]\u001b[A\n",
      " 84%|████████▍ | 1756/2092 [01:22<00:29, 11.26it/s]\u001b[A\n",
      " 84%|████████▍ | 1758/2092 [01:22<00:29, 11.35it/s]\u001b[A\n",
      " 84%|████████▍ | 1760/2092 [01:22<00:29, 11.22it/s]\u001b[A\n",
      " 84%|████████▍ | 1762/2092 [01:22<00:29, 11.27it/s]\u001b[A\n",
      " 84%|████████▍ | 1764/2092 [01:22<00:29, 11.26it/s]\u001b[A\n",
      " 84%|████████▍ | 1766/2092 [01:23<00:29, 11.13it/s]\u001b[A\n",
      " 85%|████████▍ | 1768/2092 [01:23<00:28, 11.17it/s]\u001b[A\n",
      " 85%|████████▍ | 1770/2092 [01:23<00:28, 11.24it/s]\u001b[A\n",
      " 85%|████████▍ | 1772/2092 [01:23<00:28, 11.26it/s]\u001b[A\n",
      " 85%|████████▍ | 1774/2092 [01:23<00:28, 11.33it/s]\u001b[A\n",
      " 85%|████████▍ | 1776/2092 [01:23<00:28, 11.20it/s]\u001b[A\n",
      " 85%|████████▍ | 1778/2092 [01:24<00:28, 11.14it/s]\u001b[A\n",
      " 85%|████████▌ | 1780/2092 [01:24<00:27, 11.35it/s]\u001b[A\n",
      " 85%|████████▌ | 1782/2092 [01:24<00:26, 11.53it/s]\u001b[A\n",
      " 85%|████████▌ | 1784/2092 [01:24<00:26, 11.61it/s]\u001b[A\n",
      " 85%|████████▌ | 1786/2092 [01:24<00:26, 11.53it/s]\u001b[A\n",
      " 85%|████████▌ | 1788/2092 [01:24<00:26, 11.46it/s]\u001b[A\n",
      " 86%|████████▌ | 1790/2092 [01:25<00:26, 11.50it/s]\u001b[A\n",
      " 86%|████████▌ | 1792/2092 [01:25<00:25, 11.65it/s]\u001b[A\n",
      " 86%|████████▌ | 1794/2092 [01:25<00:25, 11.48it/s]\u001b[A\n",
      " 86%|████████▌ | 1796/2092 [01:25<00:25, 11.44it/s]\u001b[A\n",
      " 86%|████████▌ | 1798/2092 [01:25<00:25, 11.46it/s]\u001b[A\n",
      " 86%|████████▌ | 1800/2092 [01:26<00:25, 11.33it/s]\u001b[A\n",
      " 86%|████████▌ | 1802/2092 [01:26<00:25, 11.22it/s]\u001b[A\n",
      " 86%|████████▌ | 1804/2092 [01:26<00:25, 11.28it/s]\u001b[A\n",
      " 86%|████████▋ | 1806/2092 [01:26<00:25, 11.30it/s]\u001b[A\n",
      " 86%|████████▋ | 1808/2092 [01:26<00:25, 11.22it/s]\u001b[A\n",
      " 87%|████████▋ | 1810/2092 [01:26<00:25, 11.22it/s]\u001b[A\n",
      " 87%|████████▋ | 1812/2092 [01:27<00:24, 11.26it/s]\u001b[A\n",
      " 87%|████████▋ | 1814/2092 [01:27<00:24, 11.37it/s]\u001b[A\n",
      " 87%|████████▋ | 1816/2092 [01:27<00:24, 11.44it/s]\u001b[A\n",
      " 87%|████████▋ | 1818/2092 [01:27<00:23, 11.44it/s]\u001b[A\n",
      " 87%|████████▋ | 1820/2092 [01:27<00:26, 10.35it/s]\u001b[A\n",
      " 87%|████████▋ | 1822/2092 [01:28<00:25, 10.52it/s]\u001b[A\n",
      " 87%|████████▋ | 1824/2092 [01:28<00:25, 10.47it/s]\u001b[A\n",
      " 87%|████████▋ | 1826/2092 [01:28<00:24, 10.82it/s]\u001b[A\n",
      " 87%|████████▋ | 1828/2092 [01:28<00:24, 10.99it/s]\u001b[A\n",
      " 87%|████████▋ | 1830/2092 [01:28<00:23, 11.08it/s]\u001b[A\n",
      " 88%|████████▊ | 1832/2092 [01:28<00:23, 11.12it/s]\u001b[A\n",
      " 88%|████████▊ | 1834/2092 [01:29<00:23, 11.10it/s]\u001b[A\n",
      " 88%|████████▊ | 1836/2092 [01:29<00:22, 11.19it/s]\u001b[A\n",
      " 88%|████████▊ | 1838/2092 [01:29<00:22, 11.19it/s]\u001b[A\n",
      " 88%|████████▊ | 1840/2092 [01:29<00:22, 11.11it/s]\u001b[A\n",
      " 88%|████████▊ | 1842/2092 [01:29<00:22, 11.10it/s]\u001b[A\n",
      " 88%|████████▊ | 1844/2092 [01:29<00:21, 11.31it/s]\u001b[A\n",
      " 88%|████████▊ | 1846/2092 [01:30<00:21, 11.40it/s]\u001b[A\n",
      " 88%|████████▊ | 1848/2092 [01:30<00:21, 11.35it/s]\u001b[A\n",
      " 88%|████████▊ | 1850/2092 [01:30<00:21, 11.15it/s]\u001b[A\n",
      " 89%|████████▊ | 1852/2092 [01:30<00:21, 11.20it/s]\u001b[A\n",
      " 89%|████████▊ | 1854/2092 [01:30<00:21, 11.22it/s]\u001b[A\n",
      " 89%|████████▊ | 1856/2092 [01:31<00:21, 11.11it/s]\u001b[A\n",
      " 89%|████████▉ | 1858/2092 [01:31<00:20, 11.18it/s]\u001b[A\n",
      " 89%|████████▉ | 1860/2092 [01:31<00:20, 11.24it/s]\u001b[A\n",
      " 89%|████████▉ | 1862/2092 [01:31<00:20, 11.27it/s]\u001b[A\n",
      " 89%|████████▉ | 1864/2092 [01:31<00:19, 11.44it/s]\u001b[A\n",
      " 89%|████████▉ | 1866/2092 [01:31<00:19, 11.45it/s]\u001b[A\n",
      " 89%|████████▉ | 1868/2092 [01:32<00:19, 11.42it/s]\u001b[A\n",
      " 89%|████████▉ | 1870/2092 [01:32<00:19, 11.39it/s]\u001b[A\n",
      " 89%|████████▉ | 1872/2092 [01:32<00:19, 11.34it/s]\u001b[A\n",
      " 90%|████████▉ | 1874/2092 [01:32<00:19, 11.25it/s]\u001b[A\n",
      " 90%|████████▉ | 1876/2092 [01:32<00:19, 11.30it/s]\u001b[A\n",
      " 90%|████████▉ | 1878/2092 [01:32<00:18, 11.33it/s]\u001b[A\n",
      " 90%|████████▉ | 1880/2092 [01:33<00:18, 11.43it/s]\u001b[A\n",
      " 90%|████████▉ | 1882/2092 [01:33<00:18, 11.47it/s]\u001b[A\n",
      " 90%|█████████ | 1884/2092 [01:33<00:18, 11.47it/s]\u001b[A\n",
      " 90%|█████████ | 1886/2092 [01:33<00:17, 11.45it/s]\u001b[A\n",
      " 90%|█████████ | 1888/2092 [01:33<00:17, 11.44it/s]\u001b[A\n",
      " 90%|█████████ | 1890/2092 [01:34<00:17, 11.48it/s]\u001b[A\n",
      " 90%|█████████ | 1892/2092 [01:34<00:17, 11.54it/s]\u001b[A\n",
      " 91%|█████████ | 1894/2092 [01:34<00:17, 11.64it/s]\u001b[A\n",
      " 91%|█████████ | 1896/2092 [01:34<00:17, 11.38it/s]\u001b[A\n",
      " 91%|█████████ | 1898/2092 [01:34<00:17, 11.30it/s]\u001b[A\n",
      " 91%|█████████ | 1900/2092 [01:34<00:16, 11.30it/s]\u001b[A\n",
      " 91%|█████████ | 1902/2092 [01:35<00:16, 11.38it/s]\u001b[A\n",
      " 91%|█████████ | 1904/2092 [01:35<00:16, 11.50it/s]\u001b[A\n",
      " 91%|█████████ | 1906/2092 [01:35<00:15, 11.64it/s]\u001b[A\n",
      " 91%|█████████ | 1908/2092 [01:35<00:17, 10.39it/s]\u001b[A\n",
      " 91%|█████████▏| 1910/2092 [01:35<00:17, 10.59it/s]\u001b[A\n",
      " 91%|█████████▏| 1912/2092 [01:36<00:16, 10.84it/s]\u001b[A\n",
      " 91%|█████████▏| 1914/2092 [01:36<00:15, 11.13it/s]\u001b[A\n",
      " 92%|█████████▏| 1916/2092 [01:36<00:15, 11.23it/s]\u001b[A\n",
      " 92%|█████████▏| 1918/2092 [01:36<00:15, 11.37it/s]\u001b[A\n",
      " 92%|█████████▏| 1920/2092 [01:36<00:14, 11.57it/s]\u001b[A\n",
      " 92%|█████████▏| 1922/2092 [01:36<00:14, 11.72it/s]\u001b[A\n",
      " 92%|█████████▏| 1924/2092 [01:37<00:14, 11.78it/s]\u001b[A\n",
      " 92%|█████████▏| 1926/2092 [01:37<00:14, 11.78it/s]\u001b[A\n",
      " 92%|█████████▏| 1928/2092 [01:37<00:14, 11.63it/s]\u001b[A\n",
      " 92%|█████████▏| 1930/2092 [01:37<00:13, 11.65it/s]\u001b[A\n",
      " 92%|█████████▏| 1932/2092 [01:37<00:14, 11.36it/s]\u001b[A\n",
      " 92%|█████████▏| 1934/2092 [01:37<00:14, 11.13it/s]\u001b[A\n",
      " 93%|█████████▎| 1936/2092 [01:38<00:13, 11.34it/s]\u001b[A\n",
      " 93%|█████████▎| 1938/2092 [01:38<00:13, 11.49it/s]\u001b[A\n",
      " 93%|█████████▎| 1940/2092 [01:38<00:12, 11.69it/s]\u001b[A\n",
      " 93%|█████████▎| 1942/2092 [01:38<00:12, 11.66it/s]\u001b[A\n",
      " 93%|█████████▎| 1944/2092 [01:38<00:13, 11.38it/s]\u001b[A\n",
      " 93%|█████████▎| 1946/2092 [01:39<00:14, 10.31it/s]\u001b[A\n",
      " 93%|█████████▎| 1948/2092 [01:39<00:13, 10.76it/s]\u001b[A\n",
      " 93%|█████████▎| 1950/2092 [01:39<00:12, 11.09it/s]\u001b[A\n",
      " 93%|█████████▎| 1952/2092 [01:39<00:12, 11.31it/s]\u001b[A\n",
      " 93%|█████████▎| 1954/2092 [01:39<00:12, 11.46it/s]\u001b[A\n",
      " 93%|█████████▎| 1956/2092 [01:39<00:11, 11.60it/s]\u001b[A\n",
      " 94%|█████████▎| 1958/2092 [01:40<00:11, 11.70it/s]\u001b[A\n",
      " 94%|█████████▎| 1960/2092 [01:40<00:11, 11.74it/s]\u001b[A\n",
      " 94%|█████████▍| 1962/2092 [01:40<00:11, 11.81it/s]\u001b[A\n",
      " 94%|█████████▍| 1964/2092 [01:40<00:10, 11.79it/s]\u001b[A\n",
      " 94%|█████████▍| 1966/2092 [01:40<00:10, 11.82it/s]\u001b[A\n",
      " 94%|█████████▍| 1968/2092 [01:40<00:10, 11.90it/s]\u001b[A\n",
      " 94%|█████████▍| 1970/2092 [01:41<00:10, 11.97it/s]\u001b[A\n",
      " 94%|█████████▍| 1972/2092 [01:41<00:10, 11.92it/s]\u001b[A\n",
      " 94%|█████████▍| 1974/2092 [01:41<00:09, 11.91it/s]\u001b[A\n",
      " 94%|█████████▍| 1976/2092 [01:41<00:09, 11.94it/s]\u001b[A\n",
      " 95%|█████████▍| 1978/2092 [01:41<00:09, 11.96it/s]\u001b[A\n",
      " 95%|█████████▍| 1980/2092 [01:41<00:09, 11.84it/s]\u001b[A\n",
      " 95%|█████████▍| 1982/2092 [01:42<00:09, 11.83it/s]\u001b[A\n",
      " 95%|█████████▍| 1984/2092 [01:42<00:09, 11.90it/s]\u001b[A\n",
      " 95%|█████████▍| 1986/2092 [01:42<00:08, 11.83it/s]\u001b[A\n",
      " 95%|█████████▌| 1988/2092 [01:42<00:08, 11.84it/s]\u001b[A\n",
      " 95%|█████████▌| 1990/2092 [01:42<00:08, 11.88it/s]\u001b[A\n",
      " 95%|█████████▌| 1992/2092 [01:42<00:08, 11.87it/s]\u001b[A\n"
     ]
    },
    {
     "name": "stderr",
     "output_type": "stream",
     "text": [
      " 95%|█████████▌| 1994/2092 [01:43<00:08, 11.92it/s]\u001b[A\n",
      " 95%|█████████▌| 1996/2092 [01:43<00:08, 11.89it/s]\u001b[A\n",
      " 96%|█████████▌| 1998/2092 [01:43<00:07, 11.90it/s]\u001b[A\n",
      " 96%|█████████▌| 2000/2092 [01:43<00:07, 11.71it/s]\u001b[A\n",
      " 96%|█████████▌| 2002/2092 [01:43<00:07, 11.82it/s]\u001b[A\n",
      " 96%|█████████▌| 2004/2092 [01:43<00:07, 11.84it/s]\u001b[A\n",
      " 96%|█████████▌| 2006/2092 [01:44<00:07, 11.90it/s]\u001b[A\n",
      " 96%|█████████▌| 2008/2092 [01:44<00:07, 11.96it/s]\u001b[A\n",
      " 96%|█████████▌| 2010/2092 [01:44<00:06, 12.46it/s]\u001b[A\n",
      " 96%|█████████▌| 2012/2092 [01:44<00:05, 13.47it/s]\u001b[A\n",
      " 96%|█████████▋| 2014/2092 [01:44<00:05, 14.43it/s]\u001b[A\n",
      " 96%|█████████▋| 2016/2092 [01:44<00:04, 15.25it/s]\u001b[A\n",
      " 97%|█████████▋| 2029/2092 [01:44<00:03, 20.66it/s]\u001b[A\n",
      " 98%|█████████▊| 2041/2092 [01:44<00:01, 27.35it/s]\u001b[A\n",
      " 98%|█████████▊| 2054/2092 [01:45<00:01, 35.64it/s]\u001b[A\n",
      " 99%|█████████▉| 2067/2092 [01:45<00:00, 45.45it/s]\u001b[A\n",
      "100%|██████████| 2092/2092 [01:45<00:00, 19.86it/s]\u001b[A"
     ]
    },
    {
     "name": "stdout",
     "output_type": "stream",
     "text": [
      "Mean overlapping:  0.6239104033578537\n"
     ]
    },
    {
     "name": "stderr",
     "output_type": "stream",
     "text": [
      "\n"
     ]
    }
   ],
   "source": [
    "def calc_overlappings(rects, pred_rects):\n",
    "    global glob_overlappings    \n",
    "    overlappings=[(np.max([calc_overlapping(pred_rect,rect, np.max) for pred_rect in pred_rects]) if len(pred_rects) > 0 else 0) for rect in rects]\n",
    "    glob_overlappings.extend(overlappings)\n",
    "\n",
    "def draw_predicted_rectangles(filename, scene_name, label_resolution, rects):\n",
    "    global glob_RES\n",
    "    \n",
    "    img=imread_resized(scene_name, filename, label_resolution)\n",
    "    img_rows=glob_RES[np.where((glob_RES[:,0] == scene_name) * (glob_RES[:,1] == filename))]\n",
    "    \n",
    "    pred_rects=[]\n",
    "    rects=[add_margin(correct_rect_ratio(rect)) for rect in rects]\n",
    "    for max_row in img_rows:\n",
    "        [scene_name, filename, scale, (x,y), pred]=max_row\n",
    "        [x,y,winW_s,winH_s]=scale_many([x,y,winW,winH], scale)\n",
    "        cv2.rectangle(img, (x,y), (x + winW_s, y + winH_s), (0, 255, 0), 2)\n",
    "        pred_rects.append(((x,y),(x+winW_s, y+winH_s)))\n",
    "    for rect in rects: \n",
    "        ((x,y),(x2,y2))=rect\n",
    "        cv2.rectangle(img, (x,y), (x2,y2), (255, 0, 0), 2)\n",
    "    \n",
    "    save_image(img, scene_name, filename, \"predicted_labels\")\n",
    "    calc_overlappings(rects, pred_rects)\n",
    "\n",
    "glob_overlappings=[]\n",
    "[draw_predicted_rectangles(*row) for row in tqdm(walk_dataset())]# if row[1]==\"warehouse_1\"]# and row[0]==\"r_1_0.jpg\"]\n",
    "print(\"Mean overlapping: \",np.mean(glob_overlappings))"
   ]
  },
  {
   "cell_type": "code",
   "execution_count": null,
   "metadata": {},
   "outputs": [],
   "source": [
    "#min_pred=0.8 : overlap = 0.623"
   ]
  }
 ],
 "metadata": {
  "kernelspec": {
   "display_name": "Python 3",
   "language": "python",
   "name": "python3"
  },
  "language_info": {
   "codemirror_mode": {
    "name": "ipython",
    "version": 3
   },
   "file_extension": ".py",
   "mimetype": "text/x-python",
   "name": "python",
   "nbconvert_exporter": "python",
   "pygments_lexer": "ipython3",
   "version": "3.6.9"
  }
 },
 "nbformat": 4,
 "nbformat_minor": 2
}
