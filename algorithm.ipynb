{
 "cells": [
  {
   "cell_type": "code",
   "execution_count": 1,
   "metadata": {},
   "outputs": [],
   "source": [
    "import cv2\n",
    "import numpy as np\n",
    "import cupy as cp\n",
    "import time\n",
    "import imutils\n",
    "from joblib import load\n",
    "from dataset_io import *\n",
    "import timeit\n",
    "from tqdm import tqdm\n",
    "import psutil\n",
    "from datetime import datetime\n",
    "from profiler import *"
   ]
  },
  {
   "cell_type": "code",
   "execution_count": 2,
   "metadata": {},
   "outputs": [],
   "source": [
    "def pyramid(image, gradient_channels, binary_imgs, initial_scale, final_scale, scale):\n",
    "    original_w=image.shape[1]\n",
    "    curr_scale=initial_scale\n",
    "    while curr_scale>final_scale/scale:\n",
    "        w = int(original_w * curr_scale)\n",
    "        yield imutils.resize(image, width=w), [imutils.resize(ch, width=w) for ch in gradient_channels], [imutils.resize(np.float32(img), width=w).astype(bool) for img in binary_imgs],curr_scale\n",
    "        curr_scale/=scale\n",
    "        \n",
    "def sliding_window(image, stepSize, windowSize):\n",
    "    for y in range(0, image.shape[0], stepSize):\n",
    "        for x in range(0, image.shape[1], stepSize):\n",
    "            yield (x, y, image[y:y + windowSize[1], x:x + windowSize[0]])"
   ]
  },
  {
   "cell_type": "code",
   "execution_count": 3,
   "metadata": {},
   "outputs": [],
   "source": [
    "def area(rect):\n",
    "    ((x,y),(x2,y2))=rect\n",
    "    return (x2-x)*(y2-y)\n",
    "\n",
    "def calc_overlapping(a,b,method):\n",
    "    dx = min(a[1][0], b[1][0]) - max(a[0][0], b[0][0])\n",
    "    dy = min(a[1][1], b[1][1]) - max(a[0][1], b[0][1])\n",
    "    basic_area=method([area(a), area(b)])\n",
    "    overlap_area=dx*dy\n",
    "    is_overlapping=((dx>=0) and (dy>=0))\n",
    "    overlapping_ratio=overlap_area/basic_area\n",
    "    \n",
    "    return overlapping_ratio if is_overlapping else 0\n",
    "\n",
    "def scale_many(vals, scale):\n",
    "    return [int(val/scale) for val in vals]"
   ]
  },
  {
   "cell_type": "markdown",
   "metadata": {},
   "source": [
    "## Load classifier"
   ]
  },
  {
   "cell_type": "code",
   "execution_count": 4,
   "metadata": {},
   "outputs": [],
   "source": [
    "os.chdir(PROJECT_PATH)\n",
    "clf_grad = load('rand_forest_clf.joblib') \n",
    "clf_grad.set_params(n_jobs=-1)\n",
    "\n",
    "color_clfs=[load('naive_bayes_clf_{}.joblib'.format(color)) for color in COLORS]\n",
    "color_clf_map=dict(zip(COLORS, color_clfs))"
   ]
  },
  {
   "cell_type": "markdown",
   "metadata": {},
   "source": [
    "## Set params"
   ]
  },
  {
   "cell_type": "code",
   "execution_count": 5,
   "metadata": {},
   "outputs": [],
   "source": [
    "(winW, winH) = (WIN_W, WIN_H)\n",
    "channels_no=8\n",
    "DS_min_winH_m=41\n",
    "DS_max_winH_m=287\n",
    "initial_scale=winH/DS_min_winH_m\n",
    "final_scale=winH/DS_max_winH_m\n",
    "RESIZING_SCALE=1.15\n",
    "MAX_PRED_OVERLAPPING=0.5\n",
    "MIN_PRED=0.8\n",
    "WHITE=(255, 255, 255)\n",
    "DRAW_BORDER=2\n",
    "KERNEL_W_RATIO=7.0/640.0 #because kernel (7,7) was the best for VGA images in previous research"
   ]
  },
  {
   "cell_type": "code",
   "execution_count": 6,
   "metadata": {},
   "outputs": [],
   "source": [
    "def binarize(color_channels, color_clfs):\n",
    "    s0, s1, s2 = color_channels[0].shape\n",
    "    flat_ch = [np.reshape(img, (s0*s1, s2)) for img in color_channels]\n",
    "    flat_img = np.hstack(flat_ch)\n",
    "    flat_binaries=[clf.predict(flat_img) for clf in color_clfs]\n",
    "    img_binaries=[np.reshape(flat, (s0, s1)) for flat in flat_binaries]\n",
    "    return img_binaries\n",
    "\n",
    "def open_bin(img, kernel):\n",
    "    kernel = np.ones(kernel, np.uint8) \n",
    "    img_erosion = cv2.erode(img, kernel, iterations=1)\n",
    "    img_dilation = cv2.dilate(img_erosion, kernel, iterations=1)\n",
    "    return img_dilation\n",
    "\n",
    "def close_bin(img, kernel):\n",
    "    kernel = np.ones(kernel, np.uint8) \n",
    "    img_dilation = cv2.dilate(img, kernel, iterations=1)\n",
    "    img_erosion = cv2.erode(img_dilation, kernel, iterations=1)\n",
    "    return img_erosion\n",
    "\n",
    "def morpho(img):\n",
    "    h,w=img.shape\n",
    "    k=int(w*KERNEL_W_RATIO)\n",
    "    kernel=(k,k)\n",
    "    return np.bool_(close_bin(open_bin(np.uint8(img), kernel), kernel))\n",
    "\n",
    "def color_score(win):\n",
    "    h=winH/1.2\n",
    "    w=winW/1.2\n",
    "    x0=winW/12.0\n",
    "    y0=winH/12.0\n",
    "    x1=winW*11.0/12.0\n",
    "    y1=winH*11.0/12.0\n",
    "    rect=win[int(y0):int(y1),int(x0):int(x1)]\n",
    "    ((hx1,hy1),(hx2,hy2))=((int(0.126*w+x0), int(0.3056*h+y0)),(int(0.409*w+x0), int(h+y0)))\n",
    "    hole_1=win[hy1:hy2, hx1:hx2]\n",
    "    ((hx1,hy1),(hx2,hy2))=((int(0.5906*w+x0), int(0.3056*h+y0)),(int(0.875*w+x0), int(h+y0)))\n",
    "    hole_2=win[hy1:hy2, hx1:hx2]\n",
    "    all_points=rect.shape[0]*rect.shape[1]\n",
    "    hole_1_points=hole_1.shape[0]*hole_1.shape[1]\n",
    "    hole_2_points=hole_2.shape[0]*hole_2.shape[1]\n",
    "    hole_1_positives=np.sum(hole_1)\n",
    "    hole_2_positives=np.sum(hole_2)\n",
    "    rect_score=np.sum(rect)-hole_1_positives-hole_2_positives\n",
    "    hole_1_score=hole_1_points-hole_1_positives\n",
    "    hole_2_score=hole_2_points-hole_2_positives\n",
    "    score=(rect_score+hole_1_score+hole_2_score)/all_points\n",
    "    \n",
    "#     print(\"full\",all_points, hole_1_points, hole_2_points)\n",
    "#     print(\"positives\",rect_score, hole_1_positives, hole_2_positives)\n",
    "#     print(\"scores\",rect_score, hole_1_score, hole_2_score)\n",
    "#     print(score)\n",
    "    \n",
    "#     for e in [win, rect, hole_1, hole_2]:\n",
    "#         cv2.imshow(\"Window\", np.float32(e))\n",
    "#         cv2.waitKey(0)\n",
    "    \n",
    "    return score"
   ]
  },
  {
   "cell_type": "code",
   "execution_count": 7,
   "metadata": {},
   "outputs": [],
   "source": [
    "def show(img, x, y, winW, winH, positives=[]):\n",
    "    clone = np.float32(img.copy())\n",
    "    cv2.rectangle(clone, (x, y), (x + winW, y + winH), WHITE, DRAW_BORDER)\n",
    "    for p in positives:\n",
    "        x,y=p\n",
    "        cv2.rectangle(clone, (x, y), (x + winW, y + winH), WHITE, DRAW_BORDER)\n",
    "    cv2.imshow(\"Window\", clone)\n",
    "    cv2.waitKey(1)\n",
    "\n",
    "def pred_overlapping(row, scaled_rect):\n",
    "    x,y,h,w = scaled_rect\n",
    "    a = ((x,y),(x+w,y+h))\n",
    "    [scene_name, filename, scale, (rx,ry)] = row\n",
    "    [rx,ry,rw,rh] = scale_many([rx,ry,winW,winH], scale)\n",
    "    b = ((rx,ry),(rx+rw,ry+rh))\n",
    "\n",
    "    return calc_overlapping(a,b,np.min)\n",
    "    \n",
    "def image_predict(X,IDX,rects_count):\n",
    "    global glob_RES\n",
    "    if len(X)!=0 and rects_count>0:\n",
    "        pred=np.array([p[1] for p in clf_grad.predict_proba(X)])\n",
    "        greater_than_09=pred > MIN_PRED\n",
    "        pred=pred[greater_than_09]\n",
    "        IDX=IDX[greater_than_09]\n",
    "        max_pred_ids=[]\n",
    "        max_preds=[]\n",
    "        max_pred_IDXs=[]\n",
    "        for i in range(rects_count):\n",
    "            if len(pred) >0:\n",
    "                max_pred_id=np.argmax(pred)\n",
    "                max_pred=pred[max_pred_id]\n",
    "                max_preds.append(max_pred)\n",
    "                max_pred_IDX=IDX[max_pred_id]\n",
    "                max_pred_IDXs.append(max_pred_IDX)\n",
    "\n",
    "                [scene_name, filename, scale, (x,y)]=max_pred_IDX\n",
    "                scaled_rect=scale_many([x,y,winW,winH], scale)\n",
    "\n",
    "                not_within_bools = np.array([pred_overlapping(row, scaled_rect) < MAX_PRED_OVERLAPPING for row in IDX])\n",
    "                pred=pred[not_within_bools]\n",
    "                IDX=IDX[not_within_bools]\n",
    "            else:\n",
    "                print(\"No more predictions with prob > 0.8\")\n",
    "        if len(max_preds)>0:\n",
    "            max_preds=np.array([[e] for e in max_preds])\n",
    "            res=np.append(max_pred_IDXs, max_preds, 1)\n",
    "            glob_RES=np.vstack([glob_RES,res])\n",
    "    \n",
    "def predict(filename, scene_name, label_resolution, rects, *args):\n",
    "    X=[]\n",
    "    IDX=[]\n",
    "    \n",
    "    image=imread_resized(scene_name, filename, label_resolution)\n",
    "    gradient_channels=read_split_channels(scene_name, filename, \"channels_gradient\")\n",
    "    color_channels=read_split_channels(scene_name, filename, \"channels_color\")\n",
    "    binary_imgs=binarize(color_channels, color_clfs)\n",
    "    binary_imgs=[morpho(img) for img in binary_imgs]\n",
    "    for resized_img, resized_gradient_ch, resized_binary_imgs, scale in pyramid(image, gradient_channels, binary_imgs, initial_scale, final_scale, scale=RESIZING_SCALE):\n",
    "        resized_ch=np.dstack(resized_gradient_ch)\n",
    "        for (x, y, window) in sliding_window(resized_img, stepSize=4, windowSize=(winW, winH)):\n",
    "            # if the window does not meet our desired window size, ignore it\n",
    "            if window.shape[0] != winH or window.shape[1] != winW:\n",
    "                continue\n",
    "            channels_window=resized_ch[y:y + winH, x:x + winW]\n",
    "            color_ch_windows=[img[y:y + winH, x:x + winW] for img in resized_binary_imgs]\n",
    "            color_scores=[color_score(w) for w in color_ch_windows]\n",
    "            color_ch_windows=None\n",
    "            X.append(channels_window)\n",
    "            row=[scene_name, filename, scale, (x,y)]\n",
    "            IDX.append(row)\n",
    "            #show(resized_binary_imgs[0], x, y, winW, winH)\n",
    "    X=np.reshape(X,(len(X),winW*winH*channels_no)) #cupy does not help\n",
    "    image_predict(X,np.array(IDX), len(rects))"
   ]
  },
  {
   "cell_type": "code",
   "execution_count": null,
   "metadata": {},
   "outputs": [
    {
     "name": "stderr",
     "output_type": "stream",
     "text": [
      "\r",
      "  0%|          | 0/2092 [00:00<?, ?it/s]"
     ]
    },
    {
     "name": "stdout",
     "output_type": "stream",
     "text": [
      "full 1900 364 364\n",
      "positives 0 0 0\n",
      "scores 0 364 364\n",
      "0.3831578947368421\n"
     ]
    }
   ],
   "source": [
    "glob_RES=np.empty((0,5), object)\n",
    "\n",
    "glob_DATETIME = datetime.now().strftime(\"%d-%m-%Y_%H:%M:%S\")\n",
    "\n",
    "def predict_all():\n",
    "    [predict(*row) for row in tqdm([row for row in walk_dataset()])]# if row[1]==\"warehouse_1\"])]# and row[0]==\"r_1_0.jpg\"])]\n",
    "    \n",
    "profiled('predict_all()', globals(), locals())"
   ]
  },
  {
   "cell_type": "code",
   "execution_count": null,
   "metadata": {
    "scrolled": true
   },
   "outputs": [],
   "source": [
    "def calc_overlappings(rects, pred_rects):\n",
    "    global glob_overlappings    \n",
    "    overlappings=[(np.max([calc_overlapping(pred_rect,rect, np.max) for pred_rect in pred_rects]) if len(pred_rects) > 0 else 0) for rect in rects]\n",
    "    glob_overlappings.extend(overlappings)\n",
    "\n",
    "def draw_predicted_rectangles(filename, scene_name, label_resolution, rects, *args):\n",
    "    global glob_RES\n",
    "    \n",
    "    img=imread_resized(scene_name, filename, label_resolution)\n",
    "    img_rows=glob_RES[np.where((glob_RES[:,0] == scene_name) * (glob_RES[:,1] == filename))]\n",
    "    \n",
    "    pred_rects=[]\n",
    "    rects=[add_margin(correct_rect_ratio(rect)) for rect in rects]\n",
    "    for max_row in img_rows:\n",
    "        [scene_name, filename, scale, (x,y), pred]=max_row\n",
    "        [x,y,winW_s,winH_s]=scale_many([x,y,winW,winH], scale)\n",
    "        cv2.rectangle(img, (x,y), (x + winW_s, y + winH_s), (0, 255, 0), 2)\n",
    "        pred_rects.append(((x,y),(x+winW_s, y+winH_s)))\n",
    "    for rect in rects: \n",
    "        ((x,y),(x2,y2))=rect\n",
    "        cv2.rectangle(img, (x,y), (x2,y2), (255, 0, 0), 2)\n",
    "    \n",
    "    save_image(img, scene_name, filename, \"predicted_labels\")\n",
    "    calc_overlappings(rects, pred_rects)\n",
    "\n",
    "glob_overlappings=[]\n",
    "[draw_predicted_rectangles(*row) for row in tqdm(walk_dataset())]# if row[1]==\"warehouse_1\"]# and row[0]==\"r_1_0.jpg\"]\n",
    "print(\"Mean overlapping: \",np.mean(glob_overlappings))"
   ]
  },
  {
   "cell_type": "code",
   "execution_count": null,
   "metadata": {},
   "outputs": [],
   "source": [
    "#min_pred=0.8 : overlap = 0.623"
   ]
  }
 ],
 "metadata": {
  "kernelspec": {
   "display_name": "Python 3",
   "language": "python",
   "name": "python3"
  },
  "language_info": {
   "codemirror_mode": {
    "name": "ipython",
    "version": 3
   },
   "file_extension": ".py",
   "mimetype": "text/x-python",
   "name": "python",
   "nbconvert_exporter": "python",
   "pygments_lexer": "ipython3",
   "version": "3.6.9"
  }
 },
 "nbformat": 4,
 "nbformat_minor": 2
}
