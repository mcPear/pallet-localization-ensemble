{
 "cells": [
  {
   "cell_type": "code",
   "execution_count": 1,
   "metadata": {},
   "outputs": [],
   "source": [
    "import cv2\n",
    "import numpy as np\n",
    "import time\n",
    "import imutils"
   ]
  },
  {
   "cell_type": "code",
   "execution_count": 2,
   "metadata": {},
   "outputs": [],
   "source": [
    "def to_channels(img):\n",
    "    img = cv2.UMat(img)\n",
    "    img = cv2.GaussianBlur(img, (3,3), sigmaX=0, sigmaY=0)\n",
    "    gray = cv2.cvtColor(img, cv2.COLOR_BGR2GRAY )\n",
    "    gradX = cv2.Sobel(gray, cv2.CV_64F, 1, 0, ksize=3, scale=1 )\n",
    "    gradY = cv2.Sobel(gray, cv2.CV_64F, 0, 1, ksize=3, scale=1 )\n",
    "    mag, ori = cv2.cartToPolar(gradX, gradY, angleInDegrees=True)\n",
    "\n",
    "    ori_ranges = [(0,60), (60,120), (120,180), (180,240), (240,300), (300,360)]\n",
    "    oris=[cv2.inRange(ori,l,r) for (l,r) in ori_ranges]\n",
    "    mags= [cv2.copyTo(mag, ori_x) for ori_x in oris]\n",
    "    channels=[gray,mag]+mags\n",
    "    \n",
    "    ###save\n",
    "    cv2.imwrite(\"gray.png\", gray)\n",
    "    cv2.imwrite(\"mag.png\", mag)\n",
    "    cv2.imwrite(\"ori.png\", ori)\n",
    "    cv2.imwrite(\"gradX.png\", gradX)\n",
    "    cv2.imwrite(\"gradY.png\", gradY)\n",
    "    for i in range(len(oris)):\n",
    "        cv2.imwrite(\"ori\"+str(60*i + 30)+\".png\", oris[i])\n",
    "        cv2.imwrite(\"mag\"+str(60*i + 30)+\".png\", mags[i])\n",
    "    ###save\n",
    "    \n",
    "    return channels\n",
    "\n",
    "def aggregate_sum_per_channel(ch):\n",
    "    row_aggr=np.add(ch[::2],ch[1::2])\n",
    "    full_aggr=np.add(row_aggr[:,::2],row_aggr[:,1::2])\n",
    "    return full_aggr\n",
    "\n",
    "def aggregate_sum(umat_channels):\n",
    "    return [aggregate_sum_per_channel(cv2.UMat.get(ch)) for ch in umat_channels]\n",
    "\n",
    "def get_aggregates(img):\n",
    "    channels = to_channels(img)\n",
    "    aggregates = aggregate_sum(channels)\n",
    "    aggregates = np.array([cv2.GaussianBlur(aggr, (3,3), sigmaX=0, sigmaY=0) for aggr in aggregates])\n",
    "\n",
    "    for i in range(len(aggregates)):\n",
    "        cv2.imwrite(\"aggr_ch\"+str(i)+\".png\", aggregates[i])\n",
    "        \n",
    "    return aggregates"
   ]
  },
  {
   "cell_type": "code",
   "execution_count": 3,
   "metadata": {},
   "outputs": [],
   "source": [
    "img = cv2.imread('real_pallet.jpg')\n",
    "aggregates = get_aggregates(img)\n",
    "features = aggregates.flatten()\n"
   ]
  },
  {
   "cell_type": "markdown",
   "metadata": {},
   "source": [
    "# Sliding window"
   ]
  },
  {
   "cell_type": "code",
   "execution_count": 4,
   "metadata": {},
   "outputs": [],
   "source": [
    "def pyramid(image, scale=1.5, minSize=(30, 30)):\n",
    "    yield image\n",
    "    while True:\n",
    "        w = int(image.shape[1] / scale)\n",
    "        image = imutils.resize(image, width=w)\n",
    "        if image.shape[0] < minSize[1] or image.shape[1] < minSize[0]:\n",
    "            break\n",
    "        yield image\n",
    "        \n",
    "def sliding_window(image, stepSize, windowSize):\n",
    "    for y in range(0, image.shape[0], stepSize):\n",
    "        for x in range(0, image.shape[1], stepSize):\n",
    "            yield (x, y, image[y:y + windowSize[1], x:x + windowSize[0]])"
   ]
  },
  {
   "cell_type": "code",
   "execution_count": null,
   "metadata": {},
   "outputs": [],
   "source": [
    "image = aggregates[1]/255.0 #for displaying purposes /255.0\n",
    "(winW, winH) = (120,24)\n",
    "\n",
    "for resized in pyramid(image, scale=1.5):\n",
    "    for (x, y, window) in sliding_window(resized, stepSize=32, windowSize=(winW, winH)):\n",
    "        # if the window does not meet our desired window size, ignore it\n",
    "        if window.shape[0] != winH or window.shape[1] != winW:\n",
    "            continue\n",
    "        #classify()\n",
    "        clone = resized.copy()\n",
    "        cv2.rectangle(clone, (x, y), (x + winW, y + winH), (255, 255, 255), 2)\n",
    "        cv2.imshow(\"Window\", clone)\n",
    "        cv2.waitKey(1)\n",
    "        #time.sleep(0.025)"
   ]
  },
  {
   "cell_type": "code",
   "execution_count": null,
   "metadata": {},
   "outputs": [],
   "source": [
    "Oni mają 12 skal co 1.15, trzeba tak dobrać dataset, zeby też tak było - 0d 0.2 do 1.0\n",
    "\n",
    "1. Jak dobrać kąty, czy po 2 syetryczne czy po 1?\n",
    "2. Czy skalować obraz wejsciowy czy kanały?\n",
    "3. I jak sklaować ??\n",
    "4. czy cupy przyspieszy agregację? #cupy.array/cupy.asnumpy\n",
    "5. czy użyć buildPyramid z opencv?\n",
    "\n",
    "Parametry:\n",
    "1. kernel rozmazania (w publikacji [1,2,1]/4)\n",
    "2. wielkość agregatów - 2x2, 4x4\n",
    "3. wielkość ramki 24 x 120\n",
    "4. wielkość palety 20 x 100"
   ]
  },
  {
   "cell_type": "code",
   "execution_count": null,
   "metadata": {},
   "outputs": [],
   "source": []
  }
 ],
 "metadata": {
  "kernelspec": {
   "display_name": "Python 3",
   "language": "python",
   "name": "python3"
  },
  "language_info": {
   "codemirror_mode": {
    "name": "ipython",
    "version": 3
   },
   "file_extension": ".py",
   "mimetype": "text/x-python",
   "name": "python",
   "nbconvert_exporter": "python",
   "pygments_lexer": "ipython3",
   "version": "3.6.9"
  }
 },
 "nbformat": 4,
 "nbformat_minor": 2
}
