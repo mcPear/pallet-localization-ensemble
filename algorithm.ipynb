{
 "cells": [
  {
   "cell_type": "code",
   "execution_count": 1,
   "metadata": {},
   "outputs": [],
   "source": [
    "import cv2\n",
    "import numpy as np\n",
    "import cupy as cp\n",
    "import time\n",
    "import imutils\n",
    "from joblib import load\n",
    "from dataset_io import *\n",
    "import timeit\n",
    "from tqdm import tqdm\n",
    "import psutil\n",
    "from datetime import datetime\n",
    "from profiler import *"
   ]
  },
  {
   "cell_type": "code",
   "execution_count": 2,
   "metadata": {},
   "outputs": [],
   "source": [
    "def pyramid(image, gradient_channels, binary_imgs, initial_scale, final_scale, scale):\n",
    "    original_w=image.shape[1]\n",
    "    curr_scale=initial_scale\n",
    "    while curr_scale>final_scale/scale:\n",
    "        w = int(original_w * curr_scale)\n",
    "        yield imutils.resize(image, width=w), [imutils.resize(ch, width=w) for ch in gradient_channels], [imutils.resize(np.uint8(img), width=w).astype(bool) for img in binary_imgs],curr_scale\n",
    "        curr_scale/=scale\n",
    "        \n",
    "def sliding_window(image, stepSize, windowSize):\n",
    "    ignored_height_ratio=0.257 #calculated in dataset_processing.ipynb\n",
    "    height=image.shape[0]\n",
    "    start_height=int(ignored_height_ratio*image.shape[0])\n",
    "    for y in range(start_height, height, stepSize):\n",
    "        for x in range(0, image.shape[1], stepSize):\n",
    "            yield (x, y, image[y:y + windowSize[1], x:x + windowSize[0]])"
   ]
  },
  {
   "cell_type": "code",
   "execution_count": 3,
   "metadata": {},
   "outputs": [],
   "source": [
    "def area(rect):\n",
    "    ((x,y),(x2,y2))=rect\n",
    "    return (x2-x)*(y2-y)\n",
    "\n",
    "def calc_overlapping(a,b,method):\n",
    "    dx = min(a[1][0], b[1][0]) - max(a[0][0], b[0][0])\n",
    "    dy = min(a[1][1], b[1][1]) - max(a[0][1], b[0][1])\n",
    "    basic_area=method([area(a), area(b)])\n",
    "    overlap_area=dx*dy\n",
    "    is_overlapping=((dx>=0) and (dy>=0))\n",
    "    overlapping_ratio=overlap_area/basic_area\n",
    "    \n",
    "    return overlapping_ratio if is_overlapping else 0\n",
    "\n",
    "def scale_many(vals, scale):\n",
    "    return [int(val/scale) for val in vals]"
   ]
  },
  {
   "cell_type": "markdown",
   "metadata": {},
   "source": [
    "## Load classifier"
   ]
  },
  {
   "cell_type": "code",
   "execution_count": 4,
   "metadata": {},
   "outputs": [],
   "source": [
    "os.chdir(PROJECT_PATH)\n",
    "clf_grad = load('rand_forest_clf.joblib') \n",
    "clf_grad.set_params(n_jobs=-1)\n",
    "\n",
    "color_clfs=[load('naive_bayes_clf_{}.joblib'.format(color)) for color in COLORS]\n",
    "color_clf_map=dict(zip(COLORS, color_clfs))"
   ]
  },
  {
   "cell_type": "markdown",
   "metadata": {},
   "source": [
    "## Set params"
   ]
  },
  {
   "cell_type": "code",
   "execution_count": 5,
   "metadata": {},
   "outputs": [],
   "source": [
    "(winW, winH) = (WIN_W, WIN_H)\n",
    "channels_no=8\n",
    "DS_min_winH_m=41\n",
    "DS_max_winH_m=281\n",
    "initial_scale=winH/DS_min_winH_m\n",
    "final_scale=winH/DS_max_winH_m\n",
    "RESIZING_SCALE=1.15\n",
    "MAX_PRED_OVERLAPPING=0.5\n",
    "MIN_PRED=0.5\n",
    "WHITE=(255, 255, 255)\n",
    "DRAW_BORDER=4\n",
    "KERNEL_W_RATIO=7.0/640.0 #because kernel (7,7) was the best for VGA images in previous research"
   ]
  },
  {
   "cell_type": "code",
   "execution_count": 6,
   "metadata": {},
   "outputs": [],
   "source": [
    "def binarize(color_channels, color_clfs):\n",
    "    s0, s1, s2 = color_channels[0].shape\n",
    "    flat_ch = [np.reshape(img, (s0*s1, s2)) for img in color_channels]\n",
    "    flat_img = np.hstack(flat_ch)\n",
    "    flat_binaries=[clf.predict(flat_img) for clf in color_clfs]\n",
    "    img_binaries=[np.reshape(flat, (s0, s1)) for flat in flat_binaries]\n",
    "    return img_binaries\n",
    "\n",
    "def open_bin(img, kernel):\n",
    "    kernel = np.ones(kernel, np.uint8) \n",
    "    img_erosion = cv2.erode(img, kernel, iterations=1)\n",
    "    img_dilation = cv2.dilate(img_erosion, kernel, iterations=1)\n",
    "    return img_dilation\n",
    "\n",
    "def close_bin(img, kernel):\n",
    "    kernel = np.ones(kernel, np.uint8) \n",
    "    img_dilation = cv2.dilate(img, kernel, iterations=1)\n",
    "    img_erosion = cv2.erode(img_dilation, kernel, iterations=1)\n",
    "    return img_erosion\n",
    "\n",
    "def morpho(img):\n",
    "    h,w=img.shape\n",
    "    k=int(w*KERNEL_W_RATIO)\n",
    "    kernel=(k,k)\n",
    "    return np.bool_(open_bin(close_bin(np.uint8(img), kernel), kernel))\n",
    "\n",
    "h=winH/1.2\n",
    "w=winW/1.2\n",
    "x0=winW/12.0\n",
    "y0=winH/12.0\n",
    "x1=winW*11.0/12.0\n",
    "y1=winH*11.0/12.0\n",
    "((h1x1,h1y1),(h1x2,h1y2))=((int(0.126*w+x0), int(0.3056*h+y0)),(int(0.409*w+x0), int(h+y0)))\n",
    "((h2x1,h2y1),(h2x2,h2y2))=((int(0.5906*w+x0), int(0.3056*h+y0)),(int(0.875*w+x0), int(h+y0)))\n",
    "\n",
    "def color_score(win):\n",
    "    rect=win[int(y0):int(y1),int(x0):int(x1)]\n",
    "    hole_1=win[h1y1:h1y2, h1x1:h1x2]\n",
    "    hole_2=win[h2y1:h2y2, h2x1:h2x2]\n",
    "    \n",
    "    all_points=rect.shape[0]*rect.shape[1]\n",
    "    hole_1_points=hole_1.shape[0]*hole_1.shape[1]\n",
    "    hole_2_points=hole_2.shape[0]*hole_2.shape[1]\n",
    "    \n",
    "    hole_1_positives=np.count_nonzero(hole_1)\n",
    "    hole_2_positives=np.count_nonzero(hole_2)\n",
    "    rect_score=np.count_nonzero(rect)-hole_1_positives-hole_2_positives\n",
    "    hole_1_score=hole_1_points-hole_1_positives\n",
    "    hole_2_score=hole_2_points-hole_2_positives\n",
    "    score=(rect_score+hole_1_score+hole_2_score)/all_points\n",
    "    \n",
    "#     print(\"full\",all_points, hole_1_points, hole_2_points)\n",
    "#     print(\"positives\",rect_score, hole_1_positives, hole_2_positives)\n",
    "#     print(\"scores\",rect_score, hole_1_score, hole_2_score)\n",
    "#     print(score)\n",
    "    \n",
    "#     for e in [win, rect, hole_1, hole_2]:\n",
    "#         cv2.imshow(\"Window\", np.float32(e))\n",
    "#         cv2.waitKey(0)\n",
    "    \n",
    "    return score"
   ]
  },
  {
   "cell_type": "code",
   "execution_count": 7,
   "metadata": {},
   "outputs": [],
   "source": [
    "def show(img, x, y, winW, winH, positives=[]):\n",
    "    clone = np.float32(img.copy())\n",
    "    cv2.rectangle(clone, (x, y), (x + winW, y + winH), WHITE, DRAW_BORDER)\n",
    "    for p in positives:\n",
    "        x,y=p\n",
    "        cv2.rectangle(clone, (x, y), (x + winW, y + winH), WHITE, DRAW_BORDER)\n",
    "    cv2.imshow(\"Window\", clone)\n",
    "    cv2.waitKey(1)\n",
    "\n",
    "def pred_overlapping(row, scaled_rect):\n",
    "    x,y,w,h = scaled_rect\n",
    "    a = ((x,y),(x+w,y+h))\n",
    "    [scene_name, filename, scale, (rx,ry)] = row\n",
    "    [rx,ry,rw,rh] = scale_many([rx,ry,winW,winH], scale)\n",
    "    b = ((rx,ry),(rx+rw,ry+rh))\n",
    "\n",
    "    overlap=calc_overlapping(a,b,np.min)\n",
    "    return overlap\n",
    "    \n",
    "def image_predict(vals,IDX,rects_count,color_mode):\n",
    "    global glob_RES\n",
    "    if len(vals)!=0 and rects_count>0:\n",
    "        if color_mode:\n",
    "            pred=np.array([np.max(cs) for cs in vals])\n",
    "        else:\n",
    "            pred=np.array([p[1] for p in clf_grad.predict_proba(vals)])\n",
    "        greater_than_09=pred > MIN_PRED\n",
    "        pred=pred[greater_than_09]\n",
    "        IDX=IDX[greater_than_09]\n",
    "        max_pred_ids=[]\n",
    "        max_preds=[]\n",
    "        max_pred_IDXs=[]\n",
    "        for i in range(rects_count):\n",
    "            if len(pred) >0:\n",
    "                max_pred_id=np.argmax(pred)\n",
    "                max_pred=pred[max_pred_id]\n",
    "                max_preds.append(max_pred)\n",
    "                max_pred_IDX=IDX[max_pred_id]\n",
    "                max_pred_IDXs.append(max_pred_IDX)\n",
    "\n",
    "                [scene_name, filename, scale, (x,y)]=max_pred_IDX\n",
    "                scaled_rect=scale_many([x,y,winW,winH], scale)\n",
    "\n",
    "                not_within_bools = np.array([pred_overlapping(row, scaled_rect) < MAX_PRED_OVERLAPPING for row in IDX])\n",
    "                pred=pred[not_within_bools]\n",
    "                IDX=IDX[not_within_bools]\n",
    "            else:\n",
    "                print(\"No more predictions with prob > {}\".format(MIN_PRED))\n",
    "        if len(max_preds)>0:\n",
    "            max_preds=np.array([[e] for e in max_preds])\n",
    "            res=np.append(max_pred_IDXs, max_preds, 1)\n",
    "            glob_RES=np.vstack([glob_RES,res])\n",
    "    \n",
    "def predict(filename, scene_name, label_resolution, rects, *args):\n",
    "    X=[]\n",
    "    IDX=[]\n",
    "    COL_SCORS=[]\n",
    "    \n",
    "    image=imread_resized(scene_name, filename, label_resolution)\n",
    "    gradient_channels=read_split_channels(scene_name, filename, \"channels_gradient\")\n",
    "    gradient_channels=[ch.astype('float32') for ch in gradient_channels] #if not, scikit will do it later slower\n",
    "    color_channels=read_split_channels(scene_name, filename, \"channels_color\")\n",
    "    binary_imgs=binarize(color_channels, color_clfs)\n",
    "    binary_imgs=[morpho(img) for img in binary_imgs]\n",
    "    for resized_img, resized_gradient_ch, resized_binary_imgs, scale in pyramid(image, gradient_channels, binary_imgs, initial_scale, final_scale, scale=RESIZING_SCALE):\n",
    "        resized_ch=np.dstack(resized_gradient_ch)\n",
    "        for (x, y, window) in sliding_window(resized_img, stepSize=4, windowSize=(winW, winH)):\n",
    "            # if the window does not meet our desired window size, ignore it\n",
    "            if window.shape[0] != winH or window.shape[1] != winW:\n",
    "                continue\n",
    "            channels_window=resized_ch[y:y + winH, x:x + winW]\n",
    "            color_ch_windows=[img[y:y + winH, x:x + winW] for img in resized_binary_imgs]\n",
    "            color_scores=[color_score(w) for w in color_ch_windows]\n",
    "            COL_SCORS.append(color_scores)\n",
    "            color_ch_windows=None\n",
    "            X.append(channels_window)\n",
    "            row=[scene_name, filename, scale, (x,y)]\n",
    "            IDX.append(row)\n",
    "            #show(resized_binary_imgs[0], x, y, winW, winH)\n",
    "    X=np.reshape(X,(len(X),winW*winH*channels_no)) #cupy does not help\n",
    "#     image_predict(X,np.array(IDX), len(rects), False)\n",
    "    image_predict(COL_SCORS, np.array(IDX), len(rects), True)"
   ]
  },
  {
   "cell_type": "code",
   "execution_count": 8,
   "metadata": {
    "scrolled": true
   },
   "outputs": [
    {
     "name": "stderr",
     "output_type": "stream",
     "text": [
      "100%|██████████| 2092/2092 [56:34<00:00,  1.62s/it] \n"
     ]
    }
   ],
   "source": [
    "glob_RES=np.empty((0,5), object)\n",
    "\n",
    "glob_DATETIME = datetime.now().strftime(\"%d-%m-%Y_%H:%M:%S\")\n",
    "\n",
    "def predict_all():\n",
    "    [predict(*row) for row in tqdm([row for row in walk_dataset()])]# if row[1]==\"blue_1\"])]# and row[0]==\"r_1_0.jpg\"])]\n",
    "    \n",
    "profiled('predict_all()', globals(), locals())"
   ]
  },
  {
   "cell_type": "code",
   "execution_count": 9,
   "metadata": {
    "scrolled": true
   },
   "outputs": [
    {
     "name": "stderr",
     "output_type": "stream",
     "text": [
      "  0%|          | 2/2092 [00:00<03:05, 11.28it/s]"
     ]
    },
    {
     "name": "stdout",
     "output_type": "stream",
     "text": [
      "IMG_20200229_075347.jpg\n",
      "[0.7859541984732824]\n",
      "IMG_20200229_075348.jpg\n",
      "[0.6312002389827647]\n",
      "IMG_20200229_075349.jpg\n",
      "[0.5761810821889731]\n"
     ]
    },
    {
     "name": "stderr",
     "output_type": "stream",
     "text": [
      "  0%|          | 6/2092 [00:00<03:00, 11.55it/s]"
     ]
    },
    {
     "name": "stdout",
     "output_type": "stream",
     "text": [
      "IMG_20200229_075350.jpg\n",
      "[0.8336842105263158]\n",
      "IMG_20200229_075353.jpg\n",
      "[0.11867860851505711]\n",
      "IMG_20200229_075356.jpg\n",
      "[0.12267707872103477]\n"
     ]
    },
    {
     "name": "stderr",
     "output_type": "stream",
     "text": [
      "\r",
      "  0%|          | 8/2092 [00:00<02:58, 11.67it/s]"
     ]
    },
    {
     "name": "stdout",
     "output_type": "stream",
     "text": [
      "IMG_20200229_075358.jpg\n",
      "[0.814838503357851]\n",
      "IMG_20200229_075400.jpg\n",
      "[0.8095321637426901]\n",
      "IMG_20200229_075401.jpg\n",
      "[0.16035418906899251]\n"
     ]
    },
    {
     "name": "stderr",
     "output_type": "stream",
     "text": [
      "  1%|          | 12/2092 [00:01<02:54, 11.94it/s]"
     ]
    },
    {
     "name": "stdout",
     "output_type": "stream",
     "text": [
      "IMG_20200229_075405.jpg\n",
      "[0.026758501937150236]\n",
      "IMG_20200229_075406.jpg\n",
      "[0.47872872441325076]\n",
      "IMG_20200229_075407.jpg\n",
      "[0.6007410202751381]\n"
     ]
    },
    {
     "name": "stderr",
     "output_type": "stream",
     "text": [
      "\r",
      "  1%|          | 14/2092 [00:01<02:53, 11.98it/s]"
     ]
    },
    {
     "name": "stdout",
     "output_type": "stream",
     "text": [
      "IMG_20200229_075408.jpg\n",
      "[0.44603865743344207]\n",
      "IMG_20200229_075410.jpg\n",
      "[0.6777206022489042]\n",
      "IMG_20200229_075411.jpg\n",
      "[0.2789965088901518]\n"
     ]
    },
    {
     "name": "stderr",
     "output_type": "stream",
     "text": [
      "  1%|          | 18/2092 [00:01<02:50, 12.13it/s]"
     ]
    },
    {
     "name": "stdout",
     "output_type": "stream",
     "text": [
      "IMG_20200229_075413.jpg\n",
      "[0.3501383946223804]\n",
      "IMG_20200229_075414.jpg\n",
      "[0.6109451745652462]\n",
      "IMG_20200229_075416.jpg\n",
      "[0.45414539981677793]\n"
     ]
    },
    {
     "name": "stderr",
     "output_type": "stream",
     "text": [
      "\r",
      "  1%|          | 20/2092 [00:01<02:50, 12.18it/s]"
     ]
    },
    {
     "name": "stdout",
     "output_type": "stream",
     "text": [
      "IMG_20200229_075417.jpg\n",
      "[0.688549219413417]\n",
      "IMG_20200229_075419.jpg\n",
      "[0]\n",
      "IMG_20200229_075426.jpg\n",
      "[0.46515733262721215]\n"
     ]
    },
    {
     "name": "stderr",
     "output_type": "stream",
     "text": [
      "  1%|          | 24/2092 [00:01<02:48, 12.28it/s]"
     ]
    },
    {
     "name": "stdout",
     "output_type": "stream",
     "text": [
      "IMG_20200229_075427.jpg\n",
      "[0.4393955184992183]\n",
      "IMG_20200229_075428.jpg\n",
      "[0.5625276671093404]\n",
      "IMG_20200229_075430.jpg\n",
      "[0.6571829573934838]\n"
     ]
    },
    {
     "name": "stderr",
     "output_type": "stream",
     "text": [
      "\r",
      "  1%|          | 26/2092 [00:02<02:46, 12.40it/s]"
     ]
    },
    {
     "name": "stdout",
     "output_type": "stream",
     "text": [
      "IMG_20200229_075431.jpg\n",
      "[0.7461334901499559]\n",
      "IMG_20200229_075434.jpg\n",
      "[0.42671200987834257]\n",
      "IMG_20200229_075435.jpg\n",
      "[0.01586042823156225]\n"
     ]
    },
    {
     "name": "stderr",
     "output_type": "stream",
     "text": [
      "  1%|▏         | 30/2092 [00:02<02:47, 12.30it/s]"
     ]
    },
    {
     "name": "stdout",
     "output_type": "stream",
     "text": [
      "IMG_20200229_075436.jpg\n",
      "[0.44170647892045933]\n",
      "IMG_20200229_075437.jpg\n",
      "[0.8164945059467468]\n",
      "IMG_20200229_075438.jpg\n",
      "[0.8217210584797728]\n"
     ]
    },
    {
     "name": "stderr",
     "output_type": "stream",
     "text": [
      "\r",
      "  2%|▏         | 32/2092 [00:02<02:48, 12.20it/s]"
     ]
    },
    {
     "name": "stdout",
     "output_type": "stream",
     "text": [
      "IMG_20200229_075439.jpg\n",
      "[0.8863739248528746]\n",
      "IMG_20200229_075440.jpg\n",
      "[0.8852216140581917]\n",
      "IMG_20200229_075442.jpg\n",
      "[0.7700626067159931]\n"
     ]
    },
    {
     "name": "stderr",
     "output_type": "stream",
     "text": [
      "  2%|▏         | 36/2092 [00:02<02:46, 12.37it/s]"
     ]
    },
    {
     "name": "stdout",
     "output_type": "stream",
     "text": [
      "IMG_20200229_075443.jpg\n",
      "[0.19298801080715974]\n",
      "IMG_20200229_075449.jpg\n",
      "[0.5491299364384703]\n",
      "IMG_20200229_075450.jpg\n",
      "[0.43002915451895046]\n"
     ]
    },
    {
     "name": "stderr",
     "output_type": "stream",
     "text": [
      "\r",
      "  2%|▏         | 38/2092 [00:03<02:45, 12.43it/s]"
     ]
    },
    {
     "name": "stdout",
     "output_type": "stream",
     "text": [
      "IMG_20200229_075452.jpg\n",
      "[0.7516177067821849]\n",
      "IMG_20200229_075453.jpg\n",
      "[0.7619949494949495]\n",
      "IMG_20200229_075454.jpg\n",
      "[0.7479818107500511]\n"
     ]
    },
    {
     "name": "stderr",
     "output_type": "stream",
     "text": [
      "  2%|▏         | 42/2092 [00:03<02:45, 12.35it/s]"
     ]
    },
    {
     "name": "stdout",
     "output_type": "stream",
     "text": [
      "IMG_20200229_075457.jpg\n",
      "[0.30850375677961883]\n",
      "IMG_20200229_075458.jpg\n",
      "[0.40476669348350763]\n",
      "IMG_20200229_075500.jpg\n",
      "[0.35482024868633266]\n"
     ]
    },
    {
     "name": "stderr",
     "output_type": "stream",
     "text": [
      "\r",
      "  2%|▏         | 44/2092 [00:03<02:43, 12.53it/s]"
     ]
    },
    {
     "name": "stdout",
     "output_type": "stream",
     "text": [
      "IMG_20200229_075501.jpg\n",
      "[0.5469500012973197]\n",
      "IMG_20200229_075502.jpg\n",
      "[0.8203527391915093]\n",
      "IMG_20200229_075504.jpg\n",
      "[0.7424173834314169]\n"
     ]
    },
    {
     "name": "stderr",
     "output_type": "stream",
     "text": [
      "  2%|▏         | 48/2092 [00:03<02:46, 12.30it/s]"
     ]
    },
    {
     "name": "stdout",
     "output_type": "stream",
     "text": [
      "IMG_20200229_075505.jpg\n",
      "[0.8168720619997459]\n",
      "IMG_20200229_075506.jpg\n",
      "[0]\n",
      "IMG_20200229_075507.jpg\n",
      "[0.2242313756405203]\n"
     ]
    },
    {
     "name": "stderr",
     "output_type": "stream",
     "text": [
      "\r",
      "  2%|▏         | 50/2092 [00:04<02:46, 12.30it/s]"
     ]
    },
    {
     "name": "stdout",
     "output_type": "stream",
     "text": [
      "IMG_20200229_074224.jpg\n",
      "[0.8742690058479532]\n",
      "IMG_20200229_074224_1.jpg\n",
      "[0.1244792375765827]\n",
      "IMG_20200229_074226.jpg\n",
      "[0.8791578947368421]\n"
     ]
    },
    {
     "name": "stderr",
     "output_type": "stream",
     "text": [
      "  3%|▎         | 54/2092 [00:04<02:45, 12.29it/s]"
     ]
    },
    {
     "name": "stdout",
     "output_type": "stream",
     "text": [
      "IMG_20200229_074227.jpg\n",
      "[0.819058690026432]\n",
      "IMG_20200229_074230.jpg\n",
      "[0.2249428111497077]\n",
      "IMG_20200229_074231.jpg\n",
      "[0.22576530612244897]\n"
     ]
    },
    {
     "name": "stderr",
     "output_type": "stream",
     "text": [
      "\r",
      "  3%|▎         | 56/2092 [00:04<02:46, 12.25it/s]"
     ]
    },
    {
     "name": "stdout",
     "output_type": "stream",
     "text": [
      "IMG_20200229_074233.jpg\n",
      "[0.7869941520467836]\n",
      "IMG_20200229_074234.jpg\n",
      "[0.2199273811660431]\n",
      "IMG_20200229_074236.jpg\n",
      "[0.8532979170337042]\n"
     ]
    },
    {
     "name": "stderr",
     "output_type": "stream",
     "text": [
      "  3%|▎         | 60/2092 [00:04<02:43, 12.43it/s]"
     ]
    },
    {
     "name": "stdout",
     "output_type": "stream",
     "text": [
      "IMG_20200229_074238.jpg\n",
      "[0.8606315789473684]\n",
      "IMG_20200229_074241.jpg\n",
      "[0.9115466592530813]\n",
      "IMG_20200229_074242.jpg\n",
      "[0.8063381450141032]\n"
     ]
    },
    {
     "name": "stderr",
     "output_type": "stream",
     "text": [
      "\r",
      "  3%|▎         | 62/2092 [00:05<02:41, 12.54it/s]"
     ]
    },
    {
     "name": "stdout",
     "output_type": "stream",
     "text": [
      "IMG_20200229_074243.jpg\n",
      "[0.7742255725126618]\n",
      "IMG_20200229_074244.jpg\n",
      "[0.8849967565563895]\n",
      "IMG_20200229_074245.jpg\n",
      "[0.8883792048929664]\n"
     ]
    },
    {
     "name": "stderr",
     "output_type": "stream",
     "text": [
      "  3%|▎         | 66/2092 [00:05<02:42, 12.50it/s]"
     ]
    },
    {
     "name": "stdout",
     "output_type": "stream",
     "text": [
      "IMG_20200229_074247.jpg\n",
      "[0.727759009009009]\n",
      "IMG_20200229_074250.jpg\n",
      "[0.20359695253505933]\n",
      "IMG_20200229_074252.jpg\n",
      "[0.15753471863262]\n"
     ]
    },
    {
     "name": "stderr",
     "output_type": "stream",
     "text": [
      "\r",
      "  3%|▎         | 68/2092 [00:05<02:42, 12.48it/s]"
     ]
    },
    {
     "name": "stdout",
     "output_type": "stream",
     "text": [
      "IMG_20200229_074253.jpg\n",
      "[0.16425337740730095]\n",
      "IMG_20200229_074254.jpg\n",
      "[0.9168751737559077]\n",
      "IMG_20200229_074256.jpg\n",
      "[0.7466172730982953]\n"
     ]
    },
    {
     "name": "stderr",
     "output_type": "stream",
     "text": [
      "  3%|▎         | 72/2092 [00:05<02:40, 12.62it/s]"
     ]
    },
    {
     "name": "stdout",
     "output_type": "stream",
     "text": [
      "IMG_20200229_074257.jpg\n",
      "[0.7401011208576999]\n",
      "IMG_20200229_074309.jpg\n",
      "[0.17822612085769982]\n",
      "IMG_20200229_074310.jpg\n",
      "[0.18833683516664607]\n"
     ]
    },
    {
     "name": "stderr",
     "output_type": "stream",
     "text": [
      "\r",
      "  4%|▎         | 74/2092 [00:06<02:39, 12.68it/s]"
     ]
    },
    {
     "name": "stdout",
     "output_type": "stream",
     "text": [
      "IMG_20200229_074311.jpg\n",
      "[0.762981496926451]\n",
      "IMG_20200229_074312.jpg\n",
      "[0.1824513090676884]\n",
      "IMG_20200229_074313.jpg\n",
      "[0.1694560281716245]\n"
     ]
    },
    {
     "name": "stderr",
     "output_type": "stream",
     "text": [
      "  4%|▎         | 78/2092 [00:06<02:40, 12.58it/s]"
     ]
    },
    {
     "name": "stdout",
     "output_type": "stream",
     "text": [
      "IMG_20200229_074322.jpg\n",
      "[0.763661075587681]\n",
      "IMG_20200229_074323.jpg\n",
      "[0.7322614524449387]\n",
      "IMG_20200229_074324.jpg\n",
      "[0.18777211862318247]\n"
     ]
    },
    {
     "name": "stderr",
     "output_type": "stream",
     "text": [
      "\r",
      "  4%|▍         | 80/2092 [00:06<02:40, 12.52it/s]"
     ]
    },
    {
     "name": "stdout",
     "output_type": "stream",
     "text": [
      "IMG_20200229_074325.jpg\n",
      "[0.7622092484477806]\n",
      "IMG_20200229_074326.jpg\n",
      "[0.761622339603991]\n",
      "IMG_20200229_074328.jpg\n",
      "[0.9371919701887246]\n"
     ]
    },
    {
     "name": "stderr",
     "output_type": "stream",
     "text": [
      "  4%|▍         | 84/2092 [00:06<02:41, 12.40it/s]"
     ]
    },
    {
     "name": "stdout",
     "output_type": "stream",
     "text": [
      "IMG_20200229_074329.jpg\n",
      "[0.18090621290067274]\n",
      "IMG_20200229_074331.jpg\n",
      "[0.9167238095238095]\n",
      "IMG_20200229_074332.jpg\n",
      "[0.7843573348160504]\n"
     ]
    },
    {
     "name": "stderr",
     "output_type": "stream",
     "text": [
      "\r",
      "  4%|▍         | 86/2092 [00:06<02:42, 12.34it/s]"
     ]
    },
    {
     "name": "stdout",
     "output_type": "stream",
     "text": [
      "IMG_20200229_074334.jpg\n",
      "[0.9576274588518667]\n",
      "IMG_20200229_074335.jpg\n",
      "[0.9002119808432126]\n",
      "IMG_20200229_074340.jpg\n",
      "[0.9137824601835467]\n"
     ]
    },
    {
     "name": "stderr",
     "output_type": "stream",
     "text": [
      "  4%|▍         | 90/2092 [00:07<02:42, 12.34it/s]"
     ]
    },
    {
     "name": "stdout",
     "output_type": "stream",
     "text": [
      "IMG_20200229_074341.jpg\n",
      "[0.8625663607555867]\n",
      "IMG_20200229_074343.jpg\n",
      "[0.8491652693737698]\n",
      "IMG_20200229_074344.jpg\n",
      "[0.7530769230769231]\n"
     ]
    },
    {
     "name": "stderr",
     "output_type": "stream",
     "text": [
      "\r",
      "  4%|▍         | 92/2092 [00:07<02:41, 12.40it/s]"
     ]
    },
    {
     "name": "stdout",
     "output_type": "stream",
     "text": [
      "IMG_20200229_074347.jpg\n",
      "[0.21713213641113327]\n",
      "IMG_20200229_074349.jpg\n",
      "[0.22645201238390092]\n",
      "IMG_20200229_074350.jpg\n",
      "[0.8095394872216963]\n"
     ]
    },
    {
     "name": "stderr",
     "output_type": "stream",
     "text": [
      "  5%|▍         | 96/2092 [00:07<02:40, 12.46it/s]"
     ]
    },
    {
     "name": "stdout",
     "output_type": "stream",
     "text": [
      "IMG_20200229_074352.jpg\n",
      "[0.9157567466732993]\n",
      "IMG_20200229_074353.jpg\n",
      "[0.8123791102514507]\n",
      "IMG_20200229_074356.jpg\n",
      "[0.8478897176848268]\n"
     ]
    },
    {
     "name": "stderr",
     "output_type": "stream",
     "text": [
      "\r",
      "  5%|▍         | 98/2092 [00:07<02:39, 12.54it/s]"
     ]
    },
    {
     "name": "stdout",
     "output_type": "stream",
     "text": [
      "IMG_20200229_074358.jpg\n",
      "[0.7980986871887732]\n",
      "IMG_20200229_074401.jpg\n",
      "[0.6669469536805689]\n",
      "IMG_20200229_074403.jpg\n",
      "[0]\n"
     ]
    },
    {
     "name": "stderr",
     "output_type": "stream",
     "text": [
      "  5%|▍         | 102/2092 [00:08<02:36, 12.75it/s]"
     ]
    },
    {
     "name": "stdout",
     "output_type": "stream",
     "text": [
      "IMG_20200229_074404.jpg\n",
      "[0]\n",
      "IMG_20200229_074409.jpg\n",
      "[0.8299518498703651]\n",
      "IMG_20200229_074411.jpg\n",
      "[0.9150679354740217]\n"
     ]
    },
    {
     "name": "stderr",
     "output_type": "stream",
     "text": [
      "\r",
      "  5%|▍         | 104/2092 [00:08<02:37, 12.59it/s]"
     ]
    },
    {
     "name": "stdout",
     "output_type": "stream",
     "text": [
      "IMG_20200229_074413.jpg\n",
      "[0.959123254929654]\n",
      "IMG_20200229_074414.jpg\n",
      "[0.8896153541957765]\n",
      "IMG_20200229_074416.jpg\n",
      "[0.8105012531328321]\n"
     ]
    },
    {
     "name": "stderr",
     "output_type": "stream",
     "text": [
      "  5%|▌         | 108/2092 [00:08<02:38, 12.51it/s]"
     ]
    },
    {
     "name": "stdout",
     "output_type": "stream",
     "text": [
      "IMG_20200229_074429.jpg\n",
      "[0]\n",
      "IMG_20200229_074431.jpg\n",
      "[0]\n",
      "IMG_20200229_074432.jpg\n",
      "[0]\n"
     ]
    },
    {
     "name": "stderr",
     "output_type": "stream",
     "text": [
      "\r",
      "  5%|▌         | 110/2092 [00:08<02:39, 12.42it/s]"
     ]
    },
    {
     "name": "stdout",
     "output_type": "stream",
     "text": [
      "IMG_20200229_074433.jpg\n",
      "[0]\n",
      "IMG_20200229_074434.jpg\n",
      "[0.7788581672008257]\n",
      "IMG_20200229_074435.jpg\n",
      "[0.8624857406703244]\n"
     ]
    },
    {
     "name": "stderr",
     "output_type": "stream",
     "text": [
      "  5%|▌         | 114/2092 [00:09<02:38, 12.50it/s]"
     ]
    },
    {
     "name": "stdout",
     "output_type": "stream",
     "text": [
      "IMG_20200229_074437.jpg\n",
      "[0.838693030582867]\n",
      "IMG_20200229_074438.jpg\n",
      "[0.8215003530881634]\n",
      "IMG_20200229_074439.jpg\n",
      "[0.9212885001901244]\n"
     ]
    },
    {
     "name": "stderr",
     "output_type": "stream",
     "text": [
      "\r",
      "  6%|▌         | 116/2092 [00:09<02:38, 12.45it/s]"
     ]
    },
    {
     "name": "stdout",
     "output_type": "stream",
     "text": [
      "IMG_20200229_074440.jpg\n",
      "[0.6859957347415456]\n",
      "IMG_20200229_074442.jpg\n",
      "[0.3390168887929639]\n",
      "IMG_20200229_074449.jpg\n",
      "[0.9100094941000949]\n"
     ]
    },
    {
     "name": "stderr",
     "output_type": "stream",
     "text": [
      "  6%|▌         | 120/2092 [00:09<02:39, 12.35it/s]"
     ]
    },
    {
     "name": "stdout",
     "output_type": "stream",
     "text": [
      "IMG_20200229_074450.jpg\n",
      "[0.882260101010101]\n",
      "IMG_20200229_074451.jpg\n",
      "[0.9466666666666667]\n",
      "IMG_20200229_074452.jpg\n",
      "[0]\n"
     ]
    },
    {
     "name": "stderr",
     "output_type": "stream",
     "text": [
      "\r",
      "  6%|▌         | 122/2092 [00:09<02:40, 12.27it/s]"
     ]
    },
    {
     "name": "stdout",
     "output_type": "stream",
     "text": [
      "IMG_20200229_074453.jpg\n",
      "[0]\n",
      "IMG_20200229_074455.jpg\n",
      "[0.7636482155467434]\n",
      "IMG_20200229_074457.jpg\n",
      "[0.7810038568091694]\n"
     ]
    },
    {
     "name": "stderr",
     "output_type": "stream",
     "text": [
      "  6%|▌         | 126/2092 [00:10<02:39, 12.36it/s]"
     ]
    },
    {
     "name": "stdout",
     "output_type": "stream",
     "text": [
      "IMG_20200229_074458.jpg\n",
      "[0]\n",
      "IMG_20200229_074500.jpg\n",
      "[0]\n",
      "IMG_20200229_074501.jpg\n",
      "[0]\n"
     ]
    },
    {
     "name": "stderr",
     "output_type": "stream",
     "text": [
      "\r",
      "  6%|▌         | 128/2092 [00:10<02:37, 12.46it/s]"
     ]
    },
    {
     "name": "stdout",
     "output_type": "stream",
     "text": [
      "IMG_20200229_074502.jpg\n",
      "[0]\n",
      "IMG_20200229_074503.jpg\n",
      "[0]\n",
      "IMG_20200229_074504.jpg\n",
      "[0.9165382999579891]\n"
     ]
    },
    {
     "name": "stderr",
     "output_type": "stream",
     "text": [
      "  6%|▋         | 132/2092 [00:10<02:36, 12.51it/s]"
     ]
    },
    {
     "name": "stdout",
     "output_type": "stream",
     "text": [
      "IMG_20200229_074505.jpg\n",
      "[0.924354310003242]\n",
      "IMG_20200229_074507.jpg\n",
      "[0.9221717308735757]\n",
      "IMG_20200229_074508.jpg\n",
      "[0]\n"
     ]
    },
    {
     "name": "stderr",
     "output_type": "stream",
     "text": [
      "\r",
      "  6%|▋         | 134/2092 [00:10<02:37, 12.44it/s]"
     ]
    },
    {
     "name": "stdout",
     "output_type": "stream",
     "text": [
      "IMG_20200229_074519.jpg\n",
      "[0]\n",
      "IMG_20200229_074520.jpg\n",
      "[0.8782055713002005]\n",
      "IMG_20200229_074521.jpg\n",
      "[0.8368140868140869]\n"
     ]
    },
    {
     "name": "stderr",
     "output_type": "stream",
     "text": [
      "  7%|▋         | 138/2092 [00:11<02:33, 12.76it/s]"
     ]
    },
    {
     "name": "stdout",
     "output_type": "stream",
     "text": [
      "IMG_20200229_074522.jpg\n",
      "[0.7301191465779995]\n",
      "IMG_20200229_075906.jpg\n",
      "[0.9177777777777778]\n",
      "IMG_20200229_075907.jpg\n",
      "[0.7200310998020921]\n"
     ]
    },
    {
     "name": "stderr",
     "output_type": "stream",
     "text": [
      "\r",
      "  7%|▋         | 140/2092 [00:11<02:52, 11.30it/s]"
     ]
    },
    {
     "name": "stdout",
     "output_type": "stream",
     "text": [
      "IMG_20200229_075907_1.jpg\n",
      "[0.9311228070175439]\n",
      "IMG_20200229_075908.jpg\n",
      "[0.02066532258064516]\n",
      "IMG_20200229_075910.jpg\n",
      "[0.20882491741387446]\n"
     ]
    },
    {
     "name": "stderr",
     "output_type": "stream",
     "text": [
      "  7%|▋         | 144/2092 [00:11<02:59, 10.83it/s]"
     ]
    },
    {
     "name": "stdout",
     "output_type": "stream",
     "text": [
      "IMG_20200229_075911.jpg\n",
      "[0.7215860899067006]\n",
      "IMG_20200229_075912.jpg\n",
      "[0.8894619883040936]\n",
      "IMG_20200229_075913.jpg\n",
      "[0.8743037611254666]\n"
     ]
    },
    {
     "name": "stderr",
     "output_type": "stream",
     "text": [
      "\r",
      "  7%|▋         | 146/2092 [00:11<02:48, 11.55it/s]"
     ]
    },
    {
     "name": "stdout",
     "output_type": "stream",
     "text": [
      "IMG_20200229_075914.jpg\n",
      "[0.9679767103347889]\n",
      "IMG_20200229_075915.jpg\n",
      "[0.7596374269005848]\n",
      "IMG_20200229_075916.jpg\n",
      "[0.9074228523769808]\n"
     ]
    },
    {
     "name": "stderr",
     "output_type": "stream",
     "text": [
      "  7%|▋         | 150/2092 [00:12<02:36, 12.37it/s]"
     ]
    },
    {
     "name": "stdout",
     "output_type": "stream",
     "text": [
      "IMG_20200229_075917.jpg\n",
      "[0.768]\n",
      "IMG_20200229_075918.jpg\n",
      "[0.8134736842105263]\n",
      "IMG_20200229_075920.jpg\n",
      "[0.1846941896024465]\n"
     ]
    },
    {
     "name": "stderr",
     "output_type": "stream",
     "text": [
      "\r",
      "  7%|▋         | 152/2092 [00:12<02:31, 12.83it/s]"
     ]
    },
    {
     "name": "stdout",
     "output_type": "stream",
     "text": [
      "IMG_20200229_075921.jpg\n",
      "[0.18258359030171112]\n",
      "IMG_20200229_075922.jpg\n",
      "[0.7876959064327486]\n",
      "IMG_20200229_075923.jpg\n",
      "[0.9277161592648379]\n"
     ]
    },
    {
     "name": "stderr",
     "output_type": "stream",
     "text": [
      "  7%|▋         | 156/2092 [00:12<02:27, 13.12it/s]"
     ]
    },
    {
     "name": "stdout",
     "output_type": "stream",
     "text": [
      "IMG_20200229_075924.jpg\n",
      "[0.759812865497076]\n",
      "IMG_20200229_075925.jpg\n",
      "[0.18166641600240638]\n",
      "IMG_20200229_075927.jpg\n",
      "[0.8216723813054089]\n"
     ]
    },
    {
     "name": "stderr",
     "output_type": "stream",
     "text": [
      "\r",
      "  8%|▊         | 158/2092 [00:12<02:27, 13.15it/s]"
     ]
    },
    {
     "name": "stdout",
     "output_type": "stream",
     "text": [
      "IMG_20200229_075928.jpg\n",
      "[0.8025978438822475]\n",
      "IMG_20200229_075930.jpg\n",
      "[0.8510178234948877]\n",
      "IMG_20200229_075930_1.jpg\n",
      "[0.828838847187471]\n"
     ]
    },
    {
     "name": "stderr",
     "output_type": "stream",
     "text": [
      "  8%|▊         | 162/2092 [00:13<02:26, 13.15it/s]"
     ]
    },
    {
     "name": "stdout",
     "output_type": "stream",
     "text": [
      "IMG_20200229_075932.jpg\n",
      "[0.817270564976987]\n",
      "IMG_20200229_075933.jpg\n",
      "[0.7886201464183116]\n",
      "IMG_20200229_075935.jpg\n",
      "[0.8541068174095697]\n"
     ]
    },
    {
     "name": "stderr",
     "output_type": "stream",
     "text": [
      "\r",
      "  8%|▊         | 164/2092 [00:13<02:24, 13.37it/s]"
     ]
    },
    {
     "name": "stdout",
     "output_type": "stream",
     "text": [
      "IMG_20200229_075936.jpg\n",
      "[0.7967287554443517]\n",
      "IMG_20200229_075937.jpg\n",
      "[0.8164983164983165]\n",
      "IMG_20200229_075938.jpg\n",
      "[0.8470948012232415]\n"
     ]
    },
    {
     "name": "stderr",
     "output_type": "stream",
     "text": [
      "  8%|▊         | 168/2092 [00:13<02:24, 13.34it/s]"
     ]
    },
    {
     "name": "stdout",
     "output_type": "stream",
     "text": [
      "IMG_20200229_075946.jpg\n",
      "[0.6508510178234949]\n",
      "IMG_20200229_075947.jpg\n",
      "[0.8628750154327338]\n",
      "IMG_20200229_075948.jpg\n",
      "[0.22488685556867374]\n"
     ]
    },
    {
     "name": "stderr",
     "output_type": "stream",
     "text": [
      "\r",
      "  8%|▊         | 170/2092 [00:13<02:25, 13.19it/s]"
     ]
    },
    {
     "name": "stdout",
     "output_type": "stream",
     "text": [
      "IMG_20200229_075951.jpg\n",
      "[0.19997812773403326]\n",
      "IMG_20200229_075952.jpg\n",
      "[0.19585288006340637]\n",
      "IMG_20200229_075955.jpg\n",
      "[0.7510185604345858]\n"
     ]
    },
    {
     "name": "stderr",
     "output_type": "stream",
     "text": [
      "  8%|▊         | 174/2092 [00:14<02:25, 13.21it/s]"
     ]
    },
    {
     "name": "stdout",
     "output_type": "stream",
     "text": [
      "IMG_20200229_075956.jpg\n",
      "[0.7588789662126013]\n",
      "IMG_20200229_075957.jpg\n",
      "[0.8028108152598873]\n",
      "IMG_20200229_080000.jpg\n",
      "[0.7083624840528416]\n"
     ]
    },
    {
     "name": "stderr",
     "output_type": "stream",
     "text": [
      "  9%|▉         | 189/2092 [00:14<01:45, 17.97it/s]"
     ]
    },
    {
     "name": "stdout",
     "output_type": "stream",
     "text": [
      "IMG_20200229_080001.jpg\n",
      "[0.8158360426354994]\n",
      "IMG_20200229_080003.jpg\n",
      "[0.7656487921313634]\n",
      "0001.jpg\n",
      "[0.009265490554246983]\n",
      "0002.jpg\n",
      "[0.007224986646425459]\n",
      "0003.jpg\n",
      "[0.25774928774928774]\n",
      "0004.jpg\n",
      "[0.2561905303153314]\n",
      "0005.jpg\n",
      "[0.26137893774416093]\n",
      "0006.jpg\n",
      "[0.2663328472302881]\n",
      "0007.jpg\n",
      "[0.27510728858871536]\n",
      "0008.jpg\n",
      "[0.29163879598662207]\n",
      "0009.jpg\n",
      "[0.13692096748737373]\n",
      "0010.jpg\n",
      "[0.01233208655083655]\n",
      "0011.jpg\n",
      "[0.007125549194514712]\n",
      "0012.jpg\n",
      "[0.02333972325048475]\n",
      "0013.jpg\n",
      "[0.8356275303643724]\n",
      "0014.jpg\n",
      "[0.09746099724686448]\n",
      "0015.jpg\n",
      "[0.7909615384615385]\n"
     ]
    },
    {
     "name": "stderr",
     "output_type": "stream",
     "text": [
      " 10%|█         | 216/2092 [00:14<00:58, 32.02it/s]"
     ]
    },
    {
     "name": "stdout",
     "output_type": "stream",
     "text": [
      "0016.jpg\n",
      "[0.13467927421415793]\n",
      "0017.jpg\n",
      "[0.8898989898989899]\n",
      "0018.jpg\n",
      "[0.7875]\n",
      "0019.jpg\n",
      "[0.6886209029066171]\n",
      "0020.jpg\n",
      "[0.058117213323162976]\n",
      "0021.jpg\n",
      "[0.05912632974423643]\n",
      "0022.jpg\n",
      "[0.898568512441539]\n",
      "0023.jpg\n",
      "[0.1067408201554543]\n",
      "0024.jpg\n",
      "[0.9085545722713865]\n",
      "0025.jpg\n",
      "[0.7141076295717214]\n",
      "0026.jpg\n",
      "[0.7488288133407831]\n",
      "0027.jpg\n",
      "[0.7831516484489744]\n",
      "0028.jpg\n",
      "[0.8091445427728614]\n",
      "0029.jpg\n",
      "[0.7725261464199518]\n",
      "0030.jpg\n",
      "[0.7522325020112631]\n",
      "0031.jpg\n",
      "[0.7874094931617055]\n",
      "0032.jpg\n",
      "[0.8571882951653944]\n",
      "0033.jpg\n",
      "[0.7234915526950925]\n",
      "0034.jpg\n",
      "[0.8336955753463388]\n",
      "0035.jpg\n",
      "[0.8285887341005451]\n",
      "0036.jpg\n",
      "[0.7790765479219678]\n",
      "0037.jpg\n",
      "[0.827870677885686]\n",
      "0038.jpg\n",
      "[0.848171500630517]\n",
      "0039.jpg\n",
      "[0.742013005371784]\n",
      "0040.jpg\n",
      "[0.8094088739576198]\n",
      "0041.jpg\n",
      "[0.9461671469740635]\n",
      "0042.jpg\n",
      "[0.9603174603174603]\n"
     ]
    },
    {
     "name": "stderr",
     "output_type": "stream",
     "text": [
      " 12%|█▏        | 245/2092 [00:14<00:34, 52.92it/s]"
     ]
    },
    {
     "name": "stdout",
     "output_type": "stream",
     "text": [
      "0043.jpg\n",
      "[0.8737309941520468]\n",
      "0044.jpg\n",
      "[0.11571513548403427]\n",
      "0045.jpg\n",
      "[0.8694005800837898]\n",
      "0046.jpg\n",
      "[0.7650994152046784]\n",
      "0047.jpg\n",
      "[0.8499558693733451]\n",
      "0048.jpg\n",
      "[0.9264705882352942]\n",
      "0049.jpg\n",
      "[0.8674065420560748]\n",
      "0050.jpg\n",
      "[0.7177383731936644]\n",
      "0051.jpg\n",
      "[0.7377425044091711]\n",
      "0052.jpg\n",
      "[0.9047663176103543]\n",
      "0053.jpg\n",
      "[0.749758298420883]\n",
      "0054.jpg\n",
      "[0.7476019858930896]\n",
      "0055.jpg\n",
      "[0.7812065610230747]\n",
      "0056.jpg\n",
      "[0.8133468662775946]\n",
      "0057.jpg\n",
      "[0.7875448028673835]\n",
      "0058.jpg\n",
      "[0.8617366323788342]\n",
      "0059.jpg\n",
      "[0.8192248949980909]\n",
      "0060.jpg\n",
      "[0.6722066403881141]\n",
      "0061.jpg\n",
      "[0.6663039176889592]\n",
      "0062.jpg\n",
      "[0.16962894248608534]\n",
      "0063.jpg\n",
      "[0.9409828447508035]\n",
      "0064.jpg\n",
      "[0.9278645833333333]\n",
      "0065.jpg\n",
      "[0.9249723145071982]\n",
      "0066.jpg\n",
      "[0.9234571388222003]\n",
      "0067.jpg\n",
      "[0.9175068932877897]\n",
      "0068.jpg\n",
      "[0.8843573809621795]\n",
      "0069.jpg\n",
      "[0.86108481830528]\n",
      "0070.jpg\n",
      "[0.8511872916580929]\n",
      "0071.jpg\n",
      "[0.7894505494505495]\n"
     ]
    },
    {
     "name": "stderr",
     "output_type": "stream",
     "text": [
      "\r",
      " 12%|█▏        | 260/2092 [00:14<00:28, 65.31it/s]"
     ]
    },
    {
     "name": "stdout",
     "output_type": "stream",
     "text": [
      "0072.jpg\n",
      "[0.8826716532412735]\n",
      "0073.jpg\n",
      "[0.87896294881589]\n",
      "0074.jpg\n",
      "[0.7958763735133133]\n",
      "0075.jpg\n",
      "[0.8720183257805886]\n",
      "0093.jpg\n",
      "[0.8327200963339577]\n",
      "0094.jpg\n",
      "[0.9028467052660601]\n",
      "0095.jpg\n",
      "[0.7206257808680536]\n",
      "0096.jpg\n",
      "[0.86625]\n",
      "0097.jpg\n",
      "[0.8530646515533166]\n",
      "0098.jpg\n",
      "[0.8807655090850446]\n",
      "0099.jpg\n",
      "[0]\n",
      "0100.jpg\n",
      "[0.0]\n",
      "0101.jpg\n",
      "[0.8991030582471813]\n",
      "0102.jpg\n",
      "[0.8798646362098139]\n",
      "0103.jpg\n",
      "[0.8476027397260274]\n",
      "0104.jpg\n",
      "[0.8352290960955607]\n",
      "IMG_20200228_103440.jpg\n",
      "[0.21034026399192005]\n",
      "IMG_20200228_103442.jpg\n",
      "[0.20978863087691266]\n",
      "IMG_20200228_103443.jpg\n",
      "[0.19804886046892933]\n",
      "IMG_20200228_103445.jpg\n",
      "[0.20276304304035453]\n",
      "IMG_20200228_103446.jpg\n",
      "[0.20240289553939475]\n",
      "IMG_20200229_071321.jpg\n",
      "[0]\n",
      "IMG_20200229_071323.jpg\n",
      "[0.16643159379407615]\n",
      "IMG_20200229_071325.jpg\n",
      "[0.14540398690292758]\n"
     ]
    },
    {
     "name": "stderr",
     "output_type": "stream",
     "text": [
      "\r",
      " 13%|█▎        | 273/2092 [00:15<00:48, 37.53it/s]"
     ]
    },
    {
     "name": "stdout",
     "output_type": "stream",
     "text": [
      "IMG_20200229_071326.jpg\n",
      "[0.17239952043845627]\n",
      "IMG_20200229_071330.jpg\n",
      "[0.20007619426224077]\n",
      "IMG_20200229_071331.jpg\n",
      "[0.1658744557329463]\n",
      "IMG_20200229_071333.jpg\n",
      "[0.18739111721424034]\n",
      "IMG_20200229_071334.jpg\n",
      "[0.20187233666732904]\n",
      "IMG_20200229_071338.jpg\n",
      "[0.21514459844224298]\n",
      "IMG_20200229_071340.jpg\n",
      "[0.7605251244907197]\n",
      "IMG_20200229_071342.jpg\n",
      "[0.7029095847565744]\n",
      "IMG_20200229_071400.jpg\n",
      "[0.30801200646501964]\n"
     ]
    },
    {
     "name": "stderr",
     "output_type": "stream",
     "text": [
      "\r",
      " 14%|█▎        | 283/2092 [00:16<01:17, 23.46it/s]"
     ]
    },
    {
     "name": "stdout",
     "output_type": "stream",
     "text": [
      "IMG_20200229_071403.jpg\n",
      "[0.7084034982888804]\n",
      "IMG_20200229_071409.jpg\n",
      "[0.2802576733611216]\n",
      "IMG_20200229_071410.jpg\n",
      "[0.8031050754655812]\n",
      "IMG_20200229_071411.jpg\n",
      "[0.33966386554621847]\n",
      "IMG_20200229_071413.jpg\n",
      "[0.8392348978783185]\n",
      "IMG_20200229_071414.jpg\n",
      "[0.48800525796910943]\n",
      "IMG_20200229_071417.jpg\n",
      "[0.3836317135549872]\n",
      "IMG_20200229_071422.jpg\n",
      "[0.40702087286527516]\n",
      "IMG_20200229_071422_1.jpg\n",
      "[0.41761786600496276]\n"
     ]
    },
    {
     "name": "stderr",
     "output_type": "stream",
     "text": [
      "\r",
      " 14%|█▍        | 290/2092 [00:16<01:37, 18.45it/s]"
     ]
    },
    {
     "name": "stdout",
     "output_type": "stream",
     "text": [
      "IMG_20200229_071424.jpg\n",
      "[0.7586182053960592]\n",
      "IMG_20200229_071425.jpg\n",
      "[0.6878714743705198]\n",
      "IMG_20200229_071431.jpg\n",
      "[0]\n",
      "IMG_20200229_071432.jpg\n",
      "[0.7129032258064516]\n",
      "IMG_20200229_071433.jpg\n",
      "[0]\n",
      "IMG_20200229_071434.jpg\n",
      "[0.7291271347248577]\n"
     ]
    },
    {
     "name": "stderr",
     "output_type": "stream",
     "text": [
      "\r",
      " 14%|█▍        | 296/2092 [00:17<01:50, 16.22it/s]"
     ]
    },
    {
     "name": "stdout",
     "output_type": "stream",
     "text": [
      "IMG_20200229_071436.jpg\n",
      "[0]\n",
      "IMG_20200229_071453.jpg\n",
      "[0.8612680477087257]\n",
      "IMG_20200229_071459.jpg\n",
      "[0]\n"
     ]
    },
    {
     "name": "stderr",
     "output_type": "stream",
     "text": [
      "\r",
      " 14%|█▍        | 301/2092 [00:17<02:01, 14.78it/s]"
     ]
    },
    {
     "name": "stdout",
     "output_type": "stream",
     "text": [
      "IMG_20200229_071500.jpg\n",
      "[0.8419962335216572]\n",
      "IMG_20200229_071502.jpg\n",
      "[0.49971834952823546]\n",
      "IMG_20200229_071504.jpg\n",
      "[0.8816698053986189]\n",
      "IMG_20200229_071507.jpg\n",
      "[0.5133569359510782]\n",
      "IMG_20200229_071509.jpg\n",
      "[0.5007037006374699]\n",
      "IMG_20200229_071512.jpg\n",
      "[0.6751412429378532]\n"
     ]
    },
    {
     "name": "stderr",
     "output_type": "stream",
     "text": [
      "\r",
      " 15%|█▍        | 305/2092 [00:18<02:06, 14.07it/s]"
     ]
    },
    {
     "name": "stdout",
     "output_type": "stream",
     "text": [
      "IMG_20200229_071514.jpg\n",
      "[0.8074074074074075]\n",
      "IMG_20200229_071518.jpg\n",
      "[0.7938571073764384]\n",
      "IMG_20200229_071519.jpg\n",
      "[0]\n"
     ]
    },
    {
     "name": "stderr",
     "output_type": "stream",
     "text": [
      "\r",
      " 15%|█▍        | 308/2092 [00:18<02:11, 13.52it/s]"
     ]
    },
    {
     "name": "stdout",
     "output_type": "stream",
     "text": [
      "IMG_20200229_071522.jpg\n",
      "[0.5425294679834343]\n",
      "IMG_20200229_071524.jpg\n",
      "[0.519533231861999]\n",
      "IMG_20200229_071650.jpg\n",
      "[0]\n"
     ]
    },
    {
     "name": "stderr",
     "output_type": "stream",
     "text": [
      " 15%|█▍        | 313/2092 [00:18<02:19, 12.76it/s]"
     ]
    },
    {
     "name": "stdout",
     "output_type": "stream",
     "text": [
      "IMG_20200229_071651.jpg\n",
      "[0]\n",
      "IMG_20200229_071652.jpg\n",
      "[0]\n",
      "IMG_20200229_071653.jpg\n",
      "[0]\n"
     ]
    },
    {
     "name": "stderr",
     "output_type": "stream",
     "text": [
      "\r",
      " 15%|█▌        | 315/2092 [00:18<02:19, 12.70it/s]"
     ]
    },
    {
     "name": "stdout",
     "output_type": "stream",
     "text": [
      "IMG_20200229_071657.jpg\n",
      "[0]\n",
      "IMG_20200229_071658.jpg\n",
      "[0.7979875314448212]\n",
      "IMG_20200229_071701.jpg\n",
      "[0.4803674942579022]\n"
     ]
    },
    {
     "name": "stderr",
     "output_type": "stream",
     "text": [
      " 15%|█▌        | 319/2092 [00:19<02:21, 12.53it/s]"
     ]
    },
    {
     "name": "stdout",
     "output_type": "stream",
     "text": [
      "IMG_20200229_071705.jpg\n",
      "[0]\n",
      "IMG_20200229_071918.jpg\n",
      "[0.21555573597466915]\n",
      "IMG_20200229_071919.jpg\n",
      "[0.2178133887551958]\n"
     ]
    },
    {
     "name": "stderr",
     "output_type": "stream",
     "text": [
      "\r",
      " 15%|█▌        | 321/2092 [00:19<02:20, 12.65it/s]"
     ]
    },
    {
     "name": "stdout",
     "output_type": "stream",
     "text": [
      "IMG_20200229_071920.jpg\n",
      "[0.15548089795077746]\n",
      "IMG_20200229_071923.jpg\n",
      "[0.14536926623737975]\n",
      "IMG_20200229_071923_1.jpg\n",
      "[0.1906859262767385]\n"
     ]
    },
    {
     "name": "stderr",
     "output_type": "stream",
     "text": [
      " 16%|█▌        | 325/2092 [00:19<02:18, 12.77it/s]"
     ]
    },
    {
     "name": "stdout",
     "output_type": "stream",
     "text": [
      "IMG_20200229_071925.jpg\n",
      "[0.1797202797202797]\n",
      "IMG_20200229_071927.jpg\n",
      "[0.1647862446831519]\n",
      "IMG_20200229_071928.jpg\n",
      "[0.213984552154195]\n"
     ]
    },
    {
     "name": "stderr",
     "output_type": "stream",
     "text": [
      "\r",
      " 16%|█▌        | 327/2092 [00:19<02:17, 12.83it/s]"
     ]
    },
    {
     "name": "stdout",
     "output_type": "stream",
     "text": [
      "IMG_20200229_071930.jpg\n",
      "[0.21473014292825143]\n",
      "IMG_20200229_071931.jpg\n",
      "[0.16886450945626477]\n",
      "IMG_20200229_071942.jpg\n",
      "[0.2178751803751804]\n"
     ]
    },
    {
     "name": "stderr",
     "output_type": "stream",
     "text": [
      " 16%|█▌        | 331/2092 [00:20<02:17, 12.82it/s]"
     ]
    },
    {
     "name": "stdout",
     "output_type": "stream",
     "text": [
      "IMG_20200229_071943.jpg\n",
      "[0.1787487781036168]\n",
      "IMG_20200229_071944.jpg\n",
      "[0.1800370195337114]\n",
      "IMG_20200229_071945.jpg\n",
      "[0.17652623856045102]\n"
     ]
    },
    {
     "name": "stderr",
     "output_type": "stream",
     "text": [
      "\r",
      " 16%|█▌        | 333/2092 [00:20<02:15, 13.01it/s]"
     ]
    },
    {
     "name": "stdout",
     "output_type": "stream",
     "text": [
      "IMG_20200229_071946.jpg\n",
      "[0.16944032616753152]\n",
      "IMG_20200229_071948.jpg\n",
      "[0.20886827797322613]\n",
      "IMG_20200229_071949.jpg\n",
      "[0.19611754611754612]\n"
     ]
    },
    {
     "name": "stderr",
     "output_type": "stream",
     "text": [
      " 16%|█▌        | 337/2092 [00:20<02:16, 12.86it/s]"
     ]
    },
    {
     "name": "stdout",
     "output_type": "stream",
     "text": [
      "IMG_20200229_071950.jpg\n",
      "[0.21010662744737568]\n",
      "IMG_20200229_071951.jpg\n",
      "[0.1899291634641351]\n",
      "IMG_20200229_071955.jpg\n",
      "[0.25701354922134145]\n"
     ]
    },
    {
     "name": "stderr",
     "output_type": "stream",
     "text": [
      "\r",
      " 16%|█▌        | 339/2092 [00:20<02:15, 12.93it/s]"
     ]
    },
    {
     "name": "stdout",
     "output_type": "stream",
     "text": [
      "IMG_20200229_071956.jpg\n",
      "[0.24577956989247313]\n",
      "IMG_20200229_071958.jpg\n",
      "[0.7431170006996173]\n",
      "IMG_20200229_071959.jpg\n",
      "[0.22616632860040567]\n"
     ]
    },
    {
     "name": "stderr",
     "output_type": "stream",
     "text": [
      " 16%|█▋        | 343/2092 [00:21<02:13, 13.06it/s]"
     ]
    },
    {
     "name": "stdout",
     "output_type": "stream",
     "text": [
      "IMG_20200229_072007.jpg\n",
      "[0.2846867604932121]\n",
      "IMG_20200229_072008.jpg\n",
      "[0.28336329263001303]\n",
      "IMG_20200229_072009.jpg\n",
      "[0.27214549351113226]\n"
     ]
    },
    {
     "name": "stderr",
     "output_type": "stream",
     "text": [
      "\r",
      " 16%|█▋        | 345/2092 [00:21<02:15, 12.91it/s]"
     ]
    },
    {
     "name": "stdout",
     "output_type": "stream",
     "text": [
      "IMG_20200229_072011.jpg\n",
      "[0.6638956335651673]\n",
      "IMG_20200229_072012.jpg\n",
      "[0.680583563109593]\n",
      "IMG_20200229_072013.jpg\n",
      "[0.24959322224092464]\n"
     ]
    },
    {
     "name": "stderr",
     "output_type": "stream",
     "text": [
      " 17%|█▋        | 349/2092 [00:21<02:16, 12.78it/s]"
     ]
    },
    {
     "name": "stdout",
     "output_type": "stream",
     "text": [
      "IMG_20200229_072015.jpg\n",
      "[0.7318819704514589]\n",
      "IMG_20200229_072017.jpg\n",
      "[0.8743820957140529]\n",
      "IMG_20200229_072018.jpg\n",
      "[0.2765490196078431]\n"
     ]
    },
    {
     "name": "stderr",
     "output_type": "stream",
     "text": [
      "\r",
      " 17%|█▋        | 351/2092 [00:21<02:17, 12.66it/s]"
     ]
    },
    {
     "name": "stdout",
     "output_type": "stream",
     "text": [
      "IMG_20200229_072020.jpg\n",
      "[0.7830952251616058]\n",
      "IMG_20200229_072021.jpg\n",
      "[0.8213373893204411]\n",
      "IMG_20200229_072024.jpg\n",
      "[0.7440110815362051]\n"
     ]
    },
    {
     "name": "stderr",
     "output_type": "stream",
     "text": [
      " 17%|█▋        | 355/2092 [00:21<02:15, 12.81it/s]"
     ]
    },
    {
     "name": "stdout",
     "output_type": "stream",
     "text": [
      "IMG_20200229_072025.jpg\n",
      "[0.9108101293181081]\n",
      "IMG_20200229_072026.jpg\n",
      "[0]\n",
      "IMG_20200229_072028.jpg\n",
      "[0.7184529306317562]\n"
     ]
    },
    {
     "name": "stderr",
     "output_type": "stream",
     "text": [
      "\r",
      " 17%|█▋        | 357/2092 [00:22<02:15, 12.83it/s]"
     ]
    },
    {
     "name": "stdout",
     "output_type": "stream",
     "text": [
      "IMG_20200229_072030.jpg\n",
      "[0.6953120756151883]\n",
      "IMG_20200229_072034.jpg\n",
      "[0.6673366288228584]\n",
      "IMG_20200229_072035.jpg\n",
      "[0.34719374193058405]\n"
     ]
    },
    {
     "name": "stderr",
     "output_type": "stream",
     "text": [
      " 17%|█▋        | 361/2092 [00:22<02:16, 12.68it/s]"
     ]
    },
    {
     "name": "stdout",
     "output_type": "stream",
     "text": [
      "IMG_20200229_072038.jpg\n",
      "[0.7479557652822305]\n",
      "IMG_20200229_072039.jpg\n",
      "[0.381235677771902]\n",
      "IMG_20200229_072041.jpg\n",
      "[0.6196968873920365]\n"
     ]
    },
    {
     "name": "stderr",
     "output_type": "stream",
     "text": [
      "\r",
      " 17%|█▋        | 363/2092 [00:22<02:31, 11.44it/s]"
     ]
    },
    {
     "name": "stdout",
     "output_type": "stream",
     "text": [
      "IMG_20200229_072042.jpg\n",
      "[0.8464752710637224]\n",
      "IMG_20200229_072043.jpg\n",
      "[0.6584279428540388]\n"
     ]
    },
    {
     "name": "stderr",
     "output_type": "stream",
     "text": [
      "\r",
      " 17%|█▋        | 365/2092 [00:22<02:27, 11.73it/s]"
     ]
    },
    {
     "name": "stdout",
     "output_type": "stream",
     "text": [
      "IMG_20200229_072045.jpg\n",
      "[0.39919391359478307]\n",
      "IMG_20200229_072046.jpg\n",
      "[0.38826429127389084]\n",
      "IMG_20200229_072048.jpg\n",
      "[0.8218724109362054]\n"
     ]
    },
    {
     "name": "stderr",
     "output_type": "stream",
     "text": [
      " 18%|█▊        | 369/2092 [00:23<02:17, 12.50it/s]"
     ]
    },
    {
     "name": "stdout",
     "output_type": "stream",
     "text": [
      "IMG_20200229_072049.jpg\n",
      "[0.8938028169014085]\n",
      "IMG_20200229_072050.jpg\n",
      "[0.7099484955272432]\n",
      "IMG_20200229_072051.jpg\n",
      "[0.7053060048269154]\n"
     ]
    },
    {
     "name": "stderr",
     "output_type": "stream",
     "text": [
      "\r",
      " 18%|█▊        | 371/2092 [00:23<02:15, 12.74it/s]"
     ]
    },
    {
     "name": "stdout",
     "output_type": "stream",
     "text": [
      "IMG_20200229_072052.jpg\n",
      "[0.786643132452001]\n",
      "IMG_20200229_072054.jpg\n",
      "[0.775728540038183]\n",
      "IMG_20200229_072056.jpg\n",
      "[0.7802312596808473]\n"
     ]
    },
    {
     "name": "stderr",
     "output_type": "stream",
     "text": [
      " 18%|█▊        | 375/2092 [00:23<02:13, 12.87it/s]"
     ]
    },
    {
     "name": "stdout",
     "output_type": "stream",
     "text": [
      "IMG_20200229_072059.jpg\n",
      "[0.6841687907108468]\n",
      "IMG_20200229_072106.jpg\n",
      "[0.8087272727272727]\n",
      "IMG_20200229_072107.jpg\n",
      "[0.23927893738140418]\n"
     ]
    },
    {
     "name": "stderr",
     "output_type": "stream",
     "text": [
      "\r",
      " 18%|█▊        | 377/2092 [00:23<02:12, 12.99it/s]"
     ]
    },
    {
     "name": "stdout",
     "output_type": "stream",
     "text": [
      "IMG_20200229_072108.jpg\n",
      "[0.8349146110056926]\n",
      "IMG_20200229_072109.jpg\n",
      "[0.10551119982257706]\n",
      "IMG_20200229_072111.jpg\n",
      "[0.6755880551853319]\n"
     ]
    },
    {
     "name": "stderr",
     "output_type": "stream",
     "text": [
      " 18%|█▊        | 381/2092 [00:24<02:13, 12.86it/s]"
     ]
    },
    {
     "name": "stdout",
     "output_type": "stream",
     "text": [
      "IMG_20200229_072112.jpg\n",
      "[0.6999747847700011]\n",
      "IMG_20200229_072116.jpg\n",
      "[0.6518136954720651]\n",
      "IMG_20200229_072117.jpg\n",
      "[0]\n"
     ]
    },
    {
     "name": "stderr",
     "output_type": "stream",
     "text": [
      " 19%|█▉        | 396/2092 [00:24<01:36, 17.57it/s]"
     ]
    },
    {
     "name": "stdout",
     "output_type": "stream",
     "text": [
      "IMG_20200229_072118.jpg\n",
      "[0.6218796152876337]\n",
      "IMG_20200229_072119.jpg\n",
      "[0.42760499859062295]\n",
      "0001.jpg\n",
      "[0.08815419028886574, 0.8224307322589766]\n",
      "0002.jpg\n",
      "[0, 0.7115044247787611]\n",
      "0003.jpg\n",
      "[0.019896896996133638, 0.7166532582461786]\n",
      "0004.jpg\n",
      "[0.03159471329973486, 0.7225663716814159]\n",
      "0005.jpg\n",
      "[0, 0.925219112242013]\n",
      "0006.jpg\n",
      "[0.016410331886084335, 0.8449427480916031]\n",
      "0007.jpg\n",
      "[0.012952360757704269, 0.8645833333333334]\n",
      "0008.jpg\n",
      "[0.058434323912598625, 0.8377067430025446]\n",
      "0009.jpg\n",
      "[0.09645340751043116, 0.7814708792762228]\n",
      "0010.jpg\n",
      "[0.012404580152671756, 0.7910570398642918]\n",
      "0011.jpg\n",
      "[0, 0.25103008073927646]\n",
      "0012.jpg\n",
      "[0, 0.2573336425894503]\n",
      "0013.jpg\n",
      "[0.06746626686656672, 0.9277894736842105]\n",
      "0014.jpg\n",
      "[0.0, 0.9496023391812866]\n",
      "0015.jpg\n",
      "[0.0162826420890937, 0.8762456140350877]\n"
     ]
    },
    {
     "name": "stderr",
     "output_type": "stream",
     "text": [
      " 20%|██        | 422/2092 [00:24<00:53, 31.30it/s]"
     ]
    },
    {
     "name": "stdout",
     "output_type": "stream",
     "text": [
      "0016.jpg\n",
      "[0.05247953216374269, 0.9122807017543859]\n",
      "0017.jpg\n",
      "[0.12937231152365858, 0.8901754385964912]\n",
      "0018.jpg\n",
      "[0.02182456140350877, 0.8413333333333334]\n",
      "0019.jpg\n",
      "[0.0, 0.7976608187134503]\n",
      "0020.jpg\n",
      "[0.02076953801091732, 0.82]\n",
      "0021.jpg\n",
      "[0, 0.1801652646023507]\n",
      "0022.jpg\n",
      "[0, 0.6852397660818713]\n",
      "0023.jpg\n",
      "[0, 0.18316779134126923]\n",
      "0024.jpg\n",
      "[0.061894736842105266, 0.724561403508772]\n",
      "0025.jpg\n",
      "[0.049499471804416724, 0.735859649122807]\n",
      "0026.jpg\n",
      "[0.13484177734054764, 0.7240233918128655]\n",
      "0027.jpg\n",
      "[0.12007990272711482, 0.9131374911191424]\n",
      "0028.jpg\n",
      "[0.1354627872654438, 0.9114076545269206]\n",
      "0029.jpg\n",
      "[0.10045045045045045, 0.8845025175300405]\n",
      "0030.jpg\n",
      "[0.1366294524189261, 0.881320853797918]\n",
      "0031.jpg\n",
      "[0.11778401070597078, 0.16209268517533595]\n",
      "0032.jpg\n",
      "[0.03385032729846081, 0.7502548419979612]\n",
      "0033.jpg\n",
      "[0.12977985984156, 0.7488956846755012]\n",
      "0034.jpg\n",
      "[0.04046253537911515, 0.7986284867018812]\n",
      "0035.jpg\n",
      "[0.03899265796781679, 0.7109628394032064]\n",
      "0036.jpg\n",
      "[0.08764644519338789, 0.7128625706607358]\n",
      "0037.jpg\n",
      "[0.102783554631259, 0.7680165570073827]\n",
      "0038.jpg\n",
      "[0.12273405631280469, 0.7053099805393384]\n",
      "0039.jpg\n",
      "[0.10857625686523024, 0.7067926976183857]\n",
      "0040.jpg\n",
      "[0.10319103972950126, 0.1854375823952946]\n",
      "0041.jpg\n",
      "[0.04089238845144357, 0.6893707719395793]\n"
     ]
    },
    {
     "name": "stderr",
     "output_type": "stream",
     "text": [
      " 22%|██▏       | 450/2092 [00:24<00:31, 51.62it/s]"
     ]
    },
    {
     "name": "stdout",
     "output_type": "stream",
     "text": [
      "0042.jpg\n",
      "[0, 0.19071756362119316]\n",
      "0043.jpg\n",
      "[0.05202434730970711, 0.9167043911272069]\n",
      "0044.jpg\n",
      "[0.03623255813953488, 0.9022593522367176]\n",
      "0045.jpg\n",
      "[0.036104931405265106, 0.8879377752170872]\n",
      "0046.jpg\n",
      "[0.00019207683073229291, 0.672782874617737]\n",
      "0047.jpg\n",
      "[0.044755576649264356, 0.6700645599728169]\n",
      "0048.jpg\n",
      "[0.04461189650573486, 0.8789867895798181]\n",
      "0049.jpg\n",
      "[0.010737156338774135, 0.7800321000864233]\n",
      "0050.jpg\n",
      "[0.01506060386997277, 0.8547265319560475]\n",
      "0051.jpg\n",
      "[0.010744932222360403, 0.8539240297954648]\n",
      "0052.jpg\n",
      "[0.04048782896361033, 0.8237993333058974]\n",
      "0053.jpg\n",
      "[0.04318339455904642, 0.8078315980081485]\n",
      "0054.jpg\n",
      "[0, 0.8044158195810527]\n",
      "0055.jpg\n",
      "[0.005593879342781889, 0.8123791102514507]\n",
      "0056.jpg\n",
      "[0, 0.7816988353430182]\n",
      "0057.jpg\n",
      "[0, 0.7542697230338697]\n",
      "0058.jpg\n",
      "[0, 0.9154772937905468]\n",
      "0059.jpg\n",
      "[0.05480070059975585, 0.7812667187950122]\n",
      "0060.jpg\n",
      "[0.06481748220091361, 0.794065599407383]\n",
      "0061.jpg\n",
      "[0.05506399440306185, 0.7657105230667929]\n",
      "0062.jpg\n",
      "[0.0, 0.6684431458084695]\n",
      "0063.jpg\n",
      "[0, 0.7300300423885756]\n",
      "0064.jpg\n",
      "[0, 0.8526264327231245]\n",
      "0065.jpg\n",
      "[0, 0.9364984518442067]\n",
      "0066.jpg\n",
      "[0, 0.8731598674561356]\n",
      "0067.jpg\n",
      "[0, 0.8330707805964473]\n",
      "0068.jpg\n",
      "[0, 0.857596827638655]\n",
      "0069.jpg\n",
      "[0, 0.881308055842251]\n"
     ]
    },
    {
     "name": "stderr",
     "output_type": "stream",
     "text": [
      " 23%|██▎       | 480/2092 [00:24<00:21, 76.73it/s]"
     ]
    },
    {
     "name": "stdout",
     "output_type": "stream",
     "text": [
      "0070.jpg\n",
      "[0, 0.8408872054952815]\n",
      "0071.jpg\n",
      "[0.01127166060079309, 0.7833668314411429]\n",
      "0072.jpg\n",
      "[0, 0.841300450866424]\n",
      "0073.jpg\n",
      "[0, 0.8022163072410234]\n",
      "0074.jpg\n",
      "[0.009664209664209665, 0.8731598674561356]\n",
      "0075.jpg\n",
      "[0, 0.8002879026563094]\n",
      "0076.jpg\n",
      "[0, 0.8168830463360313]\n",
      "0077.jpg\n",
      "[0.021728502362974633, 0.8270411211907219]\n",
      "0078.jpg\n",
      "[0, 0.766201314574393]\n",
      "0079.jpg\n",
      "[0, 0.7585963387473519]\n",
      "0080.jpg\n",
      "[0.042479222119615405, 0.7712803520017383]\n",
      "0081.jpg\n",
      "[0, 0.8336040609137055]\n",
      "0082.jpg\n",
      "[0, 0.7462925742843175]\n",
      "0083.jpg\n",
      "[0, 0.8783783783783784]\n",
      "0084.jpg\n",
      "[0, 0.6829811505242002]\n",
      "0085.jpg\n",
      "[0, 0.8234573682504233]\n",
      "0086.jpg\n",
      "[0.14972880953323567, 0.8939159252188321]\n",
      "0087.jpg\n",
      "[0.04084958444239231, 0.6990330816448477]\n",
      "0088.jpg\n",
      "[0, 0.8844061813335254]\n",
      "0089.jpg\n",
      "[0.2193123042179646, 0.8435976960567124]\n",
      "0090.jpg\n",
      "[0.0, 0.9196354598177299]\n",
      "0091.jpg\n",
      "[0, 0.92539894096034]\n",
      "0092.jpg\n",
      "[0, 0.843773639278124]\n",
      "0093.jpg\n",
      "[0, 0.9112063686466626]\n",
      "0094.jpg\n",
      "[0.0, 0.883325528619286]\n",
      "0095.jpg\n",
      "[0, 0.865386693562912]\n",
      "0096.jpg\n",
      "[0, 0.733875063484002]\n",
      "0097.jpg\n",
      "[0.0, 0.8744641763625229]\n",
      "0098.jpg\n",
      "[0, 0.8543640358776701]\n"
     ]
    },
    {
     "name": "stderr",
     "output_type": "stream",
     "text": [
      " 24%|██▍       | 510/2092 [00:25<00:15, 100.44it/s]"
     ]
    },
    {
     "name": "stdout",
     "output_type": "stream",
     "text": [
      "0099.jpg\n",
      "[0, 0.7839054789092612]\n",
      "0100.jpg\n",
      "[0, 0.9251700680272109]\n",
      "0101.jpg\n",
      "[0.09741850386282269, 0.7060264399697417]\n",
      "0102.jpg\n",
      "[0.054708349218452156, 0.857162210982659]\n",
      "0103.jpg\n",
      "[0.09233857477417197, 0.7783941500666403]\n",
      "0104.jpg\n",
      "[0, 0.9273182957393483]\n",
      "0105.jpg\n",
      "[0.10721414314228686, 0.7183458809120709]\n",
      "0106.jpg\n",
      "[0.08991540728067675, 0.8863476733977173]\n",
      "0107.jpg\n",
      "[0, 0.7959677419354839]\n",
      "0108.jpg\n",
      "[0, 0.6637008753286985]\n",
      "0109.jpg\n",
      "[0, 0.678492781991681]\n",
      "0110.jpg\n",
      "[0.250243950039032, 0.7119700298980585]\n",
      "0111.jpg\n",
      "[0, 0.8402277039848197]\n",
      "0112.jpg\n",
      "[0, 0.8793168880455408]\n",
      "0113.jpg\n",
      "[0, 0.900426944971537]\n",
      "0114.jpg\n",
      "[0, 0.8766603415559773]\n",
      "0115.jpg\n",
      "[0, 0.894212523719165]\n",
      "0116.jpg\n",
      "[0, 0.7730007763975155]\n",
      "0117.jpg\n",
      "[0.0756641366223909, 0.9250474383301708]\n",
      "0118.jpg\n",
      "[0, 0.8229813664596274]\n",
      "0119.jpg\n",
      "[0.14988653146500486, 0.8844402277039848]\n",
      "0120.jpg\n",
      "[0.014895635673624289, 0.8463472485768501]\n",
      "0121.jpg\n",
      "[0.029696394686907022, 0.8261859582542694]\n",
      "0122.jpg\n",
      "[0.14102564102564102, 0.8182163187855788]\n",
      "0123.jpg\n",
      "[0.09990253411306042, 0.8274193548387097]\n",
      "0124.jpg\n",
      "[0.049540976265114195, 0.8963994954707029]\n",
      "0125.jpg\n",
      "[0.1465631291343112, 0.843311758360302]\n",
      "0126.jpg\n",
      "[0.13884297520661157, 0.7889943074003795]\n",
      "0127.jpg\n",
      "[0, 0.8829810901001113]\n"
     ]
    },
    {
     "name": "stderr",
     "output_type": "stream",
     "text": [
      "\r",
      " 25%|██▌       | 524/2092 [00:25<00:14, 108.29it/s]"
     ]
    },
    {
     "name": "stdout",
     "output_type": "stream",
     "text": [
      "0128.jpg\n",
      "[0, 0.7475806451612903]\n",
      "0129.jpg\n",
      "[0.08734087694483735, 0.8167752442996743]\n",
      "0130.jpg\n",
      "[0, 0.6556834219954403]\n",
      "0131.jpg\n",
      "[0.0, 0.8618730725531569]\n",
      "0132.jpg\n",
      "[0, 0.8533611981887844]\n",
      "0133.jpg\n",
      "[0.16144951550736644, 0.780123339658444]\n",
      "0134.jpg\n",
      "[0, 0.6857210626185958]\n",
      "0135.jpg\n",
      "[0, 0.6854551920341394]\n",
      "0136.jpg\n",
      "[0, 0.8856774668630338]\n",
      "0137.jpg\n",
      "[0, 0.7035924145299145]\n",
      "0138.jpg\n",
      "[0, 0.8258631512868801]\n",
      "0139.jpg\n",
      "[0, 0.8976773383553045]\n",
      "0140.jpg\n",
      "[0, 0.730947897049592]\n",
      "r_1_0.jpg\n",
      "[0.6074474441849096, 0.6399587158455103]\n",
      "r_1_1.jpg\n",
      "[0.6205660274865555, 0.5002987669074909]\n",
      "r_1_10.jpg\n",
      "[0.6057363246238253, 0.6726329512738335]\n",
      "r_1_100.jpg\n",
      "[]\n",
      "r_1_101.jpg\n",
      "[]\n",
      "r_1_102.jpg\n",
      "[]\n",
      "r_1_103.jpg\n",
      "[]\n",
      "r_1_104.jpg\n",
      "[]\n",
      "r_1_105.jpg\n",
      "[]\n",
      "r_1_106.jpg\n",
      "[]\n"
     ]
    },
    {
     "name": "stderr",
     "output_type": "stream",
     "text": [
      " 26%|██▋       | 551/2092 [00:25<00:15, 97.99it/s] "
     ]
    },
    {
     "name": "stdout",
     "output_type": "stream",
     "text": [
      "r_1_107.jpg\n",
      "[]\n",
      "r_1_108.jpg\n",
      "[]\n",
      "r_1_109.jpg\n",
      "[]\n",
      "r_1_11.jpg\n",
      "[0.6223043076755934, 0.6709761529686566]\n",
      "r_1_110.jpg\n",
      "[]\n",
      "r_1_111.jpg\n",
      "[]\n",
      "r_1_112.jpg\n",
      "[]\n",
      "r_1_113.jpg\n",
      "[]\n",
      "r_1_12.jpg\n",
      "[0.6532131022869249, 0.9340081409171139]\n",
      "r_1_13.jpg\n",
      "[0.7152479765332175, 0.5722869253878761]\n",
      "r_1_14.jpg\n",
      "[0.6740195069755957, 0.9146341463414634]\n",
      "r_1_15.jpg\n",
      "[0.6442096809069287]\n",
      "r_1_16.jpg\n",
      "[0.6526315789473685]\n",
      "r_1_17.jpg\n",
      "[0.6891256714729997]\n",
      "r_1_18.jpg\n",
      "[0.6175657894736842]\n",
      "r_1_19.jpg\n",
      "[0.8848481781376518]\n",
      "r_1_2.jpg\n",
      "[0.6337932533000163, 0.6878700635558694]\n",
      "r_1_20.jpg\n",
      "[0.03802453732584737]\n"
     ]
    },
    {
     "name": "stderr",
     "output_type": "stream",
     "text": [
      "\r",
      " 27%|██▋       | 563/2092 [00:25<00:15, 95.57it/s]"
     ]
    },
    {
     "name": "stdout",
     "output_type": "stream",
     "text": [
      "r_1_21.jpg\n",
      "[]\n",
      "r_1_22.jpg\n",
      "[]\n",
      "r_1_23.jpg\n",
      "[]\n",
      "r_1_24.jpg\n",
      "[]\n",
      "r_1_25.jpg\n",
      "[]\n",
      "r_1_26.jpg\n",
      "[]\n",
      "r_1_27.jpg\n",
      "[0.031127119711572834]\n",
      "r_1_28.jpg\n",
      "[]\n",
      "r_1_29.jpg\n",
      "[]\n",
      "r_1_3.jpg\n",
      "[0.6028572980607312, 0.6553316312673149]\n",
      "r_1_30.jpg\n",
      "[0.10469974342972055]\n",
      "r_1_31.jpg\n",
      "[0]\n",
      "r_1_32.jpg\n",
      "[0]\n",
      "r_1_33.jpg\n",
      "[0, 0]\n",
      "r_1_34.jpg\n",
      "[0.05336387255572268, 0]\n",
      "r_1_35.jpg\n",
      "[0, 0]\n",
      "r_1_36.jpg\n",
      "[0.5540968764146673, 0.6245586397957521, 0.7374734339541082]\n",
      "r_1_37.jpg\n",
      "[0.7475148025422348, 0.8124347105651814, 0.7434890673967076]\n",
      "r_1_38.jpg\n",
      "[0, 0.8710060876769569, 0.8138035373365513]"
     ]
    },
    {
     "name": "stderr",
     "output_type": "stream",
     "text": [
      " 28%|██▊       | 585/2092 [00:25<00:16, 92.33it/s]"
     ]
    },
    {
     "name": "stdout",
     "output_type": "stream",
     "text": [
      "\n",
      "r_1_39.jpg\n",
      "[0, 0]\n",
      "r_1_4.jpg\n",
      "[0.6211364006735836, 0.618012928458906]\n",
      "r_1_40.jpg\n",
      "[0.6918803242931808, 0]\n",
      "r_1_41.jpg\n",
      "[0.7161986840885923]\n",
      "r_1_42.jpg\n",
      "[0.1464801819987824]\n",
      "r_1_43.jpg\n",
      "[0]\n",
      "r_1_44.jpg\n",
      "[0.6489878542510121]\n",
      "r_1_45.jpg\n",
      "[0.3221674876847291]\n",
      "r_1_46.jpg\n",
      "[]\n",
      "r_1_47.jpg\n",
      "[]\n",
      "r_1_48.jpg\n",
      "[]\n",
      "r_1_49.jpg\n",
      "[]\n",
      "r_1_5.jpg\n",
      "[0.592753544461948, 0.6365364767233418]\n",
      "r_1_50.jpg\n",
      "[]\n",
      "r_1_51.jpg\n",
      "[]\n",
      "r_1_52.jpg\n",
      "[]\n",
      "r_1_53.jpg\n",
      "[]\n",
      "r_1_54.jpg\n",
      "[0.09039944631204272]\n"
     ]
    },
    {
     "name": "stderr",
     "output_type": "stream",
     "text": [
      " 29%|██▉       | 605/2092 [00:26<00:17, 86.19it/s]"
     ]
    },
    {
     "name": "stdout",
     "output_type": "stream",
     "text": [
      "r_1_55.jpg\n",
      "[0.13648305717271234]\n",
      "r_1_56.jpg\n",
      "[0]\n",
      "r_1_57.jpg\n",
      "[0]\n",
      "r_1_58.jpg\n",
      "[0, 0.0069757257257257255]\n",
      "r_1_59.jpg\n",
      "[0, 0]\n",
      "r_1_6.jpg\n",
      "[0.6355586941170079, 0.6331685588570808]\n",
      "r_1_60.jpg\n",
      "[0.042615782150665873, 0.08504958047292144, 0]\n",
      "r_1_61.jpg\n",
      "[0, 0, 0]\n",
      "r_1_62.jpg\n",
      "[0, 0, 0]\n",
      "r_1_63.jpg\n",
      "[0, 0, 0.18566820276497695]\n",
      "r_1_64.jpg\n",
      "[0.05649385838150289, 0, 0]\n",
      "r_1_65.jpg\n",
      "[0, 0, 0]\n",
      "r_1_66.jpg\n",
      "[0, 0]\n",
      "r_1_67.jpg\n",
      "[0, 0]\n",
      "r_1_68.jpg\n",
      "[0]\n",
      "r_1_69.jpg\n",
      "[0]\n",
      "r_1_7.jpg\n",
      "[0.6593514042044653, 0.9136558481322719]\n"
     ]
    },
    {
     "name": "stderr",
     "output_type": "stream",
     "text": [
      "\r",
      " 29%|██▉       | 615/2092 [00:26<00:16, 88.25it/s]"
     ]
    },
    {
     "name": "stdout",
     "output_type": "stream",
     "text": [
      "r_1_70.jpg\n",
      "[0]\n",
      "r_1_71.jpg\n",
      "[0]\n",
      "r_1_72.jpg\n",
      "[]\n",
      "r_1_73.jpg\n",
      "[]\n",
      "r_1_74.jpg\n",
      "[]\n",
      "r_1_75.jpg\n",
      "[]\n",
      "r_1_76.jpg\n",
      "[]\n",
      "r_1_77.jpg\n",
      "[]\n",
      "r_1_78.jpg\n",
      "[]\n",
      "r_1_79.jpg\n",
      "[]\n",
      "r_1_8.jpg\n",
      "[]\n",
      "r_1_80.jpg\n",
      "[]\n",
      "r_1_81.jpg\n",
      "[]\n",
      "r_1_82.jpg\n",
      "[]\n",
      "r_1_83.jpg\n",
      "[]\n",
      "r_1_84.jpg\n",
      "[]\n",
      "r_1_85.jpg\n",
      "[]\n",
      "r_1_86.jpg\n",
      "[]\n",
      "r_1_87.jpg\n",
      "[]\n"
     ]
    },
    {
     "name": "stderr",
     "output_type": "stream",
     "text": [
      " 30%|███       | 635/2092 [00:26<00:16, 89.25it/s]"
     ]
    },
    {
     "name": "stdout",
     "output_type": "stream",
     "text": [
      "r_1_88.jpg\n",
      "[]\n",
      "r_1_89.jpg\n",
      "[]\n",
      "r_1_9.jpg\n",
      "[0.6006029659405725, 0.6933293497745668]\n",
      "r_1_90.jpg\n",
      "[]\n",
      "r_1_91.jpg\n",
      "[]\n",
      "r_1_92.jpg\n",
      "[]\n",
      "r_1_93.jpg\n",
      "[]\n",
      "r_1_94.jpg\n",
      "[]\n",
      "r_1_95.jpg\n",
      "[]\n",
      "r_1_96.jpg\n",
      "[]\n",
      "r_1_97.jpg\n",
      "[]\n",
      "r_1_98.jpg\n",
      "[]\n",
      "r_1_99.jpg\n",
      "[]\n",
      "r_2_0.jpg\n",
      "[0]\n",
      "r_2_1.jpg\n",
      "[0]\n",
      "r_2_10.jpg\n",
      "[]\n",
      "r_2_100.jpg\n",
      "[0, 0.3089056193284287]\n",
      "r_2_101.jpg\n",
      "[0.05164048614113465, 0.6730463798659153]\n"
     ]
    },
    {
     "name": "stderr",
     "output_type": "stream",
     "text": [
      " 31%|███▏      | 654/2092 [00:26<00:16, 88.48it/s]"
     ]
    },
    {
     "name": "stdout",
     "output_type": "stream",
     "text": [
      "r_2_102.jpg\n",
      "[0.06046717722841686, 0.728744939271255]\n",
      "r_2_103.jpg\n",
      "[0.001447558889327543, 0.6306376518218624]\n",
      "r_2_104.jpg\n",
      "[0.08068586960358642, 0.5884615384615385]\n",
      "r_2_105.jpg\n",
      "[0.08539592400948948, 0.720353982300885]\n",
      "r_2_106.jpg\n",
      "[0.1275366909513251, 0.6234915526950925]\n",
      "r_2_107.jpg\n",
      "[0.038669884687583804, 0.5822472512738]\n",
      "r_2_108.jpg\n",
      "[0.11558786346396965, 0.6789387192536047]\n",
      "r_2_109.jpg\n",
      "[0, 0.6299035199321459]\n",
      "r_2_11.jpg\n",
      "[0.7193168016194332]\n",
      "r_2_110.jpg\n",
      "[0.013604413876502155, 0.5681986853265479]\n",
      "r_2_111.jpg\n",
      "[0.14138368281066369, 0.6069232400339271]\n",
      "r_2_112.jpg\n",
      "[0, 0.25906230180026346]\n",
      "r_2_113.jpg\n",
      "[0, 0.8979705309980539]\n",
      "r_2_114.jpg\n",
      "[0, 0.3674502923976608]\n",
      "r_2_115.jpg\n",
      "[0, 0.689324437030859]\n",
      "r_2_116.jpg\n",
      "[0.24702799092186317, 0.7779538252602988]\n",
      "r_2_117.jpg\n",
      "[0.2645697088951907, 0.7014897732416971]\n",
      "r_2_118.jpg\n",
      "[0, 0.6867360796740607]\n"
     ]
    },
    {
     "name": "stderr",
     "output_type": "stream",
     "text": [
      " 32%|███▏      | 672/2092 [00:26<00:16, 88.03it/s]"
     ]
    },
    {
     "name": "stdout",
     "output_type": "stream",
     "text": [
      "r_2_119.jpg\n",
      "[0.04557800732540434, 0.6261368780608255, 0]\n",
      "r_2_12.jpg\n",
      "[0]\n",
      "r_2_120.jpg\n",
      "[0.6308901600888925, 0.6442857730770813, 0.5811221122112211]\n",
      "r_2_121.jpg\n",
      "[0.7644358737574013, 0.6010946952549487, 0.41333333333333333]\n",
      "r_2_122.jpg\n",
      "[0.5768138606527018, 0.630396312605457, 0]\n",
      "r_2_123.jpg\n",
      "[0.6114654924070949, 0.3056250579186359]\n",
      "r_2_124.jpg\n",
      "[0.7887446357759791, 0.6539363759825507]\n",
      "r_2_125.jpg\n",
      "[0.02240751806181759, 0.8115971850693444]\n",
      "r_2_126.jpg\n",
      "[0.5981991165477404, 0.5849782225929014]\n",
      "r_2_127.jpg\n",
      "[0.021659634317862168, 0.5726315789473684]\n",
      "r_2_128.jpg\n",
      "[0, 0.535906432748538]\n",
      "r_2_129.jpg\n",
      "[0, 0.26729981877978387]\n",
      "r_2_13.jpg\n",
      "[0.03759302660252457]\n",
      "r_2_130.jpg\n",
      "[0.024243709358213177, 0.6859096692111959]\n",
      "r_2_131.jpg\n",
      "[0.0800214534727809, 0.6520917135961384]\n",
      "r_2_132.jpg\n",
      "[0.10357482786119138, 0.5700961538461539]\n",
      "r_2_133.jpg\n",
      "[0.061495312016572726, 0.5711733174508636]\n",
      "r_2_134.jpg\n",
      "[0.06287085423997002, 0.7781112078312793]\n"
     ]
    },
    {
     "name": "stderr",
     "output_type": "stream",
     "text": [
      " 33%|███▎      | 690/2092 [00:27<00:16, 86.89it/s]"
     ]
    },
    {
     "name": "stdout",
     "output_type": "stream",
     "text": [
      "r_2_135.jpg\n",
      "[0.050837542087542084, 0]\n",
      "r_2_136.jpg\n",
      "[]\n",
      "r_2_137.jpg\n",
      "[]\n",
      "r_2_138.jpg\n",
      "[]\n",
      "r_2_139.jpg\n",
      "[]\n",
      "r_2_14.jpg\n",
      "[]\n",
      "r_2_140.jpg\n",
      "[]\n",
      "r_2_141.jpg\n",
      "[]\n",
      "r_2_142.jpg\n",
      "[]\n",
      "r_2_143.jpg\n",
      "[]\n",
      "r_2_144.jpg\n",
      "[]\n",
      "r_2_145.jpg\n",
      "[]\n",
      "r_2_146.jpg\n",
      "[]\n",
      "r_2_147.jpg\n",
      "[]\n",
      "r_2_148.jpg\n",
      "[]\n",
      "r_2_149.jpg\n",
      "[]\n",
      "r_2_15.jpg\n",
      "[]\n",
      "r_2_150.jpg\n",
      "[]\n"
     ]
    },
    {
     "name": "stderr",
     "output_type": "stream",
     "text": [
      " 34%|███▍      | 708/2092 [00:27<00:16, 85.47it/s]"
     ]
    },
    {
     "name": "stdout",
     "output_type": "stream",
     "text": [
      "r_2_151.jpg\n",
      "[]\n",
      "r_2_152.jpg\n",
      "[]\n",
      "r_2_153.jpg\n",
      "[]\n",
      "r_2_154.jpg\n",
      "[]\n",
      "r_2_155.jpg\n",
      "[]\n",
      "r_2_156.jpg\n",
      "[]\n",
      "r_2_157.jpg\n",
      "[]\n",
      "r_2_158.jpg\n",
      "[]\n",
      "r_2_159.jpg\n",
      "[]\n",
      "r_2_16.jpg\n",
      "[]\n",
      "r_2_160.jpg\n",
      "[]\n",
      "r_2_161.jpg\n",
      "[]\n",
      "r_2_162.jpg\n",
      "[]\n",
      "r_2_163.jpg\n",
      "[0.07296654536168039, 0.7501518218623482]\n",
      "r_2_164.jpg\n",
      "[0.08604366647844909, 0.7529632609278627]\n",
      "r_2_165.jpg\n",
      "[0, 0.7474554707379135]\n",
      "r_2_166.jpg\n",
      "[0, 0.6822222222222222]\n"
     ]
    },
    {
     "name": "stderr",
     "output_type": "stream",
     "text": [
      " 35%|███▍      | 726/2092 [00:27<00:16, 83.47it/s]"
     ]
    },
    {
     "name": "stdout",
     "output_type": "stream",
     "text": [
      "r_2_167.jpg\n",
      "[0.6045380116959065, 0.6788070175438596, 0.27286075720610825]\n",
      "r_2_168.jpg\n",
      "[0, 0.5380350877192982, 0.7176221243672579]\n",
      "r_2_169.jpg\n",
      "[0.6818387587966583]\n",
      "r_2_17.jpg\n",
      "[]\n",
      "r_2_170.jpg\n",
      "[0.7964310934868815]\n",
      "r_2_171.jpg\n",
      "[0.7887174751480254]\n",
      "r_2_172.jpg\n",
      "[0]\n",
      "r_2_173.jpg\n",
      "[0]\n",
      "r_2_174.jpg\n",
      "[0]\n",
      "r_2_175.jpg\n",
      "[0.17920751633986928]\n",
      "r_2_176.jpg\n",
      "[0]\n",
      "r_2_177.jpg\n",
      "[]\n",
      "r_2_178.jpg\n",
      "[]\n",
      "r_2_179.jpg\n",
      "[]\n",
      "r_2_18.jpg\n",
      "[]\n",
      "r_2_180.jpg\n",
      "[]\n",
      "r_2_181.jpg\n",
      "[]\n"
     ]
    },
    {
     "name": "stderr",
     "output_type": "stream",
     "text": [
      " 36%|███▌      | 744/2092 [00:27<00:16, 83.08it/s]"
     ]
    },
    {
     "name": "stdout",
     "output_type": "stream",
     "text": [
      "r_2_182.jpg\n",
      "[]\n",
      "r_2_183.jpg\n",
      "[]\n",
      "r_2_184.jpg\n",
      "[]\n",
      "r_2_185.jpg\n",
      "[]\n",
      "r_2_186.jpg\n",
      "[]\n",
      "r_2_187.jpg\n",
      "[]\n",
      "r_2_188.jpg\n",
      "[]\n",
      "r_2_189.jpg\n",
      "[]\n",
      "r_2_19.jpg\n",
      "[]\n",
      "r_2_190.jpg\n",
      "[]\n",
      "r_2_191.jpg\n",
      "[]\n",
      "r_2_192.jpg\n",
      "[]\n",
      "r_2_193.jpg\n",
      "[]\n",
      "r_2_194.jpg\n",
      "[]\n",
      "r_2_195.jpg\n",
      "[]\n",
      "r_2_196.jpg\n",
      "[]\n",
      "r_2_197.jpg\n",
      "[]\n"
     ]
    },
    {
     "name": "stderr",
     "output_type": "stream",
     "text": [
      "\r",
      " 36%|███▌      | 753/2092 [00:27<00:16, 83.54it/s]"
     ]
    },
    {
     "name": "stdout",
     "output_type": "stream",
     "text": [
      "r_2_198.jpg\n",
      "[]\n",
      "r_2_199.jpg\n",
      "[]\n",
      "r_2_2.jpg\n",
      "[0.6059160305343512]\n",
      "r_2_20.jpg\n",
      "[]\n",
      "r_2_200.jpg\n",
      "[]\n",
      "r_2_201.jpg\n",
      "[]\n",
      "r_2_202.jpg\n",
      "[]\n",
      "r_2_203.jpg\n",
      "[]\n",
      "r_2_204.jpg\n",
      "[]\n",
      "r_2_205.jpg\n",
      "[]\n",
      "r_2_206.jpg\n",
      "[]\n",
      "r_2_207.jpg\n",
      "[]\n"
     ]
    },
    {
     "name": "stderr",
     "output_type": "stream",
     "text": [
      " 37%|███▋      | 771/2092 [00:28<00:17, 74.69it/s]"
     ]
    },
    {
     "name": "stdout",
     "output_type": "stream",
     "text": [
      "r_2_208.jpg\n",
      "[]\n",
      "r_2_209.jpg\n",
      "[]\n",
      "r_2_21.jpg\n",
      "[]\n",
      "r_2_210.jpg\n",
      "[]\n",
      "r_2_211.jpg\n",
      "[]\n",
      "r_2_212.jpg\n",
      "[]\n",
      "r_2_213.jpg\n",
      "[0.15774932414366774]\n",
      "r_2_214.jpg\n",
      "[0.10631271729398495]\n",
      "r_2_215.jpg\n",
      "[0.11417332667332668]\n",
      "r_2_216.jpg\n",
      "[0.8927444794952681]\n",
      "r_2_217.jpg\n",
      "[0.8303215642665184]\n",
      "r_2_218.jpg\n",
      "[0.7673987582244463]\n",
      "r_2_219.jpg\n",
      "[0.8727442555576312]\n",
      "r_2_22.jpg\n",
      "[]\n",
      "r_2_220.jpg\n",
      "[0.6818027368486084]\n",
      "r_2_221.jpg\n",
      "[0.8163710440758879]\n",
      "r_2_222.jpg\n",
      "[0.8741100456808922]\n"
     ]
    },
    {
     "name": "stderr",
     "output_type": "stream",
     "text": [
      " 38%|███▊      | 788/2092 [00:28<00:16, 77.48it/s]"
     ]
    },
    {
     "name": "stdout",
     "output_type": "stream",
     "text": [
      "r_2_223.jpg\n",
      "[0]\n",
      "r_2_224.jpg\n",
      "[0.8091691016091197]\n",
      "r_2_225.jpg\n",
      "[0.82571299230421]\n",
      "r_2_226.jpg\n",
      "[0.7668422568829993]\n",
      "r_2_227.jpg\n",
      "[0]\n",
      "r_2_228.jpg\n",
      "[0.27264865509632014, 0.5297624563679609, 0.6518786781349026]\n",
      "r_2_229.jpg\n",
      "[0.25273662096417515, 0.5221944212769901, 0.9183551523711229]\n",
      "r_2_23.jpg\n",
      "[]\n",
      "r_2_230.jpg\n",
      "[0.25664561403508773, 0.5537021592067464, 0.7034857401539159]\n",
      "r_2_231.jpg\n",
      "[0.27167647233612646, 0.5531770302412504, 0.7136301905428207]\n",
      "r_2_232.jpg\n",
      "[0.0, 0.5208815988632503, 0.9278070508990168]\n",
      "r_2_233.jpg\n",
      "[0, 0.7156673114119922, 0.7983594980715955]\n",
      "r_2_234.jpg\n",
      "[0.30528565227553506, 0.6603563932672126, 0.857596827638655]\n",
      "r_2_235.jpg\n",
      "[0.017490431705008438, 0.5812584880036216, 0.7646259981530773]\n",
      "r_2_236.jpg\n",
      "[0.34579201627256545, 0.5550639944030619, 0.8380683361399316]\n",
      "r_2_237.jpg\n",
      "[0.042261937095985656, 0.6206746699983704, 0.6925960128198164]\n",
      "r_2_238.jpg\n",
      "[0.407474804031355, 0.570373187028084, 0.8640178667915421]\n"
     ]
    },
    {
     "name": "stderr",
     "output_type": "stream",
     "text": [
      " 38%|███▊      | 804/2092 [00:28<00:16, 77.90it/s]"
     ]
    },
    {
     "name": "stdout",
     "output_type": "stream",
     "text": [
      "r_2_239.jpg\n",
      "[0.049160736596230104, 0.5817806507686458, 0.7884442203090667]\n",
      "r_2_24.jpg\n",
      "[]\n",
      "r_2_240.jpg\n",
      "[0.2923431329530496, 0, 0.8584440227703984]\n",
      "r_2_241.jpg\n",
      "[0.295171202809482, 0, 0.8314990512333966]\n",
      "r_2_242.jpg\n",
      "[0.35750251762336355, 0.5835524656892763, 0.7200596125186289, 0.3423900258762644, 0.6147473073736537, 0.7200596125186289]\n",
      "r_2_243.jpg\n",
      "[0, 0, 0.798450665941832]\n",
      "r_2_244.jpg\n",
      "[0.037096774193548385, 0, 0.645920303605313, 0.8231316725978648]\n",
      "r_2_245.jpg\n",
      "[0, 0.05357142857142857, 0.38612462721707735, 0.6302040253653157]\n",
      "r_2_246.jpg\n",
      "[0, 0.0, 0.8040269533130114, 0.6542865321311007]\n",
      "r_2_247.jpg\n",
      "[0.04419334588826114, 0.4231829980532122, 0.7912115505335844, 0.692090395480226]\n",
      "r_2_248.jpg\n",
      "[0.2723429951690821, 0, 0.4111111111111111, 0.8750156936597615, 0.2833247994538317, 0, 0.3918918918918919, 0.8317639673571877]\n",
      "r_2_249.jpg\n",
      "[0.7073340553922327, 0.0, 0.7595731324544884, 0.7536723163841808]\n",
      "r_2_25.jpg\n",
      "[]\n",
      "r_2_250.jpg\n",
      "[0.008286252354048965, 0.4523246650906225, 0.7655367231638418, 0.70721908349027]\n",
      "r_2_251.jpg\n",
      "[0.5933458882611425, 0, 0, 0.6365218602060707]\n",
      "r_2_252.jpg\n",
      "[0, 0.01214109926168991, 0, 0]\n"
     ]
    },
    {
     "name": "stderr",
     "output_type": "stream",
     "text": [
      " 39%|███▉      | 822/2092 [00:28<00:15, 80.86it/s]"
     ]
    },
    {
     "name": "stdout",
     "output_type": "stream",
     "text": [
      "r_2_253.jpg\n",
      "[0.054632867132867136, 0.13997760358342665, 0, 0.7440033085194375]\n",
      "r_2_254.jpg\n",
      "[0, 0.4285240464344942, 0, 0.6735594795539034]\n",
      "r_2_255.jpg\n",
      "[0, 0, 0, 0.7344632768361582]\n",
      "r_2_256.jpg\n",
      "[0.20415492957746478, 0.47763125960682795, 0, 0.8305084745762712]\n",
      "r_2_257.jpg\n",
      "[0.058823529411764705, 0.1122865275142315, 0.6125237191650854, 0.8714433141677723]\n",
      "r_2_258.jpg\n",
      "[0.19793723941189378, 0, 0.3979591836734694, 0.6717514124293785]\n",
      "r_2_259.jpg\n",
      "[0, 0, 0, 0.7888111888111888]\n",
      "r_2_26.jpg\n",
      "[]\n",
      "r_2_260.jpg\n",
      "[0.06574952561669829, 0.07599620493358633, 0.5656546489563568, 0.450853889943074]\n",
      "r_2_261.jpg\n",
      "[0.030369718309859156, 0.012830188679245283, 0.7566023677456744, 0.6816521285320212]\n",
      "r_2_262.jpg\n",
      "[0.07016129032258064, 0, 0.6022770398481974, 0.8088768115942029]\n",
      "r_2_263.jpg\n",
      "[0.572549882629108, 0.47552933009371745, 0.07180851063829788, 0.6765075841657417, 0.5317343432218248, 0.4589300411522634, 0.0812274368231047, 0.6461027489223377]\n",
      "r_2_264.jpg\n",
      "[0, 0.014405165990562133, 0, 0.6111631016042781]\n",
      "r_2_265.jpg\n",
      "[0.008851224105461394, 0.49242424242424243, 0.7936597614563716, 0.911864406779661, 0.016195856873822974, 0.46545893719806763, 0.7767733835530446, 0.8780916509730069]\n",
      "r_2_266.jpg\n",
      "[0.014124293785310734, 0.42391975308641977, 0.768361581920904, 0.7472970108119568]\n",
      "r_2_267.jpg\n",
      "[0.7813560725225598, 0.07814750792278882, 0.5932203389830508, 0]\n",
      "r_2_268.jpg\n",
      "[0, 0.036954087346024636, 0, 0.7457627118644068]\n",
      "r_2_269.jpg\n",
      "[0.7550044408007105, 0.06933962264150943, 0, 0]\n"
     ]
    },
    {
     "name": "stderr",
     "output_type": "stream",
     "text": [
      " 40%|████      | 840/2092 [00:29<00:16, 75.58it/s]"
     ]
    },
    {
     "name": "stdout",
     "output_type": "stream",
     "text": [
      "r_2_27.jpg\n",
      "[]\n",
      "r_2_270.jpg\n",
      "[0, 0.4742411812961444, 0, 0.8467257649413783]\n",
      "r_2_271.jpg\n",
      "[0, 0, 0, 0.9006075712727839]\n",
      "r_2_272.jpg\n",
      "[0.05668549905838041, 0.7472213141549526, 0.7940991839296924, 0.5095350052246604]\n",
      "r_2_273.jpg\n",
      "[0.008851224105461394, 0.04967357365881351, 0.7678593848085373, 0.6250341810226961]\n",
      "r_2_274.jpg\n",
      "[0.11990740740740741, 0.05269570514773073, 0.7650973006905211, 0.8883239171374765]\n",
      "r_2_275.jpg\n",
      "[0.6663678470043329, 0.0, 0.7655367231638418, 0.8631226765799257]\n",
      "r_2_276.jpg\n",
      "[0.15747368421052632, 0.060885910428244525, 0.021888627977188862, 0.7543127828054299]\n",
      "r_2_277.jpg\n",
      "[0, 0.4608058608058608, 0, 0.7759573132454488]\n",
      "r_2_278.jpg\n",
      "[0, 0.7621326042378674, 0.6897677338355305, 0.8195321469575201, 0, 0.6562887236679058, 0.7796610169491526, 0.841231884057971]\n",
      "r_2_279.jpg\n",
      "[0.04881404174573055, 0, 0.5844402277039848, 0.6488386691776522]\n",
      "r_2_28.jpg\n",
      "[]\n",
      "r_2_280.jpg\n",
      "[0, 0.0, 0, 0.688530762858649]\n",
      "r_2_281.jpg\n",
      "[0, 0.46482373039291813, 0, 0.634225860155383]\n"
     ]
    },
    {
     "name": "stderr",
     "output_type": "stream",
     "text": [
      "\r",
      " 41%|████      | 849/2092 [00:29<00:15, 77.91it/s]"
     ]
    },
    {
     "name": "stdout",
     "output_type": "stream",
     "text": [
      "r_2_282.jpg\n",
      "[0, 0.48563432835820897, 0.9148936170212766, 0.03853493834409865]\n",
      "r_2_283.jpg\n",
      "[0.012052730696798493, 0.5309993315508021, 0.7103578154425612, 0.7936597614563716]\n",
      "r_2_284.jpg\n",
      "[0.02703790134384807, 0.42914653784219003, 0, 0.051593671176335704]\n",
      "r_2_285.jpg\n",
      "[0, 0.0, 0, 0.6874436090225564]\n",
      "r_2_286.jpg\n",
      "[0.009227871939736346, 0.08367514356029532, 0.7450094161958569, 0.8565055762081785]\n",
      "r_2_29.jpg\n",
      "[]\n",
      "r_2_3.jpg\n",
      "[0.7871929824561403]\n",
      "r_2_30.jpg\n",
      "[]\n",
      "r_2_31.jpg\n",
      "[]\n",
      "r_2_32.jpg\n",
      "[]\n",
      "r_2_33.jpg\n",
      "[]\n",
      "r_2_34.jpg\n",
      "[]\n",
      "r_2_35.jpg\n",
      "[]\n",
      "r_2_36.jpg\n",
      "[]\n",
      "r_2_37.jpg\n",
      "[0.07101690175852855]\n"
     ]
    },
    {
     "name": "stderr",
     "output_type": "stream",
     "text": [
      " 41%|████▏     | 865/2092 [00:29<00:16, 72.69it/s]"
     ]
    },
    {
     "name": "stdout",
     "output_type": "stream",
     "text": [
      "r_2_38.jpg\n",
      "[0.09121837337377285]\n",
      "r_2_39.jpg\n",
      "[0]\n",
      "r_2_4.jpg\n",
      "[0]\n",
      "r_2_40.jpg\n",
      "[0.12210202991452991]\n",
      "r_2_41.jpg\n",
      "[0]\n",
      "r_2_42.jpg\n",
      "[0]\n",
      "r_2_43.jpg\n",
      "[0.007857384251436296]\n",
      "r_2_44.jpg\n",
      "[0]\n",
      "r_2_45.jpg\n",
      "[0]\n",
      "r_2_46.jpg\n",
      "[0, 0, 0.21563679245283018]\n",
      "r_2_47.jpg\n",
      "[0.1789228308893286, 0, 0.05539313399778516]\n",
      "r_2_48.jpg\n",
      "[0, 0, 0.19865722231879018]\n",
      "r_2_49.jpg\n",
      "[0, 0.001412180052956752, 0.218752990716815]\n",
      "r_2_5.jpg\n",
      "[0.0]\n",
      "r_2_50.jpg\n",
      "[0.0, 0, 0.302157245583123]\n",
      "r_2_51.jpg\n",
      "[0, 0, 0.22759633575624813]\n"
     ]
    },
    {
     "name": "stderr",
     "output_type": "stream",
     "text": [
      " 42%|████▏     | 883/2092 [00:29<00:15, 77.80it/s]"
     ]
    },
    {
     "name": "stdout",
     "output_type": "stream",
     "text": [
      "r_2_52.jpg\n",
      "[0.037454051215519105, 0.629228060420721]\n",
      "r_2_53.jpg\n",
      "[0.8164945059467468, 0.23755804425020485, 0]\n",
      "r_2_54.jpg\n",
      "[0.7037809285515707, 0.30782608695652175, 0.8208484980172741]\n",
      "r_2_55.jpg\n",
      "[0.01924182775246605, 0.3921860465116279, 0.7738606116573415]\n",
      "r_2_56.jpg\n",
      "[0]\n",
      "r_2_57.jpg\n",
      "[0.8497469031647393]\n",
      "r_2_58.jpg\n",
      "[0.5742747631184699]\n",
      "r_2_59.jpg\n",
      "[0.5333456893089921]\n",
      "r_2_6.jpg\n",
      "[0.31968456172277826]\n",
      "r_2_60.jpg\n",
      "[]\n",
      "r_2_61.jpg\n",
      "[]\n",
      "r_2_62.jpg\n",
      "[]\n",
      "r_2_63.jpg\n",
      "[]\n",
      "r_2_64.jpg\n",
      "[]\n",
      "r_2_65.jpg\n",
      "[]\n",
      "r_2_66.jpg\n",
      "[]\n",
      "r_2_67.jpg\n",
      "[]\n",
      "r_2_68.jpg\n",
      "[]\n"
     ]
    },
    {
     "name": "stderr",
     "output_type": "stream",
     "text": [
      " 43%|████▎     | 901/2092 [00:29<00:14, 80.26it/s]"
     ]
    },
    {
     "name": "stdout",
     "output_type": "stream",
     "text": [
      "r_2_69.jpg\n",
      "[]\n",
      "r_2_7.jpg\n",
      "[0]\n",
      "r_2_70.jpg\n",
      "[]\n",
      "r_2_71.jpg\n",
      "[]\n",
      "r_2_72.jpg\n",
      "[]\n",
      "r_2_73.jpg\n",
      "[]\n",
      "r_2_74.jpg\n",
      "[]\n",
      "r_2_75.jpg\n",
      "[]\n",
      "r_2_76.jpg\n",
      "[]\n",
      "r_2_77.jpg\n",
      "[]\n",
      "r_2_78.jpg\n",
      "[]\n",
      "r_2_79.jpg\n",
      "[]\n",
      "r_2_8.jpg\n",
      "[0.7926208651399491]\n",
      "r_2_80.jpg\n",
      "[]\n",
      "r_2_81.jpg\n",
      "[]\n"
     ]
    },
    {
     "name": "stderr",
     "output_type": "stream",
     "text": [
      " 44%|████▍     | 919/2092 [00:30<00:14, 78.60it/s]"
     ]
    },
    {
     "name": "stdout",
     "output_type": "stream",
     "text": [
      "r_2_82.jpg\n",
      "[]\n",
      "r_2_83.jpg\n",
      "[]\n",
      "r_2_84.jpg\n",
      "[]\n",
      "r_2_85.jpg\n",
      "[]\n",
      "r_2_86.jpg\n",
      "[]\n",
      "r_2_87.jpg\n",
      "[]\n",
      "r_2_88.jpg\n",
      "[]\n",
      "r_2_89.jpg\n",
      "[]\n",
      "r_2_9.jpg\n",
      "[0.6854518637704479]\n",
      "r_2_90.jpg\n",
      "[]\n",
      "r_2_91.jpg\n",
      "[]\n",
      "r_2_92.jpg\n",
      "[]\n",
      "r_2_93.jpg\n",
      "[]\n",
      "r_2_94.jpg\n",
      "[]\n",
      "r_2_95.jpg\n",
      "[]\n",
      "r_2_96.jpg\n",
      "[]\n",
      "r_2_97.jpg\n",
      "[]\n"
     ]
    },
    {
     "name": "stderr",
     "output_type": "stream",
     "text": [
      " 45%|████▍     | 937/2092 [00:30<00:13, 82.82it/s]"
     ]
    },
    {
     "name": "stdout",
     "output_type": "stream",
     "text": [
      "r_2_98.jpg\n",
      "[]\n",
      "r_2_99.jpg\n",
      "[0.029095060444824985, 0.25760632139318923]\n",
      "r_3_0.jpg\n",
      "[0.5126252173193145, 0.6261859582542695, 0.6655597722960152]\n",
      "r_3_1.jpg\n",
      "[0.9063664210613461, 0.611954459203036, 0.08681214421252371]\n",
      "r_3_10.jpg\n",
      "[0.4364944408109876]\n",
      "r_3_100.jpg\n",
      "[0, 0.2509190417182982]\n",
      "r_3_101.jpg\n",
      "[0.09618182730419948, 0.2768170426065163]\n",
      "r_3_102.jpg\n",
      "[0.21690821256038648, 0.25678581807614065]\n",
      "r_3_103.jpg\n",
      "[]\n",
      "r_3_104.jpg\n",
      "[]\n",
      "r_3_105.jpg\n",
      "[]\n",
      "r_3_106.jpg\n",
      "[]\n",
      "r_3_107.jpg\n",
      "[0]\n",
      "r_3_108.jpg\n",
      "[0.30539018503620274]\n",
      "r_3_109.jpg\n",
      "[0.713511259382819, 0.1941181197267979, 0.2075515947467167]\n",
      "r_3_11.jpg\n",
      "[0.4514124293785311]\n",
      "r_3_110.jpg\n",
      "[0.1995852433966383, 0.575345029239766, 0.6422222222222222]\n",
      "r_3_111.jpg\n",
      "[0.2449263502454992, 0.6231736323479443, 0.27067787114845937]\n"
     ]
    },
    {
     "name": "stderr",
     "output_type": "stream",
     "text": [
      " 46%|████▌     | 956/2092 [00:30<00:13, 86.37it/s]"
     ]
    },
    {
     "name": "stdout",
     "output_type": "stream",
     "text": [
      "r_3_112.jpg\n",
      "[0.6939585991193054, 0.039837030330466275]\n",
      "r_3_113.jpg\n",
      "[0.6574344623235524, 0.6729495040948187]\n",
      "r_3_114.jpg\n",
      "[0.6179266636487099, 0.5975554549569941, 0.6844726120416478]\n",
      "r_3_115.jpg\n",
      "[0, 0.6044693197250915, 0.7587593025150742]\n",
      "r_3_116.jpg\n",
      "[0, 0.586032347010165, 0.9386189258312021]\n",
      "r_3_117.jpg\n",
      "[0.5848058045241143]\n",
      "r_3_118.jpg\n",
      "[0.028956024930747924]\n",
      "r_3_119.jpg\n",
      "[0]\n",
      "r_3_12.jpg\n",
      "[0.4708097928436911]\n",
      "r_3_120.jpg\n",
      "[0.7759086488238897]\n",
      "r_3_121.jpg\n",
      "[0]\n",
      "r_3_122.jpg\n",
      "[0]\n",
      "r_3_123.jpg\n",
      "[0.0359375]\n",
      "r_3_124.jpg\n",
      "[0]\n",
      "r_3_125.jpg\n",
      "[0]\n",
      "r_3_126.jpg\n",
      "[0]\n",
      "r_3_127.jpg\n",
      "[0]\n",
      "r_3_128.jpg\n",
      "[0]\n",
      "r_3_129.jpg\n",
      "[0.13463010955353988]\n"
     ]
    },
    {
     "name": "stderr",
     "output_type": "stream",
     "text": [
      " 47%|████▋     | 975/2092 [00:30<00:12, 87.09it/s]"
     ]
    },
    {
     "name": "stdout",
     "output_type": "stream",
     "text": [
      "r_3_13.jpg\n",
      "[0.6586337760910816]\n",
      "r_3_130.jpg\n",
      "[0]\n",
      "r_3_131.jpg\n",
      "[0.12431686959027613]\n",
      "r_3_132.jpg\n",
      "[0.07151796749112185]\n",
      "r_3_133.jpg\n",
      "[0.08050519861370302]\n",
      "r_3_134.jpg\n",
      "[0.2900264973383304]\n",
      "r_3_135.jpg\n",
      "[0]\n",
      "r_3_136.jpg\n",
      "[0.08703015734265734]\n",
      "r_3_137.jpg\n",
      "[0.08670520231213873]\n",
      "r_3_138.jpg\n",
      "[0.09298823199775848]\n",
      "r_3_139.jpg\n",
      "[0.010584764879403089]\n",
      "r_3_14.jpg\n",
      "[0.43415559772296014]\n",
      "r_3_140.jpg\n",
      "[0.0698141445610177]\n",
      "r_3_141.jpg\n",
      "[0.6220647773279352]\n",
      "r_3_142.jpg\n",
      "[0.11454174766488076]\n",
      "r_3_143.jpg\n",
      "[0.02847750154099034]\n",
      "r_3_144.jpg\n",
      "[0.17660362297953483]\n"
     ]
    },
    {
     "name": "stderr",
     "output_type": "stream",
     "text": [
      " 47%|████▋     | 993/2092 [00:30<00:13, 83.46it/s]"
     ]
    },
    {
     "name": "stdout",
     "output_type": "stream",
     "text": [
      "r_3_145.jpg\n",
      "[0.1094471976824918]\n",
      "r_3_146.jpg\n",
      "[0]\n",
      "r_3_147.jpg\n",
      "[0.8158032928675131]\n",
      "r_3_148.jpg\n",
      "[0.9332894357792502]\n",
      "r_3_149.jpg\n",
      "[0]\n",
      "r_3_15.jpg\n",
      "[0.7090132827324478]\n",
      "r_3_150.jpg\n",
      "[0.8424214988271123]\n",
      "r_3_151.jpg\n",
      "[0.8762833396708132]\n",
      "r_3_152.jpg\n",
      "[0.0]\n",
      "r_3_153.jpg\n",
      "[0.9228774179604481, 0, 0.7471888750067902]\n",
      "r_3_154.jpg\n",
      "[0.8192428226648896, 0, 0.6519365527731001]\n",
      "r_3_155.jpg\n",
      "[0.760779510824538, 0.03966386554621849, 0.5988918463794883]\n",
      "r_3_156.jpg\n",
      "[0.6434926695724218, 0.7305502846299811, 0.5519253629192032, 0]\n",
      "r_3_157.jpg\n",
      "[0.6843413421706711, 0.7145009416195857, 0.7864326375711574, 0.013946869070208728]\n",
      "r_3_158.jpg\n",
      "[0.6535104364326376, 0, 0.6925996204933587, 0.7205882352941176]\n",
      "r_3_159.jpg\n",
      "[0.4431011535048802, 0.6806026365348399, 0.8768361581920904, 0.754346353578686]\n",
      "r_3_16.jpg\n",
      "[0]\n"
     ]
    },
    {
     "name": "stderr",
     "output_type": "stream",
     "text": [
      "\r",
      " 48%|████▊     | 1002/2092 [00:31<00:13, 83.00it/s]"
     ]
    },
    {
     "name": "stdout",
     "output_type": "stream",
     "text": [
      "r_3_160.jpg\n",
      "[0.37747245453338646, 0.8172002510985562, 0.45678321678321676, 0.8686907020872865]\n",
      "r_3_161.jpg\n",
      "[0.7401129943502824, 0, 0.4141776184786937, 0.757258064516129]\n",
      "r_3_162.jpg\n",
      "[0.6964218455743879, 0, 0.8467043314500942, 0.8270872865275142]\n",
      "r_3_163.jpg\n",
      "[0.36503795066413663, 0.7966101694915254, 0.7998744507219083, 0]\n",
      "r_3_164.jpg\n",
      "[0.511578947368421, 0.711864406779661, 0.6907020872865275, 0.8274193548387097]\n",
      "r_3_165.jpg\n",
      "[0.031387319522912745, 0.7767733835530446, 0.7796610169491526, 0.7596774193548387]\n",
      "r_3_166.jpg\n",
      "[0.4091081593927894, 0.6871939736346516, 0.6593927893738141, 0.706831119544592]\n",
      "r_3_167.jpg\n",
      "[0.43088512241054616, 0.7854362837413685, 0.6376660341555977, 0]\n",
      "r_3_168.jpg\n",
      "[0.04596774193548387, 0.6665085388994307, 0.5598671726755218, 0]\n",
      "r_3_169.jpg\n",
      "[0.7014705882352941, 0.6233396584440227, 0.6876660341555977, 0]\n",
      "r_3_17.jpg\n",
      "[0.7573055028462998]\n",
      "r_3_170.jpg\n",
      "[0.47306967984934084, 0.6853889943074004, 0.5991138647743237, 0]\n",
      "r_3_171.jpg\n",
      "[0.9060263653483992, 0.04495515291235906, 0.6495443247721624, 0.003169914628435575]\n",
      "r_3_172.jpg\n",
      "[0.7596774193548387, 0.6007348438456828, 0.6181333525449372, 0]\n",
      "r_3_173.jpg\n",
      "[0.7370051511112712, 0.6798026007708656, 0.6979575663700875, 0.5333587980646805]\n",
      "r_3_174.jpg\n",
      "[0.6981016533986528, 0.6954000216130543, 0.7950722236230683]\n",
      "r_3_175.jpg\n",
      "[0.5881090770818621, 0.8368574619069918, 0.8867836173048521]\n"
     ]
    },
    {
     "name": "stderr",
     "output_type": "stream",
     "text": [
      " 49%|████▉     | 1020/2092 [00:31<00:12, 83.51it/s]"
     ]
    },
    {
     "name": "stdout",
     "output_type": "stream",
     "text": [
      "r_3_176.jpg\n",
      "[0.6143734043131077, 0.8349843305356436, 0.7188060187951545]\n",
      "r_3_177.jpg\n",
      "[0.5432322317790855, 0.07537347215934811, 0.5862792707518828]\n",
      "r_3_178.jpg\n",
      "[0.273028595534396, 0.05370591382361414, 0.7292481172064694]\n",
      "r_3_179.jpg\n",
      "[0.0, 0.3758687795385043]\n",
      "r_3_18.jpg\n",
      "[0.6455098879723353]\n",
      "r_3_180.jpg\n",
      "[0, 0.682729435023013]\n",
      "r_3_181.jpg\n",
      "[0.0326197757390418, 0.8392487566799494]\n",
      "r_3_182.jpg\n",
      "[0, 0.700280701754386]\n",
      "r_3_183.jpg\n",
      "[0.010920271416454623, 0.646071882951654]\n",
      "r_3_184.jpg\n",
      "[0.06424052869663557, 0.7178753180661578]\n",
      "r_3_185.jpg\n",
      "[0.10760774898194572, 0.7995829799264914]\n",
      "r_3_186.jpg\n",
      "[0.10217216411906678, 0.6607133279699652]\n",
      "r_3_187.jpg\n",
      "[0.10967417538213999, 0.706858407079646]\n",
      "r_3_188.jpg\n",
      "[0.10257441673370878, 0.6797666934835076]\n",
      "r_3_189.jpg\n",
      "[0.09795521587556985, 0.6788884419415393]\n",
      "r_3_19.jpg\n",
      "[0.829696394686907]\n",
      "r_3_190.jpg\n",
      "[0.10228442296505123, 0.66934835076428]\n",
      "r_3_191.jpg\n",
      "[0.06649906141056583, 0.6599088227406812]\n"
     ]
    },
    {
     "name": "stderr",
     "output_type": "stream",
     "text": [
      " 50%|████▉     | 1038/2092 [00:31<00:12, 85.43it/s]"
     ]
    },
    {
     "name": "stdout",
     "output_type": "stream",
     "text": [
      "r_3_192.jpg\n",
      "[0.08753016894609815, 0.6876106194690266]\n",
      "r_3_193.jpg\n",
      "[0.10316618523199134, 0.2000892238474462]\n",
      "r_3_194.jpg\n",
      "[0.1047524117229211, 0.7045052292839904]\n",
      "r_3_195.jpg\n",
      "[0, 0.8377067430025446]\n",
      "r_3_196.jpg\n",
      "[0.024491094147582698, 0.7664510884930732]\n",
      "r_3_197.jpg\n",
      "[0.01137970031099802, 0.5945009895391575]\n",
      "r_3_198.jpg\n",
      "[0, 0.7751111111111111]\n",
      "r_3_199.jpg\n",
      "[0, 0]\n",
      "r_3_2.jpg\n",
      "[0.7183182164957193, 0.613662239089184, 0.07115749525616698]\n",
      "r_3_20.jpg\n",
      "[0.8787950664136622]\n",
      "r_3_200.jpg\n",
      "[0.019294990723562153, 0.8239891267414203]\n",
      "r_3_201.jpg\n",
      "[0, 0.7555370215920675]\n",
      "r_3_202.jpg\n",
      "[0, 0.6999660210669385]\n",
      "r_3_203.jpg\n",
      "[0.5680350909708708, 0.6927995551848762]\n",
      "r_3_204.jpg\n",
      "[0.05276001606276836, 0.5930868316189417]\n",
      "r_3_205.jpg\n",
      "[0.6741018148895016, 0.7522943331001276, 0.02438371949462941]\n",
      "r_3_206.jpg\n",
      "[0.811994133304362, 0.6428248076052513, 0.7316967776451706]\n",
      "r_3_207.jpg\n",
      "[0.0, 0.639902876661591]\n"
     ]
    },
    {
     "name": "stderr",
     "output_type": "stream",
     "text": [
      " 50%|█████     | 1056/2092 [00:31<00:11, 87.28it/s]"
     ]
    },
    {
     "name": "stdout",
     "output_type": "stream",
     "text": [
      "r_3_208.jpg\n",
      "[0.6435439187354012, 0.3198062015503876, 0.62675418741512]\n",
      "r_3_209.jpg\n",
      "[0.8107056662223984, 0.22026794401616645, 0.6472077040207416]\n",
      "r_3_21.jpg\n",
      "[0.7305212348258348]\n",
      "r_3_210.jpg\n",
      "[0.31630931314045846, 0.06269805341783613, 0.35779250174904315]\n",
      "r_3_211.jpg\n",
      "[0.7676956881956701, 0, 0.32413939802176767]\n",
      "r_3_212.jpg\n",
      "[0.8303735456215554, 0.0114346243685154, 0.8115595632571025]\n",
      "r_3_213.jpg\n",
      "[0.761571989481647]\n",
      "r_3_214.jpg\n",
      "[0.8077879038939519]\n",
      "r_3_215.jpg\n",
      "[0.895392817261626]\n",
      "r_3_216.jpg\n",
      "[0]\n",
      "r_3_217.jpg\n",
      "[0]\n",
      "r_3_218.jpg\n",
      "[]\n",
      "r_3_219.jpg\n",
      "[]\n",
      "r_3_22.jpg\n",
      "[]\n",
      "r_3_220.jpg\n",
      "[]\n",
      "r_3_221.jpg\n",
      "[]\n",
      "r_3_222.jpg\n",
      "[]\n",
      "r_3_223.jpg\n",
      "[]\n",
      "r_3_224.jpg\n",
      "[]\n"
     ]
    },
    {
     "name": "stderr",
     "output_type": "stream",
     "text": [
      " 51%|█████▏    | 1076/2092 [00:31<00:11, 90.17it/s]"
     ]
    },
    {
     "name": "stdout",
     "output_type": "stream",
     "text": [
      "r_3_225.jpg\n",
      "[]\n",
      "r_3_226.jpg\n",
      "[]\n",
      "r_3_227.jpg\n",
      "[]\n",
      "r_3_228.jpg\n",
      "[]\n",
      "r_3_229.jpg\n",
      "[]\n",
      "r_3_23.jpg\n",
      "[0]\n",
      "r_3_230.jpg\n",
      "[]\n",
      "r_3_231.jpg\n",
      "[]\n",
      "r_3_232.jpg\n",
      "[]\n",
      "r_3_233.jpg\n",
      "[]\n",
      "r_3_234.jpg\n",
      "[]\n",
      "r_3_235.jpg\n",
      "[]\n",
      "r_3_236.jpg\n",
      "[]\n",
      "r_3_237.jpg\n",
      "[]\n",
      "r_3_238.jpg\n",
      "[]\n",
      "r_3_239.jpg\n",
      "[]\n",
      "r_3_24.jpg\n",
      "[0.6704329404095822]\n",
      "r_3_240.jpg\n",
      "[]\n",
      "r_3_241.jpg\n",
      "[]\n"
     ]
    },
    {
     "name": "stderr",
     "output_type": "stream",
     "text": [
      " 52%|█████▏    | 1095/2092 [00:32<00:11, 88.40it/s]"
     ]
    },
    {
     "name": "stdout",
     "output_type": "stream",
     "text": [
      "r_3_242.jpg\n",
      "[]\n",
      "r_3_243.jpg\n",
      "[]\n",
      "r_3_244.jpg\n",
      "[]\n",
      "r_3_245.jpg\n",
      "[]\n",
      "r_3_246.jpg\n",
      "[]\n",
      "r_3_247.jpg\n",
      "[]\n",
      "r_3_248.jpg\n",
      "[]\n",
      "r_3_249.jpg\n",
      "[]\n",
      "r_3_25.jpg\n",
      "[0.6769514911184746]\n",
      "r_3_250.jpg\n",
      "[]\n",
      "r_3_251.jpg\n",
      "[]\n",
      "r_3_252.jpg\n",
      "[]\n",
      "r_3_253.jpg\n",
      "[]\n",
      "r_3_254.jpg\n",
      "[]\n",
      "r_3_255.jpg\n",
      "[]\n",
      "r_3_256.jpg\n",
      "[]\n",
      "r_3_257.jpg\n",
      "[]\n",
      "r_3_258.jpg\n",
      "[]\n"
     ]
    },
    {
     "name": "stderr",
     "output_type": "stream",
     "text": [
      " 53%|█████▎    | 1114/2092 [00:32<00:11, 88.54it/s]"
     ]
    },
    {
     "name": "stdout",
     "output_type": "stream",
     "text": [
      "r_3_259.jpg\n",
      "[]\n",
      "r_3_26.jpg\n",
      "[0.7196479982617198]\n",
      "r_3_260.jpg\n",
      "[]\n",
      "r_3_261.jpg\n",
      "[0]\n",
      "r_3_262.jpg\n",
      "[0.6795786612300374]\n",
      "r_3_263.jpg\n",
      "[0.741265072636734]\n",
      "r_3_264.jpg\n",
      "[0.8341028844586886]\n",
      "r_3_265.jpg\n",
      "[0.7811939812048455]\n",
      "r_3_266.jpg\n",
      "[0.7231517192677495, 0, 0.07015590200445435]\n",
      "r_3_267.jpg\n",
      "[0.6074474441849096, 0.5806823326062801, 0.0946129470348574]\n",
      "r_3_268.jpg\n",
      "[0.7514858974820792, 0.6570699114563529, 0.637867347493074]\n",
      "r_3_269.jpg\n",
      "[0.7413277619682288, 0.7463708079680127, 0.06465905406865746]\n",
      "r_3_27.jpg\n",
      "[0]\n",
      "r_3_270.jpg\n",
      "[0.639962537372573, 0.7119700298980585, 0.6300205324015705]\n",
      "r_3_271.jpg\n",
      "[0.7647058823529411, 0.7671726755218217, 0.569143762832751, 0]\n",
      "r_3_272.jpg\n",
      "[0.7178368121442126, 0, 0.05351043643263757, 0.9040322580645161]\n",
      "r_3_273.jpg\n",
      "[0.6783681214421252, 0.6973434535104365, 0.7137096774193549, 0]\n",
      "r_3_274.jpg\n",
      "[0.9149403640929065, 0.743595825426945, 0.6603415559772297, 0.7761859582542695]\n"
     ]
    },
    {
     "name": "stderr",
     "output_type": "stream",
     "text": [
      " 54%|█████▍    | 1132/2092 [00:32<00:11, 84.42it/s]"
     ]
    },
    {
     "name": "stdout",
     "output_type": "stream",
     "text": [
      "r_3_275.jpg\n",
      "[0.4297551789077213, 0.7585059635907093, 0.32581679334317926, 0.6880455407969639]\n",
      "r_3_276.jpg\n",
      "[0.3586337760910816, 0.594876660341556, 0.3201613774719931, 0]\n",
      "r_3_277.jpg\n",
      "[0.8200878844946642, 0.6443548387096775, 0.38062054089928654, 0.12466666666666666]\n",
      "r_3_278.jpg\n",
      "[0.40531309297912715, 0, 0.5907020872865275, 0]\n",
      "r_3_279.jpg\n",
      "[0.4475831763967357, 0.675, 0.6443548387096775, 0]\n",
      "r_3_28.jpg\n",
      "[0]\n",
      "r_3_280.jpg\n",
      "[0.7055028462998102, 0, 0.3464788732394366, 0.12052226314027452]\n",
      "r_3_281.jpg\n",
      "[0.4543628374136849, 0.027229601518026565, 0.6212049335863378, 0.7136148007590133]\n",
      "r_3_282.jpg\n",
      "[0.8643440050219712, 0.6240986717267553, 0.5956356736242884, 0]\n",
      "r_3_283.jpg\n",
      "[0.8179171180931745, 0.6671726755218216, 0.6557874762808349, 0]\n",
      "r_3_284.jpg\n",
      "[0.5350551220116437, 0.645920303605313, 0.31827035449941565, 0.11129207383279044]\n",
      "r_3_285.jpg\n",
      "[0.43306451612903224, 0.7305502846299811, 0.332287954383464, 0.10159744408945687]\n",
      "r_3_286.jpg\n",
      "[0.0, 0.6867172675521822, 0.3024193548387097, 0.6262022261445913]\n",
      "r_3_287.jpg\n",
      "[0.47770398481973436, 0.697865275142315, 0.38946723821187995, 0]\n",
      "r_3_288.jpg\n",
      "[0.4277039848197344, 0.7000948766603415, 0.2886153846153846, 0.6616476351716437]\n",
      "r_3_289.jpg\n",
      "[0.683188645942149, 0.8120493358633776, 0.5383811822340694, 0.6282914880587875]\n"
     ]
    },
    {
     "name": "stderr",
     "output_type": "stream",
     "text": [
      " 55%|█████▍    | 1150/2092 [00:32<00:11, 78.51it/s]"
     ]
    },
    {
     "name": "stdout",
     "output_type": "stream",
     "text": [
      "r_3_29.jpg\n",
      "[0]\n",
      "r_3_290.jpg\n",
      "[0.4713472485768501, 0.7345351043643263, 0.8235294117647058, 0.4956923076923077]\n",
      "r_3_291.jpg\n",
      "[0.6992183278700335, 0.697865275142315, 0.5860379669320269, 0.7098447462267209]\n",
      "r_3_292.jpg\n",
      "[0.33461893638980933, 0.5937826447174093, 0.28850019012439565, 0.7448939159252188]\n",
      "r_3_293.jpg\n",
      "[0.03782284499837902, 0.596160080688736, 0.7514858974820792, 0.8101293181081373]\n",
      "r_3_294.jpg\n",
      "[0.017002269370699902, 0.7247937754403659, 0.8207197147076835, 0.843773639278124]\n",
      "r_3_295.jpg\n",
      "[0.7196479982617198, 0.8396671589640142, 0.90263319044703, 0]\n",
      "r_3_296.jpg\n",
      "[0.3740071607885098, 0.5514693899722961, 0.322585291575785, 0]\n",
      "r_3_297.jpg\n",
      "[0.39437836948022553, 0.7694334293008854, 0.3318655088686777]\n",
      "r_3_298.jpg\n",
      "[0.2598541413439833, 0.7775544570590472, 0.6107247211819417]\n",
      "r_3_299.jpg\n",
      "[0.29064023607903516, 0.6100662578706942, 0.659430429235771]\n",
      "r_3_3.jpg\n",
      "[0.5257431811216672, 0.6502846299810247, 0.10061669829222011]\n",
      "r_3_30.jpg\n",
      "[0.6774970163381209]\n",
      "r_3_300.jpg\n",
      "[0.6603563932672126, 0.5137614678899083]\n",
      "r_3_301.jpg\n",
      "[0.6829910695913413, 0.2590250661292354]\n"
     ]
    },
    {
     "name": "stderr",
     "output_type": "stream",
     "text": [
      "\r",
      " 55%|█████▌    | 1158/2092 [00:32<00:13, 70.79it/s]"
     ]
    },
    {
     "name": "stdout",
     "output_type": "stream",
     "text": [
      "r_3_302.jpg\n",
      "[0.7287542697230339, 0.614987798474037]\n",
      "r_3_303.jpg\n",
      "[0.6464463558171119, 0.5710314150681123]\n",
      "r_3_304.jpg\n",
      "[0.6815095271410346, 0.7463270093419482]\n",
      "r_3_305.jpg\n",
      "[0.7080538293756945, 0.7873369274455739]\n",
      "r_3_306.jpg\n",
      "[0.7034857401539159, 0.7623976295320795]\n",
      "r_3_307.jpg\n",
      "[0.6999876538129141, 0.7558953043335117]\n",
      "r_3_308.jpg\n",
      "[0.7068192106671056, 0.709576525782954]\n",
      "r_3_309.jpg\n",
      "[0.687435696942261, 0.6954812955265649]\n",
      "r_3_31.jpg\n",
      "[0]\n",
      "r_3_310.jpg\n",
      "[0.6596979299559652, 0.28496182016518623]\n",
      "r_3_311.jpg\n",
      "[0, 0.7135067286719619]\n",
      "r_3_312.jpg\n",
      "[0.28332816857762627, 0.2526248894783378]\n",
      "r_3_313.jpg\n",
      "[0.6705831515700235, 0.6827441458496234]\n",
      "r_3_314.jpg\n",
      "[0, 0.2655918663761801]\n",
      "r_3_315.jpg\n",
      "[0.6553767644759043, 0.260395306447938]\n"
     ]
    },
    {
     "name": "stderr",
     "output_type": "stream",
     "text": [
      " 56%|█████▌    | 1176/2092 [00:33<00:11, 78.68it/s]"
     ]
    },
    {
     "name": "stdout",
     "output_type": "stream",
     "text": [
      "r_3_316.jpg\n",
      "[0.6808099098728343, 0.5577641862045531]\n",
      "r_3_317.jpg\n",
      "[0.6889172393925675, 0.2565088093367748]\n",
      "r_3_318.jpg\n",
      "[0.6478455903535125, 0.18593295145084046]\n",
      "r_3_319.jpg\n",
      "[0.29615833117387924, 0.30645215351097704]\n",
      "r_3_32.jpg\n",
      "[0]\n",
      "r_3_320.jpg\n",
      "[0.0, 0.6465903946664472]\n",
      "r_3_321.jpg\n",
      "[0.27605676328502415, 0.08060904612628751]\n",
      "r_3_322.jpg\n",
      "[0.6924770566689987, 0.28089093701996926]\n",
      "r_3_323.jpg\n",
      "[0.6422486522079098, 0.6984855343841311]\n",
      "r_3_324.jpg\n",
      "[0.64885386229886, 0.2725023843586075]\n",
      "r_3_325.jpg\n",
      "[0.6602123544178773, 0.6712210379027943]\n",
      "r_3_326.jpg\n",
      "[0.27286835586593844, 0.6438330795505988]\n",
      "r_3_327.jpg\n",
      "[0.6071031729700811, 0.6424544219926746]\n",
      "r_3_328.jpg\n",
      "[0.31826093010303536, 0.6587925429030002]\n",
      "r_3_33.jpg\n",
      "[0.015345365208353019]\n",
      "r_3_34.jpg\n",
      "[0.24439262373047774]\n",
      "r_3_35.jpg\n",
      "[0]\n"
     ]
    },
    {
     "name": "stderr",
     "output_type": "stream",
     "text": [
      " 57%|█████▋    | 1194/2092 [00:33<00:10, 81.91it/s]"
     ]
    },
    {
     "name": "stdout",
     "output_type": "stream",
     "text": [
      "r_3_36.jpg\n",
      "[0.7978159457167091]\n",
      "r_3_37.jpg\n",
      "[0.7367927058192545]\n",
      "r_3_38.jpg\n",
      "[0.7349291497975708]\n",
      "r_3_39.jpg\n",
      "[0.7702997816160413]\n",
      "r_3_4.jpg\n",
      "[0.80395728123189, 0.11385199240986717, 0.7159392789373814]\n",
      "r_3_40.jpg\n",
      "[0]\n",
      "r_3_41.jpg\n",
      "[]\n",
      "r_3_42.jpg\n",
      "[]\n",
      "r_3_43.jpg\n",
      "[]\n",
      "r_3_44.jpg\n",
      "[]\n",
      "r_3_45.jpg\n",
      "[]\n",
      "r_3_46.jpg\n",
      "[]\n",
      "r_3_47.jpg\n",
      "[]\n",
      "r_3_48.jpg\n",
      "[]\n",
      "r_3_49.jpg\n",
      "[0]\n",
      "r_3_5.jpg\n",
      "[0.8350028975908602, 0, 0]\n",
      "r_3_50.jpg\n",
      "[]\n"
     ]
    },
    {
     "name": "stderr",
     "output_type": "stream",
     "text": [
      " 58%|█████▊    | 1211/2092 [00:33<00:11, 73.48it/s]"
     ]
    },
    {
     "name": "stdout",
     "output_type": "stream",
     "text": [
      "r_3_51.jpg\n",
      "[]\n",
      "r_3_52.jpg\n",
      "[]\n",
      "r_3_53.jpg\n",
      "[]\n",
      "r_3_54.jpg\n",
      "[]\n",
      "r_3_55.jpg\n",
      "[]\n",
      "r_3_56.jpg\n",
      "[]\n",
      "r_3_57.jpg\n",
      "[]\n",
      "r_3_58.jpg\n",
      "[0.7494080435397229]\n",
      "r_3_59.jpg\n",
      "[0]\n",
      "r_3_6.jpg\n",
      "[0.4763639374120374, 0.6116698292220114, 0.3407658225568243]\n",
      "r_3_60.jpg\n",
      "[0.7074385964912281]\n",
      "r_3_61.jpg\n",
      "[0.7813919006579557]\n",
      "r_3_62.jpg\n",
      "[0.715395545670775]\n",
      "r_3_63.jpg\n",
      "[0.8234906786287501]\n"
     ]
    },
    {
     "name": "stderr",
     "output_type": "stream",
     "text": [
      "\r",
      " 58%|█████▊    | 1220/2092 [00:33<00:11, 75.58it/s]"
     ]
    },
    {
     "name": "stdout",
     "output_type": "stream",
     "text": [
      "r_3_64.jpg\n",
      "[0.6558911889378164]\n",
      "r_3_65.jpg\n",
      "[0.6074324046257048, 0.7510185604345858, 0.07308942754845879]\n",
      "r_3_66.jpg\n",
      "[0.6004568089221779, 0.5799004074241738, 0.08327503189431663]\n",
      "r_3_67.jpg\n",
      "[0.5741800074077122, 0.7260035852028899, 0.5497139799991769]\n",
      "r_3_68.jpg\n",
      "[0.3269391159299416, 0.7480036938454017, 0.3347233805949402, 0]\n",
      "r_3_69.jpg\n",
      "[0.722418382312999, 0.0994893801944701, 0.733608561029931]\n",
      "r_3_7.jpg\n",
      "[0.4763639374120374, 0.6554079696394687, 0.04425996204933586]\n",
      "r_3_70.jpg\n",
      "[0.7385517953175077, 0.28078954684459273, 0.8499333597492885]\n",
      "r_3_71.jpg\n",
      "[0.7520777880384595, 0.3256246677299309, 0.7920103742660567]\n",
      "r_3_72.jpg\n",
      "[0.800423705796078, 0.6697810853386931, 0.7852022621663485]\n",
      "r_3_73.jpg\n",
      "[0.7606605464718345, 0.4021576266107282, 0.851122077734952]\n",
      "r_3_74.jpg\n",
      "[0.7871149980987561, 0.7945026889021675, 0.8976982097186701]\n",
      "r_3_75.jpg\n",
      "[0.8137867347493074, 0.0, 0.848384424192212]\n"
     ]
    },
    {
     "name": "stderr",
     "output_type": "stream",
     "text": [
      " 59%|█████▉    | 1236/2092 [00:33<00:12, 70.93it/s]"
     ]
    },
    {
     "name": "stdout",
     "output_type": "stream",
     "text": [
      "r_3_76.jpg\n",
      "[0.857596827638655, 0.5457632001316927, 0.7009071649736542]\n",
      "r_3_77.jpg\n",
      "[0.8350263458091151, 0.6165274291123092, 0.9121789560894781]\n",
      "r_3_78.jpg\n",
      "[0.8052582975718399, 0.6043458578542327, 0.8725190014768921]\n",
      "r_3_79.jpg\n",
      "[0.8605030148297028, 0.7037326638956336, 0.906307409675444]\n",
      "r_3_8.jpg\n",
      "[0]\n",
      "r_3_80.jpg\n",
      "[0.8595092983278637, 0.7315321618173587, 0.7129121625291976]\n",
      "r_3_81.jpg\n",
      "[0.8163710440758879, 0.27712391309335355, 0.807648432831767]\n",
      "r_3_82.jpg\n",
      "[0.7049856361782967, 0.28030724960549525, 0.5520397631593242]\n",
      "r_3_83.jpg\n",
      "[0.03264758497316637, 0.5804912280701754]\n",
      "r_3_84.jpg\n",
      "[0.14730730452317214, 0.6781754385964912]\n",
      "r_3_85.jpg\n",
      "[0.3261138613861386, 0.5672179813401187]\n",
      "r_3_86.jpg\n",
      "[0.12616603190373682, 0.6919264206955047]\n",
      "r_3_87.jpg\n",
      "[0, 0.22972972972972974]\n",
      "r_3_88.jpg\n",
      "[0.08560941581850018, 0.5772722672064777]\n",
      "r_3_89.jpg\n",
      "[0.07817202462380302, 0.5976417004048583]\n",
      "r_3_9.jpg\n",
      "[0.456120527306968]\n"
     ]
    },
    {
     "name": "stderr",
     "output_type": "stream",
     "text": [
      " 60%|█████▉    | 1252/2092 [00:34<00:11, 71.41it/s]"
     ]
    },
    {
     "name": "stdout",
     "output_type": "stream",
     "text": [
      "r_3_90.jpg\n",
      "[0.09034067536741333, 0.7905161943319838]\n",
      "r_3_91.jpg\n",
      "[0.07927985875465184, 0.1934958324136264]\n",
      "r_3_92.jpg\n",
      "[0, 0.04321215214761041]\n",
      "r_3_93.jpg\n",
      "[0.05907179186228482, 0.2801256424900057]\n",
      "r_3_94.jpg\n",
      "[0.03704168642657219, 0.3558919560700505]\n",
      "r_3_95.jpg\n",
      "[0, 0.2269481686957415]\n",
      "r_3_96.jpg\n",
      "[0, 0.2501454094369438]\n",
      "r_3_97.jpg\n",
      "[0.026617331105275723, 0.23951582298756535]\n",
      "r_3_98.jpg\n",
      "[0.05896797500488186, 0.33854117647058823]\n",
      "r_3_99.jpg\n",
      "[0.04826100955930092, 0.24058892255292183]\n",
      "IMG_20200229_080129.jpg\n",
      "[0.7549086616130235]\n",
      "IMG_20200229_080130.jpg\n",
      "[0.7775182388327148]\n",
      "IMG_20200229_080131.jpg\n",
      "[0.9036697247706422]\n",
      "IMG_20200229_080132.jpg\n",
      "[0.9548991754933144]\n",
      "IMG_20200229_080133.jpg\n",
      "[0.9036697247706422]\n",
      "IMG_20200229_080135.jpg\n",
      "[0.926605504587156]\n"
     ]
    },
    {
     "name": "stderr",
     "output_type": "stream",
     "text": [
      "\r",
      " 60%|██████    | 1260/2092 [00:34<00:27, 29.88it/s]"
     ]
    },
    {
     "name": "stdout",
     "output_type": "stream",
     "text": [
      "IMG_20200229_080136.jpg\n",
      "[0.1485024688149688]\n",
      "IMG_20200229_080137.jpg\n",
      "[0.14448026294996996]\n",
      "IMG_20200229_080138.jpg\n",
      "[0.8584468538596979]\n",
      "IMG_20200229_080141.jpg\n",
      "[0.8715596330275229]\n",
      "IMG_20200229_080142.jpg\n",
      "[0.8599274874785079]\n",
      "IMG_20200229_080143.jpg\n",
      "[0.7150514663041367]\n"
     ]
    },
    {
     "name": "stderr",
     "output_type": "stream",
     "text": [
      "\r",
      " 61%|██████    | 1266/2092 [00:35<00:41, 19.97it/s]"
     ]
    },
    {
     "name": "stdout",
     "output_type": "stream",
     "text": [
      "IMG_20200229_080144.jpg\n",
      "[0.9064387077294686]\n",
      "IMG_20200229_080145.jpg\n",
      "[0.819942544713187]\n",
      "IMG_20200229_080147.jpg\n",
      "[0.8400518950977667]\n"
     ]
    },
    {
     "name": "stderr",
     "output_type": "stream",
     "text": [
      "\r",
      " 61%|██████    | 1271/2092 [00:35<00:51, 15.97it/s]"
     ]
    },
    {
     "name": "stdout",
     "output_type": "stream",
     "text": [
      "IMG_20200229_080148.jpg\n",
      "[0.9235689588935844]\n",
      "IMG_20200229_080149.jpg\n",
      "[0.8591086465393305]\n",
      "IMG_20200229_080150.jpg\n",
      "[0.8452474912616981]\n",
      "IMG_20200229_080152.jpg\n",
      "[0.89291280148423]\n",
      "IMG_20200229_080153.jpg\n",
      "[0.8371212121212122]\n",
      "IMG_20200229_080156.jpg\n",
      "[0.9131239968722993]\n"
     ]
    },
    {
     "name": "stderr",
     "output_type": "stream",
     "text": [
      "\r",
      " 61%|██████    | 1275/2092 [00:36<00:57, 14.30it/s]"
     ]
    },
    {
     "name": "stdout",
     "output_type": "stream",
     "text": [
      "IMG_20200229_080157.jpg\n",
      "[0.89867895798181]\n",
      "IMG_20200229_080158.jpg\n",
      "[0.8676900283962303]\n",
      "IMG_20200229_080159.jpg\n",
      "[0.8551998409226487]\n"
     ]
    },
    {
     "name": "stderr",
     "output_type": "stream",
     "text": [
      "\r",
      " 61%|██████    | 1278/2092 [00:36<01:01, 13.32it/s]"
     ]
    },
    {
     "name": "stdout",
     "output_type": "stream",
     "text": [
      "IMG_20200229_080202.jpg\n",
      "[0.9759660891394708]\n",
      "IMG_20200229_080203.jpg\n",
      "[0.9635787480966295]\n",
      "IMG_20200229_080204.jpg\n",
      "[0.9522202559776123]\n"
     ]
    },
    {
     "name": "stderr",
     "output_type": "stream",
     "text": [
      " 61%|██████▏   | 1283/2092 [00:36<01:04, 12.61it/s]"
     ]
    },
    {
     "name": "stdout",
     "output_type": "stream",
     "text": [
      "IMG_20200229_080205.jpg\n",
      "[0]\n",
      "IMG_20200229_080207.jpg\n",
      "[0.7665096378252225]\n",
      "IMG_20200229_080208.jpg\n",
      "[0.8918679781060949]\n"
     ]
    },
    {
     "name": "stderr",
     "output_type": "stream",
     "text": [
      "\r",
      " 61%|██████▏   | 1285/2092 [00:36<01:05, 12.29it/s]"
     ]
    },
    {
     "name": "stdout",
     "output_type": "stream",
     "text": [
      "IMG_20200229_080209.jpg\n",
      "[0]\n",
      "IMG_20200229_080212.jpg\n",
      "[0.8313922383637187]\n",
      "IMG_20200229_080213.jpg\n",
      "[0.8557126314773714]\n"
     ]
    },
    {
     "name": "stderr",
     "output_type": "stream",
     "text": [
      " 62%|██████▏   | 1289/2092 [00:37<01:08, 11.72it/s]"
     ]
    },
    {
     "name": "stdout",
     "output_type": "stream",
     "text": [
      "IMG_20200229_080214.jpg\n",
      "[0.835260710317297]\n",
      "IMG_20200229_080216.jpg\n",
      "[0.9017632907711423]\n",
      "IMG_20200229_080217.jpg\n",
      "[0.8487926601804708]\n"
     ]
    },
    {
     "name": "stderr",
     "output_type": "stream",
     "text": [
      "\r",
      " 62%|██████▏   | 1291/2092 [00:37<01:08, 11.64it/s]"
     ]
    },
    {
     "name": "stdout",
     "output_type": "stream",
     "text": [
      "IMG_20200229_080218.jpg\n",
      "[0.8822073984232869]\n",
      "IMG_20200229_080220.jpg\n",
      "[0.8296637721716943]\n",
      "IMG_20200229_080221.jpg\n",
      "[0.8031606238939875]\n"
     ]
    },
    {
     "name": "stderr",
     "output_type": "stream",
     "text": [
      " 62%|██████▏   | 1295/2092 [00:37<01:08, 11.63it/s]"
     ]
    },
    {
     "name": "stdout",
     "output_type": "stream",
     "text": [
      "IMG_20200229_080222.jpg\n",
      "[0.9191618278212572]\n",
      "IMG_20200229_080223.jpg\n",
      "[0.9147783740806996]\n",
      "IMG_20200229_080225.jpg\n",
      "[0.9187044615231061]\n"
     ]
    },
    {
     "name": "stderr",
     "output_type": "stream",
     "text": [
      "\r",
      " 62%|██████▏   | 1297/2092 [00:38<01:08, 11.67it/s]"
     ]
    },
    {
     "name": "stdout",
     "output_type": "stream",
     "text": [
      "IMG_20200229_080226.jpg\n",
      "[0.8220188025729837]\n",
      "IMG_20200229_080227.jpg\n",
      "[0.8564930300807043]\n",
      "IMG_20200229_080230.jpg\n",
      "[0.7750659314313114]\n"
     ]
    },
    {
     "name": "stderr",
     "output_type": "stream",
     "text": [
      " 62%|██████▏   | 1301/2092 [00:38<01:10, 11.14it/s]"
     ]
    },
    {
     "name": "stdout",
     "output_type": "stream",
     "text": [
      "IMG_20200229_080231.jpg\n",
      "[0.8388904857717735]\n",
      "IMG_20200229_080235.jpg\n",
      "[0.9227008528437177]\n",
      "IMG_20200229_080236.jpg\n",
      "[0.8917377369764788]\n"
     ]
    },
    {
     "name": "stderr",
     "output_type": "stream",
     "text": [
      "\r",
      " 62%|██████▏   | 1303/2092 [00:38<01:11, 11.08it/s]"
     ]
    },
    {
     "name": "stdout",
     "output_type": "stream",
     "text": [
      "IMG_20200229_080237.jpg\n",
      "[0.8244155844155844]\n",
      "IMG_20200229_080238.jpg\n",
      "[0.8842724218144223]\n",
      "IMG_20200229_080239.jpg\n",
      "[0.7964294272705488]\n"
     ]
    },
    {
     "name": "stderr",
     "output_type": "stream",
     "text": [
      " 62%|██████▏   | 1307/2092 [00:38<01:11, 11.03it/s]"
     ]
    },
    {
     "name": "stdout",
     "output_type": "stream",
     "text": [
      "IMG_20200229_080240.jpg\n",
      "[0.9046118746265414]\n",
      "IMG_20200229_080242.jpg\n",
      "[0.9348256116605934]\n",
      "IMG_20200229_080244.jpg\n",
      "[0.727601958928351]\n"
     ]
    },
    {
     "name": "stderr",
     "output_type": "stream",
     "text": [
      "\r",
      " 63%|██████▎   | 1309/2092 [00:39<01:10, 11.07it/s]"
     ]
    },
    {
     "name": "stdout",
     "output_type": "stream",
     "text": [
      "IMG_20200229_080245.jpg\n",
      "[0.881416698354066]\n",
      "IMG_20200229_080246.jpg\n",
      "[0.8940192297245912]\n",
      "IMG_20200229_080247.jpg\n",
      "[0.8165]\n"
     ]
    },
    {
     "name": "stderr",
     "output_type": "stream",
     "text": [
      " 63%|██████▎   | 1313/2092 [00:39<01:08, 11.30it/s]"
     ]
    },
    {
     "name": "stdout",
     "output_type": "stream",
     "text": [
      "IMG_20200229_080248.jpg\n",
      "[0.7977647847006517]\n",
      "IMG_20200229_080249.jpg\n",
      "[0.8223045023696682]\n",
      "IMG_20200229_080250.jpg\n",
      "[0.845392533040989]\n"
     ]
    },
    {
     "name": "stderr",
     "output_type": "stream",
     "text": [
      "\r",
      " 63%|██████▎   | 1315/2092 [00:39<01:08, 11.38it/s]"
     ]
    },
    {
     "name": "stdout",
     "output_type": "stream",
     "text": [
      "IMG_20200229_080252.jpg\n",
      "[0.6004158477883164]\n",
      "IMG_20200229_080253.jpg\n",
      "[0]\n",
      "IMG_20200229_080255.jpg\n",
      "[0.8698191102178282]\n"
     ]
    },
    {
     "name": "stderr",
     "output_type": "stream",
     "text": [
      " 63%|██████▎   | 1319/2092 [00:39<01:10, 11.03it/s]"
     ]
    },
    {
     "name": "stdout",
     "output_type": "stream",
     "text": [
      "IMG_20200229_080256.jpg\n",
      "[0.8947525666793417]\n",
      "IMG_20200229_080300.jpg\n",
      "[0.7985224618393177]\n",
      "IMG_20200229_080301.jpg\n",
      "[0.9364215986455819]\n"
     ]
    },
    {
     "name": "stderr",
     "output_type": "stream",
     "text": [
      "\r",
      " 63%|██████▎   | 1321/2092 [00:40<01:11, 10.74it/s]"
     ]
    },
    {
     "name": "stdout",
     "output_type": "stream",
     "text": [
      "IMG_20200229_080302.jpg\n",
      "[0.7721611721611722]\n",
      "IMG_20200229_080303.jpg\n",
      "[0.9143162393162393]\n",
      "IMG_20200229_080304.jpg\n",
      "[0.9420049710024855]\n"
     ]
    },
    {
     "name": "stderr",
     "output_type": "stream",
     "text": [
      "\r",
      " 63%|██████▎   | 1323/2092 [00:40<01:11, 10.82it/s]"
     ]
    },
    {
     "name": "stdout",
     "output_type": "stream",
     "text": [
      "IMG_20200229_080305.jpg\n",
      "[0.8421424303329893]\n",
      "IMG_20200229_080307.jpg\n",
      "[0.7540061926231735]\n"
     ]
    },
    {
     "name": "stderr",
     "output_type": "stream",
     "text": [
      "\r",
      " 63%|██████▎   | 1325/2092 [00:40<01:17,  9.91it/s]"
     ]
    },
    {
     "name": "stdout",
     "output_type": "stream",
     "text": [
      "IMG_20200229_080309.jpg\n",
      "[0.5315370483772198]\n",
      "IMG_20200229_080310.jpg\n",
      "[0.909873563632434]\n"
     ]
    },
    {
     "name": "stderr",
     "output_type": "stream",
     "text": [
      " 64%|██████▎   | 1329/2092 [00:41<01:19,  9.58it/s]"
     ]
    },
    {
     "name": "stdout",
     "output_type": "stream",
     "text": [
      "IMG_20200229_080311.jpg\n",
      "[0.905046648175498]\n",
      "IMG_20200229_080312.jpg\n",
      "[0.814812146536508]\n",
      "IMG_20200229_080313.jpg\n",
      "[0.8280843201478122]\n"
     ]
    },
    {
     "name": "stderr",
     "output_type": "stream",
     "text": [
      "\r",
      " 64%|██████▎   | 1331/2092 [00:41<01:15, 10.05it/s]"
     ]
    },
    {
     "name": "stdout",
     "output_type": "stream",
     "text": [
      "IMG_20200229_080315.jpg\n",
      "[0.8939159252188321]\n",
      "IMG_20200229_080316.jpg\n",
      "[0.885270703504917]\n",
      "IMG_20200229_080317.jpg\n",
      "[0.927860696517413]\n"
     ]
    },
    {
     "name": "stderr",
     "output_type": "stream",
     "text": [
      " 64%|██████▍   | 1335/2092 [00:41<01:11, 10.55it/s]"
     ]
    },
    {
     "name": "stdout",
     "output_type": "stream",
     "text": [
      "IMG_20200229_080320.jpg\n",
      "[0.8460790317351681]\n",
      "IMG_20200229_080322.jpg\n",
      "[0.8610319721430832]\n",
      "IMG_20200229_080323.jpg\n",
      "[0.9256183093392396]\n"
     ]
    },
    {
     "name": "stderr",
     "output_type": "stream",
     "text": [
      "\r",
      " 64%|██████▍   | 1337/2092 [00:41<01:10, 10.76it/s]"
     ]
    },
    {
     "name": "stdout",
     "output_type": "stream",
     "text": [
      "IMG_20200229_080324.jpg\n",
      "[0]\n",
      "IMG_20200229_080325.jpg\n",
      "[0]\n",
      "IMG_20200229_080326.jpg\n",
      "[0.8850545729620691]\n"
     ]
    },
    {
     "name": "stderr",
     "output_type": "stream",
     "text": [
      " 64%|██████▍   | 1341/2092 [00:42<01:09, 10.85it/s]"
     ]
    },
    {
     "name": "stdout",
     "output_type": "stream",
     "text": [
      "IMG_20200229_080327.jpg\n",
      "[0]\n",
      "IMG_20200229_080331.jpg\n",
      "[0.5047438330170778]\n",
      "IMG_20200229_080332.jpg\n",
      "[0.5464895635673624]\n"
     ]
    },
    {
     "name": "stderr",
     "output_type": "stream",
     "text": [
      "\r",
      " 64%|██████▍   | 1343/2092 [00:42<01:07, 11.18it/s]"
     ]
    },
    {
     "name": "stdout",
     "output_type": "stream",
     "text": [
      "IMG_20200229_080333.jpg\n",
      "[0.3504277589255843]\n",
      "IMG_20200229_080334.jpg\n",
      "[0.9052182163187856]\n",
      "IMG_20200229_080335.jpg\n",
      "[0.7715806070161608]\n"
     ]
    },
    {
     "name": "stderr",
     "output_type": "stream",
     "text": [
      " 64%|██████▍   | 1347/2092 [00:42<01:06, 11.20it/s]"
     ]
    },
    {
     "name": "stdout",
     "output_type": "stream",
     "text": [
      "IMG_20200229_080337.jpg\n",
      "[0.9564891222805701]\n",
      "IMG_20200229_080338.jpg\n",
      "[0.7512733446519525]\n",
      "IMG_20200229_080339.jpg\n",
      "[0.9031309297912713]\n"
     ]
    },
    {
     "name": "stderr",
     "output_type": "stream",
     "text": [
      "\r",
      " 64%|██████▍   | 1349/2092 [00:42<01:07, 11.01it/s]"
     ]
    },
    {
     "name": "stdout",
     "output_type": "stream",
     "text": [
      "IMG_20200229_080343.jpg\n",
      "[0.782608695652174]\n",
      "IMG_20200229_080345.jpg\n",
      "[0.934819734345351]\n"
     ]
    },
    {
     "name": "stderr",
     "output_type": "stream",
     "text": [
      "\r",
      " 65%|██████▍   | 1351/2092 [00:43<01:14,  9.88it/s]"
     ]
    },
    {
     "name": "stdout",
     "output_type": "stream",
     "text": [
      "IMG_20200229_080351.jpg\n",
      "[0.8987237546315356]\n",
      "IMG_20200229_080353.jpg\n",
      "[0.7624725334101797]\n",
      "IMG_20200229_080354.jpg\n",
      "[0.8892548373816386]\n"
     ]
    },
    {
     "name": "stderr",
     "output_type": "stream",
     "text": [
      " 65%|██████▍   | 1355/2092 [00:43<01:09, 10.68it/s]"
     ]
    },
    {
     "name": "stdout",
     "output_type": "stream",
     "text": [
      "IMG_20200229_080356.jpg\n",
      "[0.8161089297935953]\n",
      "IMG_20200229_080400.jpg\n",
      "[0.833311469675106]\n",
      "IMG_20200229_080407.jpg\n",
      "[0.8950189753320683]\n"
     ]
    },
    {
     "name": "stderr",
     "output_type": "stream",
     "text": [
      "\r",
      " 65%|██████▍   | 1357/2092 [00:43<01:06, 11.10it/s]"
     ]
    },
    {
     "name": "stdout",
     "output_type": "stream",
     "text": [
      "IMG_20200229_080408.jpg\n",
      "[0.8967070081621166]\n",
      "IMG_20200229_080408_1.jpg\n",
      "[0.8986292096801489]\n",
      "IMG_20200229_080409.jpg\n",
      "[0.8928871700016815]\n"
     ]
    },
    {
     "name": "stderr",
     "output_type": "stream",
     "text": [
      " 65%|██████▌   | 1361/2092 [00:43<01:03, 11.47it/s]"
     ]
    },
    {
     "name": "stdout",
     "output_type": "stream",
     "text": [
      "IMG_20200229_080410.jpg\n",
      "[0.8760930539514932]\n",
      "IMG_20200229_080411.jpg\n",
      "[0.7818788652203789]\n",
      "IMG_20200229_080412.jpg\n",
      "[0.9180265654648956]\n"
     ]
    },
    {
     "name": "stderr",
     "output_type": "stream",
     "text": [
      "\r",
      " 65%|██████▌   | 1363/2092 [00:44<01:03, 11.57it/s]"
     ]
    },
    {
     "name": "stdout",
     "output_type": "stream",
     "text": [
      "IMG_20200229_080415.jpg\n",
      "[0.8733870967741936]\n",
      "IMG_20200229_080416.jpg\n",
      "[0.5020872865275142]\n",
      "IMG_20200229_080418.jpg\n",
      "[0.512466307277628]\n"
     ]
    },
    {
     "name": "stderr",
     "output_type": "stream",
     "text": [
      " 65%|██████▌   | 1367/2092 [00:44<01:02, 11.68it/s]"
     ]
    },
    {
     "name": "stdout",
     "output_type": "stream",
     "text": [
      "IMG_20200229_080419.jpg\n",
      "[0.5065551537070524]\n",
      "IMG_20200229_080420.jpg\n",
      "[0.8641279855790897]\n",
      "IMG_20200229_080421.jpg\n",
      "[0.8463787674313991]\n"
     ]
    },
    {
     "name": "stderr",
     "output_type": "stream",
     "text": [
      "\r",
      " 65%|██████▌   | 1369/2092 [00:44<01:04, 11.27it/s]"
     ]
    },
    {
     "name": "stdout",
     "output_type": "stream",
     "text": [
      "IMG_20200229_080422.jpg\n",
      "[0.8314990512333966]\n",
      "IMG_20200229_080423.jpg\n",
      "[0.8707880813143971]\n",
      "IMG_20200229_080424.jpg\n",
      "[0.8973636773321316]\n"
     ]
    },
    {
     "name": "stderr",
     "output_type": "stream",
     "text": [
      " 66%|██████▌   | 1373/2092 [00:45<01:03, 11.30it/s]"
     ]
    },
    {
     "name": "stdout",
     "output_type": "stream",
     "text": [
      "IMG_20200229_080425.jpg\n",
      "[0.8369707551287647]\n",
      "IMG_20200229_080427.jpg\n",
      "[0.8349146110056926]\n",
      "IMG_20200229_080428.jpg\n",
      "[0.8447817836812144]\n"
     ]
    },
    {
     "name": "stderr",
     "output_type": "stream",
     "text": [
      "\r",
      " 66%|██████▌   | 1375/2092 [00:45<01:03, 11.29it/s]"
     ]
    },
    {
     "name": "stdout",
     "output_type": "stream",
     "text": [
      "IMG_20200229_080429.jpg\n",
      "[0.8059701492537313]\n",
      "IMG_20200229_080431.jpg\n",
      "[0.753476492290228]\n",
      "IMG_20200229_080436.jpg\n",
      "[0.7618121442125237]\n"
     ]
    },
    {
     "name": "stderr",
     "output_type": "stream",
     "text": [
      " 66%|██████▌   | 1379/2092 [00:45<01:07, 10.64it/s]"
     ]
    },
    {
     "name": "stdout",
     "output_type": "stream",
     "text": [
      "IMG_20200229_080437.jpg\n",
      "[0.7955084299262382]\n",
      "IMG_20200229_080438.jpg\n",
      "[0.6327335640138408]\n",
      "IMG_20200229_080439.jpg\n",
      "[0.9627118644067797]\n"
     ]
    },
    {
     "name": "stderr",
     "output_type": "stream",
     "text": [
      "\r",
      " 66%|██████▌   | 1381/2092 [00:45<01:05, 10.80it/s]"
     ]
    },
    {
     "name": "stdout",
     "output_type": "stream",
     "text": [
      "IMG_20200229_080440.jpg\n",
      "[0.85593820861678]\n",
      "IMG_20200229_080441.jpg\n",
      "[0.7886009009597179]\n",
      "IMG_20200229_080442.jpg\n",
      "[0.7531487716672902]\n"
     ]
    },
    {
     "name": "stderr",
     "output_type": "stream",
     "text": [
      " 66%|██████▌   | 1385/2092 [00:46<01:03, 11.09it/s]"
     ]
    },
    {
     "name": "stdout",
     "output_type": "stream",
     "text": [
      "IMG_20200229_080443.jpg\n",
      "[0.9176267281105991]\n",
      "IMG_20200229_080447.jpg\n",
      "[0.7064516129032258]\n",
      "IMG_20200229_080448.jpg\n",
      "[0.41608159392789373]\n"
     ]
    },
    {
     "name": "stderr",
     "output_type": "stream",
     "text": [
      "\r",
      " 66%|██████▋   | 1387/2092 [00:46<01:03, 11.17it/s]"
     ]
    },
    {
     "name": "stdout",
     "output_type": "stream",
     "text": [
      "IMG_20200229_080449.jpg\n",
      "[0.40213472485768503]\n",
      "IMG_20200229_080450.jpg\n",
      "[0.43415559772296014]\n",
      "IMG_20200229_080451.jpg\n",
      "[0.5116133082234777]\n"
     ]
    },
    {
     "name": "stderr",
     "output_type": "stream",
     "text": [
      " 66%|██████▋   | 1391/2092 [00:46<01:00, 11.58it/s]"
     ]
    },
    {
     "name": "stdout",
     "output_type": "stream",
     "text": [
      "IMG_20200229_080452.jpg\n",
      "[0.49150758001122963]\n",
      "IMG_20200229_080501.jpg\n",
      "[0.8346516007532957]\n",
      "IMG_20200229_080502.jpg\n",
      "[0.817263025737602]\n"
     ]
    },
    {
     "name": "stderr",
     "output_type": "stream",
     "text": [
      "\r",
      " 67%|██████▋   | 1393/2092 [00:46<01:00, 11.58it/s]"
     ]
    },
    {
     "name": "stdout",
     "output_type": "stream",
     "text": [
      "IMG_20200229_080504.jpg\n",
      "[0.831638418079096]\n",
      "IMG_20200229_080505.jpg\n",
      "[0.869428750784683]\n",
      "IMG_20200229_080506.jpg\n",
      "[0.8741496598639455]\n"
     ]
    },
    {
     "name": "stderr",
     "output_type": "stream",
     "text": [
      " 67%|██████▋   | 1397/2092 [00:47<00:58, 11.84it/s]"
     ]
    },
    {
     "name": "stdout",
     "output_type": "stream",
     "text": [
      "IMG_20200229_080507.jpg\n",
      "[0.9028248587570622]\n",
      "IMG_20200229_080508.jpg\n",
      "[0.7625631313131314]\n",
      "IMG_20200229_080510.jpg\n",
      "[0.8138634764250527]\n"
     ]
    },
    {
     "name": "stderr",
     "output_type": "stream",
     "text": [
      "\r",
      " 67%|██████▋   | 1399/2092 [00:47<00:58, 11.88it/s]"
     ]
    },
    {
     "name": "stdout",
     "output_type": "stream",
     "text": [
      "IMG_20200229_080511.jpg\n",
      "[0.9415568110483364]\n",
      "IMG_20200229_080512.jpg\n",
      "[0.7927933840903124]\n",
      "IMG_20200229_080514.jpg\n",
      "[0]\n"
     ]
    },
    {
     "name": "stderr",
     "output_type": "stream",
     "text": [
      " 67%|██████▋   | 1403/2092 [00:47<00:57, 11.93it/s]"
     ]
    },
    {
     "name": "stdout",
     "output_type": "stream",
     "text": [
      "IMG_20200229_080515.jpg\n",
      "[0.9205273069679849]\n",
      "IMG_20200229_080517.jpg\n",
      "[0.7276245766811804]\n",
      "IMG_20200229_080521.jpg\n",
      "[0.7740112994350282]\n"
     ]
    },
    {
     "name": "stderr",
     "output_type": "stream",
     "text": [
      "\r",
      " 67%|██████▋   | 1405/2092 [00:47<00:57, 12.04it/s]"
     ]
    },
    {
     "name": "stdout",
     "output_type": "stream",
     "text": [
      "IMG_20200229_080522.jpg\n",
      "[0.8831856941799818]\n",
      "IMG_20200229_080523.jpg\n",
      "[0.7882790697674419]\n",
      "IMG_20200229_080524.jpg\n",
      "[0.7689008493818854]\n"
     ]
    },
    {
     "name": "stderr",
     "output_type": "stream",
     "text": [
      " 67%|██████▋   | 1409/2092 [00:48<00:57, 11.97it/s]"
     ]
    },
    {
     "name": "stdout",
     "output_type": "stream",
     "text": [
      "IMG_20200229_080525.jpg\n",
      "[0.9112757071940746]\n",
      "IMG_20200229_080527.jpg\n",
      "[0.8968970487823382]\n",
      "IMG_20200229_080528.jpg\n",
      "[0.77338355304457]\n"
     ]
    },
    {
     "name": "stderr",
     "output_type": "stream",
     "text": [
      "\r",
      " 67%|██████▋   | 1411/2092 [00:48<00:56, 11.99it/s]"
     ]
    },
    {
     "name": "stdout",
     "output_type": "stream",
     "text": [
      "IMG_20200229_080530.jpg\n",
      "[0.9239175428429506]\n",
      "IMG_20200229_080531.jpg\n",
      "[0.43088512241054616]\n",
      "IMG_20200229_080532.jpg\n",
      "[0.4853878632337114]\n"
     ]
    },
    {
     "name": "stderr",
     "output_type": "stream",
     "text": [
      " 68%|██████▊   | 1415/2092 [00:48<00:58, 11.58it/s]"
     ]
    },
    {
     "name": "stdout",
     "output_type": "stream",
     "text": [
      "IMG_20200229_080533.jpg\n",
      "[0.45202417418660484]\n",
      "IMG_20200229_080534.jpg\n",
      "[0.5513701465353092]\n",
      "IMG_20200229_080535.jpg\n",
      "[0.5354747909595166]\n"
     ]
    },
    {
     "name": "stderr",
     "output_type": "stream",
     "text": [
      "\r",
      " 68%|██████▊   | 1417/2092 [00:48<00:57, 11.70it/s]"
     ]
    },
    {
     "name": "stdout",
     "output_type": "stream",
     "text": [
      "IMG_20200229_080536.jpg\n",
      "[0.5018083182640145]\n",
      "IMG_20200229_080537.jpg\n",
      "[0.8449374948257307]\n",
      "IMG_20200229_080539.jpg\n",
      "[0.7504760327841709]\n"
     ]
    },
    {
     "name": "stderr",
     "output_type": "stream",
     "text": [
      " 68%|██████▊   | 1421/2092 [00:49<00:56, 11.81it/s]"
     ]
    },
    {
     "name": "stdout",
     "output_type": "stream",
     "text": [
      "IMG_20200229_080540.jpg\n",
      "[0.7992831541218638]\n",
      "IMG_20200229_080541.jpg\n",
      "[0.8192652329749104]\n",
      "IMG_20200229_080542.jpg\n",
      "[0]\n"
     ]
    },
    {
     "name": "stderr",
     "output_type": "stream",
     "text": [
      "\r",
      " 68%|██████▊   | 1423/2092 [00:49<00:56, 11.80it/s]"
     ]
    },
    {
     "name": "stdout",
     "output_type": "stream",
     "text": [
      "IMG_20200229_080545.jpg\n",
      "[0]\n",
      "IMG_20200229_080546.jpg\n",
      "[0.7334349430450826]\n",
      "IMG_20200229_080548.jpg\n",
      "[0]\n"
     ]
    },
    {
     "name": "stderr",
     "output_type": "stream",
     "text": [
      " 68%|██████▊   | 1427/2092 [00:49<00:55, 11.88it/s]"
     ]
    },
    {
     "name": "stdout",
     "output_type": "stream",
     "text": [
      "IMG_20200229_080549.jpg\n",
      "[0]\n",
      "IMG_20200229_070945.jpg\n",
      "[0.17781710684974134]\n",
      "IMG_20200229_070949.jpg\n",
      "[0.19471420052815402]\n"
     ]
    },
    {
     "name": "stderr",
     "output_type": "stream",
     "text": [
      "\r",
      " 68%|██████▊   | 1429/2092 [00:49<00:56, 11.82it/s]"
     ]
    },
    {
     "name": "stdout",
     "output_type": "stream",
     "text": [
      "IMG_20200229_070953.jpg\n",
      "[0.23473684210526316]\n",
      "IMG_20200229_070956.jpg\n",
      "[0.24591839479275934]\n",
      "IMG_20200229_071001.jpg\n",
      "[0.32161953004080485]\n"
     ]
    },
    {
     "name": "stderr",
     "output_type": "stream",
     "text": [
      " 68%|██████▊   | 1433/2092 [00:50<00:56, 11.67it/s]"
     ]
    },
    {
     "name": "stdout",
     "output_type": "stream",
     "text": [
      "IMG_20200229_071003.jpg\n",
      "[0]\n",
      "IMG_20200229_071006.jpg\n",
      "[0.900219732718562]\n",
      "IMG_20200229_071013.jpg\n",
      "[0.8471441947565543]\n"
     ]
    },
    {
     "name": "stderr",
     "output_type": "stream",
     "text": [
      "\r",
      " 69%|██████▊   | 1435/2092 [00:50<00:56, 11.64it/s]"
     ]
    },
    {
     "name": "stdout",
     "output_type": "stream",
     "text": [
      "IMG_20200229_071017.jpg\n",
      "[0.8969639468690702]\n",
      "IMG_20200229_071020.jpg\n",
      "[0.8302461037938815]\n",
      "IMG_20200229_071026.jpg\n",
      "[0.8083383524058088]\n"
     ]
    },
    {
     "name": "stderr",
     "output_type": "stream",
     "text": [
      " 69%|██████▉   | 1439/2092 [00:50<00:56, 11.54it/s]"
     ]
    },
    {
     "name": "stdout",
     "output_type": "stream",
     "text": [
      "IMG_20200229_071030.jpg\n",
      "[0.8363309352517986]\n",
      "IMG_20200229_071102.jpg\n",
      "[0.8241391743284658]\n",
      "IMG_20200229_071108.jpg\n",
      "[0.8743607063591624]\n"
     ]
    },
    {
     "name": "stderr",
     "output_type": "stream",
     "text": [
      "\r",
      " 69%|██████▉   | 1441/2092 [00:50<00:55, 11.81it/s]"
     ]
    },
    {
     "name": "stdout",
     "output_type": "stream",
     "text": [
      "IMG_20200229_071142.jpg\n",
      "[0.7592345036234434]\n",
      "IMG_20200229_071144.jpg\n",
      "[0.6772768448191764]\n",
      "IMG_20200229_071148.jpg\n",
      "[0.7696038415366147]\n"
     ]
    },
    {
     "name": "stderr",
     "output_type": "stream",
     "text": [
      " 69%|██████▉   | 1445/2092 [00:51<00:54, 11.92it/s]"
     ]
    },
    {
     "name": "stdout",
     "output_type": "stream",
     "text": [
      "IMG_20200229_071151.jpg\n",
      "[0.8367727272727272]\n",
      "IMG_20200229_071155.jpg\n",
      "[0.837483266398929]\n",
      "IMG_20200229_071159.jpg\n",
      "[0]\n"
     ]
    },
    {
     "name": "stderr",
     "output_type": "stream",
     "text": [
      "\r",
      " 69%|██████▉   | 1447/2092 [00:51<00:55, 11.67it/s]"
     ]
    },
    {
     "name": "stdout",
     "output_type": "stream",
     "text": [
      "IMG_20200229_071205.jpg\n",
      "[0]\n",
      "IMG_20200229_071223.jpg\n",
      "[0.8935342329663052]\n",
      "IMG_20200229_071227.jpg\n",
      "[0.7045197740112994]\n"
     ]
    },
    {
     "name": "stderr",
     "output_type": "stream",
     "text": [
      " 69%|██████▉   | 1451/2092 [00:51<00:55, 11.49it/s]"
     ]
    },
    {
     "name": "stdout",
     "output_type": "stream",
     "text": [
      "IMG_20200229_071231.jpg\n",
      "[0.8888152992797417]\n",
      "IMG_20200229_071234.jpg\n",
      "[0.8408727272727273]\n",
      "IMG_20200229_071241.jpg\n",
      "[0.8123229096903818]\n"
     ]
    },
    {
     "name": "stderr",
     "output_type": "stream",
     "text": [
      "\r",
      " 69%|██████▉   | 1453/2092 [00:51<00:55, 11.56it/s]"
     ]
    },
    {
     "name": "stdout",
     "output_type": "stream",
     "text": [
      "IMG_20200229_071246.jpg\n",
      "[0.027046455207116543]\n",
      "IMG_20200229_071304.jpg\n",
      "[0.009647495361781076]\n",
      "IMG_20200229_071307.jpg\n",
      "[0]\n"
     ]
    },
    {
     "name": "stderr",
     "output_type": "stream",
     "text": [
      " 70%|██████▉   | 1457/2092 [00:52<00:54, 11.62it/s]"
     ]
    },
    {
     "name": "stdout",
     "output_type": "stream",
     "text": [
      "IMG_20200229_071310.jpg\n",
      "[0.23326359832635984]\n",
      "IMG_20200229_071805.jpg\n",
      "[0.8537777777777777]\n",
      "IMG_20200229_071808.jpg\n",
      "[0.8446783625730994]\n"
     ]
    },
    {
     "name": "stderr",
     "output_type": "stream",
     "text": [
      "\r",
      " 70%|██████▉   | 1459/2092 [00:52<00:53, 11.77it/s]"
     ]
    },
    {
     "name": "stdout",
     "output_type": "stream",
     "text": [
      "IMG_20200229_071811.jpg\n",
      "[0.971719298245614]\n",
      "IMG_20200229_071818.jpg\n",
      "[0.859728786334291]\n",
      "IMG_20200229_071820.jpg\n",
      "[0.7461988304093568]\n"
     ]
    },
    {
     "name": "stderr",
     "output_type": "stream",
     "text": [
      " 70%|██████▉   | 1463/2092 [00:52<00:53, 11.76it/s]"
     ]
    },
    {
     "name": "stdout",
     "output_type": "stream",
     "text": [
      "IMG_20200229_071825.jpg\n",
      "[0.7462391499088746]\n",
      "IMG_20200229_071828.jpg\n",
      "[0.7189169987335124]\n",
      "IMG_20200229_071830.jpg\n",
      "[0.736076359929571]\n"
     ]
    },
    {
     "name": "stderr",
     "output_type": "stream",
     "text": [
      "\r",
      " 70%|███████   | 1465/2092 [00:52<00:53, 11.71it/s]"
     ]
    },
    {
     "name": "stdout",
     "output_type": "stream",
     "text": [
      "IMG_20200229_071832.jpg\n",
      "[0.7916375159471584]\n",
      "IMG_20200229_071833.jpg\n",
      "[0.7975842627268612]\n",
      "IMG_20200229_071834.jpg\n",
      "[0.9428202229042157]\n"
     ]
    },
    {
     "name": "stderr",
     "output_type": "stream",
     "text": [
      " 70%|███████   | 1469/2092 [00:53<00:52, 11.96it/s]"
     ]
    },
    {
     "name": "stdout",
     "output_type": "stream",
     "text": [
      "IMG_20200229_071843.jpg\n",
      "[0.9332468415037223]\n",
      "IMG_20200229_071844.jpg\n",
      "[0.9011213047910296]\n",
      "IMG_20200229_071845.jpg\n",
      "[0.9551886792452831]\n"
     ]
    },
    {
     "name": "stderr",
     "output_type": "stream",
     "text": [
      "\r",
      " 70%|███████   | 1471/2092 [00:53<00:51, 12.03it/s]"
     ]
    },
    {
     "name": "stdout",
     "output_type": "stream",
     "text": [
      "IMG_20200229_071848.jpg\n",
      "[0.7446404012620338]\n",
      "IMG_20200229_071849.jpg\n",
      "[0.675610150315177]\n",
      "IMG_20200229_071850.jpg\n",
      "[0.7738238655669848]\n"
     ]
    },
    {
     "name": "stderr",
     "output_type": "stream",
     "text": [
      " 71%|███████   | 1475/2092 [00:53<00:50, 12.16it/s]"
     ]
    },
    {
     "name": "stdout",
     "output_type": "stream",
     "text": [
      "IMG_20200229_071852.jpg\n",
      "[0.20965374914010548]\n",
      "IMG_20200229_071853.jpg\n",
      "[0.8358611391978429]\n",
      "IMG_20200229_071855.jpg\n",
      "[0.890118934935594]\n"
     ]
    },
    {
     "name": "stderr",
     "output_type": "stream",
     "text": [
      "\r",
      " 71%|███████   | 1477/2092 [00:53<00:51, 11.99it/s]"
     ]
    },
    {
     "name": "stdout",
     "output_type": "stream",
     "text": [
      "IMG_20200229_073331.jpg\n",
      "[0.13561515671292687]\n",
      "IMG_20200229_073332.jpg\n",
      "[0.7550175438596491]\n",
      "IMG_20200229_073332_1.jpg\n",
      "[0]\n"
     ]
    },
    {
     "name": "stderr",
     "output_type": "stream",
     "text": [
      " 71%|███████   | 1481/2092 [00:54<00:50, 11.98it/s]"
     ]
    },
    {
     "name": "stdout",
     "output_type": "stream",
     "text": [
      "IMG_20200229_073334.jpg\n",
      "[0.13743085618085618]\n",
      "IMG_20200229_073335.jpg\n",
      "[0]\n",
      "IMG_20200229_073337.jpg\n",
      "[0]\n"
     ]
    },
    {
     "name": "stderr",
     "output_type": "stream",
     "text": [
      "\r",
      " 71%|███████   | 1483/2092 [00:54<00:50, 12.09it/s]"
     ]
    },
    {
     "name": "stdout",
     "output_type": "stream",
     "text": [
      "IMG_20200229_073338.jpg\n",
      "[0.5194135415899211]\n",
      "IMG_20200229_073339.jpg\n",
      "[0]\n",
      "IMG_20200229_073340.jpg\n",
      "[0.3794454072790295]\n"
     ]
    },
    {
     "name": "stderr",
     "output_type": "stream",
     "text": [
      " 71%|███████   | 1487/2092 [00:54<00:50, 11.96it/s]"
     ]
    },
    {
     "name": "stdout",
     "output_type": "stream",
     "text": [
      "IMG_20200229_073342.jpg\n",
      "[0.8275414697433046]\n",
      "IMG_20200229_073344.jpg\n",
      "[0.8362524325827078]\n",
      "IMG_20200229_073346.jpg\n",
      "[0.8363451024001483]\n"
     ]
    },
    {
     "name": "stderr",
     "output_type": "stream",
     "text": [
      "\r",
      " 71%|███████   | 1489/2092 [00:54<00:50, 11.99it/s]"
     ]
    },
    {
     "name": "stdout",
     "output_type": "stream",
     "text": [
      "IMG_20200229_073349.jpg\n",
      "[0.16914566914566914]\n",
      "IMG_20200229_073350.jpg\n",
      "[0]\n",
      "IMG_20200229_073356.jpg\n",
      "[0]\n"
     ]
    },
    {
     "name": "stderr",
     "output_type": "stream",
     "text": [
      " 71%|███████▏  | 1493/2092 [00:55<00:49, 12.10it/s]"
     ]
    },
    {
     "name": "stdout",
     "output_type": "stream",
     "text": [
      "IMG_20200229_073358.jpg\n",
      "[0]\n",
      "IMG_20200229_073359.jpg\n",
      "[0]\n",
      "IMG_20200229_073400.jpg\n",
      "[0.2204194792671167]\n"
     ]
    },
    {
     "name": "stderr",
     "output_type": "stream",
     "text": [
      "\r",
      " 71%|███████▏  | 1495/2092 [00:55<00:49, 12.12it/s]"
     ]
    },
    {
     "name": "stdout",
     "output_type": "stream",
     "text": [
      "IMG_20200229_073401.jpg\n",
      "[0]\n",
      "IMG_20200229_073403.jpg\n",
      "[0.2039937527889335]\n",
      "IMG_20200229_073407.jpg\n",
      "[0]\n"
     ]
    },
    {
     "name": "stderr",
     "output_type": "stream",
     "text": [
      " 72%|███████▏  | 1499/2092 [00:55<00:49, 11.92it/s]"
     ]
    },
    {
     "name": "stdout",
     "output_type": "stream",
     "text": [
      "IMG_20200229_073409.jpg\n",
      "[0]\n",
      "IMG_20200229_073410.jpg\n",
      "[0.39280774550484093]\n",
      "IMG_20200229_073411.jpg\n",
      "[0.3875399962356484]\n"
     ]
    },
    {
     "name": "stderr",
     "output_type": "stream",
     "text": [
      "\r",
      " 72%|███████▏  | 1501/2092 [00:55<00:49, 11.88it/s]"
     ]
    },
    {
     "name": "stdout",
     "output_type": "stream",
     "text": [
      "IMG_20200229_073412.jpg\n",
      "[0.49855730570928525]\n",
      "IMG_20200229_073420.jpg\n",
      "[0]\n",
      "IMG_20200229_073423.jpg\n",
      "[0]\n"
     ]
    },
    {
     "name": "stderr",
     "output_type": "stream",
     "text": [
      " 72%|███████▏  | 1505/2092 [00:56<00:48, 12.05it/s]"
     ]
    },
    {
     "name": "stdout",
     "output_type": "stream",
     "text": [
      "IMG_20200229_073424.jpg\n",
      "[0]\n",
      "IMG_20200229_073425.jpg\n",
      "[]\n",
      "IMG_20200229_073427.jpg\n",
      "[0.36904761904761907]\n"
     ]
    },
    {
     "name": "stderr",
     "output_type": "stream",
     "text": [
      "\r",
      " 72%|███████▏  | 1507/2092 [00:56<00:49, 11.92it/s]"
     ]
    },
    {
     "name": "stdout",
     "output_type": "stream",
     "text": [
      "IMG_20200229_073428.jpg\n",
      "[0]\n",
      "IMG_20200229_073436.jpg\n",
      "[0.4863013698630137]\n",
      "IMG_20200229_073436_1.jpg\n",
      "[0.4968372803666921]\n"
     ]
    },
    {
     "name": "stderr",
     "output_type": "stream",
     "text": [
      " 72%|███████▏  | 1511/2092 [00:56<00:48, 12.02it/s]"
     ]
    },
    {
     "name": "stdout",
     "output_type": "stream",
     "text": [
      "IMG_20200229_073437.jpg\n",
      "[0.8645461847389558]\n",
      "IMG_20200229_073438.jpg\n",
      "[0]\n",
      "IMG_20200229_073439.jpg\n",
      "[0]\n"
     ]
    },
    {
     "name": "stderr",
     "output_type": "stream",
     "text": [
      "\r",
      " 72%|███████▏  | 1513/2092 [00:56<00:48, 11.93it/s]"
     ]
    },
    {
     "name": "stdout",
     "output_type": "stream",
     "text": [
      "IMG_20200229_073440.jpg\n",
      "[0]\n",
      "IMG_20200229_073441.jpg\n",
      "[0]\n",
      "IMG_20200229_073442.jpg\n",
      "[0]\n"
     ]
    },
    {
     "name": "stderr",
     "output_type": "stream",
     "text": [
      " 73%|███████▎  | 1517/2092 [00:57<00:47, 12.07it/s]"
     ]
    },
    {
     "name": "stdout",
     "output_type": "stream",
     "text": [
      "IMG_20200229_073444.jpg\n",
      "[0]\n",
      "IMG_20200229_073446.jpg\n",
      "[0]\n",
      "IMG_20200229_073447.jpg\n",
      "[0]\n"
     ]
    },
    {
     "name": "stderr",
     "output_type": "stream",
     "text": [
      "\r",
      " 73%|███████▎  | 1519/2092 [00:57<00:47, 12.15it/s]"
     ]
    },
    {
     "name": "stdout",
     "output_type": "stream",
     "text": [
      "IMG_20200229_073448.jpg\n",
      "[0]\n",
      "IMG_20200229_073449.jpg\n",
      "[0.42081260364842454]\n",
      "IMG_20200229_073508.jpg\n",
      "[0.7282456140350877]\n"
     ]
    },
    {
     "name": "stderr",
     "output_type": "stream",
     "text": [
      " 73%|███████▎  | 1523/2092 [00:57<00:46, 12.30it/s]"
     ]
    },
    {
     "name": "stdout",
     "output_type": "stream",
     "text": [
      "IMG_20200229_073509.jpg\n",
      "[0.15096426920282677]\n",
      "IMG_20200229_073510.jpg\n",
      "[0.8333487783029068]\n",
      "IMG_20200229_073510_1.jpg\n",
      "[0.8228859764976802]\n"
     ]
    },
    {
     "name": "stderr",
     "output_type": "stream",
     "text": [
      "\r",
      " 73%|███████▎  | 1525/2092 [00:57<00:46, 12.23it/s]"
     ]
    },
    {
     "name": "stdout",
     "output_type": "stream",
     "text": [
      "IMG_20200229_073511.jpg\n",
      "[0.15481391174777337]\n",
      "IMG_20200229_073512.jpg\n",
      "[0.6035243012867798]\n",
      "IMG_20200229_073516.jpg\n",
      "[0]\n"
     ]
    },
    {
     "name": "stderr",
     "output_type": "stream",
     "text": [
      " 73%|███████▎  | 1529/2092 [00:58<00:46, 12.15it/s]"
     ]
    },
    {
     "name": "stdout",
     "output_type": "stream",
     "text": [
      "IMG_20200229_073517.jpg\n",
      "[0.9203966268186452]\n",
      "IMG_20200229_073518.jpg\n",
      "[0.14744396065150783]\n",
      "IMG_20200229_073520.jpg\n",
      "[0.14948824433471763]\n"
     ]
    },
    {
     "name": "stderr",
     "output_type": "stream",
     "text": [
      "\r",
      " 73%|███████▎  | 1531/2092 [00:58<00:45, 12.22it/s]"
     ]
    },
    {
     "name": "stdout",
     "output_type": "stream",
     "text": [
      "IMG_20200229_073520_1.jpg\n",
      "[0.15289297658862877]\n",
      "IMG_20200229_073527.jpg\n",
      "[0.1595052424067968]\n",
      "IMG_20200229_073527_1.jpg\n",
      "[0.1587326388888889]\n"
     ]
    },
    {
     "name": "stderr",
     "output_type": "stream",
     "text": [
      " 73%|███████▎  | 1535/2092 [00:58<00:44, 12.52it/s]"
     ]
    },
    {
     "name": "stdout",
     "output_type": "stream",
     "text": [
      "IMG_20200229_073528.jpg\n",
      "[0.850956043616594]\n",
      "IMG_20200229_073529.jpg\n",
      "[0.2094466889771289]\n",
      "IMG_20200229_073530.jpg\n",
      "[0.6895438596491228]\n"
     ]
    },
    {
     "name": "stderr",
     "output_type": "stream",
     "text": [
      "\r",
      " 73%|███████▎  | 1537/2092 [00:58<00:44, 12.57it/s]"
     ]
    },
    {
     "name": "stdout",
     "output_type": "stream",
     "text": [
      "IMG_20200229_073533.jpg\n",
      "[0.7880332375745219]\n",
      "IMG_20200229_073534.jpg\n",
      "[0]\n",
      "IMG_20200229_073535.jpg\n",
      "[0.19424261737837265]\n"
     ]
    },
    {
     "name": "stderr",
     "output_type": "stream",
     "text": [
      " 74%|███████▎  | 1541/2092 [00:59<00:44, 12.49it/s]"
     ]
    },
    {
     "name": "stdout",
     "output_type": "stream",
     "text": [
      "IMG_20200229_073536.jpg\n",
      "[0.7651129027275816]\n",
      "IMG_20200229_073537.jpg\n",
      "[0.794025885769005]\n",
      "IMG_20200229_073539.jpg\n",
      "[0.1745813522751141]\n"
     ]
    },
    {
     "name": "stderr",
     "output_type": "stream",
     "text": [
      "\r",
      " 74%|███████▍  | 1543/2092 [00:59<00:43, 12.54it/s]"
     ]
    },
    {
     "name": "stdout",
     "output_type": "stream",
     "text": [
      "IMG_20200229_073540.jpg\n",
      "[0.17684377478191912]\n",
      "IMG_20200229_073540_1.jpg\n",
      "[0.18506598655979273]\n",
      "IMG_20200229_073544.jpg\n",
      "[0]\n"
     ]
    },
    {
     "name": "stderr",
     "output_type": "stream",
     "text": [
      " 74%|███████▍  | 1547/2092 [00:59<00:43, 12.43it/s]"
     ]
    },
    {
     "name": "stdout",
     "output_type": "stream",
     "text": [
      "IMG_20200229_073545.jpg\n",
      "[0.9409828447508035]\n",
      "IMG_20200229_073546.jpg\n",
      "[0.7813919006579557]\n",
      "IMG_20200229_073547.jpg\n",
      "[0.8256880733944955]\n"
     ]
    },
    {
     "name": "stderr",
     "output_type": "stream",
     "text": [
      "\r",
      " 74%|███████▍  | 1549/2092 [00:59<00:43, 12.37it/s]"
     ]
    },
    {
     "name": "stdout",
     "output_type": "stream",
     "text": [
      "IMG_20200229_073548.jpg\n",
      "[0.16761077196648885]\n",
      "IMG_20200229_073601.jpg\n",
      "[0]\n",
      "IMG_20200229_073602.jpg\n",
      "[0]\n"
     ]
    },
    {
     "name": "stderr",
     "output_type": "stream",
     "text": [
      " 74%|███████▍  | 1553/2092 [01:00<00:43, 12.48it/s]"
     ]
    },
    {
     "name": "stdout",
     "output_type": "stream",
     "text": [
      "IMG_20200229_073603.jpg\n",
      "[0]\n",
      "IMG_20200229_073603_1.jpg\n",
      "[0.8232026009300795]\n",
      "IMG_20200229_073605.jpg\n",
      "[0.2037210338680927]\n"
     ]
    },
    {
     "name": "stderr",
     "output_type": "stream",
     "text": [
      "\r",
      " 74%|███████▍  | 1555/2092 [01:00<00:42, 12.53it/s]"
     ]
    },
    {
     "name": "stdout",
     "output_type": "stream",
     "text": [
      "IMG_20200229_073607.jpg\n",
      "[0.5366872040327919]\n",
      "IMG_20200229_073608.jpg\n",
      "[0]\n",
      "IMG_20200229_073609.jpg\n",
      "[0.23045319352724705]\n"
     ]
    },
    {
     "name": "stderr",
     "output_type": "stream",
     "text": [
      " 75%|███████▍  | 1559/2092 [01:00<00:42, 12.58it/s]"
     ]
    },
    {
     "name": "stdout",
     "output_type": "stream",
     "text": [
      "IMG_20200229_073610.jpg\n",
      "[0.8878195488721804]\n",
      "IMG_20200229_073611.jpg\n",
      "[0.3010717846460618]\n",
      "IMG_20200229_073612.jpg\n",
      "[0.2333826832754748]\n"
     ]
    },
    {
     "name": "stderr",
     "output_type": "stream",
     "text": [
      "\r",
      " 75%|███████▍  | 1561/2092 [01:00<00:42, 12.61it/s]"
     ]
    },
    {
     "name": "stdout",
     "output_type": "stream",
     "text": [
      "IMG_20200229_073613.jpg\n",
      "[0]\n",
      "IMG_20200229_073614.jpg\n",
      "[0]\n",
      "IMG_20200229_072213.jpg\n",
      "[0.8823088455772113]\n"
     ]
    },
    {
     "name": "stderr",
     "output_type": "stream",
     "text": [
      " 75%|███████▍  | 1565/2092 [01:01<00:41, 12.59it/s]"
     ]
    },
    {
     "name": "stdout",
     "output_type": "stream",
     "text": [
      "IMG_20200229_072214.jpg\n",
      "[0.8750877192982456]\n",
      "IMG_20200229_072216.jpg\n",
      "[0.9067368421052632]\n",
      "IMG_20200229_072218.jpg\n",
      "[0.8815501123470831]\n"
     ]
    },
    {
     "name": "stderr",
     "output_type": "stream",
     "text": [
      "\r",
      " 75%|███████▍  | 1567/2092 [01:01<00:41, 12.58it/s]"
     ]
    },
    {
     "name": "stdout",
     "output_type": "stream",
     "text": [
      "IMG_20200229_072219.jpg\n",
      "[0.8482685959120602]\n",
      "IMG_20200229_072221.jpg\n",
      "[0.848421052631579]\n",
      "IMG_20200229_072222.jpg\n",
      "[0.8912280701754386]\n"
     ]
    },
    {
     "name": "stderr",
     "output_type": "stream",
     "text": [
      "\r",
      " 75%|███████▌  | 1569/2092 [01:01<00:43, 12.12it/s]"
     ]
    },
    {
     "name": "stdout",
     "output_type": "stream",
     "text": [
      "IMG_20200229_072225.jpg\n",
      "[0.14073948648482237]\n",
      "IMG_20200229_072227.jpg\n",
      "[0.7221052631578947]\n"
     ]
    },
    {
     "name": "stderr",
     "output_type": "stream",
     "text": [
      " 75%|███████▌  | 1573/2092 [01:01<00:45, 11.37it/s]"
     ]
    },
    {
     "name": "stdout",
     "output_type": "stream",
     "text": [
      "IMG_20200229_072233.jpg\n",
      "[0.8309393630494548]\n",
      "IMG_20200229_072234.jpg\n",
      "[0.898804559355018]\n",
      "IMG_20200229_072235.jpg\n",
      "[0.8790658882402002]\n"
     ]
    },
    {
     "name": "stderr",
     "output_type": "stream",
     "text": [
      "\r",
      " 75%|███████▌  | 1575/2092 [01:01<00:44, 11.69it/s]"
     ]
    },
    {
     "name": "stdout",
     "output_type": "stream",
     "text": [
      "IMG_20200229_072237.jpg\n",
      "[0.79232693911593]\n",
      "IMG_20200229_072238.jpg\n",
      "[0.8900935965156148]\n",
      "IMG_20200229_072240.jpg\n",
      "[0.8648874061718098]\n"
     ]
    },
    {
     "name": "stderr",
     "output_type": "stream",
     "text": [
      " 75%|███████▌  | 1579/2092 [01:02<00:42, 11.97it/s]"
     ]
    },
    {
     "name": "stdout",
     "output_type": "stream",
     "text": [
      "IMG_20200229_072243.jpg\n",
      "[0.9729206963249516]\n",
      "IMG_20200229_072244.jpg\n",
      "[0.9591836734693877]\n",
      "IMG_20200229_072245.jpg\n",
      "[0.9594392408435982]\n"
     ]
    },
    {
     "name": "stderr",
     "output_type": "stream",
     "text": [
      "\r",
      " 76%|███████▌  | 1581/2092 [01:02<00:42, 11.95it/s]"
     ]
    },
    {
     "name": "stdout",
     "output_type": "stream",
     "text": [
      "IMG_20200229_072249.jpg\n",
      "[0.8671138729988889]\n",
      "IMG_20200229_072250.jpg\n",
      "[0.20182777422131962]\n",
      "IMG_20200229_072315.jpg\n",
      "[0.8188657721766527]\n"
     ]
    },
    {
     "name": "stderr",
     "output_type": "stream",
     "text": [
      " 76%|███████▌  | 1585/2092 [01:02<00:43, 11.72it/s]"
     ]
    },
    {
     "name": "stdout",
     "output_type": "stream",
     "text": [
      "IMG_20200229_072316.jpg\n",
      "[0]\n",
      "IMG_20200229_072318.jpg\n",
      "[0.7333635129017655]\n",
      "IMG_20200229_072320.jpg\n",
      "[0]\n"
     ]
    },
    {
     "name": "stderr",
     "output_type": "stream",
     "text": [
      "\r",
      " 76%|███████▌  | 1587/2092 [01:02<00:43, 11.67it/s]"
     ]
    },
    {
     "name": "stdout",
     "output_type": "stream",
     "text": [
      "IMG_20200229_072321.jpg\n",
      "[0.047157502329916126]\n",
      "IMG_20200229_072324.jpg\n",
      "[0.8504535824868271]\n",
      "IMG_20200229_072326.jpg\n",
      "[0.8401325438644142]\n"
     ]
    },
    {
     "name": "stderr",
     "output_type": "stream",
     "text": [
      " 76%|███████▌  | 1591/2092 [01:03<00:43, 11.60it/s]"
     ]
    },
    {
     "name": "stdout",
     "output_type": "stream",
     "text": [
      "IMG_20200229_072330.jpg\n",
      "[0.9195273945463059]\n",
      "IMG_20200229_072331.jpg\n",
      "[0]\n",
      "IMG_20200229_072332.jpg\n",
      "[0.7704926937910804]\n"
     ]
    },
    {
     "name": "stderr",
     "output_type": "stream",
     "text": [
      "\r",
      " 76%|███████▌  | 1593/2092 [01:03<00:43, 11.54it/s]"
     ]
    },
    {
     "name": "stdout",
     "output_type": "stream",
     "text": [
      "IMG_20200229_072332_1.jpg\n",
      "[0.7516975392471074]\n",
      "IMG_20200229_072334.jpg\n",
      "[0.9308022045315371]\n",
      "IMG_20200229_072335.jpg\n",
      "[0.07261986239688772]\n"
     ]
    },
    {
     "name": "stderr",
     "output_type": "stream",
     "text": [
      " 76%|███████▋  | 1597/2092 [01:03<00:42, 11.60it/s]"
     ]
    },
    {
     "name": "stdout",
     "output_type": "stream",
     "text": [
      "IMG_20200229_072336.jpg\n",
      "[0.07384460213969238]\n",
      "IMG_20200229_072338.jpg\n",
      "[0.8600914952631389]\n",
      "IMG_20200229_072340.jpg\n",
      "[0.7281764354391873]\n"
     ]
    },
    {
     "name": "stderr",
     "output_type": "stream",
     "text": [
      "\r",
      " 76%|███████▋  | 1599/2092 [01:04<00:42, 11.73it/s]"
     ]
    },
    {
     "name": "stdout",
     "output_type": "stream",
     "text": [
      "IMG_20200229_072342.jpg\n",
      "[0.7084034982888804]\n",
      "IMG_20200229_072343.jpg\n",
      "[0.9718670076726342]\n",
      "IMG_20200229_072347.jpg\n",
      "[0.8712582399769461]\n"
     ]
    },
    {
     "name": "stderr",
     "output_type": "stream",
     "text": [
      " 77%|███████▋  | 1603/2092 [01:04<00:41, 11.88it/s]"
     ]
    },
    {
     "name": "stdout",
     "output_type": "stream",
     "text": [
      "IMG_20200229_072348.jpg\n",
      "[0.8207197147076835]\n",
      "IMG_20200229_072349.jpg\n",
      "[0.8184143222506394]\n",
      "IMG_20200229_072350.jpg\n",
      "[0.04724804082376526]\n"
     ]
    },
    {
     "name": "stderr",
     "output_type": "stream",
     "text": [
      "\r",
      " 77%|███████▋  | 1605/2092 [01:04<00:41, 11.87it/s]"
     ]
    },
    {
     "name": "stdout",
     "output_type": "stream",
     "text": [
      "IMG_20200229_072353.jpg\n",
      "[0.8207197147076835]\n",
      "IMG_20200229_072354.jpg\n",
      "[0.8078959691653759]\n",
      "IMG_20200229_072357.jpg\n",
      "[0.8056265984654731]\n"
     ]
    },
    {
     "name": "stderr",
     "output_type": "stream",
     "text": [
      " 77%|███████▋  | 1609/2092 [01:04<00:41, 11.71it/s]"
     ]
    },
    {
     "name": "stdout",
     "output_type": "stream",
     "text": [
      "IMG_20200229_072400.jpg\n",
      "[0]\n",
      "IMG_20200229_072401.jpg\n",
      "[0.7822484780807608]\n",
      "IMG_20200229_072402.jpg\n",
      "[0.8368574619069918]\n"
     ]
    },
    {
     "name": "stderr",
     "output_type": "stream",
     "text": [
      "\r",
      " 77%|███████▋  | 1611/2092 [01:05<00:41, 11.62it/s]"
     ]
    },
    {
     "name": "stdout",
     "output_type": "stream",
     "text": [
      "IMG_20200229_072403.jpg\n",
      "[0.8299412845358597]\n",
      "IMG_20200229_072404.jpg\n",
      "[0.832859046864306]\n",
      "IMG_20200229_072406.jpg\n",
      "[0.06280935313193378]\n"
     ]
    },
    {
     "name": "stderr",
     "output_type": "stream",
     "text": [
      " 77%|███████▋  | 1615/2092 [01:05<00:40, 11.80it/s]"
     ]
    },
    {
     "name": "stdout",
     "output_type": "stream",
     "text": [
      "IMG_20200229_072409.jpg\n",
      "[0.8842030360531309]\n",
      "IMG_20200229_072410.jpg\n",
      "[0.961764705882353]\n",
      "IMG_20200229_072411.jpg\n",
      "[0.780663520766543]\n"
     ]
    },
    {
     "name": "stderr",
     "output_type": "stream",
     "text": [
      "\r",
      " 77%|███████▋  | 1617/2092 [01:05<00:39, 11.96it/s]"
     ]
    },
    {
     "name": "stdout",
     "output_type": "stream",
     "text": [
      "IMG_20200229_072413.jpg\n",
      "[0.7521342891106229]\n",
      "IMG_20200229_072414.jpg\n",
      "[0.842741935483871]\n",
      "IMG_20200229_072415.jpg\n",
      "[0]\n"
     ]
    },
    {
     "name": "stderr",
     "output_type": "stream",
     "text": [
      " 77%|███████▋  | 1621/2092 [01:05<00:38, 12.17it/s]"
     ]
    },
    {
     "name": "stdout",
     "output_type": "stream",
     "text": [
      "IMG_20200229_072416.jpg\n",
      "[0.047504948432128345]\n",
      "IMG_20200229_072418.jpg\n",
      "[0.8777039848197343]\n",
      "IMG_20200229_072419.jpg\n",
      "[0]\n"
     ]
    },
    {
     "name": "stderr",
     "output_type": "stream",
     "text": [
      "\r",
      " 78%|███████▊  | 1623/2092 [01:06<00:38, 12.15it/s]"
     ]
    },
    {
     "name": "stdout",
     "output_type": "stream",
     "text": [
      "IMG_20200229_072420.jpg\n",
      "[0.4788347014324803]\n",
      "IMG_20200229_072423.jpg\n",
      "[0.8804554079696395]\n",
      "IMG_20200229_072439.jpg\n",
      "[0.7570621468926554]\n"
     ]
    },
    {
     "name": "stderr",
     "output_type": "stream",
     "text": [
      " 78%|███████▊  | 1627/2092 [01:06<00:39, 11.92it/s]"
     ]
    },
    {
     "name": "stdout",
     "output_type": "stream",
     "text": [
      "IMG_20200229_072442.jpg\n",
      "[0.7966101694915254]\n",
      "IMG_20200229_072443.jpg\n",
      "[0.0761661807580175]\n",
      "IMG_20200229_072452.jpg\n",
      "[0.696045197740113]\n"
     ]
    },
    {
     "name": "stderr",
     "output_type": "stream",
     "text": [
      "\r",
      " 78%|███████▊  | 1629/2092 [01:06<00:39, 11.80it/s]"
     ]
    },
    {
     "name": "stdout",
     "output_type": "stream",
     "text": [
      "IMG_20200229_072458.jpg\n",
      "[0.8436956701713718]\n",
      "IMG_20200229_072500.jpg\n",
      "[0.6222222222222222]\n",
      "IMG_20200229_072502.jpg\n",
      "[0.9052901730275685]\n"
     ]
    },
    {
     "name": "stderr",
     "output_type": "stream",
     "text": [
      " 78%|███████▊  | 1633/2092 [01:06<00:38, 11.85it/s]"
     ]
    },
    {
     "name": "stdout",
     "output_type": "stream",
     "text": [
      "IMG_20200229_072502_1.jpg\n",
      "[0.7541747902008985]\n",
      "IMG_20200229_072504.jpg\n",
      "[0.6829252981795355]\n",
      "IMG_20200229_072508.jpg\n",
      "[0]\n"
     ]
    },
    {
     "name": "stderr",
     "output_type": "stream",
     "text": [
      "\r",
      " 78%|███████▊  | 1635/2092 [01:07<00:38, 11.85it/s]"
     ]
    },
    {
     "name": "stdout",
     "output_type": "stream",
     "text": [
      "IMG_20200229_072510.jpg\n",
      "[0.8123189005712393]\n",
      "IMG_20200229_072511.jpg\n",
      "[0.7501448795430086]\n",
      "IMG_20200229_072513.jpg\n",
      "[0.7267157877307724]\n"
     ]
    },
    {
     "name": "stderr",
     "output_type": "stream",
     "text": [
      " 78%|███████▊  | 1639/2092 [01:07<00:38, 11.83it/s]"
     ]
    },
    {
     "name": "stdout",
     "output_type": "stream",
     "text": [
      "IMG_20200229_072514.jpg\n",
      "[0.8508154648563623]\n",
      "IMG_20200229_072522.jpg\n",
      "[]\n",
      "IMG_20200229_072523.jpg\n",
      "[0.5339846013742859]\n"
     ]
    },
    {
     "name": "stderr",
     "output_type": "stream",
     "text": [
      "\r",
      " 78%|███████▊  | 1641/2092 [01:07<00:38, 11.82it/s]"
     ]
    },
    {
     "name": "stdout",
     "output_type": "stream",
     "text": [
      "IMG_20200229_072524.jpg\n",
      "[0]\n",
      "IMG_20200229_072525.jpg\n",
      "[0.522038718145029]\n",
      "IMG_20200229_072526.jpg\n",
      "[0.5079295636005687]\n"
     ]
    },
    {
     "name": "stderr",
     "output_type": "stream",
     "text": [
      " 79%|███████▊  | 1645/2092 [01:07<00:37, 11.88it/s]"
     ]
    },
    {
     "name": "stdout",
     "output_type": "stream",
     "text": [
      "IMG_20200229_072527.jpg\n",
      "[0.7119794684990479]\n",
      "IMG_20200229_072528.jpg\n",
      "[0.7070949581919033]\n",
      "IMG_20200229_072533.jpg\n",
      "[0.5752212389380531]\n"
     ]
    },
    {
     "name": "stderr",
     "output_type": "stream",
     "text": [
      "\r",
      " 79%|███████▊  | 1647/2092 [01:08<00:38, 11.57it/s]"
     ]
    },
    {
     "name": "stdout",
     "output_type": "stream",
     "text": [
      "IMG_20200229_072534.jpg\n",
      "[0.578386605783866]\n",
      "IMG_20200229_072535.jpg\n",
      "[0.5949907032702614]\n",
      "IMG_20200229_072536.jpg\n",
      "[0]\n"
     ]
    },
    {
     "name": "stderr",
     "output_type": "stream",
     "text": [
      " 79%|███████▉  | 1651/2092 [01:08<00:37, 11.68it/s]"
     ]
    },
    {
     "name": "stdout",
     "output_type": "stream",
     "text": [
      "IMG_20200229_072536_1.jpg\n",
      "[0]\n",
      "IMG_20200229_072537.jpg\n",
      "[0.9012359181887784]\n",
      "IMG_20200229_072538.jpg\n",
      "[0.7809252980422181]\n"
     ]
    },
    {
     "name": "stderr",
     "output_type": "stream",
     "text": [
      "\r",
      " 79%|███████▉  | 1653/2092 [01:08<00:37, 11.74it/s]"
     ]
    },
    {
     "name": "stdout",
     "output_type": "stream",
     "text": [
      "IMG_20200229_072539.jpg\n",
      "[0.8071748878923767]\n",
      "IMG_20200229_072539_1.jpg\n",
      "[0.7660505304604616]\n",
      "IMG_20200229_072540.jpg\n",
      "[0.6974087258879046]\n"
     ]
    },
    {
     "name": "stderr",
     "output_type": "stream",
     "text": [
      " 79%|███████▉  | 1657/2092 [01:08<00:36, 11.96it/s]"
     ]
    },
    {
     "name": "stdout",
     "output_type": "stream",
     "text": [
      "IMG_20200229_072541.jpg\n",
      "[0.6795264508651379]\n",
      "IMG_20200229_072542.jpg\n",
      "[0.7186025333222948]\n",
      "IMG_20200229_072548.jpg\n",
      "[0]\n"
     ]
    },
    {
     "name": "stderr",
     "output_type": "stream",
     "text": [
      "\r",
      " 79%|███████▉  | 1659/2092 [01:09<00:35, 12.16it/s]"
     ]
    },
    {
     "name": "stdout",
     "output_type": "stream",
     "text": [
      "IMG_20200229_072549.jpg\n",
      "[0]\n",
      "IMG_20200229_072550.jpg\n",
      "[0.5289292354806956]\n",
      "IMG_20200229_072550_1.jpg\n",
      "[0.4921798096904736]\n"
     ]
    },
    {
     "name": "stderr",
     "output_type": "stream",
     "text": [
      " 79%|███████▉  | 1663/2092 [01:09<00:35, 12.02it/s]"
     ]
    },
    {
     "name": "stdout",
     "output_type": "stream",
     "text": [
      "IMG_20200229_072551.jpg\n",
      "[0.7891282948703926]\n",
      "IMG_20200229_072554.jpg\n",
      "[0.7400196871923876]\n",
      "IMG_20200229_072554_1.jpg\n",
      "[0.7069889532976047]\n"
     ]
    },
    {
     "name": "stderr",
     "output_type": "stream",
     "text": [
      "\r",
      " 80%|███████▉  | 1665/2092 [01:09<00:35, 11.97it/s]"
     ]
    },
    {
     "name": "stdout",
     "output_type": "stream",
     "text": [
      "IMG_20200229_072600.jpg\n",
      "[0]\n",
      "IMG_20200229_072601.jpg\n",
      "[0.010348538786323372]\n",
      "IMG_20200229_072601_1.jpg\n",
      "[0.4425243355572569]\n"
     ]
    },
    {
     "name": "stderr",
     "output_type": "stream",
     "text": [
      " 80%|███████▉  | 1669/2092 [01:09<00:34, 12.12it/s]"
     ]
    },
    {
     "name": "stdout",
     "output_type": "stream",
     "text": [
      "IMG_20200229_072602.jpg\n",
      "[0]\n",
      "IMG_20200229_072604.jpg\n",
      "[0.763863064639615]\n",
      "IMG_20200229_072608.jpg\n",
      "[0.8852674176965984]\n"
     ]
    },
    {
     "name": "stderr",
     "output_type": "stream",
     "text": [
      "\r",
      " 80%|███████▉  | 1671/2092 [01:10<00:34, 12.06it/s]"
     ]
    },
    {
     "name": "stdout",
     "output_type": "stream",
     "text": [
      "IMG_20200229_072929.jpg\n",
      "[0.7962190714484293]\n",
      "IMG_20200229_072930.jpg\n",
      "[0.8158341828066599]\n",
      "IMG_20200229_072931.jpg\n",
      "[0.7928829580205727]\n"
     ]
    },
    {
     "name": "stderr",
     "output_type": "stream",
     "text": [
      " 80%|████████  | 1675/2092 [01:10<00:35, 11.70it/s]"
     ]
    },
    {
     "name": "stdout",
     "output_type": "stream",
     "text": [
      "IMG_20200229_072932.jpg\n",
      "[0.827217125382263]\n",
      "IMG_20200229_072935.jpg\n",
      "[0.8234022178976308]\n",
      "IMG_20200229_072939.jpg\n",
      "[0.03235961637015887]\n"
     ]
    },
    {
     "name": "stderr",
     "output_type": "stream",
     "text": [
      "\r",
      " 80%|████████  | 1677/2092 [01:10<00:35, 11.68it/s]"
     ]
    },
    {
     "name": "stdout",
     "output_type": "stream",
     "text": [
      "IMG_20200229_072940.jpg\n",
      "[0.06620107667685145]\n",
      "IMG_20200229_072942.jpg\n",
      "[0]\n",
      "IMG_20200229_072942_1.jpg\n",
      "[0.8504053664759866]\n"
     ]
    },
    {
     "name": "stderr",
     "output_type": "stream",
     "text": [
      " 80%|████████  | 1681/2092 [01:10<00:34, 11.87it/s]"
     ]
    },
    {
     "name": "stdout",
     "output_type": "stream",
     "text": [
      "IMG_20200229_072944.jpg\n",
      "[0.8458784312111609]\n",
      "IMG_20200229_072945.jpg\n",
      "[0.8700358039425491]\n",
      "IMG_20200229_072952.jpg\n",
      "[0.3402439024390244]\n"
     ]
    },
    {
     "name": "stderr",
     "output_type": "stream",
     "text": [
      "\r",
      " 80%|████████  | 1683/2092 [01:11<00:34, 11.93it/s]"
     ]
    },
    {
     "name": "stdout",
     "output_type": "stream",
     "text": [
      "IMG_20200229_072952_1.jpg\n",
      "[0.38740504778240625]\n",
      "IMG_20200229_072953.jpg\n",
      "[0.37055199681245593]\n",
      "IMG_20200229_072955.jpg\n",
      "[0.8474115921560107]\n"
     ]
    },
    {
     "name": "stderr",
     "output_type": "stream",
     "text": [
      " 81%|████████  | 1687/2092 [01:11<00:34, 11.90it/s]"
     ]
    },
    {
     "name": "stdout",
     "output_type": "stream",
     "text": [
      "IMG_20200229_072956.jpg\n",
      "[0.6471459730853122]\n",
      "IMG_20200229_072956_1.jpg\n",
      "[0.6917568624223219]\n",
      "IMG_20200229_073000.jpg\n",
      "[0.8320929979901135]\n"
     ]
    },
    {
     "name": "stderr",
     "output_type": "stream",
     "text": [
      "\r",
      " 81%|████████  | 1689/2092 [01:11<00:34, 11.84it/s]"
     ]
    },
    {
     "name": "stdout",
     "output_type": "stream",
     "text": [
      "IMG_20200229_073002.jpg\n",
      "[0.20230263157894737]\n",
      "IMG_20200229_073006.jpg\n",
      "[0.027423868312757203]\n",
      "IMG_20200229_073008.jpg\n",
      "[0.9292689542926895]\n"
     ]
    },
    {
     "name": "stderr",
     "output_type": "stream",
     "text": [
      " 81%|████████  | 1693/2092 [01:11<00:33, 12.00it/s]"
     ]
    },
    {
     "name": "stdout",
     "output_type": "stream",
     "text": [
      "IMG_20200229_073012.jpg\n",
      "[0.4075511168095013]\n",
      "IMG_20200229_073013.jpg\n",
      "[0]\n",
      "IMG_20200229_073014.jpg\n",
      "[0.7327937421913194]\n"
     ]
    },
    {
     "name": "stderr",
     "output_type": "stream",
     "text": [
      "\r",
      " 81%|████████  | 1695/2092 [01:12<00:33, 11.82it/s]"
     ]
    },
    {
     "name": "stdout",
     "output_type": "stream",
     "text": [
      "IMG_20200229_073015.jpg\n",
      "[0.9087568891610532]\n",
      "IMG_20200229_073016.jpg\n",
      "[0.8300772559964406]\n",
      "IMG_20200229_073018.jpg\n",
      "[0.907460105903966]\n"
     ]
    },
    {
     "name": "stderr",
     "output_type": "stream",
     "text": [
      " 81%|████████  | 1699/2092 [01:12<00:33, 11.72it/s]"
     ]
    },
    {
     "name": "stdout",
     "output_type": "stream",
     "text": [
      "IMG_20200229_073020.jpg\n",
      "[0.3640308966395923]\n",
      "IMG_20200229_073021.jpg\n",
      "[0.9087568891610532]\n",
      "IMG_20200229_073022.jpg\n",
      "[0.22162162162162163]\n"
     ]
    },
    {
     "name": "stderr",
     "output_type": "stream",
     "text": [
      "\r",
      " 81%|████████▏ | 1701/2092 [01:12<00:33, 11.64it/s]"
     ]
    },
    {
     "name": "stdout",
     "output_type": "stream",
     "text": [
      "IMG_20200229_073023.jpg\n",
      "[0.47117400419287214]\n",
      "IMG_20200229_073024.jpg\n",
      "[0.892979359533158]\n",
      "IMG_20200229_073026.jpg\n",
      "[0.815435020021842]\n"
     ]
    },
    {
     "name": "stderr",
     "output_type": "stream",
     "text": [
      " 82%|████████▏ | 1705/2092 [01:12<00:33, 11.58it/s]"
     ]
    },
    {
     "name": "stdout",
     "output_type": "stream",
     "text": [
      "IMG_20200229_073034.jpg\n",
      "[0]\n",
      "IMG_20200229_073035.jpg\n",
      "[0]\n",
      "IMG_20200229_073036.jpg\n",
      "[0.8288606318216203]\n"
     ]
    },
    {
     "name": "stderr",
     "output_type": "stream",
     "text": [
      "\r",
      " 82%|████████▏ | 1707/2092 [01:13<00:33, 11.62it/s]"
     ]
    },
    {
     "name": "stdout",
     "output_type": "stream",
     "text": [
      "IMG_20200229_073037.jpg\n",
      "[0.814812146536508]\n",
      "IMG_20200229_073038.jpg\n",
      "[0.8297251539930118]\n",
      "IMG_20200229_073040.jpg\n",
      "[0.8056265984654731]\n"
     ]
    },
    {
     "name": "stderr",
     "output_type": "stream",
     "text": [
      " 82%|████████▏ | 1711/2092 [01:13<00:32, 11.63it/s]"
     ]
    },
    {
     "name": "stdout",
     "output_type": "stream",
     "text": [
      "IMG_20200229_073042.jpg\n",
      "[0.03135305644506046]\n",
      "IMG_20200229_073043.jpg\n",
      "[0.9374080882352941]\n",
      "IMG_20200229_073047.jpg\n",
      "[0.972430607651913]\n"
     ]
    },
    {
     "name": "stderr",
     "output_type": "stream",
     "text": [
      "\r",
      " 82%|████████▏ | 1713/2092 [01:13<00:32, 11.77it/s]"
     ]
    },
    {
     "name": "stdout",
     "output_type": "stream",
     "text": [
      "IMG_20200229_073050.jpg\n",
      "[0]\n",
      "IMG_20200229_073056.jpg\n",
      "[0.7220196353436185]\n",
      "IMG_20200229_073057.jpg\n",
      "[0.905123339658444]\n"
     ]
    },
    {
     "name": "stderr",
     "output_type": "stream",
     "text": [
      " 82%|████████▏ | 1717/2092 [01:13<00:31, 11.93it/s]"
     ]
    },
    {
     "name": "stdout",
     "output_type": "stream",
     "text": [
      "IMG_20200229_073059.jpg\n",
      "[0.6361464968152867]\n",
      "IMG_20200229_073100.jpg\n",
      "[0.628623471246422]\n",
      "IMG_20200229_073101.jpg\n",
      "[0.6433192535956799]\n"
     ]
    },
    {
     "name": "stderr",
     "output_type": "stream",
     "text": [
      "\r",
      " 82%|████████▏ | 1719/2092 [01:14<00:31, 11.94it/s]"
     ]
    },
    {
     "name": "stdout",
     "output_type": "stream",
     "text": [
      "IMG_20200229_073101_1.jpg\n",
      "[0.6438013005010127]\n",
      "IMG_20200229_073102.jpg\n",
      "[0.635068349106204]\n",
      "IMG_20200229_073103.jpg\n",
      "[0.7975384615384615]\n"
     ]
    },
    {
     "name": "stderr",
     "output_type": "stream",
     "text": [
      " 82%|████████▏ | 1723/2092 [01:14<00:31, 11.72it/s]"
     ]
    },
    {
     "name": "stdout",
     "output_type": "stream",
     "text": [
      "IMG_20200229_073103_1.jpg\n",
      "[0.7183458809120709]\n",
      "IMG_20200229_073106.jpg\n",
      "[0.6560282410575988]\n",
      "IMG_20200229_073112.jpg\n",
      "[0.8463472485768501]\n"
     ]
    },
    {
     "name": "stderr",
     "output_type": "stream",
     "text": [
      "\r",
      " 82%|████████▏ | 1725/2092 [01:14<00:31, 11.78it/s]"
     ]
    },
    {
     "name": "stdout",
     "output_type": "stream",
     "text": [
      "IMG_20200229_073133.jpg\n",
      "[0.6968515565006793]\n",
      "IMG_20200229_073134.jpg\n",
      "[0.7008468335787923]\n",
      "IMG_20200229_073135.jpg\n",
      "[0.7837496678182302]\n"
     ]
    },
    {
     "name": "stderr",
     "output_type": "stream",
     "text": [
      " 83%|████████▎ | 1729/2092 [01:14<00:30, 11.81it/s]"
     ]
    },
    {
     "name": "stdout",
     "output_type": "stream",
     "text": [
      "IMG_20200229_073136.jpg\n",
      "[0.7665367121507473]\n",
      "IMG_20200229_073136_1.jpg\n",
      "[0.7709913765155936]\n",
      "IMG_20200229_073138.jpg\n",
      "[0.7588324680258326]\n"
     ]
    },
    {
     "name": "stderr",
     "output_type": "stream",
     "text": [
      "\r",
      " 83%|████████▎ | 1731/2092 [01:15<00:30, 11.77it/s]"
     ]
    },
    {
     "name": "stdout",
     "output_type": "stream",
     "text": [
      "IMG_20200229_073141.jpg\n",
      "[0.87984934086629]\n",
      "IMG_20200229_073145.jpg\n",
      "[0.8677966101694915]\n",
      "IMG_20200229_073146.jpg\n",
      "[0.7266129032258064]\n"
     ]
    },
    {
     "name": "stderr",
     "output_type": "stream",
     "text": [
      " 83%|████████▎ | 1735/2092 [01:15<00:30, 11.88it/s]"
     ]
    },
    {
     "name": "stdout",
     "output_type": "stream",
     "text": [
      "IMG_20200229_073148.jpg\n",
      "[0.8043932349572132]\n",
      "IMG_20200229_073149.jpg\n",
      "[0.8105032222679281]\n",
      "IMG_20200229_073650.jpg\n",
      "[0.20077720207253885]\n"
     ]
    },
    {
     "name": "stderr",
     "output_type": "stream",
     "text": [
      "\r",
      " 83%|████████▎ | 1737/2092 [01:15<00:29, 11.91it/s]"
     ]
    },
    {
     "name": "stdout",
     "output_type": "stream",
     "text": [
      "IMG_20200229_073651.jpg\n",
      "[0.49053213824289404]\n",
      "IMG_20200229_073653.jpg\n",
      "[0.0926624100537144]\n",
      "IMG_20200229_073659.jpg\n",
      "[0]\n"
     ]
    },
    {
     "name": "stderr",
     "output_type": "stream",
     "text": [
      " 83%|████████▎ | 1741/2092 [01:16<00:29, 11.83it/s]"
     ]
    },
    {
     "name": "stdout",
     "output_type": "stream",
     "text": [
      "IMG_20200229_073700.jpg\n",
      "[0.15304798962386512]\n",
      "IMG_20200229_073703.jpg\n",
      "[0.6815892705682782]\n",
      "IMG_20200229_073704.jpg\n",
      "[0.20519360074194296]\n"
     ]
    },
    {
     "name": "stderr",
     "output_type": "stream",
     "text": [
      "\r",
      " 83%|████████▎ | 1743/2092 [01:16<00:29, 11.85it/s]"
     ]
    },
    {
     "name": "stdout",
     "output_type": "stream",
     "text": [
      "IMG_20200229_073708.jpg\n",
      "[0.20527292407607856]\n",
      "IMG_20200229_073709.jpg\n",
      "[0.3650409604334048]\n",
      "IMG_20200229_073711.jpg\n",
      "[0]\n"
     ]
    },
    {
     "name": "stderr",
     "output_type": "stream",
     "text": [
      " 84%|████████▎ | 1747/2092 [01:16<00:28, 12.03it/s]"
     ]
    },
    {
     "name": "stdout",
     "output_type": "stream",
     "text": [
      "IMG_20200229_073711_1.jpg\n",
      "[0.20713059759712904]\n",
      "IMG_20200229_073712.jpg\n",
      "[0.6143624540571105]\n",
      "IMG_20200229_073713.jpg\n",
      "[0.1209679553332804]\n"
     ]
    },
    {
     "name": "stderr",
     "output_type": "stream",
     "text": [
      "\r",
      " 84%|████████▎ | 1749/2092 [01:16<00:28, 12.04it/s]"
     ]
    },
    {
     "name": "stdout",
     "output_type": "stream",
     "text": [
      "IMG_20200229_073719.jpg\n",
      "[0.17124929762127739]\n",
      "IMG_20200229_073719_1.jpg\n",
      "[0.022332506203473945]\n",
      "IMG_20200229_073720.jpg\n",
      "[0.1820589406610912]\n"
     ]
    },
    {
     "name": "stderr",
     "output_type": "stream",
     "text": [
      " 84%|████████▍ | 1753/2092 [01:17<00:28, 11.99it/s]"
     ]
    },
    {
     "name": "stdout",
     "output_type": "stream",
     "text": [
      "IMG_20200229_073721.jpg\n",
      "[0]\n",
      "IMG_20200229_073722.jpg\n",
      "[0]\n",
      "IMG_20200229_073725.jpg\n",
      "[0.5218233082706767]\n"
     ]
    },
    {
     "name": "stderr",
     "output_type": "stream",
     "text": [
      "\r",
      " 84%|████████▍ | 1755/2092 [01:17<00:28, 11.99it/s]"
     ]
    },
    {
     "name": "stdout",
     "output_type": "stream",
     "text": [
      "IMG_20200229_073726.jpg\n",
      "[0.5350177304964538]\n",
      "IMG_20200229_073728.jpg\n",
      "[0]\n",
      "IMG_20200229_073728_1.jpg\n",
      "[0]\n"
     ]
    },
    {
     "name": "stderr",
     "output_type": "stream",
     "text": [
      " 84%|████████▍ | 1759/2092 [01:17<00:27, 11.99it/s]"
     ]
    },
    {
     "name": "stdout",
     "output_type": "stream",
     "text": [
      "IMG_20200229_073729.jpg\n",
      "[0.23572000078059444]\n",
      "IMG_20200229_073734.jpg\n",
      "[0]\n",
      "IMG_20200229_073735.jpg\n",
      "[0]\n"
     ]
    },
    {
     "name": "stderr",
     "output_type": "stream",
     "text": [
      "\r",
      " 84%|████████▍ | 1761/2092 [01:17<00:27, 12.02it/s]"
     ]
    },
    {
     "name": "stdout",
     "output_type": "stream",
     "text": [
      "IMG_20200229_073736.jpg\n",
      "[0.33885990012904676]\n",
      "IMG_20200229_073750.jpg\n",
      "[0.2776495596720316]\n",
      "IMG_20200229_073751.jpg\n",
      "[0]\n"
     ]
    },
    {
     "name": "stderr",
     "output_type": "stream",
     "text": [
      " 84%|████████▍ | 1765/2092 [01:17<00:27, 12.07it/s]"
     ]
    },
    {
     "name": "stdout",
     "output_type": "stream",
     "text": [
      "IMG_20200229_073751_1.jpg\n",
      "[0]\n",
      "IMG_20200229_073752.jpg\n",
      "[0]\n",
      "IMG_20200229_073754.jpg\n",
      "[0]\n"
     ]
    },
    {
     "name": "stderr",
     "output_type": "stream",
     "text": [
      "\r",
      " 84%|████████▍ | 1767/2092 [01:18<00:27, 11.87it/s]"
     ]
    },
    {
     "name": "stdout",
     "output_type": "stream",
     "text": [
      "IMG_20200229_073755.jpg\n",
      "[0]\n",
      "IMG_20200229_073756.jpg\n",
      "[0.34782733895815937]\n",
      "IMG_20200229_073759.jpg\n",
      "[0.88817497403946]\n"
     ]
    },
    {
     "name": "stderr",
     "output_type": "stream",
     "text": [
      " 85%|████████▍ | 1771/2092 [01:18<00:26, 12.06it/s]"
     ]
    },
    {
     "name": "stdout",
     "output_type": "stream",
     "text": [
      "IMG_20200229_073759_1.jpg\n",
      "[0.6778570969194161]\n",
      "IMG_20200229_073800.jpg\n",
      "[0.5101191238631997]\n",
      "IMG_20200229_073801.jpg\n",
      "[0.40620796341135323]\n"
     ]
    },
    {
     "name": "stderr",
     "output_type": "stream",
     "text": [
      "\r",
      " 85%|████████▍ | 1773/2092 [01:18<00:26, 12.05it/s]"
     ]
    },
    {
     "name": "stdout",
     "output_type": "stream",
     "text": [
      "IMG_20200229_073802.jpg\n",
      "[0.414943318447269]\n",
      "IMG_20200229_073803.jpg\n",
      "[0]\n",
      "IMG_20200229_073805.jpg\n",
      "[0]\n"
     ]
    },
    {
     "name": "stderr",
     "output_type": "stream",
     "text": [
      " 85%|████████▍ | 1777/2092 [01:18<00:26, 12.10it/s]"
     ]
    },
    {
     "name": "stdout",
     "output_type": "stream",
     "text": [
      "IMG_20200229_073806.jpg\n",
      "[0]\n",
      "IMG_20200229_073807.jpg\n",
      "[0.3147332185886403]\n",
      "IMG_20200229_073808.jpg\n",
      "[0.2974978036638141]\n"
     ]
    },
    {
     "name": "stderr",
     "output_type": "stream",
     "text": [
      "\r",
      " 85%|████████▌ | 1779/2092 [01:19<00:25, 12.20it/s]"
     ]
    },
    {
     "name": "stdout",
     "output_type": "stream",
     "text": [
      "IMG_20200229_073813.jpg\n",
      "[0.38204078221627946]\n",
      "IMG_20200229_073813_1.jpg\n",
      "[0.5154036525004267]\n",
      "IMG_20200229_073814.jpg\n",
      "[0]\n"
     ]
    },
    {
     "name": "stderr",
     "output_type": "stream",
     "text": [
      " 85%|████████▌ | 1783/2092 [01:19<00:25, 12.31it/s]"
     ]
    },
    {
     "name": "stdout",
     "output_type": "stream",
     "text": [
      "IMG_20200229_073815.jpg\n",
      "[0]\n",
      "IMG_20200229_073816.jpg\n",
      "[0]\n",
      "IMG_20200229_073816_1.jpg\n",
      "[0.4292488262910798]\n"
     ]
    },
    {
     "name": "stderr",
     "output_type": "stream",
     "text": [
      "\r",
      " 85%|████████▌ | 1785/2092 [01:19<00:25, 12.26it/s]"
     ]
    },
    {
     "name": "stdout",
     "output_type": "stream",
     "text": [
      "IMG_20200229_073817.jpg\n",
      "[0.3822484217567624]\n",
      "IMG_20200229_073818.jpg\n",
      "[0.3640308966395923]\n",
      "IMG_20200229_073819.jpg\n",
      "[0]\n"
     ]
    },
    {
     "name": "stderr",
     "output_type": "stream",
     "text": [
      " 86%|████████▌ | 1789/2092 [01:19<00:24, 12.25it/s]"
     ]
    },
    {
     "name": "stdout",
     "output_type": "stream",
     "text": [
      "IMG_20200229_073820.jpg\n",
      "[0]\n",
      "IMG_20200229_073823.jpg\n",
      "[0.7688483844241922]\n",
      "IMG_20200229_073824.jpg\n",
      "[0.85929901660603]\n"
     ]
    },
    {
     "name": "stderr",
     "output_type": "stream",
     "text": [
      "\r",
      " 86%|████████▌ | 1791/2092 [01:20<00:24, 12.30it/s]"
     ]
    },
    {
     "name": "stdout",
     "output_type": "stream",
     "text": [
      "IMG_20200229_073825.jpg\n",
      "[0.6796585137423004]\n",
      "IMG_20200229_073826.jpg\n",
      "[0.7437772414538382]\n",
      "IMG_20200229_073826_1.jpg\n",
      "[0.7844458052663809]\n"
     ]
    },
    {
     "name": "stderr",
     "output_type": "stream",
     "text": [
      " 86%|████████▌ | 1795/2092 [01:20<00:24, 12.15it/s]"
     ]
    },
    {
     "name": "stdout",
     "output_type": "stream",
     "text": [
      "IMG_20200229_073827.jpg\n",
      "[0.9070933948863636]\n",
      "IMG_20200229_073828.jpg\n",
      "[0.9023435782438552]\n",
      "IMG_20200229_073829.jpg\n",
      "[0.6890292028413575]\n"
     ]
    },
    {
     "name": "stderr",
     "output_type": "stream",
     "text": [
      "\r",
      " 86%|████████▌ | 1797/2092 [01:20<00:24, 12.07it/s]"
     ]
    },
    {
     "name": "stdout",
     "output_type": "stream",
     "text": [
      "IMG_20200229_073829_1.jpg\n",
      "[0.895151119808654]\n",
      "IMG_20200229_073831.jpg\n",
      "[0.5170804794520548]\n",
      "IMG_20200229_073832.jpg\n",
      "[0.38820482336956524]\n"
     ]
    },
    {
     "name": "stderr",
     "output_type": "stream",
     "text": [
      " 86%|████████▌ | 1801/2092 [01:20<00:24, 11.92it/s]"
     ]
    },
    {
     "name": "stdout",
     "output_type": "stream",
     "text": [
      "IMG_20200229_073852.jpg\n",
      "[0.05472136222910217]\n",
      "IMG_20200229_073853.jpg\n",
      "[0.07746979388770434]\n",
      "IMG_20200229_073854.jpg\n",
      "[0]\n"
     ]
    },
    {
     "name": "stderr",
     "output_type": "stream",
     "text": [
      "\r",
      " 86%|████████▌ | 1803/2092 [01:21<00:24, 12.01it/s]"
     ]
    },
    {
     "name": "stdout",
     "output_type": "stream",
     "text": [
      "IMG_20200229_073855.jpg\n",
      "[0]\n",
      "IMG_20200229_073856.jpg\n",
      "[0]\n",
      "IMG_20200229_073857.jpg\n",
      "[0]\n"
     ]
    },
    {
     "name": "stderr",
     "output_type": "stream",
     "text": [
      " 86%|████████▋ | 1807/2092 [01:21<00:23, 12.05it/s]"
     ]
    },
    {
     "name": "stdout",
     "output_type": "stream",
     "text": [
      "IMG_20200229_073903.jpg\n",
      "[0]\n",
      "IMG_20200229_073903_1.jpg\n",
      "[0]\n",
      "IMG_20200229_073904.jpg\n",
      "[0.797345269331687]\n"
     ]
    },
    {
     "name": "stderr",
     "output_type": "stream",
     "text": [
      "\r",
      " 86%|████████▋ | 1809/2092 [01:21<00:23, 11.98it/s]"
     ]
    },
    {
     "name": "stdout",
     "output_type": "stream",
     "text": [
      "IMG_20200229_073905.jpg\n",
      "[0.7821428571428571]\n",
      "IMG_20200229_073906.jpg\n",
      "[0.6198173234811166]\n",
      "IMG_20200229_073907.jpg\n",
      "[0.4677683413486135]\n"
     ]
    },
    {
     "name": "stderr",
     "output_type": "stream",
     "text": [
      " 87%|████████▋ | 1813/2092 [01:21<00:24, 11.53it/s]"
     ]
    },
    {
     "name": "stdout",
     "output_type": "stream",
     "text": [
      "IMG_20200229_073909.jpg\n",
      "[0]\n",
      "IMG_20200229_073910.jpg\n",
      "[0]\n",
      "IMG_20200229_073913.jpg\n",
      "[0.7647058823529411]\n"
     ]
    },
    {
     "name": "stderr",
     "output_type": "stream",
     "text": [
      "\r",
      " 87%|████████▋ | 1815/2092 [01:22<00:23, 11.88it/s]"
     ]
    },
    {
     "name": "stdout",
     "output_type": "stream",
     "text": [
      "IMG_20200229_073913_1.jpg\n",
      "[0.6850612522686026]\n",
      "IMG_20200229_073914.jpg\n",
      "[0.8684697179842811]\n",
      "IMG_20200229_073938.jpg\n",
      "[0.7842268498006203]\n"
     ]
    },
    {
     "name": "stderr",
     "output_type": "stream",
     "text": [
      " 87%|████████▋ | 1819/2092 [01:22<00:22, 12.11it/s]"
     ]
    },
    {
     "name": "stdout",
     "output_type": "stream",
     "text": [
      "IMG_20200229_073940.jpg\n",
      "[0.4791426475212242]\n",
      "IMG_20200229_073941.jpg\n",
      "[0]\n",
      "IMG_20200229_073942.jpg\n",
      "[0.4814775274901249]\n"
     ]
    },
    {
     "name": "stderr",
     "output_type": "stream",
     "text": [
      "\r",
      " 87%|████████▋ | 1821/2092 [01:22<00:22, 12.21it/s]"
     ]
    },
    {
     "name": "stdout",
     "output_type": "stream",
     "text": [
      "IMG_20200229_073942_1.jpg\n",
      "[0]\n",
      "IMG_20200229_073944.jpg\n",
      "[0]\n",
      "IMG_20200229_073944_1.jpg\n",
      "[0]\n"
     ]
    },
    {
     "name": "stderr",
     "output_type": "stream",
     "text": [
      " 87%|████████▋ | 1825/2092 [01:22<00:22, 12.12it/s]"
     ]
    },
    {
     "name": "stdout",
     "output_type": "stream",
     "text": [
      "IMG_20200229_073945.jpg\n",
      "[0]\n",
      "IMG_20200229_073946.jpg\n",
      "[0]\n",
      "IMG_20200229_073952.jpg\n",
      "[0.6855840455840456]\n"
     ]
    },
    {
     "name": "stderr",
     "output_type": "stream",
     "text": [
      "\r",
      " 87%|████████▋ | 1827/2092 [01:23<00:21, 12.14it/s]"
     ]
    },
    {
     "name": "stdout",
     "output_type": "stream",
     "text": [
      "IMG_20200229_073952_1.jpg\n",
      "[0.732318928788801]\n",
      "IMG_20200229_073953.jpg\n",
      "[0.5750314465408805]\n",
      "IMG_20200229_073954.jpg\n",
      "[0.563573883161512]\n"
     ]
    },
    {
     "name": "stderr",
     "output_type": "stream",
     "text": [
      " 88%|████████▊ | 1831/2092 [01:23<00:21, 12.24it/s]"
     ]
    },
    {
     "name": "stdout",
     "output_type": "stream",
     "text": [
      "IMG_20200229_073955.jpg\n",
      "[0.6139538006983616]\n",
      "IMG_20200229_073956.jpg\n",
      "[0.5934065934065934]\n",
      "IMG_20200229_073956_1.jpg\n",
      "[0]\n"
     ]
    },
    {
     "name": "stderr",
     "output_type": "stream",
     "text": [
      "\r",
      " 88%|████████▊ | 1833/2092 [01:23<00:21, 12.17it/s]"
     ]
    },
    {
     "name": "stdout",
     "output_type": "stream",
     "text": [
      "IMG_20200229_073957.jpg\n",
      "[0]\n",
      "IMG_20200229_073958.jpg\n",
      "[0.6786885245901639]\n",
      "IMG_20200229_073959.jpg\n",
      "[0]\n"
     ]
    },
    {
     "name": "stderr",
     "output_type": "stream",
     "text": [
      " 88%|████████▊ | 1837/2092 [01:23<00:21, 12.10it/s]"
     ]
    },
    {
     "name": "stdout",
     "output_type": "stream",
     "text": [
      "IMG_20200229_074000.jpg\n",
      "[0]\n",
      "IMG_20200229_074002.jpg\n",
      "[0.8114249843063402]\n",
      "IMG_20200229_074003.jpg\n",
      "[0.8788449466415568]\n"
     ]
    },
    {
     "name": "stderr",
     "output_type": "stream",
     "text": [
      "\r",
      " 88%|████████▊ | 1839/2092 [01:24<00:21, 12.04it/s]"
     ]
    },
    {
     "name": "stdout",
     "output_type": "stream",
     "text": [
      "IMG_20200229_074004.jpg\n",
      "[0.7456140350877193]\n",
      "IMG_20200229_074006.jpg\n",
      "[0.8084118016321407]\n",
      "IMG_20200229_074007.jpg\n",
      "[0.7087067861715749]\n"
     ]
    },
    {
     "name": "stderr",
     "output_type": "stream",
     "text": [
      " 88%|████████▊ | 1843/2092 [01:24<00:20, 12.12it/s]"
     ]
    },
    {
     "name": "stdout",
     "output_type": "stream",
     "text": [
      "IMG_20200229_074008.jpg\n",
      "[0.6133009904992925]\n",
      "IMG_20200229_074008_1.jpg\n",
      "[0]\n",
      "IMG_20200229_074009.jpg\n",
      "[0]\n"
     ]
    },
    {
     "name": "stderr",
     "output_type": "stream",
     "text": [
      "\r",
      " 88%|████████▊ | 1845/2092 [01:24<00:20, 12.24it/s]"
     ]
    },
    {
     "name": "stdout",
     "output_type": "stream",
     "text": [
      "IMG_20200229_074010.jpg\n",
      "[0]\n",
      "IMG_20200229_074012.jpg\n",
      "[0.06666941026379686]\n",
      "IMG_20200229_074053.jpg\n",
      "[0.7634306661610416]\n"
     ]
    },
    {
     "name": "stderr",
     "output_type": "stream",
     "text": [
      " 88%|████████▊ | 1849/2092 [01:24<00:20, 12.06it/s]"
     ]
    },
    {
     "name": "stdout",
     "output_type": "stream",
     "text": [
      "IMG_20200229_074054.jpg\n",
      "[0.8163841807909604]\n",
      "IMG_20200229_074055.jpg\n",
      "[0.7913390985324947]\n",
      "IMG_20200229_074056.jpg\n",
      "[0.7667059748427673]\n"
     ]
    },
    {
     "name": "stderr",
     "output_type": "stream",
     "text": [
      "\r",
      " 88%|████████▊ | 1851/2092 [01:25<00:19, 12.07it/s]"
     ]
    },
    {
     "name": "stdout",
     "output_type": "stream",
     "text": [
      "IMG_20200229_074058.jpg\n",
      "[0.6547081990691013]\n",
      "IMG_20200229_074059.jpg\n",
      "[0]\n",
      "IMG_20200229_074100.jpg\n",
      "[0]\n"
     ]
    },
    {
     "name": "stderr",
     "output_type": "stream",
     "text": [
      " 89%|████████▊ | 1855/2092 [01:25<00:19, 12.14it/s]"
     ]
    },
    {
     "name": "stdout",
     "output_type": "stream",
     "text": [
      "IMG_20200229_074101.jpg\n",
      "[0.7382297551789078]\n",
      "IMG_20200229_074103.jpg\n",
      "[0]\n",
      "IMG_20200229_080736.jpg\n",
      "[0.12425255490323983]\n"
     ]
    },
    {
     "name": "stderr",
     "output_type": "stream",
     "text": [
      "\r",
      " 89%|████████▉ | 1857/2092 [01:25<00:19, 12.12it/s]"
     ]
    },
    {
     "name": "stdout",
     "output_type": "stream",
     "text": [
      "IMG_20200229_080737.jpg\n",
      "[0.1280711584255498]\n",
      "IMG_20200229_080738.jpg\n",
      "[0.16715794135148973]\n",
      "IMG_20200229_080739.jpg\n",
      "[0.11852476017630283]\n"
     ]
    },
    {
     "name": "stderr",
     "output_type": "stream",
     "text": [
      " 89%|████████▉ | 1861/2092 [01:25<00:19, 12.13it/s]"
     ]
    },
    {
     "name": "stdout",
     "output_type": "stream",
     "text": [
      "IMG_20200229_080743.jpg\n",
      "[0]\n",
      "IMG_20200229_080744.jpg\n",
      "[0]\n",
      "IMG_20200229_080746.jpg\n",
      "[0.126172996246412]\n"
     ]
    },
    {
     "name": "stderr",
     "output_type": "stream",
     "text": [
      "\r",
      " 89%|████████▉ | 1863/2092 [01:26<00:18, 12.16it/s]"
     ]
    },
    {
     "name": "stdout",
     "output_type": "stream",
     "text": [
      "IMG_20200229_080749.jpg\n",
      "[0.8105263157894737]\n",
      "IMG_20200229_080750.jpg\n",
      "[0.9149908592321755]\n",
      "IMG_20200229_080751.jpg\n",
      "[0.8473038333932925]\n"
     ]
    },
    {
     "name": "stderr",
     "output_type": "stream",
     "text": [
      " 89%|████████▉ | 1867/2092 [01:26<00:18, 12.20it/s]"
     ]
    },
    {
     "name": "stdout",
     "output_type": "stream",
     "text": [
      "IMG_20200229_080752.jpg\n",
      "[0.16610348085168228]\n",
      "IMG_20200229_080753.jpg\n",
      "[0.16096830985915492]\n",
      "IMG_20200229_080756.jpg\n",
      "[0.7730207271491675]\n"
     ]
    },
    {
     "name": "stderr",
     "output_type": "stream",
     "text": [
      "\r",
      " 89%|████████▉ | 1869/2092 [01:26<00:18, 12.21it/s]"
     ]
    },
    {
     "name": "stdout",
     "output_type": "stream",
     "text": [
      "IMG_20200229_080757.jpg\n",
      "[0.7575757575757576]\n",
      "IMG_20200229_080758.jpg\n",
      "[0]\n",
      "IMG_20200229_080800.jpg\n",
      "[0.6712978157021479]\n"
     ]
    },
    {
     "name": "stderr",
     "output_type": "stream",
     "text": [
      " 90%|████████▉ | 1873/2092 [01:26<00:18, 12.15it/s]"
     ]
    },
    {
     "name": "stdout",
     "output_type": "stream",
     "text": [
      "IMG_20200229_080801.jpg\n",
      "[0.7892989650458895]\n",
      "IMG_20200229_080805.jpg\n",
      "[0.8872662425294005]\n",
      "IMG_20200229_080806.jpg\n",
      "[0.9277338705511649]\n"
     ]
    },
    {
     "name": "stderr",
     "output_type": "stream",
     "text": [
      "\r",
      " 90%|████████▉ | 1875/2092 [01:27<00:18, 12.01it/s]"
     ]
    },
    {
     "name": "stdout",
     "output_type": "stream",
     "text": [
      "IMG_20200229_080807.jpg\n",
      "[0.8866420036994451]\n",
      "IMG_20200229_080808.jpg\n",
      "[0.8926874212006595]\n",
      "IMG_20200229_080809.jpg\n",
      "[0.2172559642619523]\n"
     ]
    },
    {
     "name": "stderr",
     "output_type": "stream",
     "text": [
      " 90%|████████▉ | 1879/2092 [01:27<00:17, 12.07it/s]"
     ]
    },
    {
     "name": "stdout",
     "output_type": "stream",
     "text": [
      "IMG_20200229_080812.jpg\n",
      "[0.8368657146384625]\n",
      "IMG_20200229_080814.jpg\n",
      "[0]\n",
      "IMG_20200229_080815.jpg\n",
      "[0]\n"
     ]
    },
    {
     "name": "stderr",
     "output_type": "stream",
     "text": [
      "\r",
      " 90%|████████▉ | 1881/2092 [01:27<00:17, 12.06it/s]"
     ]
    },
    {
     "name": "stdout",
     "output_type": "stream",
     "text": [
      "IMG_20200229_080816.jpg\n",
      "[0.9072064656140089]\n",
      "IMG_20200229_080818.jpg\n",
      "[0.8160418124202642]\n",
      "IMG_20200229_080822.jpg\n",
      "[0.8664511923515672]\n"
     ]
    },
    {
     "name": "stderr",
     "output_type": "stream",
     "text": [
      " 90%|█████████ | 1885/2092 [01:27<00:17, 11.95it/s]"
     ]
    },
    {
     "name": "stdout",
     "output_type": "stream",
     "text": [
      "IMG_20200229_080823.jpg\n",
      "[0.8208979328165374]\n",
      "IMG_20200229_080824.jpg\n",
      "[0.8453223270440252]\n",
      "IMG_20200229_080825.jpg\n",
      "[0.7474604812863274]\n"
     ]
    },
    {
     "name": "stderr",
     "output_type": "stream",
     "text": [
      "\r",
      " 90%|█████████ | 1887/2092 [01:28<00:17, 11.93it/s]"
     ]
    },
    {
     "name": "stdout",
     "output_type": "stream",
     "text": [
      "IMG_20200229_080827.jpg\n",
      "[0.9064859579553479]\n",
      "IMG_20200229_080828.jpg\n",
      "[0.6989176509321371]\n",
      "IMG_20200229_080830.jpg\n",
      "[0.6697806494094407]\n"
     ]
    },
    {
     "name": "stderr",
     "output_type": "stream",
     "text": [
      " 90%|█████████ | 1891/2092 [01:28<00:16, 12.04it/s]"
     ]
    },
    {
     "name": "stdout",
     "output_type": "stream",
     "text": [
      "IMG_20200229_080833.jpg\n",
      "[0]\n",
      "IMG_20200229_080834.jpg\n",
      "[0.8311152153837796]\n",
      "IMG_20200229_080836.jpg\n",
      "[0.8283448313325004]\n"
     ]
    },
    {
     "name": "stderr",
     "output_type": "stream",
     "text": [
      "\r",
      " 90%|█████████ | 1893/2092 [01:28<00:16, 12.10it/s]"
     ]
    },
    {
     "name": "stdout",
     "output_type": "stream",
     "text": [
      "IMG_20200229_080837.jpg\n",
      "[0.777561936936937]\n",
      "IMG_20200229_080839.jpg\n",
      "[0]\n",
      "IMG_20200229_080843.jpg\n",
      "[0.7132380900646423]\n"
     ]
    },
    {
     "name": "stderr",
     "output_type": "stream",
     "text": [
      " 91%|█████████ | 1897/2092 [01:28<00:15, 12.19it/s]"
     ]
    },
    {
     "name": "stdout",
     "output_type": "stream",
     "text": [
      "IMG_20200229_080844.jpg\n",
      "[0.6382211538461539]\n",
      "IMG_20200229_080845.jpg\n",
      "[0.8369230769230769]\n",
      "IMG_20200229_080846.jpg\n",
      "[0.8668275638485645]\n"
     ]
    },
    {
     "name": "stderr",
     "output_type": "stream",
     "text": [
      "\r",
      " 91%|█████████ | 1899/2092 [01:29<00:15, 12.08it/s]"
     ]
    },
    {
     "name": "stdout",
     "output_type": "stream",
     "text": [
      "IMG_20200229_080847.jpg\n",
      "[0.8991030582471813]\n",
      "IMG_20200229_080848.jpg\n",
      "[0.8944202298188105]\n",
      "IMG_20200229_080849.jpg\n",
      "[0.848273012156066]\n"
     ]
    },
    {
     "name": "stderr",
     "output_type": "stream",
     "text": [
      " 91%|█████████ | 1903/2092 [01:29<00:15, 12.20it/s]"
     ]
    },
    {
     "name": "stdout",
     "output_type": "stream",
     "text": [
      "IMG_20200229_080852.jpg\n",
      "[0.738823401597045]\n",
      "IMG_20200229_080854.jpg\n",
      "[0.8033572277655704]\n",
      "IMG_20200229_080855.jpg\n",
      "[0.8261950217931631]\n"
     ]
    },
    {
     "name": "stderr",
     "output_type": "stream",
     "text": [
      "\r",
      " 91%|█████████ | 1905/2092 [01:29<00:15, 12.20it/s]"
     ]
    },
    {
     "name": "stdout",
     "output_type": "stream",
     "text": [
      "IMG_20200229_080857.jpg\n",
      "[0.8622167789344765]\n",
      "IMG_20200229_080858.jpg\n",
      "[0.7894244092424072]\n",
      "IMG_20200229_080900.jpg\n",
      "[0.8620726919059112]\n"
     ]
    },
    {
     "name": "stderr",
     "output_type": "stream",
     "text": [
      " 91%|█████████▏| 1909/2092 [01:29<00:15, 12.16it/s]"
     ]
    },
    {
     "name": "stdout",
     "output_type": "stream",
     "text": [
      "IMG_20200229_080901.jpg\n",
      "[0.7833125101852355]\n",
      "IMG_20200229_080906.jpg\n",
      "[0.8576059940203883]\n",
      "IMG_20200229_080907.jpg\n",
      "[0.8607718385733525]\n"
     ]
    },
    {
     "name": "stderr",
     "output_type": "stream",
     "text": [
      "\r",
      " 91%|█████████▏| 1911/2092 [01:30<00:15, 11.84it/s]"
     ]
    },
    {
     "name": "stdout",
     "output_type": "stream",
     "text": [
      "IMG_20200229_080908.jpg\n",
      "[0.967741935483871]\n",
      "IMG_20200229_080909.jpg\n",
      "[0.9327324478178368]\n",
      "IMG_20200229_080910.jpg\n",
      "[0.7712618421526602]\n"
     ]
    },
    {
     "name": "stderr",
     "output_type": "stream",
     "text": [
      " 92%|█████████▏| 1915/2092 [01:30<00:14, 11.97it/s]"
     ]
    },
    {
     "name": "stdout",
     "output_type": "stream",
     "text": [
      "IMG_20200229_080911.jpg\n",
      "[0.7962529274004684]\n",
      "IMG_20200229_080912.jpg\n",
      "[0.8126508411080292]\n",
      "IMG_20200229_080915.jpg\n",
      "[0.7587262706674831]\n"
     ]
    },
    {
     "name": "stderr",
     "output_type": "stream",
     "text": [
      "\r",
      " 92%|█████████▏| 1917/2092 [01:30<00:14, 12.09it/s]"
     ]
    },
    {
     "name": "stdout",
     "output_type": "stream",
     "text": [
      "IMG_20200229_080916.jpg\n",
      "[0.7693166672670293]\n",
      "IMG_20200229_080917.jpg\n",
      "[0.7354838709677419]\n",
      "IMG_20200229_080919.jpg\n",
      "[0.8385536619069553]\n"
     ]
    },
    {
     "name": "stderr",
     "output_type": "stream",
     "text": [
      " 92%|█████████▏| 1921/2092 [01:30<00:13, 12.36it/s]"
     ]
    },
    {
     "name": "stdout",
     "output_type": "stream",
     "text": [
      "IMG_20200229_080921.jpg\n",
      "[0.9255385715562706]\n",
      "IMG_20200229_080922.jpg\n",
      "[0.8215563506261181]\n",
      "IMG_20200229_080923.jpg\n",
      "[0.6993624148985987]\n"
     ]
    },
    {
     "name": "stderr",
     "output_type": "stream",
     "text": [
      "\r",
      " 92%|█████████▏| 1923/2092 [01:31<00:13, 12.36it/s]"
     ]
    },
    {
     "name": "stdout",
     "output_type": "stream",
     "text": [
      "IMG_20200229_080924.jpg\n",
      "[0.7836243603265752]\n",
      "IMG_20200229_080926.jpg\n",
      "[0.8212960628219445]\n",
      "IMG_20200229_080929.jpg\n",
      "[0.7001548935557077]\n"
     ]
    },
    {
     "name": "stderr",
     "output_type": "stream",
     "text": [
      " 92%|█████████▏| 1927/2092 [01:31<00:13, 12.02it/s]"
     ]
    },
    {
     "name": "stdout",
     "output_type": "stream",
     "text": [
      "IMG_20200229_080930.jpg\n",
      "[0.7685009487666035]\n",
      "IMG_20200229_080931.jpg\n",
      "[0.8639468690702087]\n",
      "IMG_20200229_080932.jpg\n",
      "[0.8766233766233766]\n"
     ]
    },
    {
     "name": "stderr",
     "output_type": "stream",
     "text": [
      "\r",
      " 92%|█████████▏| 1929/2092 [01:31<00:13, 11.81it/s]"
     ]
    },
    {
     "name": "stdout",
     "output_type": "stream",
     "text": [
      "IMG_20200229_080933.jpg\n",
      "[0.8666982922201139]\n",
      "IMG_20200229_080934.jpg\n",
      "[0.8171726755218216]\n",
      "IMG_20200229_080935.jpg\n",
      "[0.8723644578313253]\n"
     ]
    },
    {
     "name": "stderr",
     "output_type": "stream",
     "text": [
      " 92%|█████████▏| 1933/2092 [01:31<00:13, 12.10it/s]"
     ]
    },
    {
     "name": "stdout",
     "output_type": "stream",
     "text": [
      "IMG_20200229_080936.jpg\n",
      "[0]\n",
      "IMG_20200229_080945.jpg\n",
      "[0.8436432637571157]\n",
      "IMG_20200229_080946.jpg\n",
      "[0.8088235294117647]\n"
     ]
    },
    {
     "name": "stderr",
     "output_type": "stream",
     "text": [
      "\r",
      " 92%|█████████▏| 1935/2092 [01:32<00:12, 12.14it/s]"
     ]
    },
    {
     "name": "stdout",
     "output_type": "stream",
     "text": [
      "IMG_20200229_080947.jpg\n",
      "[0.7354838709677419]\n",
      "IMG_20200229_080948.jpg\n",
      "[0.6876660341555977]\n",
      "IMG_20200229_080949.jpg\n",
      "[0.793168880455408]\n"
     ]
    },
    {
     "name": "stderr",
     "output_type": "stream",
     "text": [
      " 93%|█████████▎| 1939/2092 [01:32<00:12, 12.32it/s]"
     ]
    },
    {
     "name": "stdout",
     "output_type": "stream",
     "text": [
      "IMG_20200229_080950.jpg\n",
      "[0.8588829471182412]\n",
      "IMG_20200229_080951.jpg\n",
      "[0.8155597722960152]\n",
      "IMG_20200229_080952.jpg\n",
      "[0.7592979127134725]\n"
     ]
    },
    {
     "name": "stderr",
     "output_type": "stream",
     "text": [
      "\r",
      " 93%|█████████▎| 1941/2092 [01:32<00:12, 12.41it/s]"
     ]
    },
    {
     "name": "stdout",
     "output_type": "stream",
     "text": [
      "IMG_20200229_080955.jpg\n",
      "[0.727212522576761]\n",
      "IMG_20200229_080956.jpg\n",
      "[0.7286162383882253]\n",
      "IMG_20200229_080957.jpg\n",
      "[0.7668406072106262]\n"
     ]
    },
    {
     "name": "stderr",
     "output_type": "stream",
     "text": [
      " 93%|█████████▎| 1945/2092 [01:32<00:11, 12.41it/s]"
     ]
    },
    {
     "name": "stdout",
     "output_type": "stream",
     "text": [
      "IMG_20200229_080959.jpg\n",
      "[0.08745722201097289]\n",
      "IMG_20200229_081021.jpg\n",
      "[0.7790322580645161]\n",
      "IMG_20200229_081022.jpg\n",
      "[0.9412429378531073]\n"
     ]
    },
    {
     "name": "stderr",
     "output_type": "stream",
     "text": [
      "\r",
      " 93%|█████████▎| 1947/2092 [01:33<00:11, 12.38it/s]"
     ]
    },
    {
     "name": "stdout",
     "output_type": "stream",
     "text": [
      "IMG_20200229_081023.jpg\n",
      "[0.9133709981167608]\n",
      "IMG_20200229_081024.jpg\n",
      "[0.9661016949152542]\n",
      "IMG_20200229_081025.jpg\n",
      "[0.9209432206019237]\n"
     ]
    },
    {
     "name": "stderr",
     "output_type": "stream",
     "text": [
      " 93%|█████████▎| 1951/2092 [01:33<00:11, 11.99it/s]"
     ]
    },
    {
     "name": "stdout",
     "output_type": "stream",
     "text": [
      "IMG_20200229_081026.jpg\n",
      "[0]\n",
      "IMG_20200229_081027.jpg\n",
      "[0]\n",
      "IMG_20200229_081031.jpg\n",
      "[0.6808349146110056]\n"
     ]
    },
    {
     "name": "stderr",
     "output_type": "stream",
     "text": [
      "\r",
      " 93%|█████████▎| 1953/2092 [01:33<00:11, 12.07it/s]"
     ]
    },
    {
     "name": "stdout",
     "output_type": "stream",
     "text": [
      "IMG_20200229_081032.jpg\n",
      "[0.6466793168880456]\n",
      "IMG_20200229_081033.jpg\n",
      "[0.7249525616698292]\n",
      "IMG_20200229_081034.jpg\n",
      "[0.9389830508474576]\n"
     ]
    },
    {
     "name": "stderr",
     "output_type": "stream",
     "text": [
      " 94%|█████████▎| 1957/2092 [01:33<00:10, 12.36it/s]"
     ]
    },
    {
     "name": "stdout",
     "output_type": "stream",
     "text": [
      "IMG_20200229_081036.jpg\n",
      "[0.8833333333333333]\n",
      "IMG_20200229_081038.jpg\n",
      "[0]\n",
      "IMG_20200229_081040.jpg\n",
      "[0.7650973006905211]\n"
     ]
    },
    {
     "name": "stderr",
     "output_type": "stream",
     "text": [
      "\r",
      " 94%|█████████▎| 1959/2092 [01:33<00:10, 12.41it/s]"
     ]
    },
    {
     "name": "stdout",
     "output_type": "stream",
     "text": [
      "IMG_20200229_081041.jpg\n",
      "[0.8596491228070176]\n",
      "IMG_20200229_081043.jpg\n",
      "[0]\n",
      "IMG_20200229_081044.jpg\n",
      "[0.8870443464128164]\n"
     ]
    },
    {
     "name": "stderr",
     "output_type": "stream",
     "text": [
      " 94%|█████████▍| 1963/2092 [01:34<00:10, 12.49it/s]"
     ]
    },
    {
     "name": "stdout",
     "output_type": "stream",
     "text": [
      "IMG_20200229_081045.jpg\n",
      "[0]\n",
      "IMG_20200229_081051.jpg\n",
      "[0.7223908918406072]\n",
      "IMG_20200229_081052.jpg\n",
      "[0.8676082862523541]\n"
     ]
    },
    {
     "name": "stderr",
     "output_type": "stream",
     "text": [
      "\r",
      " 94%|█████████▍| 1965/2092 [01:34<00:10, 12.47it/s]"
     ]
    },
    {
     "name": "stdout",
     "output_type": "stream",
     "text": [
      "IMG_20200229_081053.jpg\n",
      "[0.7099183929692404]\n",
      "IMG_20200229_081054.jpg\n",
      "[0.8192090395480226]\n",
      "IMG_20200229_081056.jpg\n",
      "[0.7623352165725047]\n"
     ]
    },
    {
     "name": "stderr",
     "output_type": "stream",
     "text": [
      " 94%|█████████▍| 1969/2092 [01:34<00:09, 12.63it/s]"
     ]
    },
    {
     "name": "stdout",
     "output_type": "stream",
     "text": [
      "IMG_20200229_081057.jpg\n",
      "[0.8662900188323918]\n",
      "IMG_20200229_081058.jpg\n",
      "[0.721584440227704]\n",
      "IMG_20200229_081059.jpg\n",
      "[0.7749051233396584]\n"
     ]
    },
    {
     "name": "stderr",
     "output_type": "stream",
     "text": [
      "\r",
      " 94%|█████████▍| 1971/2092 [01:34<00:09, 12.61it/s]"
     ]
    },
    {
     "name": "stdout",
     "output_type": "stream",
     "text": [
      "IMG_20200229_081103.jpg\n",
      "[0.8750156936597615]\n",
      "IMG_20200229_081104.jpg\n",
      "[0.7236660389202763]\n",
      "IMG_20200229_081105.jpg\n",
      "[0.8129315756434401]\n"
     ]
    },
    {
     "name": "stderr",
     "output_type": "stream",
     "text": [
      " 94%|█████████▍| 1975/2092 [01:35<00:09, 12.62it/s]"
     ]
    },
    {
     "name": "stdout",
     "output_type": "stream",
     "text": [
      "IMG_20200229_081106.jpg\n",
      "[0.7582548650345261]\n",
      "IMG_20200229_081107.jpg\n",
      "[0.7259887005649718]\n",
      "IMG_20200229_081108.jpg\n",
      "[0.7553044569993722]\n"
     ]
    },
    {
     "name": "stderr",
     "output_type": "stream",
     "text": [
      "\r",
      " 95%|█████████▍| 1977/2092 [01:35<00:09, 12.61it/s]"
     ]
    },
    {
     "name": "stdout",
     "output_type": "stream",
     "text": [
      "IMG_20200229_081109.jpg\n",
      "[0.6802259887005649]\n",
      "IMG_20200229_081110.jpg\n",
      "[0.9215994701548141]\n",
      "IMG_20200229_081111.jpg\n",
      "[0.7971188475390156]\n"
     ]
    },
    {
     "name": "stderr",
     "output_type": "stream",
     "text": [
      " 95%|█████████▍| 1981/2092 [01:35<00:08, 12.48it/s]"
     ]
    },
    {
     "name": "stdout",
     "output_type": "stream",
     "text": [
      "IMG_20200229_081113.jpg\n",
      "[0.9193313953488372]\n",
      "IMG_20200229_081114.jpg\n",
      "[0.8206963393722508]\n",
      "IMG_20200229_081115.jpg\n",
      "[0.748587570621469]\n"
     ]
    },
    {
     "name": "stderr",
     "output_type": "stream",
     "text": [
      "\r",
      " 95%|█████████▍| 1983/2092 [01:35<00:08, 12.55it/s]"
     ]
    },
    {
     "name": "stdout",
     "output_type": "stream",
     "text": [
      "IMG_20200229_081116.jpg\n",
      "[0]\n",
      "IMG_20200229_081119.jpg\n",
      "[0.8224153770051587]\n",
      "IMG_20200229_081120.jpg\n",
      "[0.6425609670391454]\n"
     ]
    },
    {
     "name": "stderr",
     "output_type": "stream",
     "text": [
      " 95%|█████████▍| 1987/2092 [01:36<00:08, 12.58it/s]"
     ]
    },
    {
     "name": "stdout",
     "output_type": "stream",
     "text": [
      "IMG_20200229_081122.jpg\n",
      "[0]\n",
      "IMG_20200229_081211.jpg\n",
      "[0]\n",
      "IMG_20200229_081211_1.jpg\n",
      "[0.696045197740113]\n"
     ]
    },
    {
     "name": "stderr",
     "output_type": "stream",
     "text": [
      "\r",
      " 95%|█████████▌| 1989/2092 [01:36<00:08, 12.47it/s]"
     ]
    },
    {
     "name": "stdout",
     "output_type": "stream",
     "text": [
      "IMG_20200229_081212.jpg\n",
      "[0.6629001883239172]\n",
      "IMG_20200229_081213.jpg\n",
      "[0.8044540110936336]\n",
      "IMG_20200229_081214.jpg\n",
      "[0.831029058696912]\n"
     ]
    },
    {
     "name": "stderr",
     "output_type": "stream",
     "text": [
      " 95%|█████████▌| 1993/2092 [01:36<00:07, 12.42it/s]"
     ]
    },
    {
     "name": "stdout",
     "output_type": "stream",
     "text": [
      "IMG_20200229_081215.jpg\n",
      "[0.6849968612680477]\n",
      "IMG_20200229_081216.jpg\n",
      "[0.733458882611425]\n",
      "IMG_20200229_081217.jpg\n",
      "[0]\n"
     ]
    },
    {
     "name": "stderr",
     "output_type": "stream",
     "text": [
      "\r",
      " 95%|█████████▌| 1995/2092 [01:36<00:07, 12.45it/s]"
     ]
    },
    {
     "name": "stdout",
     "output_type": "stream",
     "text": [
      "IMG_20200229_081218.jpg\n",
      "[0]\n",
      "IMG_20200229_081221.jpg\n",
      "[0.8508154648563623]\n",
      "IMG_20200229_081222.jpg\n",
      "[0.8294560808013909]\n"
     ]
    },
    {
     "name": "stderr",
     "output_type": "stream",
     "text": [
      " 96%|█████████▌| 1999/2092 [01:37<00:07, 12.49it/s]"
     ]
    },
    {
     "name": "stdout",
     "output_type": "stream",
     "text": [
      "IMG_20200229_081223.jpg\n",
      "[0.8568590115075752]\n",
      "IMG_20200229_081224.jpg\n",
      "[0.7788724232138422]\n",
      "IMG_20200229_081225.jpg\n",
      "[0.8419571156552694]\n"
     ]
    },
    {
     "name": "stderr",
     "output_type": "stream",
     "text": [
      "\r",
      " 96%|█████████▌| 2001/2092 [01:37<00:07, 12.56it/s]"
     ]
    },
    {
     "name": "stdout",
     "output_type": "stream",
     "text": [
      "IMG_20200229_081226.jpg\n",
      "[0.8345061677291167]\n",
      "IMG_20200229_081227.jpg\n",
      "[0.7569335209868366]\n",
      "IMG_20200229_081228.jpg\n",
      "[0.8152164914314098]\n"
     ]
    },
    {
     "name": "stderr",
     "output_type": "stream",
     "text": [
      " 96%|█████████▌| 2005/2092 [01:37<00:06, 12.50it/s]"
     ]
    },
    {
     "name": "stdout",
     "output_type": "stream",
     "text": [
      "IMG_20200229_081229.jpg\n",
      "[0.8341750144879543]\n",
      "IMG_20200229_081231.jpg\n",
      "[0.8341750144879543]\n",
      "IMG_20200229_081233.jpg\n",
      "[0.7906325807053555]\n"
     ]
    },
    {
     "name": "stderr",
     "output_type": "stream",
     "text": [
      "\r",
      " 96%|█████████▌| 2007/2092 [01:37<00:06, 12.58it/s]"
     ]
    },
    {
     "name": "stdout",
     "output_type": "stream",
     "text": [
      "IMG_20200229_081234.jpg\n",
      "[0.9009657075285771]\n",
      "IMG_20200229_081235.jpg\n",
      "[0]\n",
      "IMG_20200229_081236.jpg\n",
      "[0]\n"
     ]
    },
    {
     "name": "stderr",
     "output_type": "stream",
     "text": [
      " 96%|█████████▌| 2011/2092 [01:38<00:05, 13.71it/s]"
     ]
    },
    {
     "name": "stdout",
     "output_type": "stream",
     "text": [
      "IMG_20200229_081237.jpg\n",
      "[0]\n",
      "IMG_20200228_103353.jpg\n",
      "[0.5095643272983175]\n",
      "IMG_20200228_103359.jpg\n",
      "[0.5270471464019851]\n",
      "IMG_20200228_103411.jpg\n",
      "[0.15037659508247744]\n"
     ]
    },
    {
     "name": "stderr",
     "output_type": "stream",
     "text": [
      " 96%|█████████▋| 2015/2092 [01:38<00:04, 15.69it/s]"
     ]
    },
    {
     "name": "stdout",
     "output_type": "stream",
     "text": [
      "IMG_20200228_103412.jpg\n",
      "[0.3338745369702218]\n",
      "IMG_20200228_103413.jpg\n",
      "[0.32612041116005874]\n",
      "IMG_20200228_103414.jpg\n",
      "[0]\n",
      "IMG_20200228_103417.jpg\n",
      "[0.14679110916669705]\n",
      "0001.jpg\n",
      "[0.9123257128021869]\n",
      "0002.jpg\n",
      "[0.9323009728012706]\n",
      "0003.jpg\n",
      "[0.8842259586750355]\n",
      "0004.jpg\n",
      "[0.8727722545471205]\n",
      "0005.jpg\n",
      "[0.8511934759701287]\n"
     ]
    },
    {
     "name": "stderr",
     "output_type": "stream",
     "text": [
      " 97%|█████████▋| 2035/2092 [01:38<00:02, 27.27it/s]"
     ]
    },
    {
     "name": "stdout",
     "output_type": "stream",
     "text": [
      "0006.jpg\n",
      "[0.834860493883722]\n",
      "0007.jpg\n",
      "[0.7291886195995785]\n",
      "0008.jpg\n",
      "[0.8239794749622028]\n",
      "0009.jpg\n",
      "[0.7854873932896566]\n",
      "0010.jpg\n",
      "[0.13602465603073183]\n",
      "0011.jpg\n",
      "[0.7059757792336708]\n",
      "0012.jpg\n",
      "[0.1515479056462663]\n",
      "0013.jpg\n",
      "[0.7721052631578947]\n",
      "0014.jpg\n",
      "[0.8578366654092795]\n",
      "0015.jpg\n",
      "[0.9066292247517802]\n",
      "0016.jpg\n",
      "[0.7983805668016194]\n",
      "0017.jpg\n",
      "[0.8716043123232108]\n",
      "0018.jpg\n",
      "[0.881053901850362]\n",
      "0019.jpg\n",
      "[0.8583735585947976]\n",
      "0020.jpg\n",
      "[0.855430410297667]\n",
      "0021.jpg\n",
      "[0.8743362831858407]\n",
      "0022.jpg\n",
      "[0.11577708006279434]\n",
      "0023.jpg\n",
      "[0.8710646285867525]\n",
      "0024.jpg\n",
      "[0.11813125695216908]\n",
      "0025.jpg\n",
      "[0.7247787610619469]\n",
      "0026.jpg\n",
      "[0.120504712770625]\n",
      "0027.jpg\n",
      "[0.7595803164387235]\n",
      "0028.jpg\n",
      "[0.1282237032744132]\n",
      "0029.jpg\n",
      "[0.13414397952051738]\n",
      "0030.jpg\n",
      "[0.7420555108608206]\n",
      "0031.jpg\n",
      "[0.8981304778060504]\n"
     ]
    },
    {
     "name": "stderr",
     "output_type": "stream",
     "text": [
      " 99%|█████████▊| 2062/2092 [01:38<00:00, 45.91it/s]"
     ]
    },
    {
     "name": "stdout",
     "output_type": "stream",
     "text": [
      "0032.jpg\n",
      "[0.8521196941502263]\n",
      "0033.jpg\n",
      "[0.11430112512656491]\n",
      "0034.jpg\n",
      "[0.8490245971162002]\n",
      "0035.jpg\n",
      "[0.12770928929394598]\n",
      "0036.jpg\n",
      "[0.7475084817642069]\n",
      "0037.jpg\n",
      "[0.13105131821633936]\n",
      "0038.jpg\n",
      "[0.17641196013289037]\n",
      "0039.jpg\n",
      "[0.13376522702104096]\n",
      "0040.jpg\n",
      "[0.14056463250011636]\n",
      "0041.jpg\n",
      "[0.14432681737800507]\n",
      "0042.jpg\n",
      "[0.14265636810279667]\n",
      "0043.jpg\n",
      "[0.1476740632067975]\n",
      "0044.jpg\n",
      "[0.7232647724059937]\n",
      "0045.jpg\n",
      "[0.1147464859437751]\n",
      "0046.jpg\n",
      "[0.8261052631578948]\n",
      "0047.jpg\n",
      "[0.8147017543859649]\n",
      "0048.jpg\n",
      "[0.6536789652247668]\n",
      "0049.jpg\n",
      "[0.8171812865497076]\n",
      "0050.jpg\n",
      "[0.7625614035087719]\n",
      "0051.jpg\n",
      "[0.7541286549707602]\n",
      "0052.jpg\n",
      "[0.748]\n",
      "0053.jpg\n",
      "[0.8114035087719298]\n",
      "0054.jpg\n",
      "[0.7614035087719299]\n",
      "0055.jpg\n",
      "[0.7860818713450293]\n",
      "0056.jpg\n",
      "[0.7738362573099415]\n",
      "0057.jpg\n",
      "[0.8584468538596979]\n",
      "0058.jpg\n",
      "[0.1383625907990315]\n",
      "0059.jpg\n",
      "[0.6670877192982456]\n"
     ]
    },
    {
     "name": "stderr",
     "output_type": "stream",
     "text": [
      "100%|██████████| 2092/2092 [01:38<00:00, 21.15it/s]"
     ]
    },
    {
     "name": "stdout",
     "output_type": "stream",
     "text": [
      "0060.jpg\n",
      "[0.1385975018190638]\n",
      "0061.jpg\n",
      "[0.6969590643274853]\n",
      "0062.jpg\n",
      "[0.13639754147272945]\n",
      "0063.jpg\n",
      "[0.14300237737737737]\n",
      "0064.jpg\n",
      "[0.8570104716893707]\n",
      "0065.jpg\n",
      "[0.773978315262719]\n",
      "0066.jpg\n",
      "[0.7346081871345029]\n",
      "0067.jpg\n",
      "[0.8278635778635779]\n",
      "0068.jpg\n",
      "[0.7513450292397661]\n",
      "0069.jpg\n",
      "[0.7159649122807018]\n",
      "0070.jpg\n",
      "[0.14330721003134797]\n",
      "0071.jpg\n",
      "[0.14974777253668764]\n",
      "0072.jpg\n",
      "[0.15183672113723928]\n",
      "0073.jpg\n",
      "[0.14912495310792517]\n",
      "0074.jpg\n",
      "[0.8127760788311247]\n",
      "0075.jpg\n",
      "[0.8436660179779446]\n",
      "0076.jpg\n",
      "[0.15123645686874534]\n",
      "Mean overlapping:  0.48582109739794826\n"
     ]
    },
    {
     "name": "stderr",
     "output_type": "stream",
     "text": [
      "\n"
     ]
    }
   ],
   "source": [
    "def calc_overlappings(rects, pred_rects):\n",
    "    global glob_overlappings    \n",
    "    overlappings=[(np.max([calc_overlapping(pred_rect,rect, np.max) for pred_rect in pred_rects]) if len(pred_rects) > 0 else 0) for rect in rects]\n",
    "    print(overlappings)\n",
    "    glob_overlappings.extend(overlappings)\n",
    "\n",
    "def remove_margin(rect):\n",
    "    ((x1,y1),(x2,y2))=rect\n",
    "    w,h=(abs(x1-x2), abs(y1-y2))\n",
    "    center=((x1+x2)/2,(y1+y2)/2)\n",
    "    w_margin=w/12\n",
    "    h_margin=h/12\n",
    "    x1+=w_margin\n",
    "    x2-=w_margin\n",
    "    y1+=h_margin\n",
    "    y2-=h_margin\n",
    "    return ((int(x1),int(y1)),(int(x2),int(y2)))\n",
    "    \n",
    "def draw_predicted_rectangles(filename, scene_name, label_resolution, rects, *args):\n",
    "    global glob_RES\n",
    "    \n",
    "    img=imread_resized(scene_name, filename, label_resolution)\n",
    "    img_rows=glob_RES[np.where((glob_RES[:,0] == scene_name) * (glob_RES[:,1] == filename))]\n",
    "    \n",
    "    pred_rects=[]\n",
    "#     rects=[add_margin(correct_rect_ratio(rect)) for rect in rects]\n",
    "    for max_row in img_rows:\n",
    "        [scene_name, filename, scale, (x,y), pred]=max_row\n",
    "        [x,y,winW_s,winH_s]=scale_many([x,y,winW,winH], scale)\n",
    "        pred_rect = (x,y), (x + winW_s, y + winH_s)\n",
    "        pred_rect = remove_margin(pred_rect)\n",
    "        cv2.rectangle(img, pred_rect[0], pred_rect[1], (0, 255, 0), DRAW_BORDER)\n",
    "        pred_rects.append(((x,y),(x+winW_s, y+winH_s)))\n",
    "    for rect in rects: \n",
    "        ((x,y),(x2,y2))=rect\n",
    "        cv2.rectangle(img, (x,y), (x2,y2), (255, 0, 0), DRAW_BORDER)\n",
    "    \n",
    "    save_image(img, scene_name, filename, \"predicted_labels\")\n",
    "    print(filename)\n",
    "    calc_overlappings(rects, pred_rects)\n",
    "\n",
    "glob_overlappings=[]\n",
    "[draw_predicted_rectangles(*row) for row in tqdm(walk_dataset())]# if row[1]==\"blue_1\"]# and row[0]==\"r_1_0.jpg\"]\n",
    "print(\"Mean overlapping: \",np.mean(glob_overlappings))"
   ]
  },
  {
   "cell_type": "code",
   "execution_count": 10,
   "metadata": {},
   "outputs": [],
   "source": [
    "#min_pred=0.8 : overlap = 0.623"
   ]
  }
 ],
 "metadata": {
  "kernelspec": {
   "display_name": "Python 3",
   "language": "python",
   "name": "python3"
  },
  "language_info": {
   "codemirror_mode": {
    "name": "ipython",
    "version": 3
   },
   "file_extension": ".py",
   "mimetype": "text/x-python",
   "name": "python",
   "nbconvert_exporter": "python",
   "pygments_lexer": "ipython3",
   "version": "3.6.9"
  }
 },
 "nbformat": 4,
 "nbformat_minor": 2
}
