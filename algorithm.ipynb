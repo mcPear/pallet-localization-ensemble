{
 "cells": [
  {
   "cell_type": "code",
   "execution_count": 2,
   "metadata": {},
   "outputs": [],
   "source": [
    "import cv2\n",
    "import numpy as np\n",
    "import time\n",
    "import imutils\n",
    "from joblib import load\n",
    "from dataset_io import *\n",
    "import timeit"
   ]
  },
  {
   "cell_type": "code",
   "execution_count": 3,
   "metadata": {},
   "outputs": [],
   "source": [
    "def pyramid(image, scale=1.5, minSize=(30, 30)):\n",
    "    yield image\n",
    "    while True:\n",
    "        w = int(image.shape[1] / scale)\n",
    "        image = imutils.resize(image, width=w)\n",
    "        if image.shape[0] < minSize[1] or image.shape[1] < minSize[0]:\n",
    "            break\n",
    "        yield image\n",
    "        \n",
    "def sliding_window(image, stepSize, windowSize):\n",
    "    for y in range(0, image.shape[0], stepSize):\n",
    "        for x in range(0, image.shape[1], stepSize):\n",
    "            yield (x, y, image[y:y + windowSize[1], x:x + windowSize[0]])"
   ]
  },
  {
   "cell_type": "code",
   "execution_count": 10,
   "metadata": {},
   "outputs": [],
   "source": [
    "(winW, winH) = (120,24)\n",
    "\n",
    "clf = load('rand_forest_clf.joblib') \n",
    "clf.set_params(n_jobs=-1)\n",
    "\n",
    "def predict(filename, scene_name, label_resolution, rects):\n",
    "    image=imread_resized(scene_name, filename, label_resolution)\n",
    "    channels=read_channels(scene_name, filename)\n",
    "    for resized in pyramid(image, scale=1.5):\n",
    "        X=[]\n",
    "        for (x, y, window) in sliding_window(resized, stepSize=32, windowSize=(winW, winH)):\n",
    "            # if the window does not meet our desired window size, ignore it\n",
    "            if window.shape[0] != winH or window.shape[1] != winW:\n",
    "                continue\n",
    "            channels_window=channels[y:y + winH, x:x + winW]\n",
    "            X.append(channels_window.flatten())\n",
    "            clone = resized.copy()\n",
    "#             cv2.rectangle(clone, (x, y), (x + winW, y + winH), (255, 255, 255), 2)\n",
    "#             cv2.imshow(\"Window\", clone)\n",
    "#             cv2.waitKey(1)\n",
    "        if X:\n",
    "            y_pred=clf.predict(X) #TODO may be per image, will be faster\n",
    "    print(\"filename\")"
   ]
  },
  {
   "cell_type": "code",
   "execution_count": 11,
   "metadata": {},
   "outputs": [
    {
     "name": "stdout",
     "output_type": "stream",
     "text": [
      "filename\n",
      "filename\n",
      "filename\n",
      "filename\n",
      "filename\n",
      "filename\n",
      "filename\n",
      "filename\n",
      "filename\n",
      "filename\n"
     ]
    },
    {
     "data": {
      "text/plain": [
       "9.198062949000814"
      ]
     },
     "execution_count": 11,
     "metadata": {},
     "output_type": "execute_result"
    }
   ],
   "source": [
    "def predict_single():\n",
    "    row=walk_dataset()[0]\n",
    "    predict(*row)\n",
    "    \n",
    "timeit.timeit(predict_single, number=10)\n",
    "# features only - 2.0s\n",
    "# classify per image - 3.36s\n",
    "# classify per window - 9.920s"
   ]
  },
  {
   "cell_type": "code",
   "execution_count": null,
   "metadata": {},
   "outputs": [],
   "source": [
    "[predict(*row) for row in walk_dataset()]"
   ]
  },
  {
   "cell_type": "code",
   "execution_count": null,
   "metadata": {},
   "outputs": [],
   "source": []
  }
 ],
 "metadata": {
  "kernelspec": {
   "display_name": "Python 3",
   "language": "python",
   "name": "python3"
  },
  "language_info": {
   "codemirror_mode": {
    "name": "ipython",
    "version": 3
   },
   "file_extension": ".py",
   "mimetype": "text/x-python",
   "name": "python",
   "nbconvert_exporter": "python",
   "pygments_lexer": "ipython3",
   "version": "3.6.9"
  }
 },
 "nbformat": 4,
 "nbformat_minor": 2
}
