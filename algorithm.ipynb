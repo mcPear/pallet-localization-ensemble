{
 "cells": [
  {
   "cell_type": "code",
   "execution_count": 1,
   "metadata": {},
   "outputs": [],
   "source": [
    "import cv2\n",
    "import numpy as np\n",
    "import time\n",
    "import imutils\n",
    "from joblib import load\n",
    "from dataset_io import *\n",
    "import timeit\n",
    "from tqdm import tqdm\n",
    "import psutil\n",
    "from datetime import datetime"
   ]
  },
  {
   "cell_type": "code",
   "execution_count": 2,
   "metadata": {},
   "outputs": [],
   "source": [
    "def pyramid(image, scale=1.5, minSize=(30, 30)):\n",
    "    yield image\n",
    "    while True:\n",
    "        w = int(image.shape[1] / scale)\n",
    "        image = imutils.resize(image, width=w)\n",
    "        if image.shape[0] < minSize[1] or image.shape[1] < minSize[0]:\n",
    "            break\n",
    "        yield image\n",
    "        \n",
    "def sliding_window(image, stepSize, windowSize):\n",
    "    for y in range(0, image.shape[0], stepSize):\n",
    "        for x in range(0, image.shape[1], stepSize):\n",
    "            yield (x, y, image[y:y + windowSize[1], x:x + windowSize[0]])"
   ]
  },
  {
   "cell_type": "code",
   "execution_count": 3,
   "metadata": {},
   "outputs": [],
   "source": [
    "(winW, winH) = (120,24)\n",
    "\n",
    "clf = load('rand_forest_clf.joblib') \n",
    "clf.set_params(n_jobs=-1)\n",
    "\n",
    "def show(img, x, y, winW, winH):\n",
    "    clone = img.copy()\n",
    "    cv2.rectangle(clone, (x, y), (x + winW, y + winH), (255, 255, 255), 2)\n",
    "    cv2.imshow(\"Window\", clone)\n",
    "    cv2.waitKey(1)\n",
    "\n",
    "def global_predict():\n",
    "    global glob_X, glob_Y\n",
    "    pred=clf.predict(glob_X)\n",
    "    if glob_Y.size == 0:\n",
    "        glob_Y=pred\n",
    "    else:\n",
    "        glob_Y=np.concatenate((glob_Y,pred))\n",
    "    glob_X=[]\n",
    "    \n",
    "def predict(filename, scene_name, label_resolution, rects):\n",
    "    global glob_X,glob_IDX,glob_IT,glob_DUMP_IT\n",
    "    \n",
    "    image=imread_resized(scene_name, filename, label_resolution)\n",
    "    channels=read_channels(scene_name, filename)\n",
    "    X=[]\n",
    "    for resized in pyramid(image, scale=1.5):\n",
    "        for (x, y, window) in sliding_window(resized, stepSize=32, windowSize=(winW, winH)):\n",
    "            # if the window does not meet our desired window size, ignore it\n",
    "            if window.shape[0] != winH or window.shape[1] != winW:\n",
    "                continue\n",
    "            channels_window=channels[y:y + winH, x:x + winW]\n",
    "            features=channels_window.flatten()\n",
    "            glob_X.append(features)\n",
    "            glob_IDX.append([scene_name, filename, resized.shape, (x,y)])\n",
    "            #show(resized, x, y, winW, winH)\n",
    "    glob_IT+=1\n",
    "    if glob_IT==glob_DUMP_IT:\n",
    "        global_predict()\n",
    "        glob_IT=0"
   ]
  },
  {
   "cell_type": "code",
   "execution_count": 5,
   "metadata": {},
   "outputs": [
    {
     "name": "stderr",
     "output_type": "stream",
     "text": [
      "100%|██████████| 2092/2092 [04:35<00:00,  7.59it/s]\n"
     ]
    },
    {
     "name": "stdout",
     "output_type": "stream",
     "text": [
      "3029922 3029922 0\n"
     ]
    }
   ],
   "source": [
    "glob_X=[]\n",
    "glob_IDX=[]\n",
    "glob_Y=np.array([])\n",
    "glob_IT=0\n",
    "glob_DUMP_IT=50 # adjust manually to RAM\n",
    "\n",
    "[predict(*row) for row in tqdm(walk_dataset())]\n",
    "global_predict()\n",
    "\n",
    "now = datetime.now()\n",
    "date_time = now.strftime(\"%d-%m-%Y_%H:%M:%S\")\n",
    "np.save(\"sliding_window_IDX_\"+date_time,glob_IDX)\n",
    "np.save(\"sliding_window_Y_\"+date_time,glob_Y)\n",
    "print(len(glob_IDX), len(glob_Y),len(glob_X))\n",
    "\n",
    "#glob_IDX=np.load(\"sliding_window_IDX_07-04-2020_17:59:14.npy\",allow_pickle=True)\n",
    "#glob_Y=np.load(\"sliding_window_Y_07-04-2020_17:59:14.npy\",allow_pickle=True)\n",
    "glob_Y=np.array([[e] for e in glob_Y])\n",
    "RES=np.append(glob_IDX, glob_Y, 1)\n",
    "print(np.array(glob_IDX).shape, glob_Y.shape, RES.shape)"
   ]
  },
  {
   "cell_type": "code",
   "execution_count": 10,
   "metadata": {},
   "outputs": [
    {
     "name": "stdout",
     "output_type": "stream",
     "text": [
      "[['blue_1' 'IMG_20200229_075347.jpg' (780, 1040, 3) (0, 0) 0.0]\n",
      " ['blue_1' 'IMG_20200229_075347.jpg' (780, 1040, 3) (32, 0) 0.0]\n",
      " ['blue_1' 'IMG_20200229_075347.jpg' (780, 1040, 3) (64, 0) 0.0]\n",
      " ...\n",
      " ['blue_1' 'IMG_20200229_075347.jpg' (101, 136, 3) (0, 0) 0.0]\n",
      " ['blue_1' 'IMG_20200229_075347.jpg' (101, 136, 3) (0, 32) 0.0]\n",
      " ['blue_1' 'IMG_20200229_075347.jpg' (101, 136, 3) (0, 64) 0.0]]\n"
     ]
    }
   ],
   "source": [
    "def draw_predicted_rectangles(filename, scene_name, label_resolution, rects):\n",
    "    img=imread_resized(scene_name, filename, label_resolution)\n",
    "    file_res=RES[np.where((RES[:,0] == scene_name) * (RES[:,1] == filename))]\n",
    "    print(file_res)\n",
    "\n",
    "draw_predicted_rectangles(*list(walk_dataset())[0])"
   ]
  },
  {
   "cell_type": "code",
   "execution_count": null,
   "metadata": {},
   "outputs": [],
   "source": [
    "def predict_single():\n",
    "    row=walk_dataset()[0]\n",
    "    predict(*row)\n",
    "    \n",
    "timeit.timeit(predict_single, number=10)\n",
    "# window only - 1.36s\n",
    "# features only - 1.47s\n",
    "# classify per image - 2.82s\n",
    "# classify per scale - 8.47s\n",
    "# dsiplay, features only - 52.64s"
   ]
  }
 ],
 "metadata": {
  "kernelspec": {
   "display_name": "Python 3",
   "language": "python",
   "name": "python3"
  },
  "language_info": {
   "codemirror_mode": {
    "name": "ipython",
    "version": 3
   },
   "file_extension": ".py",
   "mimetype": "text/x-python",
   "name": "python",
   "nbconvert_exporter": "python",
   "pygments_lexer": "ipython3",
   "version": "3.6.9"
  }
 },
 "nbformat": 4,
 "nbformat_minor": 2
}
