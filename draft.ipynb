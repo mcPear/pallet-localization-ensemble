{
 "cells": [
  {
   "cell_type": "code",
   "execution_count": null,
   "metadata": {},
   "outputs": [],
   "source": [
    "def read_results():\n",
    "    #CZYTAJ LINIA PO LINII, bo to 6GB\n",
    "    #['blue_1' 'IMG_20200229_075416.jpg' 0.5853658536585366 (0, 0) 0.0078125]\n",
    "    return None\n",
    "#     def parse_line(line):\n",
    "#         filename,points=line.split(\" \", 1)\n",
    "#         point_list=points.split(\"] [\")\n",
    "#         point_list=[points.strip('][ ').replace('.','').split(' ') for points in point_list]\n",
    "#         point_list=[[int(point) for point in points if point] for points in point_list]\n",
    "#         point_list=[(tuple(points[:2]),tuple(points[2:4])) for points in point_list]\n",
    "#         if point_list[0]==((),()):\n",
    "#             point_list=[]\n",
    "#         return filename,point_list\n",
    "\n",
    "#     filepath=get_scene_labels_path(scene)\n",
    "#     with open(filepath) as f:\n",
    "#         lines = [line.rstrip('\\n') for line in f]\n",
    "#     lines = [parse_line(line) for line in lines]\n",
    "#     return lines\n",
    "        \n",
    "def write_results(results):\n",
    "    global glob_DATETIME\n",
    "    f = open(\"run/results_\"+glob_DATETIME+\".txt\", \"a\")\n",
    "    for result in results:\n",
    "        f.write(np.array_str(result))\n",
    "    f.close()\n",
    "        \n",
    "def global_persist_results():\n",
    "    global glob_Y, glob_IDX\n",
    "    if len(glob_Y)!=0:\n",
    "        glob_Y=np.array([[e] for e in glob_Y])\n",
    "        RES=np.append(glob_IDX, glob_Y, 1)\n",
    "        glob_Y=[]\n",
    "        glob_IDX=[]\n",
    "        write_results(RES)"
   ]
  },
  {
   "cell_type": "code",
   "execution_count": 5,
   "metadata": {},
   "outputs": [
    {
     "name": "stdout",
     "output_type": "stream",
     "text": [
      "Collecting guppy3\n",
      "\u001b[?25l  Downloading https://files.pythonhosted.org/packages/d5/f6/5ecd5391bd50055186d1492592129412377a533bca7079cbdb70e3ffbadd/guppy3-3.0.9-cp36-cp36m-manylinux1_x86_64.whl (612kB)\n",
      "\u001b[K     |████████████████████████████████| 614kB 915kB/s eta 0:00:01\n",
      "\u001b[?25hInstalling collected packages: guppy3\n",
      "Successfully installed guppy3-3.0.9\n",
      "\u001b[33mWARNING: You are using pip version 19.3.1; however, version 20.0.2 is available.\n",
      "You should consider upgrading via the 'pip install --upgrade pip' command.\u001b[0m\n"
     ]
    }
   ],
   "source": [
    "!pip install guppy3"
   ]
  },
  {
   "cell_type": "code",
   "execution_count": 34,
   "metadata": {},
   "outputs": [
    {
     "name": "stdout",
     "output_type": "stream",
     "text": [
      "Partition of a set of 263013 objects. Total size = 31510998 bytes.\n",
      " Index  Count   %     Size   % Cumulative  % Kind (class / dict of class)\n",
      "     0  79020  30  8433794  27   8433794  27 str\n",
      "     1  71158  27  5357088  17  13790882  44 tuple\n",
      "     2  32473  12  2408807   8  16199689  51 bytes\n",
      "     3  16326   6  2361336   7  18561025  59 types.CodeType\n",
      "     4   2190   1  2110824   7  20671849  66 type\n",
      "     5  15385   6  2092360   7  22764209  72 function\n",
      "     6   4091   2  1719008   5  24483217  78 dict (no owner)\n",
      "     7    821   0  1137552   4  25620769  81 dict of module\n",
      "     8   2190   1  1023792   3  26644561  85 dict of type\n",
      "     9   1975   1   634400   2  27278961  87 set\n",
      "<751 more rows. Type e.g. '_.more' to view.>\n"
     ]
    }
   ],
   "source": [
    "from guppy import hpy\n",
    "h = hpy()\n",
    "print(h.heap())"
   ]
  }
 ],
 "metadata": {
  "kernelspec": {
   "display_name": "Python 3",
   "language": "python",
   "name": "python3"
  },
  "language_info": {
   "codemirror_mode": {
    "name": "ipython",
    "version": 3
   },
   "file_extension": ".py",
   "mimetype": "text/x-python",
   "name": "python",
   "nbconvert_exporter": "python",
   "pygments_lexer": "ipython3",
   "version": "3.6.9"
  }
 },
 "nbformat": 4,
 "nbformat_minor": 2
}
