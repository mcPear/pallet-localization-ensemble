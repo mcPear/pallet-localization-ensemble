{
 "cells": [
  {
   "cell_type": "code",
   "execution_count": null,
   "metadata": {},
   "outputs": [],
   "source": [
    "def read_results():\n",
    "    #CZYTAJ LINIA PO LINII, bo to 6GB\n",
    "    #['blue_1' 'IMG_20200229_075416.jpg' 0.5853658536585366 (0, 0) 0.0078125]\n",
    "    return None\n",
    "#     def parse_line(line):\n",
    "#         filename,points=line.split(\" \", 1)\n",
    "#         point_list=points.split(\"] [\")\n",
    "#         point_list=[points.strip('][ ').replace('.','').split(' ') for points in point_list]\n",
    "#         point_list=[[int(point) for point in points if point] for points in point_list]\n",
    "#         point_list=[(tuple(points[:2]),tuple(points[2:4])) for points in point_list]\n",
    "#         if point_list[0]==((),()):\n",
    "#             point_list=[]\n",
    "#         return filename,point_list\n",
    "\n",
    "#     filepath=get_scene_labels_path(scene)\n",
    "#     with open(filepath) as f:\n",
    "#         lines = [line.rstrip('\\n') for line in f]\n",
    "#     lines = [parse_line(line) for line in lines]\n",
    "#     return lines\n",
    "        \n",
    "def write_results(results):\n",
    "    global glob_DATETIME\n",
    "    f = open(\"run/results_\"+glob_DATETIME+\".txt\", \"a\")\n",
    "    for result in results:\n",
    "        f.write(np.array_str(result))\n",
    "    f.close()\n",
    "        \n",
    "def global_persist_results():\n",
    "    global glob_Y, glob_IDX\n",
    "    if len(glob_Y)!=0:\n",
    "        glob_Y=np.array([[e] for e in glob_Y])\n",
    "        RES=np.append(glob_IDX, glob_Y, 1)\n",
    "        glob_Y=[]\n",
    "        glob_IDX=[]\n",
    "        write_results(RES)"
   ]
  }
 ],
 "metadata": {
  "kernelspec": {
   "display_name": "Python 3",
   "language": "python",
   "name": "python3"
  },
  "language_info": {
   "codemirror_mode": {
    "name": "ipython",
    "version": 3
   },
   "file_extension": ".py",
   "mimetype": "text/x-python",
   "name": "python",
   "nbconvert_exporter": "python",
   "pygments_lexer": "ipython3",
   "version": "3.6.9"
  }
 },
 "nbformat": 4,
 "nbformat_minor": 2
}
